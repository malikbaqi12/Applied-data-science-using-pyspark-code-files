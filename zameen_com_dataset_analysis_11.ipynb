{
  "cells": [
    {
      "cell_type": "markdown",
      "metadata": {
        "id": "view-in-github",
        "colab_type": "text"
      },
      "source": [
        "<a href=\"https://colab.research.google.com/github/malikbaqi12/Applied-data-science-using-pyspark-code-files/blob/main/zameen_com_dataset_analysis_11.ipynb\" target=\"_parent\"><img src=\"https://colab.research.google.com/assets/colab-badge.svg\" alt=\"Open In Colab\"/></a>"
      ]
    },
    {
      "cell_type": "code",
      "execution_count": 1,
      "metadata": {
        "id": "8xuYssVHLK5X"
      },
      "outputs": [],
      "source": [
        "import numpy as np \n",
        "import pandas as pd\n"
      ]
    },
    {
      "cell_type": "code",
      "execution_count": 1,
      "metadata": {
        "id": "p5e3fI27Nn1v"
      },
      "outputs": [],
      "source": []
    },
    {
      "cell_type": "code",
      "execution_count": 2,
      "metadata": {
        "colab": {
          "base_uri": "https://localhost:8080/",
          "height": 731
        },
        "id": "ZYR7321o_gyU",
        "outputId": "b0e86121-7762-40fb-d9e8-9c23feae58fe"
      },
      "outputs": [
        {
          "output_type": "execute_result",
          "data": {
            "text/plain": [
              "    property_id  location_id  \\\n",
              "0        237062         3325   \n",
              "1        346905         3236   \n",
              "2        386513          764   \n",
              "3        656161          340   \n",
              "4        841645         3226   \n",
              "..          ...          ...   \n",
              "95      2502517         1230   \n",
              "96      2799588         5036   \n",
              "97      3130278          419   \n",
              "98       425947         1406   \n",
              "99       487921         6053   \n",
              "\n",
              "                                             page_url property_type     price  \\\n",
              "0   https://www.zameen.com/Property/g_10_g_10_2_gr...          Flat  10000000   \n",
              "1   https://www.zameen.com/Property/e_11_2_service...          Flat   6900000   \n",
              "2   https://www.zameen.com/Property/islamabad_g_15...         House  16500000   \n",
              "3   https://www.zameen.com/Property/islamabad_bani...         House  43500000   \n",
              "4   https://www.zameen.com/Property/dha_valley_dha...         House   7000000   \n",
              "..                                                ...           ...       ...   \n",
              "95  https://www.zameen.com/Property/millat_town_cl...         House  25000000   \n",
              "96  https://www.zameen.com/Property/faisalabad_raz...         House   6000000   \n",
              "97  https://www.zameen.com/Property/satiana_road_t...         House  60000000   \n",
              "98  https://www.zameen.com/Property/rawalpindi_hum...         House  13500000   \n",
              "99  https://www.zameen.com/Property/westridge_west...         House  31500000   \n",
              "\n",
              "        location        city      province_name   latitude  longitude  baths  \\\n",
              "0           G-10   Islamabad  Islamabad Capital  33.679890  73.012640      2   \n",
              "1           E-11   Islamabad  Islamabad Capital  33.700993  72.971492      3   \n",
              "2           G-15   Islamabad  Islamabad Capital  33.631486  72.926559      6   \n",
              "3      Bani Gala   Islamabad  Islamabad Capital  33.707573  73.151199      4   \n",
              "4    DHA Defence   Islamabad  Islamabad Capital  33.492591  73.301339      3   \n",
              "..           ...         ...                ...        ...        ...    ...   \n",
              "95   Millat Town  Faisalabad             Punjab  31.490612  73.106470      6   \n",
              "96     Raza Abad  Faisalabad             Punjab  31.425990  73.048217      2   \n",
              "97  Satiana Road  Faisalabad             Punjab  31.372179  73.125594      6   \n",
              "98         Humak  Rawalpindi             Punjab  33.538462  73.144913      4   \n",
              "99     Westridge  Rawalpindi             Punjab  33.607829  73.021817     10   \n",
              "\n",
              "         area   purpose  bedrooms  date_added               agency  \\\n",
              "0     4 Marla  For Sale         2  02-04-2019                  NaN   \n",
              "1   5.6 Marla  For Sale         3  05-04-2019                  NaN   \n",
              "2     8 Marla  For Sale         5  07-17-2019                  NaN   \n",
              "3     2 Kanal  For Sale         4  04-05-2019                  NaN   \n",
              "4     8 Marla  For Sale         3  07-10-2019        Easy Property   \n",
              "..        ...       ...       ...         ...                  ...   \n",
              "95  1.2 Kanal  For Sale         5  07-03-2019                  NaN   \n",
              "96  2.5 Marla  For Sale         4  06-19-2019                  NaN   \n",
              "97  1.6 Kanal  For Sale         6  02-17-2019  Ibraheem Associates   \n",
              "98    7 Marla  For Sale         5  04-05-2019                  NaN   \n",
              "99  1.2 Kanal  For Sale        12  07-04-2019                  NaN   \n",
              "\n",
              "                                           agent Area Type  Area Size  \\\n",
              "0                                            NaN     Marla        4.0   \n",
              "1                                            NaN     Marla        5.6   \n",
              "2                                            NaN     Marla        8.0   \n",
              "3                                            NaN     Kanal        2.0   \n",
              "4   Muhammad Junaid Ceo Muhammad Shahid Director     Marla        8.0   \n",
              "..                                           ...       ...        ...   \n",
              "95                                           NaN     Kanal        1.2   \n",
              "96                                           NaN     Marla        2.5   \n",
              "97                             Miss Noor ul Huda     Kanal        1.6   \n",
              "98                                           NaN     Marla        7.0   \n",
              "99                                           NaN     Kanal        1.2   \n",
              "\n",
              "   Area Category  \n",
              "0      0-5 Marla  \n",
              "1     5-10 Marla  \n",
              "2     5-10 Marla  \n",
              "3      1-5 Kanal  \n",
              "4     5-10 Marla  \n",
              "..           ...  \n",
              "95     1-5 Kanal  \n",
              "96     0-5 Marla  \n",
              "97     1-5 Kanal  \n",
              "98    5-10 Marla  \n",
              "99     1-5 Kanal  \n",
              "\n",
              "[100 rows x 20 columns]"
            ],
            "text/html": [
              "\n",
              "  <div id=\"df-1b038d48-ebe0-42ec-b7ce-b0e6b85beb1a\">\n",
              "    <div class=\"colab-df-container\">\n",
              "      <div>\n",
              "<style scoped>\n",
              "    .dataframe tbody tr th:only-of-type {\n",
              "        vertical-align: middle;\n",
              "    }\n",
              "\n",
              "    .dataframe tbody tr th {\n",
              "        vertical-align: top;\n",
              "    }\n",
              "\n",
              "    .dataframe thead th {\n",
              "        text-align: right;\n",
              "    }\n",
              "</style>\n",
              "<table border=\"1\" class=\"dataframe\">\n",
              "  <thead>\n",
              "    <tr style=\"text-align: right;\">\n",
              "      <th></th>\n",
              "      <th>property_id</th>\n",
              "      <th>location_id</th>\n",
              "      <th>page_url</th>\n",
              "      <th>property_type</th>\n",
              "      <th>price</th>\n",
              "      <th>location</th>\n",
              "      <th>city</th>\n",
              "      <th>province_name</th>\n",
              "      <th>latitude</th>\n",
              "      <th>longitude</th>\n",
              "      <th>baths</th>\n",
              "      <th>area</th>\n",
              "      <th>purpose</th>\n",
              "      <th>bedrooms</th>\n",
              "      <th>date_added</th>\n",
              "      <th>agency</th>\n",
              "      <th>agent</th>\n",
              "      <th>Area Type</th>\n",
              "      <th>Area Size</th>\n",
              "      <th>Area Category</th>\n",
              "    </tr>\n",
              "  </thead>\n",
              "  <tbody>\n",
              "    <tr>\n",
              "      <th>0</th>\n",
              "      <td>237062</td>\n",
              "      <td>3325</td>\n",
              "      <td>https://www.zameen.com/Property/g_10_g_10_2_gr...</td>\n",
              "      <td>Flat</td>\n",
              "      <td>10000000</td>\n",
              "      <td>G-10</td>\n",
              "      <td>Islamabad</td>\n",
              "      <td>Islamabad Capital</td>\n",
              "      <td>33.679890</td>\n",
              "      <td>73.012640</td>\n",
              "      <td>2</td>\n",
              "      <td>4 Marla</td>\n",
              "      <td>For Sale</td>\n",
              "      <td>2</td>\n",
              "      <td>02-04-2019</td>\n",
              "      <td>NaN</td>\n",
              "      <td>NaN</td>\n",
              "      <td>Marla</td>\n",
              "      <td>4.0</td>\n",
              "      <td>0-5 Marla</td>\n",
              "    </tr>\n",
              "    <tr>\n",
              "      <th>1</th>\n",
              "      <td>346905</td>\n",
              "      <td>3236</td>\n",
              "      <td>https://www.zameen.com/Property/e_11_2_service...</td>\n",
              "      <td>Flat</td>\n",
              "      <td>6900000</td>\n",
              "      <td>E-11</td>\n",
              "      <td>Islamabad</td>\n",
              "      <td>Islamabad Capital</td>\n",
              "      <td>33.700993</td>\n",
              "      <td>72.971492</td>\n",
              "      <td>3</td>\n",
              "      <td>5.6 Marla</td>\n",
              "      <td>For Sale</td>\n",
              "      <td>3</td>\n",
              "      <td>05-04-2019</td>\n",
              "      <td>NaN</td>\n",
              "      <td>NaN</td>\n",
              "      <td>Marla</td>\n",
              "      <td>5.6</td>\n",
              "      <td>5-10 Marla</td>\n",
              "    </tr>\n",
              "    <tr>\n",
              "      <th>2</th>\n",
              "      <td>386513</td>\n",
              "      <td>764</td>\n",
              "      <td>https://www.zameen.com/Property/islamabad_g_15...</td>\n",
              "      <td>House</td>\n",
              "      <td>16500000</td>\n",
              "      <td>G-15</td>\n",
              "      <td>Islamabad</td>\n",
              "      <td>Islamabad Capital</td>\n",
              "      <td>33.631486</td>\n",
              "      <td>72.926559</td>\n",
              "      <td>6</td>\n",
              "      <td>8 Marla</td>\n",
              "      <td>For Sale</td>\n",
              "      <td>5</td>\n",
              "      <td>07-17-2019</td>\n",
              "      <td>NaN</td>\n",
              "      <td>NaN</td>\n",
              "      <td>Marla</td>\n",
              "      <td>8.0</td>\n",
              "      <td>5-10 Marla</td>\n",
              "    </tr>\n",
              "    <tr>\n",
              "      <th>3</th>\n",
              "      <td>656161</td>\n",
              "      <td>340</td>\n",
              "      <td>https://www.zameen.com/Property/islamabad_bani...</td>\n",
              "      <td>House</td>\n",
              "      <td>43500000</td>\n",
              "      <td>Bani Gala</td>\n",
              "      <td>Islamabad</td>\n",
              "      <td>Islamabad Capital</td>\n",
              "      <td>33.707573</td>\n",
              "      <td>73.151199</td>\n",
              "      <td>4</td>\n",
              "      <td>2 Kanal</td>\n",
              "      <td>For Sale</td>\n",
              "      <td>4</td>\n",
              "      <td>04-05-2019</td>\n",
              "      <td>NaN</td>\n",
              "      <td>NaN</td>\n",
              "      <td>Kanal</td>\n",
              "      <td>2.0</td>\n",
              "      <td>1-5 Kanal</td>\n",
              "    </tr>\n",
              "    <tr>\n",
              "      <th>4</th>\n",
              "      <td>841645</td>\n",
              "      <td>3226</td>\n",
              "      <td>https://www.zameen.com/Property/dha_valley_dha...</td>\n",
              "      <td>House</td>\n",
              "      <td>7000000</td>\n",
              "      <td>DHA Defence</td>\n",
              "      <td>Islamabad</td>\n",
              "      <td>Islamabad Capital</td>\n",
              "      <td>33.492591</td>\n",
              "      <td>73.301339</td>\n",
              "      <td>3</td>\n",
              "      <td>8 Marla</td>\n",
              "      <td>For Sale</td>\n",
              "      <td>3</td>\n",
              "      <td>07-10-2019</td>\n",
              "      <td>Easy Property</td>\n",
              "      <td>Muhammad Junaid Ceo Muhammad Shahid Director</td>\n",
              "      <td>Marla</td>\n",
              "      <td>8.0</td>\n",
              "      <td>5-10 Marla</td>\n",
              "    </tr>\n",
              "    <tr>\n",
              "      <th>...</th>\n",
              "      <td>...</td>\n",
              "      <td>...</td>\n",
              "      <td>...</td>\n",
              "      <td>...</td>\n",
              "      <td>...</td>\n",
              "      <td>...</td>\n",
              "      <td>...</td>\n",
              "      <td>...</td>\n",
              "      <td>...</td>\n",
              "      <td>...</td>\n",
              "      <td>...</td>\n",
              "      <td>...</td>\n",
              "      <td>...</td>\n",
              "      <td>...</td>\n",
              "      <td>...</td>\n",
              "      <td>...</td>\n",
              "      <td>...</td>\n",
              "      <td>...</td>\n",
              "      <td>...</td>\n",
              "      <td>...</td>\n",
              "    </tr>\n",
              "    <tr>\n",
              "      <th>95</th>\n",
              "      <td>2502517</td>\n",
              "      <td>1230</td>\n",
              "      <td>https://www.zameen.com/Property/millat_town_cl...</td>\n",
              "      <td>House</td>\n",
              "      <td>25000000</td>\n",
              "      <td>Millat Town</td>\n",
              "      <td>Faisalabad</td>\n",
              "      <td>Punjab</td>\n",
              "      <td>31.490612</td>\n",
              "      <td>73.106470</td>\n",
              "      <td>6</td>\n",
              "      <td>1.2 Kanal</td>\n",
              "      <td>For Sale</td>\n",
              "      <td>5</td>\n",
              "      <td>07-03-2019</td>\n",
              "      <td>NaN</td>\n",
              "      <td>NaN</td>\n",
              "      <td>Kanal</td>\n",
              "      <td>1.2</td>\n",
              "      <td>1-5 Kanal</td>\n",
              "    </tr>\n",
              "    <tr>\n",
              "      <th>96</th>\n",
              "      <td>2799588</td>\n",
              "      <td>5036</td>\n",
              "      <td>https://www.zameen.com/Property/faisalabad_raz...</td>\n",
              "      <td>House</td>\n",
              "      <td>6000000</td>\n",
              "      <td>Raza Abad</td>\n",
              "      <td>Faisalabad</td>\n",
              "      <td>Punjab</td>\n",
              "      <td>31.425990</td>\n",
              "      <td>73.048217</td>\n",
              "      <td>2</td>\n",
              "      <td>2.5 Marla</td>\n",
              "      <td>For Sale</td>\n",
              "      <td>4</td>\n",
              "      <td>06-19-2019</td>\n",
              "      <td>NaN</td>\n",
              "      <td>NaN</td>\n",
              "      <td>Marla</td>\n",
              "      <td>2.5</td>\n",
              "      <td>0-5 Marla</td>\n",
              "    </tr>\n",
              "    <tr>\n",
              "      <th>97</th>\n",
              "      <td>3130278</td>\n",
              "      <td>419</td>\n",
              "      <td>https://www.zameen.com/Property/satiana_road_t...</td>\n",
              "      <td>House</td>\n",
              "      <td>60000000</td>\n",
              "      <td>Satiana Road</td>\n",
              "      <td>Faisalabad</td>\n",
              "      <td>Punjab</td>\n",
              "      <td>31.372179</td>\n",
              "      <td>73.125594</td>\n",
              "      <td>6</td>\n",
              "      <td>1.6 Kanal</td>\n",
              "      <td>For Sale</td>\n",
              "      <td>6</td>\n",
              "      <td>02-17-2019</td>\n",
              "      <td>Ibraheem Associates</td>\n",
              "      <td>Miss Noor ul Huda</td>\n",
              "      <td>Kanal</td>\n",
              "      <td>1.6</td>\n",
              "      <td>1-5 Kanal</td>\n",
              "    </tr>\n",
              "    <tr>\n",
              "      <th>98</th>\n",
              "      <td>425947</td>\n",
              "      <td>1406</td>\n",
              "      <td>https://www.zameen.com/Property/rawalpindi_hum...</td>\n",
              "      <td>House</td>\n",
              "      <td>13500000</td>\n",
              "      <td>Humak</td>\n",
              "      <td>Rawalpindi</td>\n",
              "      <td>Punjab</td>\n",
              "      <td>33.538462</td>\n",
              "      <td>73.144913</td>\n",
              "      <td>4</td>\n",
              "      <td>7 Marla</td>\n",
              "      <td>For Sale</td>\n",
              "      <td>5</td>\n",
              "      <td>04-05-2019</td>\n",
              "      <td>NaN</td>\n",
              "      <td>NaN</td>\n",
              "      <td>Marla</td>\n",
              "      <td>7.0</td>\n",
              "      <td>5-10 Marla</td>\n",
              "    </tr>\n",
              "    <tr>\n",
              "      <th>99</th>\n",
              "      <td>487921</td>\n",
              "      <td>6053</td>\n",
              "      <td>https://www.zameen.com/Property/westridge_west...</td>\n",
              "      <td>House</td>\n",
              "      <td>31500000</td>\n",
              "      <td>Westridge</td>\n",
              "      <td>Rawalpindi</td>\n",
              "      <td>Punjab</td>\n",
              "      <td>33.607829</td>\n",
              "      <td>73.021817</td>\n",
              "      <td>10</td>\n",
              "      <td>1.2 Kanal</td>\n",
              "      <td>For Sale</td>\n",
              "      <td>12</td>\n",
              "      <td>07-04-2019</td>\n",
              "      <td>NaN</td>\n",
              "      <td>NaN</td>\n",
              "      <td>Kanal</td>\n",
              "      <td>1.2</td>\n",
              "      <td>1-5 Kanal</td>\n",
              "    </tr>\n",
              "  </tbody>\n",
              "</table>\n",
              "<p>100 rows × 20 columns</p>\n",
              "</div>\n",
              "      <button class=\"colab-df-convert\" onclick=\"convertToInteractive('df-1b038d48-ebe0-42ec-b7ce-b0e6b85beb1a')\"\n",
              "              title=\"Convert this dataframe to an interactive table.\"\n",
              "              style=\"display:none;\">\n",
              "        \n",
              "  <svg xmlns=\"http://www.w3.org/2000/svg\" height=\"24px\"viewBox=\"0 0 24 24\"\n",
              "       width=\"24px\">\n",
              "    <path d=\"M0 0h24v24H0V0z\" fill=\"none\"/>\n",
              "    <path d=\"M18.56 5.44l.94 2.06.94-2.06 2.06-.94-2.06-.94-.94-2.06-.94 2.06-2.06.94zm-11 1L8.5 8.5l.94-2.06 2.06-.94-2.06-.94L8.5 2.5l-.94 2.06-2.06.94zm10 10l.94 2.06.94-2.06 2.06-.94-2.06-.94-.94-2.06-.94 2.06-2.06.94z\"/><path d=\"M17.41 7.96l-1.37-1.37c-.4-.4-.92-.59-1.43-.59-.52 0-1.04.2-1.43.59L10.3 9.45l-7.72 7.72c-.78.78-.78 2.05 0 2.83L4 21.41c.39.39.9.59 1.41.59.51 0 1.02-.2 1.41-.59l7.78-7.78 2.81-2.81c.8-.78.8-2.07 0-2.86zM5.41 20L4 18.59l7.72-7.72 1.47 1.35L5.41 20z\"/>\n",
              "  </svg>\n",
              "      </button>\n",
              "      \n",
              "  <style>\n",
              "    .colab-df-container {\n",
              "      display:flex;\n",
              "      flex-wrap:wrap;\n",
              "      gap: 12px;\n",
              "    }\n",
              "\n",
              "    .colab-df-convert {\n",
              "      background-color: #E8F0FE;\n",
              "      border: none;\n",
              "      border-radius: 50%;\n",
              "      cursor: pointer;\n",
              "      display: none;\n",
              "      fill: #1967D2;\n",
              "      height: 32px;\n",
              "      padding: 0 0 0 0;\n",
              "      width: 32px;\n",
              "    }\n",
              "\n",
              "    .colab-df-convert:hover {\n",
              "      background-color: #E2EBFA;\n",
              "      box-shadow: 0px 1px 2px rgba(60, 64, 67, 0.3), 0px 1px 3px 1px rgba(60, 64, 67, 0.15);\n",
              "      fill: #174EA6;\n",
              "    }\n",
              "\n",
              "    [theme=dark] .colab-df-convert {\n",
              "      background-color: #3B4455;\n",
              "      fill: #D2E3FC;\n",
              "    }\n",
              "\n",
              "    [theme=dark] .colab-df-convert:hover {\n",
              "      background-color: #434B5C;\n",
              "      box-shadow: 0px 1px 3px 1px rgba(0, 0, 0, 0.15);\n",
              "      filter: drop-shadow(0px 1px 2px rgba(0, 0, 0, 0.3));\n",
              "      fill: #FFFFFF;\n",
              "    }\n",
              "  </style>\n",
              "\n",
              "      <script>\n",
              "        const buttonEl =\n",
              "          document.querySelector('#df-1b038d48-ebe0-42ec-b7ce-b0e6b85beb1a button.colab-df-convert');\n",
              "        buttonEl.style.display =\n",
              "          google.colab.kernel.accessAllowed ? 'block' : 'none';\n",
              "\n",
              "        async function convertToInteractive(key) {\n",
              "          const element = document.querySelector('#df-1b038d48-ebe0-42ec-b7ce-b0e6b85beb1a');\n",
              "          const dataTable =\n",
              "            await google.colab.kernel.invokeFunction('convertToInteractive',\n",
              "                                                     [key], {});\n",
              "          if (!dataTable) return;\n",
              "\n",
              "          const docLinkHtml = 'Like what you see? Visit the ' +\n",
              "            '<a target=\"_blank\" href=https://colab.research.google.com/notebooks/data_table.ipynb>data table notebook</a>'\n",
              "            + ' to learn more about interactive tables.';\n",
              "          element.innerHTML = '';\n",
              "          dataTable['output_type'] = 'display_data';\n",
              "          await google.colab.output.renderOutput(dataTable, element);\n",
              "          const docLink = document.createElement('div');\n",
              "          docLink.innerHTML = docLinkHtml;\n",
              "          element.appendChild(docLink);\n",
              "        }\n",
              "      </script>\n",
              "    </div>\n",
              "  </div>\n",
              "  "
            ]
          },
          "metadata": {},
          "execution_count": 2
        }
      ],
      "source": [
        "# get the data from txt files to pandas dataffame\n",
        "df = pd.read_csv('zameen-updated.csv',  delimiter=',')\n",
        "df.head(100)"
      ]
    },
    {
      "cell_type": "code",
      "execution_count": 3,
      "metadata": {
        "colab": {
          "base_uri": "https://localhost:8080/"
        },
        "id": "7_pDYpSG_PWK",
        "outputId": "1764d5a3-a17c-4c99-e213-341e46af05d6"
      },
      "outputs": [
        {
          "output_type": "execute_result",
          "data": {
            "text/plain": [
              "(168446, 20)"
            ]
          },
          "metadata": {},
          "execution_count": 3
        }
      ],
      "source": [
        "df.shape"
      ]
    },
    {
      "cell_type": "code",
      "execution_count": 3,
      "metadata": {
        "id": "SYtJjZ8iNnxZ"
      },
      "outputs": [],
      "source": []
    },
    {
      "cell_type": "code",
      "execution_count": 4,
      "metadata": {
        "colab": {
          "base_uri": "https://localhost:8080/"
        },
        "id": "sd1tj0m6S_1B",
        "outputId": "34c21e77-6d3e-4c63-825e-665756316f91"
      },
      "outputs": [
        {
          "output_type": "execute_result",
          "data": {
            "text/plain": [
              "(124374, 20)"
            ]
          },
          "metadata": {},
          "execution_count": 4
        }
      ],
      "source": [
        "\n",
        "#dff = dff.drop(['property_id', 'location_id'])\n",
        "dff=df.dropna()\n",
        "dff.shape"
      ]
    },
    {
      "cell_type": "code",
      "execution_count": 5,
      "metadata": {
        "colab": {
          "base_uri": "https://localhost:8080/"
        },
        "id": "Mgoh0ckRPs2Z",
        "outputId": "36c886ee-4c05-4347-f2ae-fd80e10154d9"
      },
      "outputs": [
        {
          "output_type": "execute_result",
          "data": {
            "text/plain": [
              "array([  3,   2,   7,   5,   1,   0,  10,   4,   6,   8,   9,  11,  13,\n",
              "        12, 403,  14])"
            ]
          },
          "metadata": {},
          "execution_count": 5
        }
      ],
      "source": [
        "dff = dff[dff[\"purpose\"] == \"For Sale\"] \n",
        "(dff[\"baths\"].unique())\n",
        "\n"
      ]
    },
    {
      "cell_type": "code",
      "execution_count": 6,
      "metadata": {
        "id": "81c9dbb9"
      },
      "outputs": [],
      "source": [
        "dff.drop(dff[dff['baths'] == 403].index, inplace = True)"
      ]
    },
    {
      "cell_type": "code",
      "execution_count": 7,
      "metadata": {
        "colab": {
          "base_uri": "https://localhost:8080/"
        },
        "id": "rSDGFvvM3i40",
        "outputId": "7ae63b8f-a6d2-4c5f-b8bd-adb2b1a02de2"
      },
      "outputs": [
        {
          "output_type": "execute_result",
          "data": {
            "text/plain": [
              "array([ 3,  2,  7,  5,  1,  0, 10,  4,  6,  8,  9, 11, 14, 12, 15, 16, 13,\n",
              "       18, 25, 27])"
            ]
          },
          "metadata": {},
          "execution_count": 7
        }
      ],
      "source": [
        "\n",
        "(dff[\"bedrooms\"].unique())\n"
      ]
    },
    {
      "cell_type": "code",
      "execution_count": 8,
      "metadata": {
        "id": "KQ6ehTQL3i1d"
      },
      "outputs": [],
      "source": [
        "dff.drop(dff[dff['bedrooms'] >= 15].index, inplace = True)"
      ]
    },
    {
      "cell_type": "code",
      "execution_count": 9,
      "metadata": {
        "colab": {
          "base_uri": "https://localhost:8080/"
        },
        "id": "-tZWcmQaCyVr",
        "outputId": "47fbaa08-d4f4-4640-96e5-348f96f91506"
      },
      "outputs": [
        {
          "output_type": "execute_result",
          "data": {
            "text/plain": [
              "array(['Marla', 'Kanal'], dtype=object)"
            ]
          },
          "metadata": {},
          "execution_count": 9
        }
      ],
      "source": [
        "(dff[\"Area Type\"].unique())\n"
      ]
    },
    {
      "cell_type": "code",
      "execution_count": 10,
      "metadata": {
        "id": "5RKKBwQwCyY2"
      },
      "outputs": [],
      "source": [
        "Area_in_marla=dff[['Area Type','Area Size']].apply(lambda x: x['Area Size']*20 if x['Area Type'] in ['Kanal'] else x, axis=1)\n",
        "Area_in_marla.drop(['Area Type'],axis=1,inplace=True)\n",
        "Area_in_marla.rename(columns={'Area Size':'Area_in_Marla'},inplace=True)\n",
        "dff=pd.concat([dff,Area_in_marla],axis=1)"
      ]
    },
    {
      "cell_type": "code",
      "execution_count": 11,
      "metadata": {
        "id": "ZVMwQ--rMpGD"
      },
      "outputs": [],
      "source": [
        "header=['property_type','price','location','city','Area_in_Marla','bedrooms','baths','purpose']"
      ]
    },
    {
      "cell_type": "code",
      "execution_count": 12,
      "metadata": {
        "colab": {
          "base_uri": "https://localhost:8080/",
          "height": 206
        },
        "id": "t-1wyprSCylq",
        "outputId": "ad96dec6-58a5-4015-92f2-ca5d303dabc8"
      },
      "outputs": [
        {
          "output_type": "execute_result",
          "data": {
            "text/plain": [
              "   property_type     price            location       city  Area_in_Marla  \\\n",
              "4          House   7000000         DHA Defence  Islamabad            8.0   \n",
              "7           Flat   7800000                E-11  Islamabad            6.2   \n",
              "8          House  50000000         DHA Defence  Islamabad           20.0   \n",
              "9      Penthouse  40000000                F-11  Islamabad           20.0   \n",
              "10          Flat  35000000  Diplomatic Enclave  Islamabad            7.1   \n",
              "\n",
              "    bedrooms  baths   purpose  \n",
              "4          3      3  For Sale  \n",
              "7          2      2  For Sale  \n",
              "8          7      7  For Sale  \n",
              "9          5      5  For Sale  \n",
              "10         3      3  For Sale  "
            ],
            "text/html": [
              "\n",
              "  <div id=\"df-a56188b6-acd9-432b-8010-9ecad3dc9771\">\n",
              "    <div class=\"colab-df-container\">\n",
              "      <div>\n",
              "<style scoped>\n",
              "    .dataframe tbody tr th:only-of-type {\n",
              "        vertical-align: middle;\n",
              "    }\n",
              "\n",
              "    .dataframe tbody tr th {\n",
              "        vertical-align: top;\n",
              "    }\n",
              "\n",
              "    .dataframe thead th {\n",
              "        text-align: right;\n",
              "    }\n",
              "</style>\n",
              "<table border=\"1\" class=\"dataframe\">\n",
              "  <thead>\n",
              "    <tr style=\"text-align: right;\">\n",
              "      <th></th>\n",
              "      <th>property_type</th>\n",
              "      <th>price</th>\n",
              "      <th>location</th>\n",
              "      <th>city</th>\n",
              "      <th>Area_in_Marla</th>\n",
              "      <th>bedrooms</th>\n",
              "      <th>baths</th>\n",
              "      <th>purpose</th>\n",
              "    </tr>\n",
              "  </thead>\n",
              "  <tbody>\n",
              "    <tr>\n",
              "      <th>4</th>\n",
              "      <td>House</td>\n",
              "      <td>7000000</td>\n",
              "      <td>DHA Defence</td>\n",
              "      <td>Islamabad</td>\n",
              "      <td>8.0</td>\n",
              "      <td>3</td>\n",
              "      <td>3</td>\n",
              "      <td>For Sale</td>\n",
              "    </tr>\n",
              "    <tr>\n",
              "      <th>7</th>\n",
              "      <td>Flat</td>\n",
              "      <td>7800000</td>\n",
              "      <td>E-11</td>\n",
              "      <td>Islamabad</td>\n",
              "      <td>6.2</td>\n",
              "      <td>2</td>\n",
              "      <td>2</td>\n",
              "      <td>For Sale</td>\n",
              "    </tr>\n",
              "    <tr>\n",
              "      <th>8</th>\n",
              "      <td>House</td>\n",
              "      <td>50000000</td>\n",
              "      <td>DHA Defence</td>\n",
              "      <td>Islamabad</td>\n",
              "      <td>20.0</td>\n",
              "      <td>7</td>\n",
              "      <td>7</td>\n",
              "      <td>For Sale</td>\n",
              "    </tr>\n",
              "    <tr>\n",
              "      <th>9</th>\n",
              "      <td>Penthouse</td>\n",
              "      <td>40000000</td>\n",
              "      <td>F-11</td>\n",
              "      <td>Islamabad</td>\n",
              "      <td>20.0</td>\n",
              "      <td>5</td>\n",
              "      <td>5</td>\n",
              "      <td>For Sale</td>\n",
              "    </tr>\n",
              "    <tr>\n",
              "      <th>10</th>\n",
              "      <td>Flat</td>\n",
              "      <td>35000000</td>\n",
              "      <td>Diplomatic Enclave</td>\n",
              "      <td>Islamabad</td>\n",
              "      <td>7.1</td>\n",
              "      <td>3</td>\n",
              "      <td>3</td>\n",
              "      <td>For Sale</td>\n",
              "    </tr>\n",
              "  </tbody>\n",
              "</table>\n",
              "</div>\n",
              "      <button class=\"colab-df-convert\" onclick=\"convertToInteractive('df-a56188b6-acd9-432b-8010-9ecad3dc9771')\"\n",
              "              title=\"Convert this dataframe to an interactive table.\"\n",
              "              style=\"display:none;\">\n",
              "        \n",
              "  <svg xmlns=\"http://www.w3.org/2000/svg\" height=\"24px\"viewBox=\"0 0 24 24\"\n",
              "       width=\"24px\">\n",
              "    <path d=\"M0 0h24v24H0V0z\" fill=\"none\"/>\n",
              "    <path d=\"M18.56 5.44l.94 2.06.94-2.06 2.06-.94-2.06-.94-.94-2.06-.94 2.06-2.06.94zm-11 1L8.5 8.5l.94-2.06 2.06-.94-2.06-.94L8.5 2.5l-.94 2.06-2.06.94zm10 10l.94 2.06.94-2.06 2.06-.94-2.06-.94-.94-2.06-.94 2.06-2.06.94z\"/><path d=\"M17.41 7.96l-1.37-1.37c-.4-.4-.92-.59-1.43-.59-.52 0-1.04.2-1.43.59L10.3 9.45l-7.72 7.72c-.78.78-.78 2.05 0 2.83L4 21.41c.39.39.9.59 1.41.59.51 0 1.02-.2 1.41-.59l7.78-7.78 2.81-2.81c.8-.78.8-2.07 0-2.86zM5.41 20L4 18.59l7.72-7.72 1.47 1.35L5.41 20z\"/>\n",
              "  </svg>\n",
              "      </button>\n",
              "      \n",
              "  <style>\n",
              "    .colab-df-container {\n",
              "      display:flex;\n",
              "      flex-wrap:wrap;\n",
              "      gap: 12px;\n",
              "    }\n",
              "\n",
              "    .colab-df-convert {\n",
              "      background-color: #E8F0FE;\n",
              "      border: none;\n",
              "      border-radius: 50%;\n",
              "      cursor: pointer;\n",
              "      display: none;\n",
              "      fill: #1967D2;\n",
              "      height: 32px;\n",
              "      padding: 0 0 0 0;\n",
              "      width: 32px;\n",
              "    }\n",
              "\n",
              "    .colab-df-convert:hover {\n",
              "      background-color: #E2EBFA;\n",
              "      box-shadow: 0px 1px 2px rgba(60, 64, 67, 0.3), 0px 1px 3px 1px rgba(60, 64, 67, 0.15);\n",
              "      fill: #174EA6;\n",
              "    }\n",
              "\n",
              "    [theme=dark] .colab-df-convert {\n",
              "      background-color: #3B4455;\n",
              "      fill: #D2E3FC;\n",
              "    }\n",
              "\n",
              "    [theme=dark] .colab-df-convert:hover {\n",
              "      background-color: #434B5C;\n",
              "      box-shadow: 0px 1px 3px 1px rgba(0, 0, 0, 0.15);\n",
              "      filter: drop-shadow(0px 1px 2px rgba(0, 0, 0, 0.3));\n",
              "      fill: #FFFFFF;\n",
              "    }\n",
              "  </style>\n",
              "\n",
              "      <script>\n",
              "        const buttonEl =\n",
              "          document.querySelector('#df-a56188b6-acd9-432b-8010-9ecad3dc9771 button.colab-df-convert');\n",
              "        buttonEl.style.display =\n",
              "          google.colab.kernel.accessAllowed ? 'block' : 'none';\n",
              "\n",
              "        async function convertToInteractive(key) {\n",
              "          const element = document.querySelector('#df-a56188b6-acd9-432b-8010-9ecad3dc9771');\n",
              "          const dataTable =\n",
              "            await google.colab.kernel.invokeFunction('convertToInteractive',\n",
              "                                                     [key], {});\n",
              "          if (!dataTable) return;\n",
              "\n",
              "          const docLinkHtml = 'Like what you see? Visit the ' +\n",
              "            '<a target=\"_blank\" href=https://colab.research.google.com/notebooks/data_table.ipynb>data table notebook</a>'\n",
              "            + ' to learn more about interactive tables.';\n",
              "          element.innerHTML = '';\n",
              "          dataTable['output_type'] = 'display_data';\n",
              "          await google.colab.output.renderOutput(dataTable, element);\n",
              "          const docLink = document.createElement('div');\n",
              "          docLink.innerHTML = docLinkHtml;\n",
              "          element.appendChild(docLink);\n",
              "        }\n",
              "      </script>\n",
              "    </div>\n",
              "  </div>\n",
              "  "
            ]
          },
          "metadata": {},
          "execution_count": 12
        }
      ],
      "source": [
        "dff = dff[header]\n",
        "dff.head()"
      ]
    },
    {
      "cell_type": "code",
      "execution_count": 13,
      "metadata": {
        "colab": {
          "base_uri": "https://localhost:8080/",
          "height": 206
        },
        "id": "txZGAcFxJgZb",
        "outputId": "909f8478-0e40-4a3f-b349-ede3ca8d89b7"
      },
      "outputs": [
        {
          "output_type": "execute_result",
          "data": {
            "text/plain": [
              "   property_type     price            location       city  Area_in_Marla  \\\n",
              "4          House   7000000         DHA Defence  Islamabad            8.0   \n",
              "7           Flat   7800000                E-11  Islamabad            6.2   \n",
              "8          House  50000000         DHA Defence  Islamabad           20.0   \n",
              "9      Penthouse  40000000                F-11  Islamabad           20.0   \n",
              "10          Flat  35000000  Diplomatic Enclave  Islamabad            7.1   \n",
              "\n",
              "    bedrooms  baths   purpose  \n",
              "4          3      3  For Sale  \n",
              "7          2      2  For Sale  \n",
              "8          7      7  For Sale  \n",
              "9          5      5  For Sale  \n",
              "10         3      3  For Sale  "
            ],
            "text/html": [
              "\n",
              "  <div id=\"df-7948fc1f-cb03-443e-aeb0-10acbe97e0b9\">\n",
              "    <div class=\"colab-df-container\">\n",
              "      <div>\n",
              "<style scoped>\n",
              "    .dataframe tbody tr th:only-of-type {\n",
              "        vertical-align: middle;\n",
              "    }\n",
              "\n",
              "    .dataframe tbody tr th {\n",
              "        vertical-align: top;\n",
              "    }\n",
              "\n",
              "    .dataframe thead th {\n",
              "        text-align: right;\n",
              "    }\n",
              "</style>\n",
              "<table border=\"1\" class=\"dataframe\">\n",
              "  <thead>\n",
              "    <tr style=\"text-align: right;\">\n",
              "      <th></th>\n",
              "      <th>property_type</th>\n",
              "      <th>price</th>\n",
              "      <th>location</th>\n",
              "      <th>city</th>\n",
              "      <th>Area_in_Marla</th>\n",
              "      <th>bedrooms</th>\n",
              "      <th>baths</th>\n",
              "      <th>purpose</th>\n",
              "    </tr>\n",
              "  </thead>\n",
              "  <tbody>\n",
              "    <tr>\n",
              "      <th>4</th>\n",
              "      <td>House</td>\n",
              "      <td>7000000</td>\n",
              "      <td>DHA Defence</td>\n",
              "      <td>Islamabad</td>\n",
              "      <td>8.0</td>\n",
              "      <td>3</td>\n",
              "      <td>3</td>\n",
              "      <td>For Sale</td>\n",
              "    </tr>\n",
              "    <tr>\n",
              "      <th>7</th>\n",
              "      <td>Flat</td>\n",
              "      <td>7800000</td>\n",
              "      <td>E-11</td>\n",
              "      <td>Islamabad</td>\n",
              "      <td>6.2</td>\n",
              "      <td>2</td>\n",
              "      <td>2</td>\n",
              "      <td>For Sale</td>\n",
              "    </tr>\n",
              "    <tr>\n",
              "      <th>8</th>\n",
              "      <td>House</td>\n",
              "      <td>50000000</td>\n",
              "      <td>DHA Defence</td>\n",
              "      <td>Islamabad</td>\n",
              "      <td>20.0</td>\n",
              "      <td>7</td>\n",
              "      <td>7</td>\n",
              "      <td>For Sale</td>\n",
              "    </tr>\n",
              "    <tr>\n",
              "      <th>9</th>\n",
              "      <td>Penthouse</td>\n",
              "      <td>40000000</td>\n",
              "      <td>F-11</td>\n",
              "      <td>Islamabad</td>\n",
              "      <td>20.0</td>\n",
              "      <td>5</td>\n",
              "      <td>5</td>\n",
              "      <td>For Sale</td>\n",
              "    </tr>\n",
              "    <tr>\n",
              "      <th>10</th>\n",
              "      <td>Flat</td>\n",
              "      <td>35000000</td>\n",
              "      <td>Diplomatic Enclave</td>\n",
              "      <td>Islamabad</td>\n",
              "      <td>7.1</td>\n",
              "      <td>3</td>\n",
              "      <td>3</td>\n",
              "      <td>For Sale</td>\n",
              "    </tr>\n",
              "  </tbody>\n",
              "</table>\n",
              "</div>\n",
              "      <button class=\"colab-df-convert\" onclick=\"convertToInteractive('df-7948fc1f-cb03-443e-aeb0-10acbe97e0b9')\"\n",
              "              title=\"Convert this dataframe to an interactive table.\"\n",
              "              style=\"display:none;\">\n",
              "        \n",
              "  <svg xmlns=\"http://www.w3.org/2000/svg\" height=\"24px\"viewBox=\"0 0 24 24\"\n",
              "       width=\"24px\">\n",
              "    <path d=\"M0 0h24v24H0V0z\" fill=\"none\"/>\n",
              "    <path d=\"M18.56 5.44l.94 2.06.94-2.06 2.06-.94-2.06-.94-.94-2.06-.94 2.06-2.06.94zm-11 1L8.5 8.5l.94-2.06 2.06-.94-2.06-.94L8.5 2.5l-.94 2.06-2.06.94zm10 10l.94 2.06.94-2.06 2.06-.94-2.06-.94-.94-2.06-.94 2.06-2.06.94z\"/><path d=\"M17.41 7.96l-1.37-1.37c-.4-.4-.92-.59-1.43-.59-.52 0-1.04.2-1.43.59L10.3 9.45l-7.72 7.72c-.78.78-.78 2.05 0 2.83L4 21.41c.39.39.9.59 1.41.59.51 0 1.02-.2 1.41-.59l7.78-7.78 2.81-2.81c.8-.78.8-2.07 0-2.86zM5.41 20L4 18.59l7.72-7.72 1.47 1.35L5.41 20z\"/>\n",
              "  </svg>\n",
              "      </button>\n",
              "      \n",
              "  <style>\n",
              "    .colab-df-container {\n",
              "      display:flex;\n",
              "      flex-wrap:wrap;\n",
              "      gap: 12px;\n",
              "    }\n",
              "\n",
              "    .colab-df-convert {\n",
              "      background-color: #E8F0FE;\n",
              "      border: none;\n",
              "      border-radius: 50%;\n",
              "      cursor: pointer;\n",
              "      display: none;\n",
              "      fill: #1967D2;\n",
              "      height: 32px;\n",
              "      padding: 0 0 0 0;\n",
              "      width: 32px;\n",
              "    }\n",
              "\n",
              "    .colab-df-convert:hover {\n",
              "      background-color: #E2EBFA;\n",
              "      box-shadow: 0px 1px 2px rgba(60, 64, 67, 0.3), 0px 1px 3px 1px rgba(60, 64, 67, 0.15);\n",
              "      fill: #174EA6;\n",
              "    }\n",
              "\n",
              "    [theme=dark] .colab-df-convert {\n",
              "      background-color: #3B4455;\n",
              "      fill: #D2E3FC;\n",
              "    }\n",
              "\n",
              "    [theme=dark] .colab-df-convert:hover {\n",
              "      background-color: #434B5C;\n",
              "      box-shadow: 0px 1px 3px 1px rgba(0, 0, 0, 0.15);\n",
              "      filter: drop-shadow(0px 1px 2px rgba(0, 0, 0, 0.3));\n",
              "      fill: #FFFFFF;\n",
              "    }\n",
              "  </style>\n",
              "\n",
              "      <script>\n",
              "        const buttonEl =\n",
              "          document.querySelector('#df-7948fc1f-cb03-443e-aeb0-10acbe97e0b9 button.colab-df-convert');\n",
              "        buttonEl.style.display =\n",
              "          google.colab.kernel.accessAllowed ? 'block' : 'none';\n",
              "\n",
              "        async function convertToInteractive(key) {\n",
              "          const element = document.querySelector('#df-7948fc1f-cb03-443e-aeb0-10acbe97e0b9');\n",
              "          const dataTable =\n",
              "            await google.colab.kernel.invokeFunction('convertToInteractive',\n",
              "                                                     [key], {});\n",
              "          if (!dataTable) return;\n",
              "\n",
              "          const docLinkHtml = 'Like what you see? Visit the ' +\n",
              "            '<a target=\"_blank\" href=https://colab.research.google.com/notebooks/data_table.ipynb>data table notebook</a>'\n",
              "            + ' to learn more about interactive tables.';\n",
              "          element.innerHTML = '';\n",
              "          dataTable['output_type'] = 'display_data';\n",
              "          await google.colab.output.renderOutput(dataTable, element);\n",
              "          const docLink = document.createElement('div');\n",
              "          docLink.innerHTML = docLinkHtml;\n",
              "          element.appendChild(docLink);\n",
              "        }\n",
              "      </script>\n",
              "    </div>\n",
              "  </div>\n",
              "  "
            ]
          },
          "metadata": {},
          "execution_count": 13
        }
      ],
      "source": [
        "dff.head()"
      ]
    },
    {
      "cell_type": "code",
      "execution_count": 14,
      "metadata": {
        "id": "nUm5Sc3lFXIb"
      },
      "outputs": [],
      "source": [
        "# dff.loc[:,'Area Size'] *= 20"
      ]
    },
    {
      "cell_type": "code",
      "execution_count": 15,
      "metadata": {
        "id": "vPEgDh1HFXER"
      },
      "outputs": [],
      "source": [
        "# dff_kanal.head()"
      ]
    },
    {
      "cell_type": "code",
      "execution_count": 16,
      "metadata": {
        "colab": {
          "base_uri": "https://localhost:8080/"
        },
        "id": "lwK8oDcg-jBx",
        "outputId": "f6c34ac6-8ce4-468f-fa31-5c94341302b4"
      },
      "outputs": [
        {
          "output_type": "stream",
          "name": "stdout",
          "text": [
            "Min: 0.000\n",
            "Q1: 4.800\n",
            "Median: 7.000\n",
            "Q3: 11.000\n",
            "Max: 8320.000\n"
          ]
        }
      ],
      "source": [
        "\n",
        "# calculate a 5-number summary\n",
        "from numpy import percentile\n",
        "# calculate quartiles\n",
        "quartiles = percentile(dff[\"Area_in_Marla\"], [25, 50, 75])\n",
        "# calculate min/max\n",
        "dff_A_min, dff_A_max = dff[\"Area_in_Marla\"].min(), dff[\"Area_in_Marla\"].max()\n",
        "# print 5-number summary\n",
        "print('Min: %.3f' % dff_A_min)\n",
        "print('Q1: %.3f' % quartiles[0])\n",
        "print('Median: %.3f' % quartiles[1])\n",
        "print('Q3: %.3f' % quartiles[2])\n",
        "print('Max: %.3f' % dff_A_max)"
      ]
    },
    {
      "cell_type": "code",
      "execution_count": 17,
      "metadata": {
        "id": "YBnbxpsSANgM"
      },
      "outputs": [],
      "source": [
        "dff.drop(dff[dff['Area_in_Marla'] > 20].index, inplace = True)"
      ]
    },
    {
      "cell_type": "code",
      "execution_count": 18,
      "metadata": {
        "colab": {
          "base_uri": "https://localhost:8080/"
        },
        "id": "IHb383Il9Rju",
        "outputId": "472679b2-8d71-4cba-caba-de8432f39ad3"
      },
      "outputs": [
        {
          "output_type": "stream",
          "name": "stdout",
          "text": [
            "Empty DataFrame\n",
            "Columns: [property_type, price, location, city, Area_in_Marla, bedrooms, baths, purpose]\n",
            "Index: []\n"
          ]
        }
      ],
      "source": [
        "print(dff[dff['Area_in_Marla'] > 500])\n"
      ]
    },
    {
      "cell_type": "code",
      "execution_count": 18,
      "metadata": {
        "id": "OcGuMpT7wJym"
      },
      "outputs": [],
      "source": []
    },
    {
      "cell_type": "code",
      "execution_count": 18,
      "metadata": {
        "id": "uTxGdqLvwJmV"
      },
      "outputs": [],
      "source": []
    },
    {
      "cell_type": "code",
      "execution_count": 19,
      "metadata": {
        "colab": {
          "base_uri": "https://localhost:8080/"
        },
        "id": "jhkwkZZct5aS",
        "outputId": "81478945-f457-484b-8b8b-a66dabfd7582"
      },
      "outputs": [
        {
          "output_type": "stream",
          "name": "stdout",
          "text": [
            "Min: 0.000\n",
            "Q1: 7500000.000\n",
            "Median: 14000000.000\n",
            "Q3: 25000000.000\n",
            "Max: 935000000.000\n"
          ]
        }
      ],
      "source": [
        "quartiles = percentile(dff[\"price\"], [25, 50, 75])\n",
        "# calculate min/max\n",
        "dff_P_min, dff_P_max = dff[\"price\"].min(), dff[\"price\"].max()\n",
        "# print 5-number summary\n",
        "print('Min: %.3f' % dff_P_min)\n",
        "print('Q1: %.3f' % quartiles[0])\n",
        "print('Median: %.3f' % quartiles[1])\n",
        "print('Q3: %.3f' % quartiles[2])\n",
        "print('Max: %.3f' % dff_P_max)"
      ]
    },
    {
      "cell_type": "code",
      "execution_count": 20,
      "metadata": {
        "id": "MSN8Lv_6wOtb"
      },
      "outputs": [],
      "source": [
        "dff.drop(dff[dff['price'] > 20000000].index, inplace = True)"
      ]
    },
    {
      "cell_type": "code",
      "execution_count": 21,
      "metadata": {
        "colab": {
          "base_uri": "https://localhost:8080/"
        },
        "id": "-oEraTazwOph",
        "outputId": "507f19da-9796-4355-d550-9e95fd48963a"
      },
      "outputs": [
        {
          "output_type": "stream",
          "name": "stdout",
          "text": [
            "Min: 0.000\n",
            "Q1: 6000000.000\n",
            "Median: 9500000.000\n",
            "Q3: 14000000.000\n",
            "Max: 20000000.000\n"
          ]
        }
      ],
      "source": [
        "quartiles = percentile(dff[\"price\"], [25, 50, 75])\n",
        "# calculate min/max\n",
        "dff_P_min, dff_P_max = dff[\"price\"].min(), dff[\"price\"].max()\n",
        "# print 5-number summary\n",
        "print('Min: %.3f' % dff_P_min)\n",
        "print('Q1: %.3f' % quartiles[0])\n",
        "print('Median: %.3f' % quartiles[1])\n",
        "print('Q3: %.3f' % quartiles[2])\n",
        "print('Max: %.3f' % dff_P_max)"
      ]
    },
    {
      "cell_type": "code",
      "execution_count": 21,
      "metadata": {
        "id": "jrmckw41wOlt"
      },
      "outputs": [],
      "source": []
    },
    {
      "cell_type": "code",
      "execution_count": 22,
      "metadata": {
        "colab": {
          "base_uri": "https://localhost:8080/",
          "height": 175
        },
        "id": "99ohG3llS_x7",
        "outputId": "29d4e6d4-5cfc-4878-9a28-9829e2940786"
      },
      "outputs": [
        {
          "output_type": "execute_result",
          "data": {
            "text/plain": [
              "                 count          mean           std  min        25%        50%  \\\n",
              "price          56640.0  1.008180e+07  4.908033e+06  0.0  6000000.0  9500000.0   \n",
              "Area_in_Marla  56640.0  5.694760e+00  2.773949e+00  0.0        4.0        5.0   \n",
              "bedrooms       56640.0  2.693362e+00  1.501368e+00  0.0        2.0        3.0   \n",
              "baths          56640.0  2.303884e+00  1.846669e+00  0.0        0.0        2.0   \n",
              "\n",
              "                      75%         max  \n",
              "price          14000000.0  20000000.0  \n",
              "Area_in_Marla         7.0        20.0  \n",
              "bedrooms              3.0        13.0  \n",
              "baths                 3.0        10.0  "
            ],
            "text/html": [
              "\n",
              "  <div id=\"df-ffb83bb5-e5d6-4797-a249-929fd23f03c3\">\n",
              "    <div class=\"colab-df-container\">\n",
              "      <div>\n",
              "<style scoped>\n",
              "    .dataframe tbody tr th:only-of-type {\n",
              "        vertical-align: middle;\n",
              "    }\n",
              "\n",
              "    .dataframe tbody tr th {\n",
              "        vertical-align: top;\n",
              "    }\n",
              "\n",
              "    .dataframe thead th {\n",
              "        text-align: right;\n",
              "    }\n",
              "</style>\n",
              "<table border=\"1\" class=\"dataframe\">\n",
              "  <thead>\n",
              "    <tr style=\"text-align: right;\">\n",
              "      <th></th>\n",
              "      <th>count</th>\n",
              "      <th>mean</th>\n",
              "      <th>std</th>\n",
              "      <th>min</th>\n",
              "      <th>25%</th>\n",
              "      <th>50%</th>\n",
              "      <th>75%</th>\n",
              "      <th>max</th>\n",
              "    </tr>\n",
              "  </thead>\n",
              "  <tbody>\n",
              "    <tr>\n",
              "      <th>price</th>\n",
              "      <td>56640.0</td>\n",
              "      <td>1.008180e+07</td>\n",
              "      <td>4.908033e+06</td>\n",
              "      <td>0.0</td>\n",
              "      <td>6000000.0</td>\n",
              "      <td>9500000.0</td>\n",
              "      <td>14000000.0</td>\n",
              "      <td>20000000.0</td>\n",
              "    </tr>\n",
              "    <tr>\n",
              "      <th>Area_in_Marla</th>\n",
              "      <td>56640.0</td>\n",
              "      <td>5.694760e+00</td>\n",
              "      <td>2.773949e+00</td>\n",
              "      <td>0.0</td>\n",
              "      <td>4.0</td>\n",
              "      <td>5.0</td>\n",
              "      <td>7.0</td>\n",
              "      <td>20.0</td>\n",
              "    </tr>\n",
              "    <tr>\n",
              "      <th>bedrooms</th>\n",
              "      <td>56640.0</td>\n",
              "      <td>2.693362e+00</td>\n",
              "      <td>1.501368e+00</td>\n",
              "      <td>0.0</td>\n",
              "      <td>2.0</td>\n",
              "      <td>3.0</td>\n",
              "      <td>3.0</td>\n",
              "      <td>13.0</td>\n",
              "    </tr>\n",
              "    <tr>\n",
              "      <th>baths</th>\n",
              "      <td>56640.0</td>\n",
              "      <td>2.303884e+00</td>\n",
              "      <td>1.846669e+00</td>\n",
              "      <td>0.0</td>\n",
              "      <td>0.0</td>\n",
              "      <td>2.0</td>\n",
              "      <td>3.0</td>\n",
              "      <td>10.0</td>\n",
              "    </tr>\n",
              "  </tbody>\n",
              "</table>\n",
              "</div>\n",
              "      <button class=\"colab-df-convert\" onclick=\"convertToInteractive('df-ffb83bb5-e5d6-4797-a249-929fd23f03c3')\"\n",
              "              title=\"Convert this dataframe to an interactive table.\"\n",
              "              style=\"display:none;\">\n",
              "        \n",
              "  <svg xmlns=\"http://www.w3.org/2000/svg\" height=\"24px\"viewBox=\"0 0 24 24\"\n",
              "       width=\"24px\">\n",
              "    <path d=\"M0 0h24v24H0V0z\" fill=\"none\"/>\n",
              "    <path d=\"M18.56 5.44l.94 2.06.94-2.06 2.06-.94-2.06-.94-.94-2.06-.94 2.06-2.06.94zm-11 1L8.5 8.5l.94-2.06 2.06-.94-2.06-.94L8.5 2.5l-.94 2.06-2.06.94zm10 10l.94 2.06.94-2.06 2.06-.94-2.06-.94-.94-2.06-.94 2.06-2.06.94z\"/><path d=\"M17.41 7.96l-1.37-1.37c-.4-.4-.92-.59-1.43-.59-.52 0-1.04.2-1.43.59L10.3 9.45l-7.72 7.72c-.78.78-.78 2.05 0 2.83L4 21.41c.39.39.9.59 1.41.59.51 0 1.02-.2 1.41-.59l7.78-7.78 2.81-2.81c.8-.78.8-2.07 0-2.86zM5.41 20L4 18.59l7.72-7.72 1.47 1.35L5.41 20z\"/>\n",
              "  </svg>\n",
              "      </button>\n",
              "      \n",
              "  <style>\n",
              "    .colab-df-container {\n",
              "      display:flex;\n",
              "      flex-wrap:wrap;\n",
              "      gap: 12px;\n",
              "    }\n",
              "\n",
              "    .colab-df-convert {\n",
              "      background-color: #E8F0FE;\n",
              "      border: none;\n",
              "      border-radius: 50%;\n",
              "      cursor: pointer;\n",
              "      display: none;\n",
              "      fill: #1967D2;\n",
              "      height: 32px;\n",
              "      padding: 0 0 0 0;\n",
              "      width: 32px;\n",
              "    }\n",
              "\n",
              "    .colab-df-convert:hover {\n",
              "      background-color: #E2EBFA;\n",
              "      box-shadow: 0px 1px 2px rgba(60, 64, 67, 0.3), 0px 1px 3px 1px rgba(60, 64, 67, 0.15);\n",
              "      fill: #174EA6;\n",
              "    }\n",
              "\n",
              "    [theme=dark] .colab-df-convert {\n",
              "      background-color: #3B4455;\n",
              "      fill: #D2E3FC;\n",
              "    }\n",
              "\n",
              "    [theme=dark] .colab-df-convert:hover {\n",
              "      background-color: #434B5C;\n",
              "      box-shadow: 0px 1px 3px 1px rgba(0, 0, 0, 0.15);\n",
              "      filter: drop-shadow(0px 1px 2px rgba(0, 0, 0, 0.3));\n",
              "      fill: #FFFFFF;\n",
              "    }\n",
              "  </style>\n",
              "\n",
              "      <script>\n",
              "        const buttonEl =\n",
              "          document.querySelector('#df-ffb83bb5-e5d6-4797-a249-929fd23f03c3 button.colab-df-convert');\n",
              "        buttonEl.style.display =\n",
              "          google.colab.kernel.accessAllowed ? 'block' : 'none';\n",
              "\n",
              "        async function convertToInteractive(key) {\n",
              "          const element = document.querySelector('#df-ffb83bb5-e5d6-4797-a249-929fd23f03c3');\n",
              "          const dataTable =\n",
              "            await google.colab.kernel.invokeFunction('convertToInteractive',\n",
              "                                                     [key], {});\n",
              "          if (!dataTable) return;\n",
              "\n",
              "          const docLinkHtml = 'Like what you see? Visit the ' +\n",
              "            '<a target=\"_blank\" href=https://colab.research.google.com/notebooks/data_table.ipynb>data table notebook</a>'\n",
              "            + ' to learn more about interactive tables.';\n",
              "          element.innerHTML = '';\n",
              "          dataTable['output_type'] = 'display_data';\n",
              "          await google.colab.output.renderOutput(dataTable, element);\n",
              "          const docLink = document.createElement('div');\n",
              "          docLink.innerHTML = docLinkHtml;\n",
              "          element.appendChild(docLink);\n",
              "        }\n",
              "      </script>\n",
              "    </div>\n",
              "  </div>\n",
              "  "
            ]
          },
          "metadata": {},
          "execution_count": 22
        }
      ],
      "source": [
        "dff.describe().T"
      ]
    },
    {
      "cell_type": "code",
      "execution_count": 23,
      "metadata": {
        "id": "7GIf-xiVRsKV"
      },
      "outputs": [],
      "source": [
        "\n",
        "import seaborn as sns\n",
        "import matplotlib.pyplot as plt"
      ]
    },
    {
      "cell_type": "code",
      "execution_count": 24,
      "metadata": {
        "colab": {
          "base_uri": "https://localhost:8080/",
          "height": 756
        },
        "id": "uY1tC5uPQ7nk",
        "outputId": "cd5cefb8-101c-401c-c637-6acc9555c71f"
      },
      "outputs": [
        {
          "output_type": "stream",
          "name": "stderr",
          "text": [
            "<ipython-input-24-2b04d34005e2>:2: FutureWarning: The default value of numeric_only in DataFrame.corr is deprecated. In a future version, it will default to False. Select only valid columns or specify the value of numeric_only to silence this warning.\n",
            "  sns.heatmap(dff.corr(), cmap=\"RdBu\")\n"
          ]
        },
        {
          "output_type": "display_data",
          "data": {
            "text/plain": [
              "<Figure size 1000x800 with 2 Axes>"
            ],
            "image/png": "[encoded data removed]"
          },
          "metadata": {}
        }
      ],
      "source": [
        "plt.figure(figsize=(10,8))\n",
        "sns.heatmap(dff.corr(), cmap=\"RdBu\")\n",
        "plt.title(\"Correlations Between Variables\", size=15)\n",
        "plt.show()"
      ]
    },
    {
      "cell_type": "code",
      "execution_count": 24,
      "metadata": {
        "id": "lwwLtYUxSoQq"
      },
      "outputs": [],
      "source": []
    },
    {
      "cell_type": "code",
      "execution_count": 24,
      "metadata": {
        "id": "PAhxv57JTgO2"
      },
      "outputs": [],
      "source": []
    },
    {
      "cell_type": "code",
      "execution_count": 25,
      "metadata": {
        "colab": {
          "base_uri": "https://localhost:8080/",
          "height": 990
        },
        "id": "AYK6vlgMVN_d",
        "outputId": "033c6427-6b79-4a01-8dd5-c348cf0e541b"
      },
      "outputs": [
        {
          "output_type": "display_data",
          "data": {
            "text/plain": [
              "<Figure size 1000x2000 with 4 Axes>"
            ],
            "image/png": "[encoded data removed]"
          },
          "metadata": {}
        }
      ],
      "source": [
        "fig = plt.figure(figsize=(10,20))\n",
        "num_vars = dff.select_dtypes(['int64', 'float64']).columns.tolist()\n",
        "#num_vars.remove('Id')\n",
        "for index, col in enumerate(num_vars):\n",
        "    plt.subplot(4,2,index+1)\n",
        "    sns.histplot(x=col, data=dff)\n",
        "    plt.ylabel('COUNT', size = 10)\n",
        "    plt.xlabel(col, fontsize = 10)\n",
        "    plt.xticks(size = 10, rotation = 45 )\n",
        "    plt.yticks(size = 10)\n",
        "fig.tight_layout(pad=1.0)"
      ]
    },
    {
      "cell_type": "code",
      "execution_count": 25,
      "metadata": {
        "id": "XEzK5l23S_uT"
      },
      "outputs": [],
      "source": []
    },
    {
      "cell_type": "code",
      "execution_count": 26,
      "metadata": {
        "colab": {
          "base_uri": "https://localhost:8080/"
        },
        "id": "tucaVhX5S_qu",
        "outputId": "c17c209a-8b82-4b5c-f206-146b13f9f952"
      },
      "outputs": [
        {
          "output_type": "execute_result",
          "data": {
            "text/plain": [
              "property_type    0\n",
              "price            0\n",
              "location         0\n",
              "city             0\n",
              "Area_in_Marla    0\n",
              "bedrooms         0\n",
              "baths            0\n",
              "purpose          0\n",
              "dtype: int64"
            ]
          },
          "metadata": {},
          "execution_count": 26
        }
      ],
      "source": [
        "dff.isna().sum()"
      ]
    },
    {
      "cell_type": "code",
      "execution_count": 27,
      "metadata": {
        "id": "030QjgvswzRM"
      },
      "outputs": [],
      "source": [
        "\n",
        "# df_lhr = dff[dff[\"city\"] == \"Lahore\"] \n",
        "# df_isb = dff[dff[\"city\"] == \"Islamabad\"] \n",
        "# df_Fsb = dff[dff[\"city\"] == \"Faisalabad\"] \n",
        "# df_Rwp = dff[dff[\"city\"] == \"Rawalpindi\"] \n",
        "# df_khi = dff[dff[\"city\"] == \"Karachi\"] "
      ]
    },
    {
      "cell_type": "code",
      "execution_count": 28,
      "metadata": {
        "id": "GrbzeNSmwzZu"
      },
      "outputs": [],
      "source": [
        "# print(df_lhr.shape)\n",
        "# print(df_isb.shape)\n",
        "# print(df_Fsb.shape)\n",
        "# print(df_Rwp.shape)\n",
        "# print(df_khi.shape)"
      ]
    },
    {
      "cell_type": "code",
      "execution_count": 29,
      "metadata": {
        "colab": {
          "base_uri": "https://localhost:8080/",
          "height": 224
        },
        "id": "ferKdxR7wzc3",
        "outputId": "ac885f35-ae22-473e-808a-3760b65117d4"
      },
      "outputs": [
        {
          "output_type": "stream",
          "name": "stdout",
          "text": [
            "(56640, 8)\n"
          ]
        },
        {
          "output_type": "execute_result",
          "data": {
            "text/plain": [
              "   property_type     price     location       city  Area_in_Marla  bedrooms  \\\n",
              "4          House   7000000  DHA Defence  Islamabad            8.0         3   \n",
              "7           Flat   7800000         E-11  Islamabad            6.2         2   \n",
              "14          Flat   3600000         E-11  Islamabad            3.1         1   \n",
              "15          Flat   5000000         E-11  Islamabad            4.0         2   \n",
              "16         House  19000000  DHA Defence  Islamabad           10.0         3   \n",
              "\n",
              "    baths   purpose  \n",
              "4       3  For Sale  \n",
              "7       2  For Sale  \n",
              "14      1  For Sale  \n",
              "15      2  For Sale  \n",
              "16      3  For Sale  "
            ],
            "text/html": [
              "\n",
              "  <div id=\"df-a1c43e77-fad0-4c2c-bedb-cadf52cecf89\">\n",
              "    <div class=\"colab-df-container\">\n",
              "      <div>\n",
              "<style scoped>\n",
              "    .dataframe tbody tr th:only-of-type {\n",
              "        vertical-align: middle;\n",
              "    }\n",
              "\n",
              "    .dataframe tbody tr th {\n",
              "        vertical-align: top;\n",
              "    }\n",
              "\n",
              "    .dataframe thead th {\n",
              "        text-align: right;\n",
              "    }\n",
              "</style>\n",
              "<table border=\"1\" class=\"dataframe\">\n",
              "  <thead>\n",
              "    <tr style=\"text-align: right;\">\n",
              "      <th></th>\n",
              "      <th>property_type</th>\n",
              "      <th>price</th>\n",
              "      <th>location</th>\n",
              "      <th>city</th>\n",
              "      <th>Area_in_Marla</th>\n",
              "      <th>bedrooms</th>\n",
              "      <th>baths</th>\n",
              "      <th>purpose</th>\n",
              "    </tr>\n",
              "  </thead>\n",
              "  <tbody>\n",
              "    <tr>\n",
              "      <th>4</th>\n",
              "      <td>House</td>\n",
              "      <td>7000000</td>\n",
              "      <td>DHA Defence</td>\n",
              "      <td>Islamabad</td>\n",
              "      <td>8.0</td>\n",
              "      <td>3</td>\n",
              "      <td>3</td>\n",
              "      <td>For Sale</td>\n",
              "    </tr>\n",
              "    <tr>\n",
              "      <th>7</th>\n",
              "      <td>Flat</td>\n",
              "      <td>7800000</td>\n",
              "      <td>E-11</td>\n",
              "      <td>Islamabad</td>\n",
              "      <td>6.2</td>\n",
              "      <td>2</td>\n",
              "      <td>2</td>\n",
              "      <td>For Sale</td>\n",
              "    </tr>\n",
              "    <tr>\n",
              "      <th>14</th>\n",
              "      <td>Flat</td>\n",
              "      <td>3600000</td>\n",
              "      <td>E-11</td>\n",
              "      <td>Islamabad</td>\n",
              "      <td>3.1</td>\n",
              "      <td>1</td>\n",
              "      <td>1</td>\n",
              "      <td>For Sale</td>\n",
              "    </tr>\n",
              "    <tr>\n",
              "      <th>15</th>\n",
              "      <td>Flat</td>\n",
              "      <td>5000000</td>\n",
              "      <td>E-11</td>\n",
              "      <td>Islamabad</td>\n",
              "      <td>4.0</td>\n",
              "      <td>2</td>\n",
              "      <td>2</td>\n",
              "      <td>For Sale</td>\n",
              "    </tr>\n",
              "    <tr>\n",
              "      <th>16</th>\n",
              "      <td>House</td>\n",
              "      <td>19000000</td>\n",
              "      <td>DHA Defence</td>\n",
              "      <td>Islamabad</td>\n",
              "      <td>10.0</td>\n",
              "      <td>3</td>\n",
              "      <td>3</td>\n",
              "      <td>For Sale</td>\n",
              "    </tr>\n",
              "  </tbody>\n",
              "</table>\n",
              "</div>\n",
              "      <button class=\"colab-df-convert\" onclick=\"convertToInteractive('df-a1c43e77-fad0-4c2c-bedb-cadf52cecf89')\"\n",
              "              title=\"Convert this dataframe to an interactive table.\"\n",
              "              style=\"display:none;\">\n",
              "        \n",
              "  <svg xmlns=\"http://www.w3.org/2000/svg\" height=\"24px\"viewBox=\"0 0 24 24\"\n",
              "       width=\"24px\">\n",
              "    <path d=\"M0 0h24v24H0V0z\" fill=\"none\"/>\n",
              "    <path d=\"M18.56 5.44l.94 2.06.94-2.06 2.06-.94-2.06-.94-.94-2.06-.94 2.06-2.06.94zm-11 1L8.5 8.5l.94-2.06 2.06-.94-2.06-.94L8.5 2.5l-.94 2.06-2.06.94zm10 10l.94 2.06.94-2.06 2.06-.94-2.06-.94-.94-2.06-.94 2.06-2.06.94z\"/><path d=\"M17.41 7.96l-1.37-1.37c-.4-.4-.92-.59-1.43-.59-.52 0-1.04.2-1.43.59L10.3 9.45l-7.72 7.72c-.78.78-.78 2.05 0 2.83L4 21.41c.39.39.9.59 1.41.59.51 0 1.02-.2 1.41-.59l7.78-7.78 2.81-2.81c.8-.78.8-2.07 0-2.86zM5.41 20L4 18.59l7.72-7.72 1.47 1.35L5.41 20z\"/>\n",
              "  </svg>\n",
              "      </button>\n",
              "      \n",
              "  <style>\n",
              "    .colab-df-container {\n",
              "      display:flex;\n",
              "      flex-wrap:wrap;\n",
              "      gap: 12px;\n",
              "    }\n",
              "\n",
              "    .colab-df-convert {\n",
              "      background-color: #E8F0FE;\n",
              "      border: none;\n",
              "      border-radius: 50%;\n",
              "      cursor: pointer;\n",
              "      display: none;\n",
              "      fill: #1967D2;\n",
              "      height: 32px;\n",
              "      padding: 0 0 0 0;\n",
              "      width: 32px;\n",
              "    }\n",
              "\n",
              "    .colab-df-convert:hover {\n",
              "      background-color: #E2EBFA;\n",
              "      box-shadow: 0px 1px 2px rgba(60, 64, 67, 0.3), 0px 1px 3px 1px rgba(60, 64, 67, 0.15);\n",
              "      fill: #174EA6;\n",
              "    }\n",
              "\n",
              "    [theme=dark] .colab-df-convert {\n",
              "      background-color: #3B4455;\n",
              "      fill: #D2E3FC;\n",
              "    }\n",
              "\n",
              "    [theme=dark] .colab-df-convert:hover {\n",
              "      background-color: #434B5C;\n",
              "      box-shadow: 0px 1px 3px 1px rgba(0, 0, 0, 0.15);\n",
              "      filter: drop-shadow(0px 1px 2px rgba(0, 0, 0, 0.3));\n",
              "      fill: #FFFFFF;\n",
              "    }\n",
              "  </style>\n",
              "\n",
              "      <script>\n",
              "        const buttonEl =\n",
              "          document.querySelector('#df-a1c43e77-fad0-4c2c-bedb-cadf52cecf89 button.colab-df-convert');\n",
              "        buttonEl.style.display =\n",
              "          google.colab.kernel.accessAllowed ? 'block' : 'none';\n",
              "\n",
              "        async function convertToInteractive(key) {\n",
              "          const element = document.querySelector('#df-a1c43e77-fad0-4c2c-bedb-cadf52cecf89');\n",
              "          const dataTable =\n",
              "            await google.colab.kernel.invokeFunction('convertToInteractive',\n",
              "                                                     [key], {});\n",
              "          if (!dataTable) return;\n",
              "\n",
              "          const docLinkHtml = 'Like what you see? Visit the ' +\n",
              "            '<a target=\"_blank\" href=https://colab.research.google.com/notebooks/data_table.ipynb>data table notebook</a>'\n",
              "            + ' to learn more about interactive tables.';\n",
              "          element.innerHTML = '';\n",
              "          dataTable['output_type'] = 'display_data';\n",
              "          await google.colab.output.renderOutput(dataTable, element);\n",
              "          const docLink = document.createElement('div');\n",
              "          docLink.innerHTML = docLinkHtml;\n",
              "          element.appendChild(docLink);\n",
              "        }\n",
              "      </script>\n",
              "    </div>\n",
              "  </div>\n",
              "  "
            ]
          },
          "metadata": {},
          "execution_count": 29
        }
      ],
      "source": [
        "\n",
        "df_Rent = dff[dff[\"purpose\"] == \"For Rent\"] \n",
        "df_Sale = dff[dff[\"purpose\"] == \"For Sale\"] \n",
        "print(df_Sale.shape)\n",
        "df_Sale.head()"
      ]
    },
    {
      "cell_type": "code",
      "execution_count": 30,
      "metadata": {
        "id": "axTGjyKlwzjE"
      },
      "outputs": [],
      "source": [
        "# MOdel Building"
      ]
    },
    {
      "cell_type": "code",
      "execution_count": 30,
      "metadata": {
        "id": "ab52DCgqaYxd"
      },
      "outputs": [],
      "source": []
    },
    {
      "cell_type": "code",
      "execution_count": 31,
      "metadata": {
        "id": "BsarhfTdaY33"
      },
      "outputs": [],
      "source": [
        "X_in=df_Sale.drop(['price'],axis=1)"
      ]
    },
    {
      "cell_type": "code",
      "execution_count": 32,
      "metadata": {
        "id": "XKPQ4Gw_aY0j"
      },
      "outputs": [],
      "source": [
        "Y_Out=df_Sale.iloc[:,1:2]"
      ]
    },
    {
      "cell_type": "code",
      "execution_count": 32,
      "metadata": {
        "id": "-FA0tPbHbtbq"
      },
      "outputs": [],
      "source": []
    },
    {
      "cell_type": "code",
      "execution_count": 33,
      "metadata": {
        "id": "T8VNCWX528M-"
      },
      "outputs": [],
      "source": [
        "from sklearn.preprocessing import OneHotEncoder\n",
        "from sklearn.impute import SimpleImputer\n",
        "from sklearn.compose import make_column_transformer"
      ]
    },
    {
      "cell_type": "code",
      "execution_count": 34,
      "metadata": {
        "id": "cFlYS8zA28Jl"
      },
      "outputs": [],
      "source": [
        "ohe = OneHotEncoder()\n",
        "imp = SimpleImputer()"
      ]
    },
    {
      "cell_type": "code",
      "execution_count": 35,
      "metadata": {
        "id": "5uMRGe5W4NKq"
      },
      "outputs": [],
      "source": [
        "ct = make_column_transformer(\n",
        "    (ohe,['location','property_type','city','purpose']),\n",
        "    (imp,['Area_in_Marla','bedrooms','baths']),\n",
        "    remainder='passthrough'\n",
        ")"
      ]
    },
    {
      "cell_type": "code",
      "execution_count": 36,
      "metadata": {
        "id": "Xjmi7W2k5raX"
      },
      "outputs": [],
      "source": [
        "x = ct.fit_transform(X_in)"
      ]
    },
    {
      "cell_type": "code",
      "execution_count": 37,
      "metadata": {
        "colab": {
          "base_uri": "https://localhost:8080/"
        },
        "id": "4FwwBgnh76R7",
        "outputId": "722275fd-3d97-4bfd-e2be-702c5c9bfca1"
      },
      "outputs": [
        {
          "output_type": "execute_result",
          "data": {
            "text/plain": [
              "<56640x964 sparse matrix of type '<class 'numpy.float64'>'\n",
              "\twith 372775 stored elements in Compressed Sparse Row format>"
            ]
          },
          "metadata": {},
          "execution_count": 37
        }
      ],
      "source": [
        "x"
      ]
    },
    {
      "cell_type": "code",
      "execution_count": 38,
      "metadata": {
        "id": "yHNkgB9AbtlR"
      },
      "outputs": [],
      "source": [
        "# one hot Encoding"
      ]
    },
    {
      "cell_type": "code",
      "execution_count": 38,
      "metadata": {
        "id": "kRuSYpXeo1uo"
      },
      "outputs": [],
      "source": []
    },
    {
      "cell_type": "code",
      "execution_count": 38,
      "metadata": {
        "id": "kzDokA39o1rN"
      },
      "outputs": [],
      "source": []
    },
    {
      "cell_type": "code",
      "execution_count": 39,
      "metadata": {
        "id": "DlG8HkeBjGRJ"
      },
      "outputs": [],
      "source": [
        "from sklearn.model_selection import train_test_split\n",
        "X_train,X_test,y_train,y_test=train_test_split(x,Y_Out,test_size=0.2,random_state=42)"
      ]
    },
    {
      "cell_type": "code",
      "execution_count": 40,
      "metadata": {
        "id": "c5dTHIFmsIiL"
      },
      "outputs": [],
      "source": [
        "#Starting with linear regression\n",
        "from sklearn.linear_model import LinearRegression\n",
        "model=LinearRegression()\n",
        "\n",
        "model.fit(X_train,y_train)\n",
        "prediction=model.predict(X_test)"
      ]
    },
    {
      "cell_type": "code",
      "execution_count": 41,
      "metadata": {
        "colab": {
          "base_uri": "https://localhost:8080/"
        },
        "id": "0Lx4QIIKsIew",
        "outputId": "3e2e745c-f648-4008-ad81-63ae665af822"
      },
      "outputs": [
        {
          "output_type": "stream",
          "name": "stdout",
          "text": [
            "Linear Model Score: 0.7029825867171935\n"
          ]
        }
      ],
      "source": [
        "linear_model=model.score(X_test,y_test)\n",
        "print(\"Linear Model Score:\",linear_model)"
      ]
    },
    {
      "cell_type": "code",
      "execution_count": 42,
      "metadata": {
        "colab": {
          "base_uri": "https://localhost:8080/"
        },
        "id": "zzjf8ToRsIbw",
        "outputId": "43ee723e-d524-4f6e-ca2b-60069f7afc99"
      },
      "outputs": [
        {
          "output_type": "stream",
          "name": "stdout",
          "text": [
            "Decision Tree model score: 0.5355322974138448\n"
          ]
        }
      ],
      "source": [
        "from sklearn import tree\n",
        "dt_model=tree.DecisionTreeRegressor(criterion='squared_error',max_depth=3,max_leaf_nodes=5)\n",
        "dt_model.fit(X_train,y_train)\n",
        "dt_score=dt_model.score(X_test,y_test)\n",
        "print(\"Decision Tree model score:\",dt_score)"
      ]
    },
    {
      "cell_type": "code",
      "execution_count": 43,
      "metadata": {
        "colab": {
          "base_uri": "https://localhost:8080/"
        },
        "id": "wwjSyBqysIYp",
        "outputId": "44cc52b5-61e5-44c6-9ddc-3ca01dec8ad6"
      },
      "outputs": [
        {
          "output_type": "stream",
          "name": "stdout",
          "text": [
            "KNN score: 0.8062697437417417\n"
          ]
        }
      ],
      "source": [
        "from sklearn.neighbors import KNeighborsRegressor\n",
        "knn_model=KNeighborsRegressor(n_neighbors=5,\n",
        "                              weights='distance')\n",
        "knn_model.fit(X_train,y_train)\n",
        "knn_score=knn_model.score(X_test,y_test)\n",
        "print(\"KNN score:\",knn_score)"
      ]
    },
    {
      "cell_type": "code",
      "execution_count": 44,
      "metadata": {
        "id": "kpwjkqSNAOgb"
      },
      "outputs": [],
      "source": [
        "from sklearn.compose import ColumnTransformer\n",
        "ct = make_column_transformer(\n",
        "    (ohe,['location','property_type','city','purpose']),\n",
        "    (imp,['Area_in_Marla','bedrooms','baths']),\n",
        "    remainder='passthrough'\n",
        ")"
      ]
    },
    {
      "cell_type": "code",
      "execution_count": 45,
      "metadata": {
        "id": "tSwMU9HVAI7z"
      },
      "outputs": [],
      "source": [
        "# #Prediction\n",
        "# input_data=[['House','Wazir Town','Rawalpindi','4','For Sale','3','165.9']]\n",
        "# input_data1=pd.DataFrame(input_data,columns=['property_type'\t,'location',\t'city'\t,'baths'\t,'purpose'\t,'bedrooms',\t'Area_in_Marla'])\n",
        "# ct = make_column_transformer(\n",
        "#     (ohe,['location','property_type','city','purpose']),\n",
        "#     (imp,['Area_in_Marla','bedrooms','baths']),\n",
        "#     remainder='passthrough'\n",
        "# )\n",
        "# input_data2=ct.fit_transform(input_data1)\n",
        "\n",
        "# input_data2"
      ]
    },
    {
      "cell_type": "code",
      "execution_count": 46,
      "metadata": {
        "id": "fKIvFHX49Cf3"
      },
      "outputs": [],
      "source": [
        "def predict_price(location,Area_in_Marla,bedrooms, baths, purpose, citylabel,propertyEncoded):   \n",
        "    loc_index = np.where(X_in.columns==location)[0][0] \n",
        "\n",
        "    x = np.zeros(len(X_in.columns))\n",
        "    x[0] = location\n",
        "    x[1] = Area_in_Marla\n",
        "    x[2] = bedrooms\n",
        "    x[3] = baths\n",
        "    x[4] = purpose\n",
        "    x[5] = citylabel\n",
        "    x[6] = propertyEncoded\n",
        "    if loc_index >= 0:\n",
        "        x[loc_index] = 1\n",
        "\n",
        "    return knn_model.predict([x])[0]"
      ]
    },
    {
      "cell_type": "code",
      "execution_count": 47,
      "metadata": {
        "colab": {
          "base_uri": "https://localhost:8080/"
        },
        "id": "pmIvK42_AIxz",
        "outputId": "35c02f72-f8a5-4e3a-8a9b-2c8d20ae3703"
      },
      "outputs": [
        {
          "output_type": "execute_result",
          "data": {
            "text/plain": [
              "Index(['property_type', 'location', 'city', 'Area_in_Marla', 'bedrooms',\n",
              "       'baths', 'purpose'],\n",
              "      dtype='object')"
            ]
          },
          "metadata": {},
          "execution_count": 47
        }
      ],
      "source": [
        "X_in.columns"
      ]
    },
    {
      "cell_type": "code",
      "execution_count": 48,
      "metadata": {
        "id": "ECmrUdO3OtfM"
      },
      "outputs": [],
      "source": [
        "# predict_price( 'DHA Defence',10,6,6,4,1,1,)"
      ]
    },
    {
      "cell_type": "code",
      "execution_count": 49,
      "metadata": {
        "id": "4l4nAvbIOtij"
      },
      "outputs": [],
      "source": [
        "#  ht = { 'F' : 'Flat', 'T' : 'Terraced', 'S' : 'Semi', 'D' : 'Detached', 'O' : 'Other'}\n",
        "\n",
        "# def house_type(description,lat,lon,price):\n",
        "   # features = [[lat,lon,price]]\n",
        "    # print(\"{:30s} {:5.0f}k -> {}\".format(description,price,ht[(model.predict(features)[0])]))\n",
        "\n",
        "# house_type('Oxford Circus, London', 51.515276, -0.142038, 500)\n",
        "# house_type('Harrods (B. Road), London', 51.499814, -0.163366, 5500)\n",
        "# house_type('Peak District, National Park', 53.328508, -1.783416, 100) \n"
      ]
    },
    {
      "cell_type": "code",
      "execution_count": 50,
      "metadata": {
        "id": "HTNlqCkG3bwl"
      },
      "outputs": [],
      "source": [
        "def house_type(description, lat, lon, price, bedrooms):\n",
        "    features = [[lat, lon, price, bedrooms]]\n",
        "    print(\"{:30s} {:5.0f}k -> {}\".format(description, price, ht[(model.predict(features)[0])]))\n"
      ]
    },
    {
      "cell_type": "code",
      "execution_count": 51,
      "metadata": {
        "id": "AQmkg99T3bwm"
      },
      "outputs": [],
      "source": [
        "# house_type('Oxford Circus, London', 51.515276, -0.142038, 500, 2)\n",
        "# house_type('Harrods (B. Road), London', 51.499814, -0.163366, 5500, 3)\n",
        "# house_type('Peak District, National Park', 53.328508, -1.783416, 100, 1)\n"
      ]
    },
    {
      "cell_type": "code",
      "execution_count": 52,
      "metadata": {
        "colab": {
          "base_uri": "https://localhost:8080/"
        },
        "id": "Yt_jYMuk3bwn",
        "outputId": "18fd7c53-ec0c-46a7-c479-1558bd36d02d"
      },
      "outputs": [
        {
          "output_type": "stream",
          "name": "stdout",
          "text": [
            "Looking in indexes: https://pypi.org/simple, https://us-python.pkg.dev/colab-wheels/public/simple/\n",
            "Requirement already satisfied: joblib in /usr/local/lib/python3.10/dist-packages (1.2.0)\n"
          ]
        }
      ],
      "source": [
        "pip install joblib"
      ]
    },
    {
      "cell_type": "code",
      "execution_count": 52,
      "metadata": {
        "id": "CqsGGVqF3bwn"
      },
      "outputs": [],
      "source": []
    }
  ],
  "metadata": {
    "colab": {
      "provenance": [],
      "include_colab_link": true
    },
    "kernelspec": {
      "display_name": "Python 3 (ipykernel)",
      "language": "python",
      "name": "python3"
    },
    "language_info": {
      "codemirror_mode": {
        "name": "ipython",
        "version": 3
      },
      "file_extension": ".py",
      "mimetype": "text/x-python",
      "name": "python",
      "nbconvert_exporter": "python",
      "pygments_lexer": "ipython3",
      "version": "3.10.9"
    }
  },
  "nbformat": 4,
  "nbformat_minor": 0
}