{
  "cells": [
    {
      "cell_type": "markdown",
      "metadata": {
        "id": "view-in-github",
        "colab_type": "text"
      },
      "source": [
        "<a href=\"https://colab.research.google.com/github/malikbaqi12/Applied-data-science-using-pyspark-code-files/blob/main/Exercise_3_2_Model_based_Selection.ipynb\" target=\"_parent\"><img src=\"https://colab.research.google.com/assets/colab-badge.svg\" alt=\"Open In Colab\"/></a>"
      ]
    },
    {
      "cell_type": "markdown",
      "metadata": {
        "id": "uOpDABa6CRbE"
      },
      "source": [
        "# Default Parameters"
      ]
    },
    {
      "cell_type": "code",
      "execution_count": 31,
      "metadata": {
        "id": "kSx0JFmSCRbS"
      },
      "outputs": [],
      "source": [
        "filename = \"bank-full.csv\"\n",
        "target_variable_name = \"y\""
      ]
    },
    {
      "cell_type": "markdown",
      "metadata": {
        "id": "fCZkGNDsCRbW"
      },
      "source": [
        "# Load Dataset"
      ]
    },
    {
      "cell_type": "code",
      "source": [
        "!pip install pyspark"
      ],
      "metadata": {
        "colab": {
          "base_uri": "https://localhost:8080/"
        },
        "id": "xReOMfW3CjEX",
        "outputId": "2943d0bf-8bd9-4ef1-9e02-79744fe1dc51"
      },
      "execution_count": 32,
      "outputs": [
        {
          "output_type": "stream",
          "name": "stdout",
          "text": [
            "Looking in indexes: https://pypi.org/simple, https://us-python.pkg.dev/colab-wheels/public/simple/\n",
            "Requirement already satisfied: pyspark in /usr/local/lib/python3.10/dist-packages (3.4.0)\n",
            "Requirement already satisfied: py4j==0.10.9.7 in /usr/local/lib/python3.10/dist-packages (from pyspark) (0.10.9.7)\n"
          ]
        }
      ]
    },
    {
      "cell_type": "code",
      "execution_count": 33,
      "metadata": {
        "colab": {
          "base_uri": "https://localhost:8080/"
        },
        "id": "gjEwPiuMCRbX",
        "outputId": "a485397d-e8cf-42f8-baa3-da2c9166a2bd"
      },
      "outputs": [
        {
          "output_type": "stream",
          "name": "stdout",
          "text": [
            "+---+------------+--------+---------+-------+-------+-------+----+-------+---+-----+--------+--------+-----+--------+--------+---+\n",
            "|age|         job| marital|education|default|balance|housing|loan|contact|day|month|duration|campaign|pdays|previous|poutcome|  y|\n",
            "+---+------------+--------+---------+-------+-------+-------+----+-------+---+-----+--------+--------+-----+--------+--------+---+\n",
            "| 58|  management| married| tertiary|     no|   2143|    yes|  no|unknown|  5|  may|     261|       1|   -1|       0| unknown| no|\n",
            "| 44|  technician|  single|secondary|     no|     29|    yes|  no|unknown|  5|  may|     151|       1|   -1|       0| unknown| no|\n",
            "| 33|entrepreneur| married|secondary|     no|      2|    yes| yes|unknown|  5|  may|      76|       1|   -1|       0| unknown| no|\n",
            "| 47| blue-collar| married|  unknown|     no|   1506|    yes|  no|unknown|  5|  may|      92|       1|   -1|       0| unknown| no|\n",
            "| 33|     unknown|  single|  unknown|     no|      1|     no|  no|unknown|  5|  may|     198|       1|   -1|       0| unknown| no|\n",
            "| 35|  management| married| tertiary|     no|    231|    yes|  no|unknown|  5|  may|     139|       1|   -1|       0| unknown| no|\n",
            "| 28|  management|  single| tertiary|     no|    447|    yes| yes|unknown|  5|  may|     217|       1|   -1|       0| unknown| no|\n",
            "| 42|entrepreneur|divorced| tertiary|    yes|      2|    yes|  no|unknown|  5|  may|     380|       1|   -1|       0| unknown| no|\n",
            "| 58|     retired| married|  primary|     no|    121|    yes|  no|unknown|  5|  may|      50|       1|   -1|       0| unknown| no|\n",
            "| 43|  technician|  single|secondary|     no|    593|    yes|  no|unknown|  5|  may|      55|       1|   -1|       0| unknown| no|\n",
            "| 41|      admin.|divorced|secondary|     no|    270|    yes|  no|unknown|  5|  may|     222|       1|   -1|       0| unknown| no|\n",
            "| 29|      admin.|  single|secondary|     no|    390|    yes|  no|unknown|  5|  may|     137|       1|   -1|       0| unknown| no|\n",
            "| 53|  technician| married|secondary|     no|      6|    yes|  no|unknown|  5|  may|     517|       1|   -1|       0| unknown| no|\n",
            "| 58|  technician| married|  unknown|     no|     71|    yes|  no|unknown|  5|  may|      71|       1|   -1|       0| unknown| no|\n",
            "| 57|    services| married|secondary|     no|    162|    yes|  no|unknown|  5|  may|     174|       1|   -1|       0| unknown| no|\n",
            "| 51|     retired| married|  primary|     no|    229|    yes|  no|unknown|  5|  may|     353|       1|   -1|       0| unknown| no|\n",
            "| 45|      admin.|  single|  unknown|     no|     13|    yes|  no|unknown|  5|  may|      98|       1|   -1|       0| unknown| no|\n",
            "| 57| blue-collar| married|  primary|     no|     52|    yes|  no|unknown|  5|  may|      38|       1|   -1|       0| unknown| no|\n",
            "| 60|     retired| married|  primary|     no|     60|    yes|  no|unknown|  5|  may|     219|       1|   -1|       0| unknown| no|\n",
            "| 33|    services| married|secondary|     no|      0|    yes|  no|unknown|  5|  may|      54|       1|   -1|       0| unknown| no|\n",
            "+---+------------+--------+---------+-------+-------+-------+----+-------+---+-----+--------+--------+-----+--------+--------+---+\n",
            "only showing top 20 rows\n",
            "\n"
          ]
        }
      ],
      "source": [
        "from pyspark.sql import SparkSession\n",
        "spark = SparkSession.builder.getOrCreate()\n",
        "df = spark.read.csv(filename, header=True, inferSchema=True, sep=';')\n",
        "df.show()"
      ]
    },
    {
      "cell_type": "markdown",
      "metadata": {
        "id": "3o_JUVZOCRba"
      },
      "source": [
        "# Identify variable types"
      ]
    },
    {
      "cell_type": "code",
      "execution_count": 34,
      "metadata": {
        "id": "WcQ34GOdCRbc"
      },
      "outputs": [],
      "source": [
        "def variable_type(df):\n",
        "    \n",
        "    vars_list = df.dtypes\n",
        "    char_vars = []\n",
        "    num_vars = []\n",
        "    for i in vars_list:\n",
        "        if i[1] in ('string'):\n",
        "            char_vars.append(i[0])\n",
        "        else:\n",
        "            num_vars.append(i[0])\n",
        "    \n",
        "    return char_vars, num_vars"
      ]
    },
    {
      "cell_type": "code",
      "execution_count": 35,
      "metadata": {
        "id": "4d-Fz6xNCRbd"
      },
      "outputs": [],
      "source": [
        "char_vars, num_vars = variable_type(df)"
      ]
    },
    {
      "cell_type": "code",
      "execution_count": 36,
      "metadata": {
        "colab": {
          "base_uri": "https://localhost:8080/"
        },
        "id": "4u7S1bisCRbf",
        "outputId": "0b191d5d-72ef-4a57-9778-9f4cc4e827b4"
      },
      "outputs": [
        {
          "output_type": "execute_result",
          "data": {
            "text/plain": [
              "['job',\n",
              " 'marital',\n",
              " 'education',\n",
              " 'default',\n",
              " 'housing',\n",
              " 'loan',\n",
              " 'contact',\n",
              " 'month',\n",
              " 'poutcome',\n",
              " 'y']"
            ]
          },
          "metadata": {},
          "execution_count": 36
        }
      ],
      "source": [
        "char_vars"
      ]
    },
    {
      "cell_type": "code",
      "execution_count": 37,
      "metadata": {
        "colab": {
          "base_uri": "https://localhost:8080/"
        },
        "id": "HKI0mxCYCRbh",
        "outputId": "518ab9e7-68e1-4eaf-dbb0-aeb65b8284f2"
      },
      "outputs": [
        {
          "output_type": "execute_result",
          "data": {
            "text/plain": [
              "['age', 'balance', 'day', 'duration', 'campaign', 'pdays', 'previous']"
            ]
          },
          "metadata": {},
          "execution_count": 37
        }
      ],
      "source": [
        "num_vars"
      ]
    },
    {
      "cell_type": "code",
      "execution_count": 38,
      "metadata": {
        "id": "vQdxqUctCRbm"
      },
      "outputs": [],
      "source": [
        "from pyspark.ml.feature import StringIndexer\n",
        "from pyspark.ml import Pipeline\n",
        "\n",
        "def category_to_index(df, char_vars):\n",
        "    \n",
        "    char_df = df.select(char_vars)\n",
        "    indexers = [StringIndexer(inputCol=c, outputCol=c+\"_index\", handleInvalid=\"keep\") for c in char_df.columns]\n",
        "    pipeline = Pipeline(stages=indexers)\n",
        "    char_labels = pipeline.fit(char_df)\n",
        "    df = char_labels.transform(df)\n",
        "    return df, char_labels"
      ]
    },
    {
      "cell_type": "code",
      "execution_count": 39,
      "metadata": {
        "id": "6MvRntLjCRbq"
      },
      "outputs": [],
      "source": [
        "df, char_labels = category_to_index(df, char_vars)"
      ]
    },
    {
      "cell_type": "code",
      "execution_count": 40,
      "metadata": {
        "colab": {
          "base_uri": "https://localhost:8080/"
        },
        "id": "ICNjHPbGCRbr",
        "outputId": "cea7ff7e-342c-49ff-c20f-7d631fc9ac79"
      },
      "outputs": [
        {
          "output_type": "execute_result",
          "data": {
            "text/plain": [
              "[('age', 'int'),\n",
              " ('job', 'string'),\n",
              " ('marital', 'string'),\n",
              " ('education', 'string'),\n",
              " ('default', 'string'),\n",
              " ('balance', 'int'),\n",
              " ('housing', 'string'),\n",
              " ('loan', 'string'),\n",
              " ('contact', 'string'),\n",
              " ('day', 'int'),\n",
              " ('month', 'string'),\n",
              " ('duration', 'int'),\n",
              " ('campaign', 'int'),\n",
              " ('pdays', 'int'),\n",
              " ('previous', 'int'),\n",
              " ('poutcome', 'string'),\n",
              " ('y', 'string'),\n",
              " ('job_index', 'double'),\n",
              " ('marital_index', 'double'),\n",
              " ('education_index', 'double'),\n",
              " ('default_index', 'double'),\n",
              " ('housing_index', 'double'),\n",
              " ('loan_index', 'double'),\n",
              " ('contact_index', 'double'),\n",
              " ('month_index', 'double'),\n",
              " ('poutcome_index', 'double'),\n",
              " ('y_index', 'double')]"
            ]
          },
          "metadata": {},
          "execution_count": 40
        }
      ],
      "source": [
        "df.dtypes"
      ]
    },
    {
      "cell_type": "code",
      "execution_count": 41,
      "metadata": {
        "id": "1XhJzQLICRbs"
      },
      "outputs": [],
      "source": [
        "df = df.select([c for c in df.columns if c not in char_vars])"
      ]
    },
    {
      "cell_type": "code",
      "execution_count": 42,
      "metadata": {
        "id": "7qAEs7ywCRbt"
      },
      "outputs": [],
      "source": [
        "from pyspark.sql.functions import col\n",
        "\n",
        "def rename_columns(df, char_vars):\n",
        "    mapping = dict(zip([i + '_index' for i in char_vars], char_vars))\n",
        "    df = df.select([col(c).alias(mapping.get(c, c)) for c in df.columns])\n",
        "    return df"
      ]
    },
    {
      "cell_type": "code",
      "execution_count": 43,
      "metadata": {
        "id": "kRcVLwCoCRbu"
      },
      "outputs": [],
      "source": [
        "df = rename_columns(df, char_vars)"
      ]
    },
    {
      "cell_type": "code",
      "execution_count": 44,
      "metadata": {
        "colab": {
          "base_uri": "https://localhost:8080/"
        },
        "id": "R1bQ8hL1CRbv",
        "outputId": "39d1e737-1d66-44cb-933a-779566e08ea8"
      },
      "outputs": [
        {
          "output_type": "execute_result",
          "data": {
            "text/plain": [
              "[('age', 'int'),\n",
              " ('balance', 'int'),\n",
              " ('day', 'int'),\n",
              " ('duration', 'int'),\n",
              " ('campaign', 'int'),\n",
              " ('pdays', 'int'),\n",
              " ('previous', 'int'),\n",
              " ('job', 'double'),\n",
              " ('marital', 'double'),\n",
              " ('education', 'double'),\n",
              " ('default', 'double'),\n",
              " ('housing', 'double'),\n",
              " ('loan', 'double'),\n",
              " ('contact', 'double'),\n",
              " ('month', 'double'),\n",
              " ('poutcome', 'double'),\n",
              " ('y', 'double')]"
            ]
          },
          "metadata": {},
          "execution_count": 44
        }
      ],
      "source": [
        "df.dtypes"
      ]
    },
    {
      "cell_type": "code",
      "execution_count": 45,
      "metadata": {
        "colab": {
          "base_uri": "https://localhost:8080/"
        },
        "id": "vhdZN47zCRbw",
        "outputId": "0fc3f073-dac8-4b88-cc15-5524481f6a47"
      },
      "outputs": [
        {
          "output_type": "stream",
          "name": "stdout",
          "text": [
            "+---+-----+\n",
            "|  y|count|\n",
            "+---+-----+\n",
            "|0.0|39922|\n",
            "|1.0| 5289|\n",
            "+---+-----+\n",
            "\n"
          ]
        }
      ],
      "source": [
        "df.groupBy('y').count().show() "
      ]
    },
    {
      "cell_type": "code",
      "execution_count": 45,
      "metadata": {
        "id": "D56jeZpPCRbx"
      },
      "outputs": [],
      "source": []
    },
    {
      "cell_type": "markdown",
      "metadata": {
        "id": "b2vEgrWZCRby"
      },
      "source": [
        "# Assemble input vectors"
      ]
    },
    {
      "cell_type": "code",
      "execution_count": 46,
      "metadata": {
        "id": "BZK3PvJbCRbz"
      },
      "outputs": [],
      "source": [
        "from pyspark.ml.feature import VectorAssembler\n",
        "\n",
        "#assemble individual columns to one column - 'features'\n",
        "def assemble_vectors(df, features_list, target_variable_name):\n",
        "    stages = []\n",
        "    #assemble vectors\n",
        "    assembler = VectorAssembler(inputCols=features_list, outputCol='features')\n",
        "    stages = [assembler]\n",
        "    #select all the columns + target + newly created 'features' column\n",
        "    selectedCols = [target_variable_name, 'features'] + features_list\n",
        "    #use pipeline to process sequentially\n",
        "    pipeline = Pipeline(stages=stages)\n",
        "    #assembler model\n",
        "    assembleModel = pipeline.fit(df)\n",
        "    #apply assembler model on data\n",
        "    df = assembleModel.transform(df).select(selectedCols)\n",
        "\n",
        "    return df"
      ]
    },
    {
      "cell_type": "code",
      "execution_count": 47,
      "metadata": {
        "id": "yA32NpogCRb0"
      },
      "outputs": [],
      "source": [
        "#exclude target variable and select all other feature vectors\n",
        "features_list = df.columns\n",
        "features_list.remove(target_variable_name)"
      ]
    },
    {
      "cell_type": "code",
      "execution_count": 48,
      "metadata": {
        "colab": {
          "base_uri": "https://localhost:8080/"
        },
        "id": "C3p-9LGzCRb1",
        "outputId": "12353763-3fd9-4fa9-8e6b-1c47e2e2e4fb"
      },
      "outputs": [
        {
          "output_type": "execute_result",
          "data": {
            "text/plain": [
              "['age',\n",
              " 'balance',\n",
              " 'day',\n",
              " 'duration',\n",
              " 'campaign',\n",
              " 'pdays',\n",
              " 'previous',\n",
              " 'job',\n",
              " 'marital',\n",
              " 'education',\n",
              " 'default',\n",
              " 'housing',\n",
              " 'loan',\n",
              " 'contact',\n",
              " 'month',\n",
              " 'poutcome']"
            ]
          },
          "metadata": {},
          "execution_count": 48
        }
      ],
      "source": [
        "features_list"
      ]
    },
    {
      "cell_type": "code",
      "execution_count": 49,
      "metadata": {
        "id": "9XiomgKZCRb2"
      },
      "outputs": [],
      "source": [
        "# apply the function on our dataframe\n",
        "df = assemble_vectors(df, features_list, target_variable_name)"
      ]
    },
    {
      "cell_type": "code",
      "execution_count": 50,
      "metadata": {
        "colab": {
          "base_uri": "https://localhost:8080/"
        },
        "id": "UvyeKdkrCRb3",
        "outputId": "c17b4002-76ec-4968-ce23-9e0d9507e8be"
      },
      "outputs": [
        {
          "output_type": "stream",
          "name": "stdout",
          "text": [
            "+---+--------------------+---+-------+---+--------+--------+-----+--------+----+-------+---------+-------+-------+----+-------+-----+--------+\n",
            "|  y|            features|age|balance|day|duration|campaign|pdays|previous| job|marital|education|default|housing|loan|contact|month|poutcome|\n",
            "+---+--------------------+---+-------+---+--------+--------+-----+--------+----+-------+---------+-------+-------+----+-------+-----+--------+\n",
            "|0.0|(16,[0,1,2,3,4,5,...| 58|   2143|  5|     261|       1|   -1|       0| 1.0|    0.0|      1.0|    0.0|    0.0| 0.0|    1.0|  0.0|     0.0|\n",
            "|0.0|(16,[0,1,2,3,4,5,...| 44|     29|  5|     151|       1|   -1|       0| 2.0|    1.0|      0.0|    0.0|    0.0| 0.0|    1.0|  0.0|     0.0|\n",
            "|0.0|(16,[0,1,2,3,4,5,...| 33|      2|  5|      76|       1|   -1|       0| 7.0|    0.0|      0.0|    0.0|    0.0| 1.0|    1.0|  0.0|     0.0|\n",
            "|0.0|(16,[0,1,2,3,4,5,...| 47|   1506|  5|      92|       1|   -1|       0| 0.0|    0.0|      3.0|    0.0|    0.0| 0.0|    1.0|  0.0|     0.0|\n",
            "|0.0|[33.0,1.0,5.0,198...| 33|      1|  5|     198|       1|   -1|       0|11.0|    1.0|      3.0|    0.0|    1.0| 0.0|    1.0|  0.0|     0.0|\n",
            "|0.0|(16,[0,1,2,3,4,5,...| 35|    231|  5|     139|       1|   -1|       0| 1.0|    0.0|      1.0|    0.0|    0.0| 0.0|    1.0|  0.0|     0.0|\n",
            "|0.0|[28.0,447.0,5.0,2...| 28|    447|  5|     217|       1|   -1|       0| 1.0|    1.0|      1.0|    0.0|    0.0| 1.0|    1.0|  0.0|     0.0|\n",
            "|0.0|[42.0,2.0,5.0,380...| 42|      2|  5|     380|       1|   -1|       0| 7.0|    2.0|      1.0|    1.0|    0.0| 0.0|    1.0|  0.0|     0.0|\n",
            "|0.0|(16,[0,1,2,3,4,5,...| 58|    121|  5|      50|       1|   -1|       0| 5.0|    0.0|      2.0|    0.0|    0.0| 0.0|    1.0|  0.0|     0.0|\n",
            "|0.0|(16,[0,1,2,3,4,5,...| 43|    593|  5|      55|       1|   -1|       0| 2.0|    1.0|      0.0|    0.0|    0.0| 0.0|    1.0|  0.0|     0.0|\n",
            "|0.0|(16,[0,1,2,3,4,5,...| 41|    270|  5|     222|       1|   -1|       0| 3.0|    2.0|      0.0|    0.0|    0.0| 0.0|    1.0|  0.0|     0.0|\n",
            "|0.0|(16,[0,1,2,3,4,5,...| 29|    390|  5|     137|       1|   -1|       0| 3.0|    1.0|      0.0|    0.0|    0.0| 0.0|    1.0|  0.0|     0.0|\n",
            "|0.0|(16,[0,1,2,3,4,5,...| 53|      6|  5|     517|       1|   -1|       0| 2.0|    0.0|      0.0|    0.0|    0.0| 0.0|    1.0|  0.0|     0.0|\n",
            "|0.0|(16,[0,1,2,3,4,5,...| 58|     71|  5|      71|       1|   -1|       0| 2.0|    0.0|      3.0|    0.0|    0.0| 0.0|    1.0|  0.0|     0.0|\n",
            "|0.0|(16,[0,1,2,3,4,5,...| 57|    162|  5|     174|       1|   -1|       0| 4.0|    0.0|      0.0|    0.0|    0.0| 0.0|    1.0|  0.0|     0.0|\n",
            "|0.0|(16,[0,1,2,3,4,5,...| 51|    229|  5|     353|       1|   -1|       0| 5.0|    0.0|      2.0|    0.0|    0.0| 0.0|    1.0|  0.0|     0.0|\n",
            "|0.0|[45.0,13.0,5.0,98...| 45|     13|  5|      98|       1|   -1|       0| 3.0|    1.0|      3.0|    0.0|    0.0| 0.0|    1.0|  0.0|     0.0|\n",
            "|0.0|(16,[0,1,2,3,4,5,...| 57|     52|  5|      38|       1|   -1|       0| 0.0|    0.0|      2.0|    0.0|    0.0| 0.0|    1.0|  0.0|     0.0|\n",
            "|0.0|(16,[0,1,2,3,4,5,...| 60|     60|  5|     219|       1|   -1|       0| 5.0|    0.0|      2.0|    0.0|    0.0| 0.0|    1.0|  0.0|     0.0|\n",
            "|0.0|(16,[0,2,3,4,5,7,...| 33|      0|  5|      54|       1|   -1|       0| 4.0|    0.0|      0.0|    0.0|    0.0| 0.0|    1.0|  0.0|     0.0|\n",
            "+---+--------------------+---+-------+---+--------+--------+-----+--------+----+-------+---------+-------+-------+----+-------+-----+--------+\n",
            "only showing top 20 rows\n",
            "\n"
          ]
        }
      ],
      "source": [
        "df.show()"
      ]
    },
    {
      "cell_type": "code",
      "execution_count": 51,
      "metadata": {
        "colab": {
          "base_uri": "https://localhost:8080/"
        },
        "id": "QqP-oCjsCRb5",
        "outputId": "6a0ea905-aabb-43b3-efd0-0d614107f1d2"
      },
      "outputs": [
        {
          "output_type": "execute_result",
          "data": {
            "text/plain": [
              "{'numeric': [{'idx': 0, 'name': 'age'},\n",
              "  {'idx': 1, 'name': 'balance'},\n",
              "  {'idx': 2, 'name': 'day'},\n",
              "  {'idx': 3, 'name': 'duration'},\n",
              "  {'idx': 4, 'name': 'campaign'},\n",
              "  {'idx': 5, 'name': 'pdays'},\n",
              "  {'idx': 6, 'name': 'previous'}],\n",
              " 'nominal': [{'vals': ['blue-collar',\n",
              "    'management',\n",
              "    'technician',\n",
              "    'admin.',\n",
              "    'services',\n",
              "    'retired',\n",
              "    'self-employed',\n",
              "    'entrepreneur',\n",
              "    'unemployed',\n",
              "    'housemaid',\n",
              "    'student',\n",
              "    'unknown',\n",
              "    '__unknown'],\n",
              "   'idx': 7,\n",
              "   'name': 'job'},\n",
              "  {'vals': ['married', 'single', 'divorced', '__unknown'],\n",
              "   'idx': 8,\n",
              "   'name': 'marital'},\n",
              "  {'vals': ['secondary', 'tertiary', 'primary', 'unknown', '__unknown'],\n",
              "   'idx': 9,\n",
              "   'name': 'education'},\n",
              "  {'vals': ['no', 'yes', '__unknown'], 'idx': 10, 'name': 'default'},\n",
              "  {'vals': ['yes', 'no', '__unknown'], 'idx': 11, 'name': 'housing'},\n",
              "  {'vals': ['no', 'yes', '__unknown'], 'idx': 12, 'name': 'loan'},\n",
              "  {'vals': ['cellular', 'unknown', 'telephone', '__unknown'],\n",
              "   'idx': 13,\n",
              "   'name': 'contact'},\n",
              "  {'vals': ['may',\n",
              "    'jul',\n",
              "    'aug',\n",
              "    'jun',\n",
              "    'nov',\n",
              "    'apr',\n",
              "    'feb',\n",
              "    'jan',\n",
              "    'oct',\n",
              "    'sep',\n",
              "    'mar',\n",
              "    'dec',\n",
              "    '__unknown'],\n",
              "   'idx': 14,\n",
              "   'name': 'month'},\n",
              "  {'vals': ['unknown', 'failure', 'other', 'success', '__unknown'],\n",
              "   'idx': 15,\n",
              "   'name': 'poutcome'}]}"
            ]
          },
          "metadata": {},
          "execution_count": 51
        }
      ],
      "source": [
        "df.schema[\"features\"].metadata[\"ml_attr\"][\"attrs\"]"
      ]
    },
    {
      "cell_type": "code",
      "execution_count": 52,
      "metadata": {
        "id": "dYgQ2pIMCRb6"
      },
      "outputs": [],
      "source": [
        "import pandas as pd\n",
        "for k, v in df.schema[\"features\"].metadata[\"ml_attr\"][\"attrs\"].items():\n",
        "    features_df = pd.DataFrame(v)"
      ]
    },
    {
      "cell_type": "code",
      "execution_count": 53,
      "metadata": {
        "colab": {
          "base_uri": "https://localhost:8080/",
          "height": 332
        },
        "id": "L1JZtT-3CRb7",
        "outputId": "b861f917-fecf-41eb-b584-05b874e50a43"
      },
      "outputs": [
        {
          "output_type": "execute_result",
          "data": {
            "text/plain": [
              "                                                vals  idx       name\n",
              "0  [blue-collar, management, technician, admin., ...    7        job\n",
              "1             [married, single, divorced, __unknown]    8    marital\n",
              "2  [secondary, tertiary, primary, unknown, __unkn...    9  education\n",
              "3                               [no, yes, __unknown]   10    default\n",
              "4                               [yes, no, __unknown]   11    housing\n",
              "5                               [no, yes, __unknown]   12       loan\n",
              "6          [cellular, unknown, telephone, __unknown]   13    contact\n",
              "7  [may, jul, aug, jun, nov, apr, feb, jan, oct, ...   14      month\n",
              "8      [unknown, failure, other, success, __unknown]   15   poutcome"
            ],
            "text/html": [
              "\n",
              "  <div id=\"df-d1f0d81a-cd00-485c-bdfa-748745ddd28c\">\n",
              "    <div class=\"colab-df-container\">\n",
              "      <div>\n",
              "<style scoped>\n",
              "    .dataframe tbody tr th:only-of-type {\n",
              "        vertical-align: middle;\n",
              "    }\n",
              "\n",
              "    .dataframe tbody tr th {\n",
              "        vertical-align: top;\n",
              "    }\n",
              "\n",
              "    .dataframe thead th {\n",
              "        text-align: right;\n",
              "    }\n",
              "</style>\n",
              "<table border=\"1\" class=\"dataframe\">\n",
              "  <thead>\n",
              "    <tr style=\"text-align: right;\">\n",
              "      <th></th>\n",
              "      <th>vals</th>\n",
              "      <th>idx</th>\n",
              "      <th>name</th>\n",
              "    </tr>\n",
              "  </thead>\n",
              "  <tbody>\n",
              "    <tr>\n",
              "      <th>0</th>\n",
              "      <td>[blue-collar, management, technician, admin., ...</td>\n",
              "      <td>7</td>\n",
              "      <td>job</td>\n",
              "    </tr>\n",
              "    <tr>\n",
              "      <th>1</th>\n",
              "      <td>[married, single, divorced, __unknown]</td>\n",
              "      <td>8</td>\n",
              "      <td>marital</td>\n",
              "    </tr>\n",
              "    <tr>\n",
              "      <th>2</th>\n",
              "      <td>[secondary, tertiary, primary, unknown, __unkn...</td>\n",
              "      <td>9</td>\n",
              "      <td>education</td>\n",
              "    </tr>\n",
              "    <tr>\n",
              "      <th>3</th>\n",
              "      <td>[no, yes, __unknown]</td>\n",
              "      <td>10</td>\n",
              "      <td>default</td>\n",
              "    </tr>\n",
              "    <tr>\n",
              "      <th>4</th>\n",
              "      <td>[yes, no, __unknown]</td>\n",
              "      <td>11</td>\n",
              "      <td>housing</td>\n",
              "    </tr>\n",
              "    <tr>\n",
              "      <th>5</th>\n",
              "      <td>[no, yes, __unknown]</td>\n",
              "      <td>12</td>\n",
              "      <td>loan</td>\n",
              "    </tr>\n",
              "    <tr>\n",
              "      <th>6</th>\n",
              "      <td>[cellular, unknown, telephone, __unknown]</td>\n",
              "      <td>13</td>\n",
              "      <td>contact</td>\n",
              "    </tr>\n",
              "    <tr>\n",
              "      <th>7</th>\n",
              "      <td>[may, jul, aug, jun, nov, apr, feb, jan, oct, ...</td>\n",
              "      <td>14</td>\n",
              "      <td>month</td>\n",
              "    </tr>\n",
              "    <tr>\n",
              "      <th>8</th>\n",
              "      <td>[unknown, failure, other, success, __unknown]</td>\n",
              "      <td>15</td>\n",
              "      <td>poutcome</td>\n",
              "    </tr>\n",
              "  </tbody>\n",
              "</table>\n",
              "</div>\n",
              "      <button class=\"colab-df-convert\" onclick=\"convertToInteractive('df-d1f0d81a-cd00-485c-bdfa-748745ddd28c')\"\n",
              "              title=\"Convert this dataframe to an interactive table.\"\n",
              "              style=\"display:none;\">\n",
              "        \n",
              "  <svg xmlns=\"http://www.w3.org/2000/svg\" height=\"24px\"viewBox=\"0 0 24 24\"\n",
              "       width=\"24px\">\n",
              "    <path d=\"M0 0h24v24H0V0z\" fill=\"none\"/>\n",
              "    <path d=\"M18.56 5.44l.94 2.06.94-2.06 2.06-.94-2.06-.94-.94-2.06-.94 2.06-2.06.94zm-11 1L8.5 8.5l.94-2.06 2.06-.94-2.06-.94L8.5 2.5l-.94 2.06-2.06.94zm10 10l.94 2.06.94-2.06 2.06-.94-2.06-.94-.94-2.06-.94 2.06-2.06.94z\"/><path d=\"M17.41 7.96l-1.37-1.37c-.4-.4-.92-.59-1.43-.59-.52 0-1.04.2-1.43.59L10.3 9.45l-7.72 7.72c-.78.78-.78 2.05 0 2.83L4 21.41c.39.39.9.59 1.41.59.51 0 1.02-.2 1.41-.59l7.78-7.78 2.81-2.81c.8-.78.8-2.07 0-2.86zM5.41 20L4 18.59l7.72-7.72 1.47 1.35L5.41 20z\"/>\n",
              "  </svg>\n",
              "      </button>\n",
              "      \n",
              "  <style>\n",
              "    .colab-df-container {\n",
              "      display:flex;\n",
              "      flex-wrap:wrap;\n",
              "      gap: 12px;\n",
              "    }\n",
              "\n",
              "    .colab-df-convert {\n",
              "      background-color: #E8F0FE;\n",
              "      border: none;\n",
              "      border-radius: 50%;\n",
              "      cursor: pointer;\n",
              "      display: none;\n",
              "      fill: #1967D2;\n",
              "      height: 32px;\n",
              "      padding: 0 0 0 0;\n",
              "      width: 32px;\n",
              "    }\n",
              "\n",
              "    .colab-df-convert:hover {\n",
              "      background-color: #E2EBFA;\n",
              "      box-shadow: 0px 1px 2px rgba(60, 64, 67, 0.3), 0px 1px 3px 1px rgba(60, 64, 67, 0.15);\n",
              "      fill: #174EA6;\n",
              "    }\n",
              "\n",
              "    [theme=dark] .colab-df-convert {\n",
              "      background-color: #3B4455;\n",
              "      fill: #D2E3FC;\n",
              "    }\n",
              "\n",
              "    [theme=dark] .colab-df-convert:hover {\n",
              "      background-color: #434B5C;\n",
              "      box-shadow: 0px 1px 3px 1px rgba(0, 0, 0, 0.15);\n",
              "      filter: drop-shadow(0px 1px 2px rgba(0, 0, 0, 0.3));\n",
              "      fill: #FFFFFF;\n",
              "    }\n",
              "  </style>\n",
              "\n",
              "      <script>\n",
              "        const buttonEl =\n",
              "          document.querySelector('#df-d1f0d81a-cd00-485c-bdfa-748745ddd28c button.colab-df-convert');\n",
              "        buttonEl.style.display =\n",
              "          google.colab.kernel.accessAllowed ? 'block' : 'none';\n",
              "\n",
              "        async function convertToInteractive(key) {\n",
              "          const element = document.querySelector('#df-d1f0d81a-cd00-485c-bdfa-748745ddd28c');\n",
              "          const dataTable =\n",
              "            await google.colab.kernel.invokeFunction('convertToInteractive',\n",
              "                                                     [key], {});\n",
              "          if (!dataTable) return;\n",
              "\n",
              "          const docLinkHtml = 'Like what you see? Visit the ' +\n",
              "            '<a target=\"_blank\" href=https://colab.research.google.com/notebooks/data_table.ipynb>data table notebook</a>'\n",
              "            + ' to learn more about interactive tables.';\n",
              "          element.innerHTML = '';\n",
              "          dataTable['output_type'] = 'display_data';\n",
              "          await google.colab.output.renderOutput(dataTable, element);\n",
              "          const docLink = document.createElement('div');\n",
              "          docLink.innerHTML = docLinkHtml;\n",
              "          element.appendChild(docLink);\n",
              "        }\n",
              "      </script>\n",
              "    </div>\n",
              "  </div>\n",
              "  "
            ]
          },
          "metadata": {},
          "execution_count": 53
        }
      ],
      "source": [
        "features_df"
      ]
    },
    {
      "cell_type": "markdown",
      "metadata": {
        "id": "Rdn0kgBfCRb8"
      },
      "source": [
        "# Model based feature selection"
      ]
    },
    {
      "cell_type": "markdown",
      "metadata": {
        "id": "J7FRvq4CCRb9"
      },
      "source": [
        "# Question 1: Implement decision tree feature importance. Compare and contrast with Random Forest output."
      ]
    },
    {
      "cell_type": "code",
      "execution_count": 54,
      "metadata": {
        "colab": {
          "base_uri": "https://localhost:8080/"
        },
        "id": "7lGQlAv8CRb-",
        "outputId": "9c686599-3932-46c6-b59e-566cfdd4bac1"
      },
      "outputs": [
        {
          "output_type": "execute_result",
          "data": {
            "text/plain": [
              "SparseVector(16, {1: 0.003, 2: 0.0023, 3: 0.5507, 8: 0.0017, 9: 0.0009, 11: 0.0055, 13: 0.0049, 14: 0.118, 15: 0.3131})"
            ]
          },
          "metadata": {},
          "execution_count": 54
        }
      ],
      "source": [
        "from pyspark.ml.classification import DecisionTreeClassifier\n",
        "\n",
        "dt = DecisionTreeClassifier(featuresCol='features', labelCol=target_variable_name)\n",
        "dt_model = dt.fit(df)\n",
        "dt_model.featureImportances"
      ]
    },
    {
      "cell_type": "code",
      "execution_count": 55,
      "metadata": {
        "id": "dPoOw8kDCRb_"
      },
      "outputs": [],
      "source": [
        "#temporary output rf_output\n",
        "dt_output = dt_model.featureImportances\n",
        "features_df['Decision_Tree'] = features_df['idx'].apply(lambda x: dt_output[x] if x in dt_output.indices else 0)"
      ]
    },
    {
      "cell_type": "code",
      "execution_count": 56,
      "metadata": {
        "id": "WP9X0RBGCRb_"
      },
      "outputs": [],
      "source": [
        "#sort values based on descending importance feature\n",
        "features_df.sort_values(\"Decision_Tree\", ascending=False, inplace=True)"
      ]
    },
    {
      "cell_type": "code",
      "execution_count": 57,
      "metadata": {
        "colab": {
          "base_uri": "https://localhost:8080/",
          "height": 332
        },
        "id": "uv61A3T6CRcA",
        "outputId": "7d5310e9-3da7-42a4-c010-602932c9c725"
      },
      "outputs": [
        {
          "output_type": "execute_result",
          "data": {
            "text/plain": [
              "                                                vals  idx       name  \\\n",
              "8      [unknown, failure, other, success, __unknown]   15   poutcome   \n",
              "7  [may, jul, aug, jun, nov, apr, feb, jan, oct, ...   14      month   \n",
              "4                               [yes, no, __unknown]   11    housing   \n",
              "6          [cellular, unknown, telephone, __unknown]   13    contact   \n",
              "1             [married, single, divorced, __unknown]    8    marital   \n",
              "2  [secondary, tertiary, primary, unknown, __unkn...    9  education   \n",
              "0  [blue-collar, management, technician, admin., ...    7        job   \n",
              "3                               [no, yes, __unknown]   10    default   \n",
              "5                               [no, yes, __unknown]   12       loan   \n",
              "\n",
              "   Decision_Tree  \n",
              "8       0.313066  \n",
              "7       0.118036  \n",
              "4       0.005458  \n",
              "6       0.004910  \n",
              "1       0.001700  \n",
              "2       0.000894  \n",
              "0       0.000000  \n",
              "3       0.000000  \n",
              "5       0.000000  "
            ],
            "text/html": [
              "\n",
              "  <div id=\"df-c180425c-a807-4932-9434-ef45c2acff3f\">\n",
              "    <div class=\"colab-df-container\">\n",
              "      <div>\n",
              "<style scoped>\n",
              "    .dataframe tbody tr th:only-of-type {\n",
              "        vertical-align: middle;\n",
              "    }\n",
              "\n",
              "    .dataframe tbody tr th {\n",
              "        vertical-align: top;\n",
              "    }\n",
              "\n",
              "    .dataframe thead th {\n",
              "        text-align: right;\n",
              "    }\n",
              "</style>\n",
              "<table border=\"1\" class=\"dataframe\">\n",
              "  <thead>\n",
              "    <tr style=\"text-align: right;\">\n",
              "      <th></th>\n",
              "      <th>vals</th>\n",
              "      <th>idx</th>\n",
              "      <th>name</th>\n",
              "      <th>Decision_Tree</th>\n",
              "    </tr>\n",
              "  </thead>\n",
              "  <tbody>\n",
              "    <tr>\n",
              "      <th>8</th>\n",
              "      <td>[unknown, failure, other, success, __unknown]</td>\n",
              "      <td>15</td>\n",
              "      <td>poutcome</td>\n",
              "      <td>0.313066</td>\n",
              "    </tr>\n",
              "    <tr>\n",
              "      <th>7</th>\n",
              "      <td>[may, jul, aug, jun, nov, apr, feb, jan, oct, ...</td>\n",
              "      <td>14</td>\n",
              "      <td>month</td>\n",
              "      <td>0.118036</td>\n",
              "    </tr>\n",
              "    <tr>\n",
              "      <th>4</th>\n",
              "      <td>[yes, no, __unknown]</td>\n",
              "      <td>11</td>\n",
              "      <td>housing</td>\n",
              "      <td>0.005458</td>\n",
              "    </tr>\n",
              "    <tr>\n",
              "      <th>6</th>\n",
              "      <td>[cellular, unknown, telephone, __unknown]</td>\n",
              "      <td>13</td>\n",
              "      <td>contact</td>\n",
              "      <td>0.004910</td>\n",
              "    </tr>\n",
              "    <tr>\n",
              "      <th>1</th>\n",
              "      <td>[married, single, divorced, __unknown]</td>\n",
              "      <td>8</td>\n",
              "      <td>marital</td>\n",
              "      <td>0.001700</td>\n",
              "    </tr>\n",
              "    <tr>\n",
              "      <th>2</th>\n",
              "      <td>[secondary, tertiary, primary, unknown, __unkn...</td>\n",
              "      <td>9</td>\n",
              "      <td>education</td>\n",
              "      <td>0.000894</td>\n",
              "    </tr>\n",
              "    <tr>\n",
              "      <th>0</th>\n",
              "      <td>[blue-collar, management, technician, admin., ...</td>\n",
              "      <td>7</td>\n",
              "      <td>job</td>\n",
              "      <td>0.000000</td>\n",
              "    </tr>\n",
              "    <tr>\n",
              "      <th>3</th>\n",
              "      <td>[no, yes, __unknown]</td>\n",
              "      <td>10</td>\n",
              "      <td>default</td>\n",
              "      <td>0.000000</td>\n",
              "    </tr>\n",
              "    <tr>\n",
              "      <th>5</th>\n",
              "      <td>[no, yes, __unknown]</td>\n",
              "      <td>12</td>\n",
              "      <td>loan</td>\n",
              "      <td>0.000000</td>\n",
              "    </tr>\n",
              "  </tbody>\n",
              "</table>\n",
              "</div>\n",
              "      <button class=\"colab-df-convert\" onclick=\"convertToInteractive('df-c180425c-a807-4932-9434-ef45c2acff3f')\"\n",
              "              title=\"Convert this dataframe to an interactive table.\"\n",
              "              style=\"display:none;\">\n",
              "        \n",
              "  <svg xmlns=\"http://www.w3.org/2000/svg\" height=\"24px\"viewBox=\"0 0 24 24\"\n",
              "       width=\"24px\">\n",
              "    <path d=\"M0 0h24v24H0V0z\" fill=\"none\"/>\n",
              "    <path d=\"M18.56 5.44l.94 2.06.94-2.06 2.06-.94-2.06-.94-.94-2.06-.94 2.06-2.06.94zm-11 1L8.5 8.5l.94-2.06 2.06-.94-2.06-.94L8.5 2.5l-.94 2.06-2.06.94zm10 10l.94 2.06.94-2.06 2.06-.94-2.06-.94-.94-2.06-.94 2.06-2.06.94z\"/><path d=\"M17.41 7.96l-1.37-1.37c-.4-.4-.92-.59-1.43-.59-.52 0-1.04.2-1.43.59L10.3 9.45l-7.72 7.72c-.78.78-.78 2.05 0 2.83L4 21.41c.39.39.9.59 1.41.59.51 0 1.02-.2 1.41-.59l7.78-7.78 2.81-2.81c.8-.78.8-2.07 0-2.86zM5.41 20L4 18.59l7.72-7.72 1.47 1.35L5.41 20z\"/>\n",
              "  </svg>\n",
              "      </button>\n",
              "      \n",
              "  <style>\n",
              "    .colab-df-container {\n",
              "      display:flex;\n",
              "      flex-wrap:wrap;\n",
              "      gap: 12px;\n",
              "    }\n",
              "\n",
              "    .colab-df-convert {\n",
              "      background-color: #E8F0FE;\n",
              "      border: none;\n",
              "      border-radius: 50%;\n",
              "      cursor: pointer;\n",
              "      display: none;\n",
              "      fill: #1967D2;\n",
              "      height: 32px;\n",
              "      padding: 0 0 0 0;\n",
              "      width: 32px;\n",
              "    }\n",
              "\n",
              "    .colab-df-convert:hover {\n",
              "      background-color: #E2EBFA;\n",
              "      box-shadow: 0px 1px 2px rgba(60, 64, 67, 0.3), 0px 1px 3px 1px rgba(60, 64, 67, 0.15);\n",
              "      fill: #174EA6;\n",
              "    }\n",
              "\n",
              "    [theme=dark] .colab-df-convert {\n",
              "      background-color: #3B4455;\n",
              "      fill: #D2E3FC;\n",
              "    }\n",
              "\n",
              "    [theme=dark] .colab-df-convert:hover {\n",
              "      background-color: #434B5C;\n",
              "      box-shadow: 0px 1px 3px 1px rgba(0, 0, 0, 0.15);\n",
              "      filter: drop-shadow(0px 1px 2px rgba(0, 0, 0, 0.3));\n",
              "      fill: #FFFFFF;\n",
              "    }\n",
              "  </style>\n",
              "\n",
              "      <script>\n",
              "        const buttonEl =\n",
              "          document.querySelector('#df-c180425c-a807-4932-9434-ef45c2acff3f button.colab-df-convert');\n",
              "        buttonEl.style.display =\n",
              "          google.colab.kernel.accessAllowed ? 'block' : 'none';\n",
              "\n",
              "        async function convertToInteractive(key) {\n",
              "          const element = document.querySelector('#df-c180425c-a807-4932-9434-ef45c2acff3f');\n",
              "          const dataTable =\n",
              "            await google.colab.kernel.invokeFunction('convertToInteractive',\n",
              "                                                     [key], {});\n",
              "          if (!dataTable) return;\n",
              "\n",
              "          const docLinkHtml = 'Like what you see? Visit the ' +\n",
              "            '<a target=\"_blank\" href=https://colab.research.google.com/notebooks/data_table.ipynb>data table notebook</a>'\n",
              "            + ' to learn more about interactive tables.';\n",
              "          element.innerHTML = '';\n",
              "          dataTable['output_type'] = 'display_data';\n",
              "          await google.colab.output.renderOutput(dataTable, element);\n",
              "          const docLink = document.createElement('div');\n",
              "          docLink.innerHTML = docLinkHtml;\n",
              "          element.appendChild(docLink);\n",
              "        }\n",
              "      </script>\n",
              "    </div>\n",
              "  </div>\n",
              "  "
            ]
          },
          "metadata": {},
          "execution_count": 57
        }
      ],
      "source": [
        "features_df"
      ]
    },
    {
      "cell_type": "markdown",
      "metadata": {
        "id": "aa49pbN7CRcB"
      },
      "source": [
        "# Question 2: Implement gradient boosted tree feature importance. Compare and contrast with Random Forest output."
      ]
    },
    {
      "cell_type": "code",
      "execution_count": 29,
      "metadata": {
        "colab": {
          "base_uri": "https://localhost:8080/"
        },
        "id": "AyzLmnrhCRcB",
        "outputId": "30563716-f2f9-4734-8d6a-f917ab48efc2"
      },
      "outputs": [
        {
          "output_type": "execute_result",
          "data": {
            "text/plain": [
              "SparseVector(16, {0: 0.0314, 1: 0.01, 2: 0.083, 3: 0.3048, 4: 0.0081, 5: 0.0397, 6: 0.0012, 7: 0.0271, 8: 0.0125, 9: 0.0054, 10: 0.0013, 11: 0.0543, 12: 0.0016, 13: 0.0612, 14: 0.2984, 15: 0.0599})"
            ]
          },
          "metadata": {},
          "execution_count": 29
        }
      ],
      "source": [
        "from pyspark.ml.classification import GBTClassifier\n",
        "gb = GBTClassifier(featuresCol='features', labelCol=target_variable_name)\n",
        "gb_model = gb.fit(df)\n",
        "gb_model.featureImportances"
      ]
    },
    {
      "cell_type": "code",
      "execution_count": 30,
      "metadata": {
        "id": "-VUTHdRFCRcC"
      },
      "outputs": [],
      "source": [
        "#temporary output rf_output\n",
        "gb_output = gb_model.featureImportances\n",
        "features_df['Gradient Boosting'] = features_df['idx'].apply(lambda x: gb_output[x] if x in gb_output.indices else 0)"
      ]
    },
    {
      "cell_type": "code",
      "execution_count": 60,
      "metadata": {
        "colab": {
          "base_uri": "https://localhost:8080/"
        },
        "id": "r5uLH0AcCRcD",
        "outputId": "7ae381a3-8f55-454a-bd98-215107ee299f"
      },
      "outputs": [
        {
          "output_type": "stream",
          "name": "stdout",
          "text": [
            "Index(['vals', 'idx', 'name', 'Decision_Tree'], dtype='object')\n"
          ]
        }
      ],
      "source": [
        "#sort values based on descending importance feature\n",
        "#features_df.sort_values(\"Gradient Boosting\", ascending=True, inplace=True)\n",
        "print(features_df.columns)\n"
      ]
    },
    {
      "cell_type": "code",
      "execution_count": 61,
      "metadata": {
        "colab": {
          "base_uri": "https://localhost:8080/",
          "height": 332
        },
        "id": "s4oBrXKZCRcD",
        "outputId": "4a7c506b-223a-4d6c-adff-251bbda45815"
      },
      "outputs": [
        {
          "output_type": "execute_result",
          "data": {
            "text/plain": [
              "                                                vals  idx       name  \\\n",
              "8      [unknown, failure, other, success, __unknown]   15   poutcome   \n",
              "7  [may, jul, aug, jun, nov, apr, feb, jan, oct, ...   14      month   \n",
              "4                               [yes, no, __unknown]   11    housing   \n",
              "6          [cellular, unknown, telephone, __unknown]   13    contact   \n",
              "1             [married, single, divorced, __unknown]    8    marital   \n",
              "2  [secondary, tertiary, primary, unknown, __unkn...    9  education   \n",
              "0  [blue-collar, management, technician, admin., ...    7        job   \n",
              "3                               [no, yes, __unknown]   10    default   \n",
              "5                               [no, yes, __unknown]   12       loan   \n",
              "\n",
              "   Decision_Tree  \n",
              "8       0.313066  \n",
              "7       0.118036  \n",
              "4       0.005458  \n",
              "6       0.004910  \n",
              "1       0.001700  \n",
              "2       0.000894  \n",
              "0       0.000000  \n",
              "3       0.000000  \n",
              "5       0.000000  "
            ],
            "text/html": [
              "\n",
              "  <div id=\"df-e3818eaa-4743-4049-8551-c663146166cd\">\n",
              "    <div class=\"colab-df-container\">\n",
              "      <div>\n",
              "<style scoped>\n",
              "    .dataframe tbody tr th:only-of-type {\n",
              "        vertical-align: middle;\n",
              "    }\n",
              "\n",
              "    .dataframe tbody tr th {\n",
              "        vertical-align: top;\n",
              "    }\n",
              "\n",
              "    .dataframe thead th {\n",
              "        text-align: right;\n",
              "    }\n",
              "</style>\n",
              "<table border=\"1\" class=\"dataframe\">\n",
              "  <thead>\n",
              "    <tr style=\"text-align: right;\">\n",
              "      <th></th>\n",
              "      <th>vals</th>\n",
              "      <th>idx</th>\n",
              "      <th>name</th>\n",
              "      <th>Decision_Tree</th>\n",
              "    </tr>\n",
              "  </thead>\n",
              "  <tbody>\n",
              "    <tr>\n",
              "      <th>8</th>\n",
              "      <td>[unknown, failure, other, success, __unknown]</td>\n",
              "      <td>15</td>\n",
              "      <td>poutcome</td>\n",
              "      <td>0.313066</td>\n",
              "    </tr>\n",
              "    <tr>\n",
              "      <th>7</th>\n",
              "      <td>[may, jul, aug, jun, nov, apr, feb, jan, oct, ...</td>\n",
              "      <td>14</td>\n",
              "      <td>month</td>\n",
              "      <td>0.118036</td>\n",
              "    </tr>\n",
              "    <tr>\n",
              "      <th>4</th>\n",
              "      <td>[yes, no, __unknown]</td>\n",
              "      <td>11</td>\n",
              "      <td>housing</td>\n",
              "      <td>0.005458</td>\n",
              "    </tr>\n",
              "    <tr>\n",
              "      <th>6</th>\n",
              "      <td>[cellular, unknown, telephone, __unknown]</td>\n",
              "      <td>13</td>\n",
              "      <td>contact</td>\n",
              "      <td>0.004910</td>\n",
              "    </tr>\n",
              "    <tr>\n",
              "      <th>1</th>\n",
              "      <td>[married, single, divorced, __unknown]</td>\n",
              "      <td>8</td>\n",
              "      <td>marital</td>\n",
              "      <td>0.001700</td>\n",
              "    </tr>\n",
              "    <tr>\n",
              "      <th>2</th>\n",
              "      <td>[secondary, tertiary, primary, unknown, __unkn...</td>\n",
              "      <td>9</td>\n",
              "      <td>education</td>\n",
              "      <td>0.000894</td>\n",
              "    </tr>\n",
              "    <tr>\n",
              "      <th>0</th>\n",
              "      <td>[blue-collar, management, technician, admin., ...</td>\n",
              "      <td>7</td>\n",
              "      <td>job</td>\n",
              "      <td>0.000000</td>\n",
              "    </tr>\n",
              "    <tr>\n",
              "      <th>3</th>\n",
              "      <td>[no, yes, __unknown]</td>\n",
              "      <td>10</td>\n",
              "      <td>default</td>\n",
              "      <td>0.000000</td>\n",
              "    </tr>\n",
              "    <tr>\n",
              "      <th>5</th>\n",
              "      <td>[no, yes, __unknown]</td>\n",
              "      <td>12</td>\n",
              "      <td>loan</td>\n",
              "      <td>0.000000</td>\n",
              "    </tr>\n",
              "  </tbody>\n",
              "</table>\n",
              "</div>\n",
              "      <button class=\"colab-df-convert\" onclick=\"convertToInteractive('df-e3818eaa-4743-4049-8551-c663146166cd')\"\n",
              "              title=\"Convert this dataframe to an interactive table.\"\n",
              "              style=\"display:none;\">\n",
              "        \n",
              "  <svg xmlns=\"http://www.w3.org/2000/svg\" height=\"24px\"viewBox=\"0 0 24 24\"\n",
              "       width=\"24px\">\n",
              "    <path d=\"M0 0h24v24H0V0z\" fill=\"none\"/>\n",
              "    <path d=\"M18.56 5.44l.94 2.06.94-2.06 2.06-.94-2.06-.94-.94-2.06-.94 2.06-2.06.94zm-11 1L8.5 8.5l.94-2.06 2.06-.94-2.06-.94L8.5 2.5l-.94 2.06-2.06.94zm10 10l.94 2.06.94-2.06 2.06-.94-2.06-.94-.94-2.06-.94 2.06-2.06.94z\"/><path d=\"M17.41 7.96l-1.37-1.37c-.4-.4-.92-.59-1.43-.59-.52 0-1.04.2-1.43.59L10.3 9.45l-7.72 7.72c-.78.78-.78 2.05 0 2.83L4 21.41c.39.39.9.59 1.41.59.51 0 1.02-.2 1.41-.59l7.78-7.78 2.81-2.81c.8-.78.8-2.07 0-2.86zM5.41 20L4 18.59l7.72-7.72 1.47 1.35L5.41 20z\"/>\n",
              "  </svg>\n",
              "      </button>\n",
              "      \n",
              "  <style>\n",
              "    .colab-df-container {\n",
              "      display:flex;\n",
              "      flex-wrap:wrap;\n",
              "      gap: 12px;\n",
              "    }\n",
              "\n",
              "    .colab-df-convert {\n",
              "      background-color: #E8F0FE;\n",
              "      border: none;\n",
              "      border-radius: 50%;\n",
              "      cursor: pointer;\n",
              "      display: none;\n",
              "      fill: #1967D2;\n",
              "      height: 32px;\n",
              "      padding: 0 0 0 0;\n",
              "      width: 32px;\n",
              "    }\n",
              "\n",
              "    .colab-df-convert:hover {\n",
              "      background-color: #E2EBFA;\n",
              "      box-shadow: 0px 1px 2px rgba(60, 64, 67, 0.3), 0px 1px 3px 1px rgba(60, 64, 67, 0.15);\n",
              "      fill: #174EA6;\n",
              "    }\n",
              "\n",
              "    [theme=dark] .colab-df-convert {\n",
              "      background-color: #3B4455;\n",
              "      fill: #D2E3FC;\n",
              "    }\n",
              "\n",
              "    [theme=dark] .colab-df-convert:hover {\n",
              "      background-color: #434B5C;\n",
              "      box-shadow: 0px 1px 3px 1px rgba(0, 0, 0, 0.15);\n",
              "      filter: drop-shadow(0px 1px 2px rgba(0, 0, 0, 0.3));\n",
              "      fill: #FFFFFF;\n",
              "    }\n",
              "  </style>\n",
              "\n",
              "      <script>\n",
              "        const buttonEl =\n",
              "          document.querySelector('#df-e3818eaa-4743-4049-8551-c663146166cd button.colab-df-convert');\n",
              "        buttonEl.style.display =\n",
              "          google.colab.kernel.accessAllowed ? 'block' : 'none';\n",
              "\n",
              "        async function convertToInteractive(key) {\n",
              "          const element = document.querySelector('#df-e3818eaa-4743-4049-8551-c663146166cd');\n",
              "          const dataTable =\n",
              "            await google.colab.kernel.invokeFunction('convertToInteractive',\n",
              "                                                     [key], {});\n",
              "          if (!dataTable) return;\n",
              "\n",
              "          const docLinkHtml = 'Like what you see? Visit the ' +\n",
              "            '<a target=\"_blank\" href=https://colab.research.google.com/notebooks/data_table.ipynb>data table notebook</a>'\n",
              "            + ' to learn more about interactive tables.';\n",
              "          element.innerHTML = '';\n",
              "          dataTable['output_type'] = 'display_data';\n",
              "          await google.colab.output.renderOutput(dataTable, element);\n",
              "          const docLink = document.createElement('div');\n",
              "          docLink.innerHTML = docLinkHtml;\n",
              "          element.appendChild(docLink);\n",
              "        }\n",
              "      </script>\n",
              "    </div>\n",
              "  </div>\n",
              "  "
            ]
          },
          "metadata": {},
          "execution_count": 61
        }
      ],
      "source": [
        "features_df"
      ]
    },
    {
      "cell_type": "markdown",
      "metadata": {
        "id": "VXVs00eiCRcE"
      },
      "source": [
        "# Question 3: Implement logistic regression feature importance. Compare and contrast with Random Forest output. (Hint: Use the coefficient of logistic regression. Note: Logistic regression produces Dense Vector instead of sparse vector)"
      ]
    },
    {
      "cell_type": "code",
      "execution_count": 62,
      "metadata": {
        "id": "DgjRIs35CRcE"
      },
      "outputs": [],
      "source": [
        "from pyspark.ml.classification import LogisticRegression\n",
        "lr = LogisticRegression(featuresCol='features', labelCol=target_variable_name)\n",
        "lr_model = lr.fit(df)"
      ]
    },
    {
      "cell_type": "code",
      "execution_count": 64,
      "metadata": {
        "colab": {
          "base_uri": "https://localhost:8080/"
        },
        "id": "ZXL5kjK6CRcF",
        "outputId": "a5cf86b1-c726-4432-971c-b4a283413a0f"
      },
      "outputs": [
        {
          "output_type": "execute_result",
          "data": {
            "text/plain": [
              "DenseMatrix(3, 16, [-0.0049, 0.0, -0.0003, 0.0016, -0.0542, -0.0007, -0.0239, -0.0073, ..., -0.3735, 0.0354, 0.0214, -1.6384, 1.2687, 0.3493, -0.2454, -0.3946], 1)"
            ]
          },
          "metadata": {},
          "execution_count": 64
        }
      ],
      "source": [
        "lr_model.coefficientMatrix\n"
      ]
    },
    {
      "cell_type": "code",
      "execution_count": 67,
      "metadata": {
        "id": "Nb0IHPHFCRcF"
      },
      "outputs": [],
      "source": [
        "lr_output = lr_model.coefficientMatrix\n",
        "# absolute value is used to convert the negative coefficients. This should be done only for feature importance.\n",
        "features_df['Logistic Regression'] = features_df['idx'].apply(lambda x: abs(lr_output[1, x]))\n"
      ]
    },
    {
      "cell_type": "code",
      "execution_count": 68,
      "metadata": {
        "id": "MsRGeOsyCRcG"
      },
      "outputs": [],
      "source": [
        "features_df.sort_values(\"Logistic Regression\", ascending=False, inplace=True)"
      ]
    },
    {
      "cell_type": "code",
      "execution_count": 69,
      "metadata": {
        "colab": {
          "base_uri": "https://localhost:8080/",
          "height": 332
        },
        "id": "jkhaRjRKCRcG",
        "outputId": "6934ed83-09a9-46e4-88ad-aea72c08325b"
      },
      "outputs": [
        {
          "output_type": "execute_result",
          "data": {
            "text/plain": [
              "                                                vals  idx       name  \\\n",
              "4                               [yes, no, __unknown]   11    housing   \n",
              "5                               [no, yes, __unknown]   12       loan   \n",
              "8      [unknown, failure, other, success, __unknown]   15   poutcome   \n",
              "6          [cellular, unknown, telephone, __unknown]   13    contact   \n",
              "1             [married, single, divorced, __unknown]    8    marital   \n",
              "7  [may, jul, aug, jun, nov, apr, feb, jan, oct, ...   14      month   \n",
              "3                               [no, yes, __unknown]   10    default   \n",
              "2  [secondary, tertiary, primary, unknown, __unkn...    9  education   \n",
              "0  [blue-collar, management, technician, admin., ...    7        job   \n",
              "\n",
              "   Decision_Tree  Logistic Regression  \n",
              "4       0.005458             1.221455  \n",
              "5       0.000000             0.911572  \n",
              "8       0.313066             0.618026  \n",
              "6       0.004910             0.349746  \n",
              "1       0.001700             0.270534  \n",
              "7       0.118036             0.199362  \n",
              "3       0.000000             0.102095  \n",
              "2       0.000894             0.018690  \n",
              "0       0.000000             0.013310  "
            ],
            "text/html": [
              "\n",
              "  <div id=\"df-7ef49cb4-57b1-46a4-900f-f03e9ead684b\">\n",
              "    <div class=\"colab-df-container\">\n",
              "      <div>\n",
              "<style scoped>\n",
              "    .dataframe tbody tr th:only-of-type {\n",
              "        vertical-align: middle;\n",
              "    }\n",
              "\n",
              "    .dataframe tbody tr th {\n",
              "        vertical-align: top;\n",
              "    }\n",
              "\n",
              "    .dataframe thead th {\n",
              "        text-align: right;\n",
              "    }\n",
              "</style>\n",
              "<table border=\"1\" class=\"dataframe\">\n",
              "  <thead>\n",
              "    <tr style=\"text-align: right;\">\n",
              "      <th></th>\n",
              "      <th>vals</th>\n",
              "      <th>idx</th>\n",
              "      <th>name</th>\n",
              "      <th>Decision_Tree</th>\n",
              "      <th>Logistic Regression</th>\n",
              "    </tr>\n",
              "  </thead>\n",
              "  <tbody>\n",
              "    <tr>\n",
              "      <th>4</th>\n",
              "      <td>[yes, no, __unknown]</td>\n",
              "      <td>11</td>\n",
              "      <td>housing</td>\n",
              "      <td>0.005458</td>\n",
              "      <td>1.221455</td>\n",
              "    </tr>\n",
              "    <tr>\n",
              "      <th>5</th>\n",
              "      <td>[no, yes, __unknown]</td>\n",
              "      <td>12</td>\n",
              "      <td>loan</td>\n",
              "      <td>0.000000</td>\n",
              "      <td>0.911572</td>\n",
              "    </tr>\n",
              "    <tr>\n",
              "      <th>8</th>\n",
              "      <td>[unknown, failure, other, success, __unknown]</td>\n",
              "      <td>15</td>\n",
              "      <td>poutcome</td>\n",
              "      <td>0.313066</td>\n",
              "      <td>0.618026</td>\n",
              "    </tr>\n",
              "    <tr>\n",
              "      <th>6</th>\n",
              "      <td>[cellular, unknown, telephone, __unknown]</td>\n",
              "      <td>13</td>\n",
              "      <td>contact</td>\n",
              "      <td>0.004910</td>\n",
              "      <td>0.349746</td>\n",
              "    </tr>\n",
              "    <tr>\n",
              "      <th>1</th>\n",
              "      <td>[married, single, divorced, __unknown]</td>\n",
              "      <td>8</td>\n",
              "      <td>marital</td>\n",
              "      <td>0.001700</td>\n",
              "      <td>0.270534</td>\n",
              "    </tr>\n",
              "    <tr>\n",
              "      <th>7</th>\n",
              "      <td>[may, jul, aug, jun, nov, apr, feb, jan, oct, ...</td>\n",
              "      <td>14</td>\n",
              "      <td>month</td>\n",
              "      <td>0.118036</td>\n",
              "      <td>0.199362</td>\n",
              "    </tr>\n",
              "    <tr>\n",
              "      <th>3</th>\n",
              "      <td>[no, yes, __unknown]</td>\n",
              "      <td>10</td>\n",
              "      <td>default</td>\n",
              "      <td>0.000000</td>\n",
              "      <td>0.102095</td>\n",
              "    </tr>\n",
              "    <tr>\n",
              "      <th>2</th>\n",
              "      <td>[secondary, tertiary, primary, unknown, __unkn...</td>\n",
              "      <td>9</td>\n",
              "      <td>education</td>\n",
              "      <td>0.000894</td>\n",
              "      <td>0.018690</td>\n",
              "    </tr>\n",
              "    <tr>\n",
              "      <th>0</th>\n",
              "      <td>[blue-collar, management, technician, admin., ...</td>\n",
              "      <td>7</td>\n",
              "      <td>job</td>\n",
              "      <td>0.000000</td>\n",
              "      <td>0.013310</td>\n",
              "    </tr>\n",
              "  </tbody>\n",
              "</table>\n",
              "</div>\n",
              "      <button class=\"colab-df-convert\" onclick=\"convertToInteractive('df-7ef49cb4-57b1-46a4-900f-f03e9ead684b')\"\n",
              "              title=\"Convert this dataframe to an interactive table.\"\n",
              "              style=\"display:none;\">\n",
              "        \n",
              "  <svg xmlns=\"http://www.w3.org/2000/svg\" height=\"24px\"viewBox=\"0 0 24 24\"\n",
              "       width=\"24px\">\n",
              "    <path d=\"M0 0h24v24H0V0z\" fill=\"none\"/>\n",
              "    <path d=\"M18.56 5.44l.94 2.06.94-2.06 2.06-.94-2.06-.94-.94-2.06-.94 2.06-2.06.94zm-11 1L8.5 8.5l.94-2.06 2.06-.94-2.06-.94L8.5 2.5l-.94 2.06-2.06.94zm10 10l.94 2.06.94-2.06 2.06-.94-2.06-.94-.94-2.06-.94 2.06-2.06.94z\"/><path d=\"M17.41 7.96l-1.37-1.37c-.4-.4-.92-.59-1.43-.59-.52 0-1.04.2-1.43.59L10.3 9.45l-7.72 7.72c-.78.78-.78 2.05 0 2.83L4 21.41c.39.39.9.59 1.41.59.51 0 1.02-.2 1.41-.59l7.78-7.78 2.81-2.81c.8-.78.8-2.07 0-2.86zM5.41 20L4 18.59l7.72-7.72 1.47 1.35L5.41 20z\"/>\n",
              "  </svg>\n",
              "      </button>\n",
              "      \n",
              "  <style>\n",
              "    .colab-df-container {\n",
              "      display:flex;\n",
              "      flex-wrap:wrap;\n",
              "      gap: 12px;\n",
              "    }\n",
              "\n",
              "    .colab-df-convert {\n",
              "      background-color: #E8F0FE;\n",
              "      border: none;\n",
              "      border-radius: 50%;\n",
              "      cursor: pointer;\n",
              "      display: none;\n",
              "      fill: #1967D2;\n",
              "      height: 32px;\n",
              "      padding: 0 0 0 0;\n",
              "      width: 32px;\n",
              "    }\n",
              "\n",
              "    .colab-df-convert:hover {\n",
              "      background-color: #E2EBFA;\n",
              "      box-shadow: 0px 1px 2px rgba(60, 64, 67, 0.3), 0px 1px 3px 1px rgba(60, 64, 67, 0.15);\n",
              "      fill: #174EA6;\n",
              "    }\n",
              "\n",
              "    [theme=dark] .colab-df-convert {\n",
              "      background-color: #3B4455;\n",
              "      fill: #D2E3FC;\n",
              "    }\n",
              "\n",
              "    [theme=dark] .colab-df-convert:hover {\n",
              "      background-color: #434B5C;\n",
              "      box-shadow: 0px 1px 3px 1px rgba(0, 0, 0, 0.15);\n",
              "      filter: drop-shadow(0px 1px 2px rgba(0, 0, 0, 0.3));\n",
              "      fill: #FFFFFF;\n",
              "    }\n",
              "  </style>\n",
              "\n",
              "      <script>\n",
              "        const buttonEl =\n",
              "          document.querySelector('#df-7ef49cb4-57b1-46a4-900f-f03e9ead684b button.colab-df-convert');\n",
              "        buttonEl.style.display =\n",
              "          google.colab.kernel.accessAllowed ? 'block' : 'none';\n",
              "\n",
              "        async function convertToInteractive(key) {\n",
              "          const element = document.querySelector('#df-7ef49cb4-57b1-46a4-900f-f03e9ead684b');\n",
              "          const dataTable =\n",
              "            await google.colab.kernel.invokeFunction('convertToInteractive',\n",
              "                                                     [key], {});\n",
              "          if (!dataTable) return;\n",
              "\n",
              "          const docLinkHtml = 'Like what you see? Visit the ' +\n",
              "            '<a target=\"_blank\" href=https://colab.research.google.com/notebooks/data_table.ipynb>data table notebook</a>'\n",
              "            + ' to learn more about interactive tables.';\n",
              "          element.innerHTML = '';\n",
              "          dataTable['output_type'] = 'display_data';\n",
              "          await google.colab.output.renderOutput(dataTable, element);\n",
              "          const docLink = document.createElement('div');\n",
              "          docLink.innerHTML = docLinkHtml;\n",
              "          element.appendChild(docLink);\n",
              "        }\n",
              "      </script>\n",
              "    </div>\n",
              "  </div>\n",
              "  "
            ]
          },
          "metadata": {},
          "execution_count": 69
        }
      ],
      "source": [
        "features_df"
      ]
    },
    {
      "cell_type": "markdown",
      "metadata": {
        "id": "qlj8iK2TCRcH"
      },
      "source": [
        "# Random forest addition for voting based selection"
      ]
    },
    {
      "cell_type": "code",
      "execution_count": 70,
      "metadata": {
        "colab": {
          "base_uri": "https://localhost:8080/"
        },
        "id": "zbHQNireCRcH",
        "outputId": "beb485b4-c393-4b32-994a-c917abed1769"
      },
      "outputs": [
        {
          "output_type": "execute_result",
          "data": {
            "text/plain": [
              "SparseVector(16, {0: 0.0378, 1: 0.0029, 2: 0.0043, 3: 0.4265, 4: 0.0029, 5: 0.0386, 6: 0.029, 7: 0.0066, 8: 0.0025, 9: 0.0019, 11: 0.0115, 12: 0.0015, 13: 0.0254, 14: 0.1585, 15: 0.2501})"
            ]
          },
          "metadata": {},
          "execution_count": 70
        }
      ],
      "source": [
        "from pyspark.ml.classification import RandomForestClassifier\n",
        "\n",
        "rf = RandomForestClassifier(featuresCol='features', labelCol=target_variable_name)\n",
        "rf_model = rf.fit(df)\n",
        "rf_model.featureImportances"
      ]
    },
    {
      "cell_type": "code",
      "execution_count": 71,
      "metadata": {
        "id": "OVd3Mf9UCRcI"
      },
      "outputs": [],
      "source": [
        "#temporary output rf_output\n",
        "rf_output = rf_model.featureImportances\n",
        "features_df['Random Forest'] = features_df['idx'].apply(lambda x: rf_output[x] if x in rf_output.indices else 0)"
      ]
    },
    {
      "cell_type": "code",
      "execution_count": 72,
      "metadata": {
        "id": "E3oCJdpACRcJ"
      },
      "outputs": [],
      "source": [
        "#sort values based on descending importance feature\n",
        "features_df.sort_values(\"Random Forest\", ascending=False, inplace=True)"
      ]
    },
    {
      "cell_type": "code",
      "execution_count": 73,
      "metadata": {
        "colab": {
          "base_uri": "https://localhost:8080/",
          "height": 332
        },
        "id": "sMqf6Q9nCRcK",
        "outputId": "3427b2fc-57fe-4f0c-e7dd-8763b4e1cd30"
      },
      "outputs": [
        {
          "output_type": "execute_result",
          "data": {
            "text/plain": [
              "                                                vals  idx       name  \\\n",
              "8      [unknown, failure, other, success, __unknown]   15   poutcome   \n",
              "7  [may, jul, aug, jun, nov, apr, feb, jan, oct, ...   14      month   \n",
              "6          [cellular, unknown, telephone, __unknown]   13    contact   \n",
              "4                               [yes, no, __unknown]   11    housing   \n",
              "0  [blue-collar, management, technician, admin., ...    7        job   \n",
              "1             [married, single, divorced, __unknown]    8    marital   \n",
              "2  [secondary, tertiary, primary, unknown, __unkn...    9  education   \n",
              "5                               [no, yes, __unknown]   12       loan   \n",
              "3                               [no, yes, __unknown]   10    default   \n",
              "\n",
              "   Decision_Tree  Logistic Regression  Random Forest  \n",
              "8       0.313066             0.618026       0.250116  \n",
              "7       0.118036             0.199362       0.158498  \n",
              "6       0.004910             0.349746       0.025356  \n",
              "4       0.005458             1.221455       0.011549  \n",
              "0       0.000000             0.013310       0.006636  \n",
              "1       0.001700             0.270534       0.002516  \n",
              "2       0.000894             0.018690       0.001924  \n",
              "5       0.000000             0.911572       0.001522  \n",
              "3       0.000000             0.102095       0.000000  "
            ],
            "text/html": [
              "\n",
              "  <div id=\"df-26468e24-e49f-4c2f-b546-0aba0b2a7f5f\">\n",
              "    <div class=\"colab-df-container\">\n",
              "      <div>\n",
              "<style scoped>\n",
              "    .dataframe tbody tr th:only-of-type {\n",
              "        vertical-align: middle;\n",
              "    }\n",
              "\n",
              "    .dataframe tbody tr th {\n",
              "        vertical-align: top;\n",
              "    }\n",
              "\n",
              "    .dataframe thead th {\n",
              "        text-align: right;\n",
              "    }\n",
              "</style>\n",
              "<table border=\"1\" class=\"dataframe\">\n",
              "  <thead>\n",
              "    <tr style=\"text-align: right;\">\n",
              "      <th></th>\n",
              "      <th>vals</th>\n",
              "      <th>idx</th>\n",
              "      <th>name</th>\n",
              "      <th>Decision_Tree</th>\n",
              "      <th>Logistic Regression</th>\n",
              "      <th>Random Forest</th>\n",
              "    </tr>\n",
              "  </thead>\n",
              "  <tbody>\n",
              "    <tr>\n",
              "      <th>8</th>\n",
              "      <td>[unknown, failure, other, success, __unknown]</td>\n",
              "      <td>15</td>\n",
              "      <td>poutcome</td>\n",
              "      <td>0.313066</td>\n",
              "      <td>0.618026</td>\n",
              "      <td>0.250116</td>\n",
              "    </tr>\n",
              "    <tr>\n",
              "      <th>7</th>\n",
              "      <td>[may, jul, aug, jun, nov, apr, feb, jan, oct, ...</td>\n",
              "      <td>14</td>\n",
              "      <td>month</td>\n",
              "      <td>0.118036</td>\n",
              "      <td>0.199362</td>\n",
              "      <td>0.158498</td>\n",
              "    </tr>\n",
              "    <tr>\n",
              "      <th>6</th>\n",
              "      <td>[cellular, unknown, telephone, __unknown]</td>\n",
              "      <td>13</td>\n",
              "      <td>contact</td>\n",
              "      <td>0.004910</td>\n",
              "      <td>0.349746</td>\n",
              "      <td>0.025356</td>\n",
              "    </tr>\n",
              "    <tr>\n",
              "      <th>4</th>\n",
              "      <td>[yes, no, __unknown]</td>\n",
              "      <td>11</td>\n",
              "      <td>housing</td>\n",
              "      <td>0.005458</td>\n",
              "      <td>1.221455</td>\n",
              "      <td>0.011549</td>\n",
              "    </tr>\n",
              "    <tr>\n",
              "      <th>0</th>\n",
              "      <td>[blue-collar, management, technician, admin., ...</td>\n",
              "      <td>7</td>\n",
              "      <td>job</td>\n",
              "      <td>0.000000</td>\n",
              "      <td>0.013310</td>\n",
              "      <td>0.006636</td>\n",
              "    </tr>\n",
              "    <tr>\n",
              "      <th>1</th>\n",
              "      <td>[married, single, divorced, __unknown]</td>\n",
              "      <td>8</td>\n",
              "      <td>marital</td>\n",
              "      <td>0.001700</td>\n",
              "      <td>0.270534</td>\n",
              "      <td>0.002516</td>\n",
              "    </tr>\n",
              "    <tr>\n",
              "      <th>2</th>\n",
              "      <td>[secondary, tertiary, primary, unknown, __unkn...</td>\n",
              "      <td>9</td>\n",
              "      <td>education</td>\n",
              "      <td>0.000894</td>\n",
              "      <td>0.018690</td>\n",
              "      <td>0.001924</td>\n",
              "    </tr>\n",
              "    <tr>\n",
              "      <th>5</th>\n",
              "      <td>[no, yes, __unknown]</td>\n",
              "      <td>12</td>\n",
              "      <td>loan</td>\n",
              "      <td>0.000000</td>\n",
              "      <td>0.911572</td>\n",
              "      <td>0.001522</td>\n",
              "    </tr>\n",
              "    <tr>\n",
              "      <th>3</th>\n",
              "      <td>[no, yes, __unknown]</td>\n",
              "      <td>10</td>\n",
              "      <td>default</td>\n",
              "      <td>0.000000</td>\n",
              "      <td>0.102095</td>\n",
              "      <td>0.000000</td>\n",
              "    </tr>\n",
              "  </tbody>\n",
              "</table>\n",
              "</div>\n",
              "      <button class=\"colab-df-convert\" onclick=\"convertToInteractive('df-26468e24-e49f-4c2f-b546-0aba0b2a7f5f')\"\n",
              "              title=\"Convert this dataframe to an interactive table.\"\n",
              "              style=\"display:none;\">\n",
              "        \n",
              "  <svg xmlns=\"http://www.w3.org/2000/svg\" height=\"24px\"viewBox=\"0 0 24 24\"\n",
              "       width=\"24px\">\n",
              "    <path d=\"M0 0h24v24H0V0z\" fill=\"none\"/>\n",
              "    <path d=\"M18.56 5.44l.94 2.06.94-2.06 2.06-.94-2.06-.94-.94-2.06-.94 2.06-2.06.94zm-11 1L8.5 8.5l.94-2.06 2.06-.94-2.06-.94L8.5 2.5l-.94 2.06-2.06.94zm10 10l.94 2.06.94-2.06 2.06-.94-2.06-.94-.94-2.06-.94 2.06-2.06.94z\"/><path d=\"M17.41 7.96l-1.37-1.37c-.4-.4-.92-.59-1.43-.59-.52 0-1.04.2-1.43.59L10.3 9.45l-7.72 7.72c-.78.78-.78 2.05 0 2.83L4 21.41c.39.39.9.59 1.41.59.51 0 1.02-.2 1.41-.59l7.78-7.78 2.81-2.81c.8-.78.8-2.07 0-2.86zM5.41 20L4 18.59l7.72-7.72 1.47 1.35L5.41 20z\"/>\n",
              "  </svg>\n",
              "      </button>\n",
              "      \n",
              "  <style>\n",
              "    .colab-df-container {\n",
              "      display:flex;\n",
              "      flex-wrap:wrap;\n",
              "      gap: 12px;\n",
              "    }\n",
              "\n",
              "    .colab-df-convert {\n",
              "      background-color: #E8F0FE;\n",
              "      border: none;\n",
              "      border-radius: 50%;\n",
              "      cursor: pointer;\n",
              "      display: none;\n",
              "      fill: #1967D2;\n",
              "      height: 32px;\n",
              "      padding: 0 0 0 0;\n",
              "      width: 32px;\n",
              "    }\n",
              "\n",
              "    .colab-df-convert:hover {\n",
              "      background-color: #E2EBFA;\n",
              "      box-shadow: 0px 1px 2px rgba(60, 64, 67, 0.3), 0px 1px 3px 1px rgba(60, 64, 67, 0.15);\n",
              "      fill: #174EA6;\n",
              "    }\n",
              "\n",
              "    [theme=dark] .colab-df-convert {\n",
              "      background-color: #3B4455;\n",
              "      fill: #D2E3FC;\n",
              "    }\n",
              "\n",
              "    [theme=dark] .colab-df-convert:hover {\n",
              "      background-color: #434B5C;\n",
              "      box-shadow: 0px 1px 3px 1px rgba(0, 0, 0, 0.15);\n",
              "      filter: drop-shadow(0px 1px 2px rgba(0, 0, 0, 0.3));\n",
              "      fill: #FFFFFF;\n",
              "    }\n",
              "  </style>\n",
              "\n",
              "      <script>\n",
              "        const buttonEl =\n",
              "          document.querySelector('#df-26468e24-e49f-4c2f-b546-0aba0b2a7f5f button.colab-df-convert');\n",
              "        buttonEl.style.display =\n",
              "          google.colab.kernel.accessAllowed ? 'block' : 'none';\n",
              "\n",
              "        async function convertToInteractive(key) {\n",
              "          const element = document.querySelector('#df-26468e24-e49f-4c2f-b546-0aba0b2a7f5f');\n",
              "          const dataTable =\n",
              "            await google.colab.kernel.invokeFunction('convertToInteractive',\n",
              "                                                     [key], {});\n",
              "          if (!dataTable) return;\n",
              "\n",
              "          const docLinkHtml = 'Like what you see? Visit the ' +\n",
              "            '<a target=\"_blank\" href=https://colab.research.google.com/notebooks/data_table.ipynb>data table notebook</a>'\n",
              "            + ' to learn more about interactive tables.';\n",
              "          element.innerHTML = '';\n",
              "          dataTable['output_type'] = 'display_data';\n",
              "          await google.colab.output.renderOutput(dataTable, element);\n",
              "          const docLink = document.createElement('div');\n",
              "          docLink.innerHTML = docLinkHtml;\n",
              "          element.appendChild(docLink);\n",
              "        }\n",
              "      </script>\n",
              "    </div>\n",
              "  </div>\n",
              "  "
            ]
          },
          "metadata": {},
          "execution_count": 73
        }
      ],
      "source": [
        "features_df"
      ]
    },
    {
      "cell_type": "markdown",
      "metadata": {
        "id": "COXPi8ZrCRcL"
      },
      "source": [
        "# Voting based selection"
      ]
    },
    {
      "cell_type": "code",
      "execution_count": 74,
      "metadata": {
        "id": "hl9dYwDbCRcL"
      },
      "outputs": [],
      "source": [
        "features_df.drop('idx', axis=1, inplace=True)\n"
      ]
    },
    {
      "cell_type": "code",
      "source": [
        "features_df.columns"
      ],
      "metadata": {
        "colab": {
          "base_uri": "https://localhost:8080/"
        },
        "id": "o5WJC8k0Ljaf",
        "outputId": "040c1266-c004-4ff8-ff2e-d5187d0ec201"
      },
      "execution_count": 86,
      "outputs": [
        {
          "output_type": "execute_result",
          "data": {
            "text/plain": [
              "Index(['vals', 'name', 'Decision_Tree', 'Logistic Regression',\n",
              "       'Random Forest'],\n",
              "      dtype='object')"
            ]
          },
          "metadata": {},
          "execution_count": 86
        }
      ]
    },
    {
      "cell_type": "code",
      "execution_count": 88,
      "metadata": {
        "id": "uX7XkUI8CRcM"
      },
      "outputs": [],
      "source": [
        "num_top_features = 7\n",
        "columns = ['Decision_Tree', 'Logistic Regression', 'Random Forest']\n",
        "balance = pd.DataFrame({},[])\n",
        "balance['name'] = features_df['name']\n",
        "for i in columns:\n",
        "    balance[i] = features_df['name'].isin(list(features_df.nlargest(num_top_features,i)['name'])).astype(int)"
      ]
    },
    {
      "cell_type": "code",
      "execution_count": 90,
      "metadata": {
        "colab": {
          "base_uri": "https://localhost:8080/",
          "height": 49
        },
        "id": "ZIopLUMDCRcN",
        "outputId": "17c7d9cb-7ff9-4012-b1df-b8417af8f425"
      },
      "outputs": [
        {
          "output_type": "execute_result",
          "data": {
            "text/plain": [
              "Empty DataFrame\n",
              "Columns: [final_score]\n",
              "Index: []"
            ],
            "text/html": [
              "\n",
              "  <div id=\"df-6a95919c-1430-4718-a2ee-fa857bf710ca\">\n",
              "    <div class=\"colab-df-container\">\n",
              "      <div>\n",
              "<style scoped>\n",
              "    .dataframe tbody tr th:only-of-type {\n",
              "        vertical-align: middle;\n",
              "    }\n",
              "\n",
              "    .dataframe tbody tr th {\n",
              "        vertical-align: top;\n",
              "    }\n",
              "\n",
              "    .dataframe thead th {\n",
              "        text-align: right;\n",
              "    }\n",
              "</style>\n",
              "<table border=\"1\" class=\"dataframe\">\n",
              "  <thead>\n",
              "    <tr style=\"text-align: right;\">\n",
              "      <th></th>\n",
              "      <th>final_score</th>\n",
              "    </tr>\n",
              "  </thead>\n",
              "  <tbody>\n",
              "  </tbody>\n",
              "</table>\n",
              "</div>\n",
              "      <button class=\"colab-df-convert\" onclick=\"convertToInteractive('df-6a95919c-1430-4718-a2ee-fa857bf710ca')\"\n",
              "              title=\"Convert this dataframe to an interactive table.\"\n",
              "              style=\"display:none;\">\n",
              "        \n",
              "  <svg xmlns=\"http://www.w3.org/2000/svg\" height=\"24px\"viewBox=\"0 0 24 24\"\n",
              "       width=\"24px\">\n",
              "    <path d=\"M0 0h24v24H0V0z\" fill=\"none\"/>\n",
              "    <path d=\"M18.56 5.44l.94 2.06.94-2.06 2.06-.94-2.06-.94-.94-2.06-.94 2.06-2.06.94zm-11 1L8.5 8.5l.94-2.06 2.06-.94-2.06-.94L8.5 2.5l-.94 2.06-2.06.94zm10 10l.94 2.06.94-2.06 2.06-.94-2.06-.94-.94-2.06-.94 2.06-2.06.94z\"/><path d=\"M17.41 7.96l-1.37-1.37c-.4-.4-.92-.59-1.43-.59-.52 0-1.04.2-1.43.59L10.3 9.45l-7.72 7.72c-.78.78-.78 2.05 0 2.83L4 21.41c.39.39.9.59 1.41.59.51 0 1.02-.2 1.41-.59l7.78-7.78 2.81-2.81c.8-.78.8-2.07 0-2.86zM5.41 20L4 18.59l7.72-7.72 1.47 1.35L5.41 20z\"/>\n",
              "  </svg>\n",
              "      </button>\n",
              "      \n",
              "  <style>\n",
              "    .colab-df-container {\n",
              "      display:flex;\n",
              "      flex-wrap:wrap;\n",
              "      gap: 12px;\n",
              "    }\n",
              "\n",
              "    .colab-df-convert {\n",
              "      background-color: #E8F0FE;\n",
              "      border: none;\n",
              "      border-radius: 50%;\n",
              "      cursor: pointer;\n",
              "      display: none;\n",
              "      fill: #1967D2;\n",
              "      height: 32px;\n",
              "      padding: 0 0 0 0;\n",
              "      width: 32px;\n",
              "    }\n",
              "\n",
              "    .colab-df-convert:hover {\n",
              "      background-color: #E2EBFA;\n",
              "      box-shadow: 0px 1px 2px rgba(60, 64, 67, 0.3), 0px 1px 3px 1px rgba(60, 64, 67, 0.15);\n",
              "      fill: #174EA6;\n",
              "    }\n",
              "\n",
              "    [theme=dark] .colab-df-convert {\n",
              "      background-color: #3B4455;\n",
              "      fill: #D2E3FC;\n",
              "    }\n",
              "\n",
              "    [theme=dark] .colab-df-convert:hover {\n",
              "      background-color: #434B5C;\n",
              "      box-shadow: 0px 1px 3px 1px rgba(0, 0, 0, 0.15);\n",
              "      filter: drop-shadow(0px 1px 2px rgba(0, 0, 0, 0.3));\n",
              "      fill: #FFFFFF;\n",
              "    }\n",
              "  </style>\n",
              "\n",
              "      <script>\n",
              "        const buttonEl =\n",
              "          document.querySelector('#df-6a95919c-1430-4718-a2ee-fa857bf710ca button.colab-df-convert');\n",
              "        buttonEl.style.display =\n",
              "          google.colab.kernel.accessAllowed ? 'block' : 'none';\n",
              "\n",
              "        async function convertToInteractive(key) {\n",
              "          const element = document.querySelector('#df-6a95919c-1430-4718-a2ee-fa857bf710ca');\n",
              "          const dataTable =\n",
              "            await google.colab.kernel.invokeFunction('convertToInteractive',\n",
              "                                                     [key], {});\n",
              "          if (!dataTable) return;\n",
              "\n",
              "          const docLinkHtml = 'Like what you see? Visit the ' +\n",
              "            '<a target=\"_blank\" href=https://colab.research.google.com/notebooks/data_table.ipynb>data table notebook</a>'\n",
              "            + ' to learn more about interactive tables.';\n",
              "          element.innerHTML = '';\n",
              "          dataTable['output_type'] = 'display_data';\n",
              "          await google.colab.output.renderOutput(dataTable, element);\n",
              "          const docLink = document.createElement('div');\n",
              "          docLink.innerHTML = docLinkHtml;\n",
              "          element.appendChild(docLink);\n",
              "        }\n",
              "      </script>\n",
              "    </div>\n",
              "  </div>\n",
              "  "
            ]
          },
          "metadata": {},
          "execution_count": 90
        }
      ],
      "source": [
        "score_table['final_score'] = score_table.sum(axis=1)\n",
        "score_table.sort_values('final_score',ascending=0)"
      ]
    }
  ],
  "metadata": {
    "kernelspec": {
      "display_name": "Python 3",
      "language": "python",
      "name": "python3"
    },
    "language_info": {
      "codemirror_mode": {
        "name": "ipython",
        "version": 3
      },
      "file_extension": ".py",
      "mimetype": "text/x-python",
      "name": "python",
      "nbconvert_exporter": "python",
      "pygments_lexer": "ipython3",
      "version": "3.7.6"
    },
    "colab": {
      "provenance": [],
      "include_colab_link": true
    }
  },
  "nbformat": 4,
  "nbformat_minor": 0
}