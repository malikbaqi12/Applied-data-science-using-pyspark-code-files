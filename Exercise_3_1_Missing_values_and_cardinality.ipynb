{
  "cells": [
    {
      "cell_type": "markdown",
      "metadata": {
        "id": "view-in-github",
        "colab_type": "text"
      },
      "source": [
        "<a href=\"https://colab.research.google.com/github/malikbaqi12/Applied-data-science-using-pyspark-code-files/blob/main/Exercise_3_1_Missing_values_and_cardinality.ipynb\" target=\"_parent\"><img src=\"https://colab.research.google.com/assets/colab-badge.svg\" alt=\"Open In Colab\"/></a>"
      ]
    },
    {
      "cell_type": "code",
      "execution_count": 1,
      "metadata": {
        "id": "7XhOds2V25mo"
      },
      "outputs": [],
      "source": [
        "filename = \"melb_data.csv\""
      ]
    },
    {
      "cell_type": "code",
      "source": [
        "!pip install pyspark"
      ],
      "metadata": {
        "colab": {
          "base_uri": "https://localhost:8080/"
        },
        "id": "gfYMmc4z3kN4",
        "outputId": "fde7c853-c18e-4e3c-d8f7-c744723d63d9"
      },
      "execution_count": 2,
      "outputs": [
        {
          "output_type": "stream",
          "name": "stdout",
          "text": [
            "Looking in indexes: https://pypi.org/simple, https://us-python.pkg.dev/colab-wheels/public/simple/\n",
            "Collecting pyspark\n",
            "  Downloading pyspark-3.4.0.tar.gz (310.8 MB)\n",
            "\u001b[2K     \u001b[90m━━━━━━━━━━━━━━━━━━━━━━━━━━━━━━━━━━━━━━━\u001b[0m \u001b[32m310.8/310.8 MB\u001b[0m \u001b[31m4.7 MB/s\u001b[0m eta \u001b[36m0:00:00\u001b[0m\n",
            "\u001b[?25h  Preparing metadata (setup.py) ... \u001b[?25l\u001b[?25hdone\n",
            "Requirement already satisfied: py4j==0.10.9.7 in /usr/local/lib/python3.10/dist-packages (from pyspark) (0.10.9.7)\n",
            "Building wheels for collected packages: pyspark\n",
            "  Building wheel for pyspark (setup.py) ... \u001b[?25l\u001b[?25hdone\n",
            "  Created wheel for pyspark: filename=pyspark-3.4.0-py2.py3-none-any.whl size=311317145 sha256=50d9b39c10c81b4fb360922b8bd11f368a7b3b51e3ff3dbac3fb7b2fe01d5560\n",
            "  Stored in directory: /root/.cache/pip/wheels/7b/1b/4b/3363a1d04368e7ff0d408e57ff57966fcdf00583774e761327\n",
            "Successfully built pyspark\n",
            "Installing collected packages: pyspark\n",
            "Successfully installed pyspark-3.4.0\n"
          ]
        }
      ]
    },
    {
      "cell_type": "code",
      "execution_count": 4,
      "metadata": {
        "colab": {
          "base_uri": "https://localhost:8080/"
        },
        "id": "h2e-gctq25m2",
        "outputId": "cb73f1f0-fa80-4d19-d218-802bf834d5d6"
      },
      "outputs": [
        {
          "output_type": "stream",
          "name": "stdout",
          "text": [
            "+----------+-------------------+-----+----+---------+------+-------+----------+--------+--------+--------+--------+---+--------+------------+---------+-----------+---------+----------+--------------------+-------------+\n",
            "|    Suburb|            Address|Rooms|Type|    Price|Method|SellerG|      Date|Distance|Postcode|Bedroom2|Bathroom|Car|Landsize|BuildingArea|YearBuilt|CouncilArea|Lattitude|Longtitude|          Regionname|Propertycount|\n",
            "+----------+-------------------+-----+----+---------+------+-------+----------+--------+--------+--------+--------+---+--------+------------+---------+-----------+---------+----------+--------------------+-------------+\n",
            "|Abbotsford|       85 Turner St|    2|   h|1480000.0|     S| Biggin| 3/12/2016|     2.5|  3067.0|     2.0|     1.0|1.0|   202.0|        null|     null|      Yarra| -37.7996|  144.9984|Northern Metropol...|       4019.0|\n",
            "|Abbotsford|    25 Bloomburg St|    2|   h|1035000.0|     S| Biggin| 4/02/2016|     2.5|  3067.0|     2.0|     1.0|0.0|   156.0|        79.0|   1900.0|      Yarra| -37.8079|  144.9934|Northern Metropol...|       4019.0|\n",
            "|Abbotsford|       5 Charles St|    3|   h|1465000.0|    SP| Biggin| 4/03/2017|     2.5|  3067.0|     3.0|     2.0|0.0|   134.0|       150.0|   1900.0|      Yarra| -37.8093|  144.9944|Northern Metropol...|       4019.0|\n",
            "|Abbotsford|   40 Federation La|    3|   h| 850000.0|    PI| Biggin| 4/03/2017|     2.5|  3067.0|     3.0|     2.0|1.0|    94.0|        null|     null|      Yarra| -37.7969|  144.9969|Northern Metropol...|       4019.0|\n",
            "|Abbotsford|        55a Park St|    4|   h|1600000.0|    VB| Nelson| 4/06/2016|     2.5|  3067.0|     3.0|     1.0|2.0|   120.0|       142.0|   2014.0|      Yarra| -37.8072|  144.9941|Northern Metropol...|       4019.0|\n",
            "|Abbotsford|     129 Charles St|    2|   h| 941000.0|     S| Jellis| 7/05/2016|     2.5|  3067.0|     2.0|     1.0|0.0|   181.0|        null|     null|      Yarra| -37.8041|  144.9953|Northern Metropol...|       4019.0|\n",
            "|Abbotsford|       124 Yarra St|    3|   h|1876000.0|     S| Nelson| 7/05/2016|     2.5|  3067.0|     4.0|     2.0|0.0|   245.0|       210.0|   1910.0|      Yarra| -37.8024|  144.9993|Northern Metropol...|       4019.0|\n",
            "|Abbotsford|      98 Charles St|    2|   h|1636000.0|     S| Nelson| 8/10/2016|     2.5|  3067.0|     2.0|     1.0|2.0|   256.0|       107.0|   1890.0|      Yarra|  -37.806|  144.9954|Northern Metropol...|       4019.0|\n",
            "|Abbotsford| 6/241 Nicholson St|    1|   u| 300000.0|     S| Biggin| 8/10/2016|     2.5|  3067.0|     1.0|     1.0|1.0|     0.0|        null|     null|      Yarra| -37.8008|  144.9973|Northern Metropol...|       4019.0|\n",
            "|Abbotsford|      10 Valiant St|    2|   h|1097000.0|     S| Biggin| 8/10/2016|     2.5|  3067.0|     3.0|     1.0|2.0|   220.0|        75.0|   1900.0|      Yarra|  -37.801|  144.9989|Northern Metropol...|       4019.0|\n",
            "|Abbotsford| 411/8 Grosvenor St|    2|   u| 700000.0|    VB| Jellis|12/11/2016|     2.5|  3067.0|     2.0|     2.0|1.0|     0.0|        null|     null|      Yarra|  -37.811|  145.0067|Northern Metropol...|       4019.0|\n",
            "|Abbotsford|    40 Nicholson St|    3|   h|1350000.0|    VB| Nelson|12/11/2016|     2.5|  3067.0|     3.0|     2.0|2.0|   214.0|       190.0|   2005.0|      Yarra| -37.8085|  144.9964|Northern Metropol...|       4019.0|\n",
            "|Abbotsford|123/56 Nicholson St|    2|   u| 750000.0|     S| Biggin|12/11/2016|     2.5|  3067.0|     2.0|     2.0|1.0|     0.0|        94.0|   2009.0|      Yarra| -37.8078|  144.9965|Northern Metropol...|       4019.0|\n",
            "|Abbotsford|      45 William St|    2|   h|1172500.0|     S| Biggin|13/08/2016|     2.5|  3067.0|     2.0|     1.0|1.0|   195.0|        null|     null|      Yarra| -37.8084|  144.9973|Northern Metropol...|       4019.0|\n",
            "|Abbotsford| 7/20 Abbotsford St|    1|   u| 441000.0|    SP|   Greg|14/05/2016|     2.5|  3067.0|     1.0|     1.0|1.0|     0.0|        null|     null|      Yarra| -37.8016|  144.9988|Northern Metropol...|       4019.0|\n",
            "|Abbotsford|      16 William St|    2|   h|1310000.0|     S| Jellis|15/10/2016|     2.5|  3067.0|     2.0|     1.0|2.0|   238.0|        97.0|   1890.0|      Yarra|  -37.809|  144.9976|Northern Metropol...|       4019.0|\n",
            "|Abbotsford|        42 Henry St|    3|   h|1200000.0|     S| Jellis|16/07/2016|     2.5|  3067.0|     3.0|     2.0|1.0|   113.0|       110.0|   1880.0|      Yarra| -37.8056|   144.993|Northern Metropol...|       4019.0|\n",
            "|Abbotsford|        78 Yarra St|    3|   h|1176500.0|     S| LITTLE|16/07/2016|     2.5|  3067.0|     2.0|     1.0|1.0|   138.0|       105.0|   1890.0|      Yarra| -37.8021|  144.9965|Northern Metropol...|       4019.0|\n",
            "|Abbotsford|   196 Nicholson St|    3|   h| 955000.0|     S|Collins|17/09/2016|     2.5|  3067.0|     3.0|     1.0|0.0|   183.0|        null|     null|      Yarra| -37.8022|  144.9975|Northern Metropol...|       4019.0|\n",
            "|Abbotsford|      42 Valiant St|    2|   h| 890000.0|     S| Biggin|17/09/2016|     2.5|  3067.0|     2.0|     1.0|1.0|   150.0|        73.0|   1985.0|      Yarra| -37.8011|  145.0004|Northern Metropol...|       4019.0|\n",
            "+----------+-------------------+-----+----+---------+------+-------+----------+--------+--------+--------+--------+---+--------+------------+---------+-----------+---------+----------+--------------------+-------------+\n",
            "only showing top 20 rows\n",
            "\n"
          ]
        }
      ],
      "source": [
        "from pyspark.sql import SparkSession\n",
        "spark = SparkSession.builder.getOrCreate()\n",
        "df = spark.read.csv(filename, header=True, inferSchema=True, sep=',')\n",
        "df.show()"
      ]
    },
    {
      "cell_type": "code",
      "execution_count": 5,
      "metadata": {
        "colab": {
          "base_uri": "https://localhost:8080/",
          "height": 352
        },
        "id": "foquVYwn25m5",
        "outputId": "24e8ff80-183a-4848-8b72-aa0347880682"
      },
      "outputs": [
        {
          "output_type": "execute_result",
          "data": {
            "text/plain": [
              "  summary      Suburb        Address               Rooms   Type  \\\n",
              "0   count       13580          13580               13580  13580   \n",
              "1    mean        None           None     2.9379970544919   None   \n",
              "2  stddev        None           None  0.9557479384215565   None   \n",
              "3     min  Abbotsford    1 Adelle Ct                   1      h   \n",
              "4     max  Yarraville  9b Stewart St                  10      u   \n",
              "\n",
              "               Price Method  SellerG       Date            Distance  ...  \\\n",
              "0              13580  13580    13580      13580               13580  ...   \n",
              "1  1075684.079455081   None     None       None  10.137776141384117  ...   \n",
              "2  639310.7242960163   None     None       None   5.868724943071715  ...   \n",
              "3            85000.0     PI  @Realty  1/07/2017                 0.0  ...   \n",
              "4          9000000.0     VB    iTRAK  9/09/2017                48.1  ...   \n",
              "\n",
              "             Bathroom                 Car           Landsize  \\\n",
              "0               13580               13518              13580   \n",
              "1  1.5342415316642122  1.6100754549489569  558.4161266568483   \n",
              "2  0.6917117224588424   0.962633519245631  3990.669241109034   \n",
              "3                 0.0                 0.0                0.0   \n",
              "4                 8.0                10.0           433014.0   \n",
              "\n",
              "         BuildingArea           YearBuilt   CouncilArea            Lattitude  \\\n",
              "0                7130                8205         12211                13580   \n",
              "1  151.96764988779805  1964.6842169408897          None  -37.809202733431505   \n",
              "2   541.0145376263513   37.27376222396062          None  0.07925982260355832   \n",
              "3                 0.0              1196.0       Banyule            -38.18255   \n",
              "4             44515.0              2018.0  Yarra Ranges            -37.40853   \n",
              "\n",
              "            Longtitude            Regionname      Propertycount  \n",
              "0                13580                 13580              13580  \n",
              "1   144.99521618777578                  None  7454.417378497791  \n",
              "2  0.10391556140730973                  None  4378.581771795497  \n",
              "3            144.43181  Eastern Metropolitan              249.0  \n",
              "4            145.52635      Western Victoria            21650.0  \n",
              "\n",
              "[5 rows x 22 columns]"
            ],
            "text/html": [
              "\n",
              "  <div id=\"df-295091b6-08b7-4aaa-956a-4873690daab8\">\n",
              "    <div class=\"colab-df-container\">\n",
              "      <div>\n",
              "<style scoped>\n",
              "    .dataframe tbody tr th:only-of-type {\n",
              "        vertical-align: middle;\n",
              "    }\n",
              "\n",
              "    .dataframe tbody tr th {\n",
              "        vertical-align: top;\n",
              "    }\n",
              "\n",
              "    .dataframe thead th {\n",
              "        text-align: right;\n",
              "    }\n",
              "</style>\n",
              "<table border=\"1\" class=\"dataframe\">\n",
              "  <thead>\n",
              "    <tr style=\"text-align: right;\">\n",
              "      <th></th>\n",
              "      <th>summary</th>\n",
              "      <th>Suburb</th>\n",
              "      <th>Address</th>\n",
              "      <th>Rooms</th>\n",
              "      <th>Type</th>\n",
              "      <th>Price</th>\n",
              "      <th>Method</th>\n",
              "      <th>SellerG</th>\n",
              "      <th>Date</th>\n",
              "      <th>Distance</th>\n",
              "      <th>...</th>\n",
              "      <th>Bathroom</th>\n",
              "      <th>Car</th>\n",
              "      <th>Landsize</th>\n",
              "      <th>BuildingArea</th>\n",
              "      <th>YearBuilt</th>\n",
              "      <th>CouncilArea</th>\n",
              "      <th>Lattitude</th>\n",
              "      <th>Longtitude</th>\n",
              "      <th>Regionname</th>\n",
              "      <th>Propertycount</th>\n",
              "    </tr>\n",
              "  </thead>\n",
              "  <tbody>\n",
              "    <tr>\n",
              "      <th>0</th>\n",
              "      <td>count</td>\n",
              "      <td>13580</td>\n",
              "      <td>13580</td>\n",
              "      <td>13580</td>\n",
              "      <td>13580</td>\n",
              "      <td>13580</td>\n",
              "      <td>13580</td>\n",
              "      <td>13580</td>\n",
              "      <td>13580</td>\n",
              "      <td>13580</td>\n",
              "      <td>...</td>\n",
              "      <td>13580</td>\n",
              "      <td>13518</td>\n",
              "      <td>13580</td>\n",
              "      <td>7130</td>\n",
              "      <td>8205</td>\n",
              "      <td>12211</td>\n",
              "      <td>13580</td>\n",
              "      <td>13580</td>\n",
              "      <td>13580</td>\n",
              "      <td>13580</td>\n",
              "    </tr>\n",
              "    <tr>\n",
              "      <th>1</th>\n",
              "      <td>mean</td>\n",
              "      <td>None</td>\n",
              "      <td>None</td>\n",
              "      <td>2.9379970544919</td>\n",
              "      <td>None</td>\n",
              "      <td>1075684.079455081</td>\n",
              "      <td>None</td>\n",
              "      <td>None</td>\n",
              "      <td>None</td>\n",
              "      <td>10.137776141384117</td>\n",
              "      <td>...</td>\n",
              "      <td>1.5342415316642122</td>\n",
              "      <td>1.6100754549489569</td>\n",
              "      <td>558.4161266568483</td>\n",
              "      <td>151.96764988779805</td>\n",
              "      <td>1964.6842169408897</td>\n",
              "      <td>None</td>\n",
              "      <td>-37.809202733431505</td>\n",
              "      <td>144.99521618777578</td>\n",
              "      <td>None</td>\n",
              "      <td>7454.417378497791</td>\n",
              "    </tr>\n",
              "    <tr>\n",
              "      <th>2</th>\n",
              "      <td>stddev</td>\n",
              "      <td>None</td>\n",
              "      <td>None</td>\n",
              "      <td>0.9557479384215565</td>\n",
              "      <td>None</td>\n",
              "      <td>639310.7242960163</td>\n",
              "      <td>None</td>\n",
              "      <td>None</td>\n",
              "      <td>None</td>\n",
              "      <td>5.868724943071715</td>\n",
              "      <td>...</td>\n",
              "      <td>0.6917117224588424</td>\n",
              "      <td>0.962633519245631</td>\n",
              "      <td>3990.669241109034</td>\n",
              "      <td>541.0145376263513</td>\n",
              "      <td>37.27376222396062</td>\n",
              "      <td>None</td>\n",
              "      <td>0.07925982260355832</td>\n",
              "      <td>0.10391556140730973</td>\n",
              "      <td>None</td>\n",
              "      <td>4378.581771795497</td>\n",
              "    </tr>\n",
              "    <tr>\n",
              "      <th>3</th>\n",
              "      <td>min</td>\n",
              "      <td>Abbotsford</td>\n",
              "      <td>1 Adelle Ct</td>\n",
              "      <td>1</td>\n",
              "      <td>h</td>\n",
              "      <td>85000.0</td>\n",
              "      <td>PI</td>\n",
              "      <td>@Realty</td>\n",
              "      <td>1/07/2017</td>\n",
              "      <td>0.0</td>\n",
              "      <td>...</td>\n",
              "      <td>0.0</td>\n",
              "      <td>0.0</td>\n",
              "      <td>0.0</td>\n",
              "      <td>0.0</td>\n",
              "      <td>1196.0</td>\n",
              "      <td>Banyule</td>\n",
              "      <td>-38.18255</td>\n",
              "      <td>144.43181</td>\n",
              "      <td>Eastern Metropolitan</td>\n",
              "      <td>249.0</td>\n",
              "    </tr>\n",
              "    <tr>\n",
              "      <th>4</th>\n",
              "      <td>max</td>\n",
              "      <td>Yarraville</td>\n",
              "      <td>9b Stewart St</td>\n",
              "      <td>10</td>\n",
              "      <td>u</td>\n",
              "      <td>9000000.0</td>\n",
              "      <td>VB</td>\n",
              "      <td>iTRAK</td>\n",
              "      <td>9/09/2017</td>\n",
              "      <td>48.1</td>\n",
              "      <td>...</td>\n",
              "      <td>8.0</td>\n",
              "      <td>10.0</td>\n",
              "      <td>433014.0</td>\n",
              "      <td>44515.0</td>\n",
              "      <td>2018.0</td>\n",
              "      <td>Yarra Ranges</td>\n",
              "      <td>-37.40853</td>\n",
              "      <td>145.52635</td>\n",
              "      <td>Western Victoria</td>\n",
              "      <td>21650.0</td>\n",
              "    </tr>\n",
              "  </tbody>\n",
              "</table>\n",
              "<p>5 rows × 22 columns</p>\n",
              "</div>\n",
              "      <button class=\"colab-df-convert\" onclick=\"convertToInteractive('df-295091b6-08b7-4aaa-956a-4873690daab8')\"\n",
              "              title=\"Convert this dataframe to an interactive table.\"\n",
              "              style=\"display:none;\">\n",
              "        \n",
              "  <svg xmlns=\"http://www.w3.org/2000/svg\" height=\"24px\"viewBox=\"0 0 24 24\"\n",
              "       width=\"24px\">\n",
              "    <path d=\"M0 0h24v24H0V0z\" fill=\"none\"/>\n",
              "    <path d=\"M18.56 5.44l.94 2.06.94-2.06 2.06-.94-2.06-.94-.94-2.06-.94 2.06-2.06.94zm-11 1L8.5 8.5l.94-2.06 2.06-.94-2.06-.94L8.5 2.5l-.94 2.06-2.06.94zm10 10l.94 2.06.94-2.06 2.06-.94-2.06-.94-.94-2.06-.94 2.06-2.06.94z\"/><path d=\"M17.41 7.96l-1.37-1.37c-.4-.4-.92-.59-1.43-.59-.52 0-1.04.2-1.43.59L10.3 9.45l-7.72 7.72c-.78.78-.78 2.05 0 2.83L4 21.41c.39.39.9.59 1.41.59.51 0 1.02-.2 1.41-.59l7.78-7.78 2.81-2.81c.8-.78.8-2.07 0-2.86zM5.41 20L4 18.59l7.72-7.72 1.47 1.35L5.41 20z\"/>\n",
              "  </svg>\n",
              "      </button>\n",
              "      \n",
              "  <style>\n",
              "    .colab-df-container {\n",
              "      display:flex;\n",
              "      flex-wrap:wrap;\n",
              "      gap: 12px;\n",
              "    }\n",
              "\n",
              "    .colab-df-convert {\n",
              "      background-color: #E8F0FE;\n",
              "      border: none;\n",
              "      border-radius: 50%;\n",
              "      cursor: pointer;\n",
              "      display: none;\n",
              "      fill: #1967D2;\n",
              "      height: 32px;\n",
              "      padding: 0 0 0 0;\n",
              "      width: 32px;\n",
              "    }\n",
              "\n",
              "    .colab-df-convert:hover {\n",
              "      background-color: #E2EBFA;\n",
              "      box-shadow: 0px 1px 2px rgba(60, 64, 67, 0.3), 0px 1px 3px 1px rgba(60, 64, 67, 0.15);\n",
              "      fill: #174EA6;\n",
              "    }\n",
              "\n",
              "    [theme=dark] .colab-df-convert {\n",
              "      background-color: #3B4455;\n",
              "      fill: #D2E3FC;\n",
              "    }\n",
              "\n",
              "    [theme=dark] .colab-df-convert:hover {\n",
              "      background-color: #434B5C;\n",
              "      box-shadow: 0px 1px 3px 1px rgba(0, 0, 0, 0.15);\n",
              "      filter: drop-shadow(0px 1px 2px rgba(0, 0, 0, 0.3));\n",
              "      fill: #FFFFFF;\n",
              "    }\n",
              "  </style>\n",
              "\n",
              "      <script>\n",
              "        const buttonEl =\n",
              "          document.querySelector('#df-295091b6-08b7-4aaa-956a-4873690daab8 button.colab-df-convert');\n",
              "        buttonEl.style.display =\n",
              "          google.colab.kernel.accessAllowed ? 'block' : 'none';\n",
              "\n",
              "        async function convertToInteractive(key) {\n",
              "          const element = document.querySelector('#df-295091b6-08b7-4aaa-956a-4873690daab8');\n",
              "          const dataTable =\n",
              "            await google.colab.kernel.invokeFunction('convertToInteractive',\n",
              "                                                     [key], {});\n",
              "          if (!dataTable) return;\n",
              "\n",
              "          const docLinkHtml = 'Like what you see? Visit the ' +\n",
              "            '<a target=\"_blank\" href=https://colab.research.google.com/notebooks/data_table.ipynb>data table notebook</a>'\n",
              "            + ' to learn more about interactive tables.';\n",
              "          element.innerHTML = '';\n",
              "          dataTable['output_type'] = 'display_data';\n",
              "          await google.colab.output.renderOutput(dataTable, element);\n",
              "          const docLink = document.createElement('div');\n",
              "          docLink.innerHTML = docLinkHtml;\n",
              "          element.appendChild(docLink);\n",
              "        }\n",
              "      </script>\n",
              "    </div>\n",
              "  </div>\n",
              "  "
            ]
          },
          "metadata": {},
          "execution_count": 5
        }
      ],
      "source": [
        "df.describe().toPandas()"
      ]
    },
    {
      "cell_type": "code",
      "execution_count": null,
      "metadata": {
        "id": "H5Anf7p525m9",
        "outputId": "85ccbb17-6397-47c4-e39f-2d2e5987b190"
      },
      "outputs": [
        {
          "name": "stdout",
          "output_type": "stream",
          "text": [
            "root\n",
            " |-- Suburb: string (nullable = true)\n",
            " |-- Address: string (nullable = true)\n",
            " |-- Rooms: integer (nullable = true)\n",
            " |-- Type: string (nullable = true)\n",
            " |-- Price: double (nullable = true)\n",
            " |-- Method: string (nullable = true)\n",
            " |-- SellerG: string (nullable = true)\n",
            " |-- Date: string (nullable = true)\n",
            " |-- Distance: double (nullable = true)\n",
            " |-- Postcode: double (nullable = true)\n",
            " |-- Bedroom2: double (nullable = true)\n",
            " |-- Bathroom: double (nullable = true)\n",
            " |-- Car: double (nullable = true)\n",
            " |-- Landsize: double (nullable = true)\n",
            " |-- BuildingArea: double (nullable = true)\n",
            " |-- YearBuilt: double (nullable = true)\n",
            " |-- CouncilArea: string (nullable = true)\n",
            " |-- Lattitude: double (nullable = true)\n",
            " |-- Longtitude: double (nullable = true)\n",
            " |-- Regionname: string (nullable = true)\n",
            " |-- Propertycount: double (nullable = true)\n",
            "\n"
          ]
        }
      ],
      "source": [
        "df.printSchema()"
      ]
    },
    {
      "cell_type": "markdown",
      "metadata": {
        "id": "_nP1gwiE25m-"
      },
      "source": [
        "# Question 1: Calculate the cardinality for each variable in the dataset. Can you reject any variables based on cardinality? (Hint: Look for cardinality of 1)"
      ]
    },
    {
      "cell_type": "code",
      "execution_count": 6,
      "metadata": {
        "id": "HSTV30oS25nC"
      },
      "outputs": [],
      "source": [
        "from pyspark.sql.functions import approxCountDistinct, countDistinct\n",
        "\n",
        "\"\"\"\n",
        "Note: approxCountDistinct and countDistinct can be used interchangeably. Only difference is the computation time. \n",
        "\n",
        "\"approxCountDistinct\" is useful for large datasets \n",
        "\"countDistinct\" for small and medium datasets.\n",
        "\n",
        "\"\"\"\n",
        "\n",
        "def cardinality_calculation(df, cut_off=1):\n",
        "    cardinality = df.select(*[approxCountDistinct(c).alias(c) for c in df.columns])\n",
        "    \n",
        "    ## convert to pandas for efficient calculations\n",
        "    final_cardinality_df = cardinality.toPandas().transpose()\n",
        "    final_cardinality_df.reset_index(inplace=True) \n",
        "    final_cardinality_df.rename(columns={0:'Cardinality'}, inplace=True) \n",
        "    \n",
        "    #select variables with cardinality of 1\n",
        "    vars_selected = final_cardinality_df['index'][final_cardinality_df['Cardinality'] <= cut_off] \n",
        "    \n",
        "    return final_cardinality_df, vars_selected"
      ]
    },
    {
      "cell_type": "code",
      "execution_count": 7,
      "metadata": {
        "colab": {
          "base_uri": "https://localhost:8080/"
        },
        "id": "15tF8Qe-25nE",
        "outputId": "7fc0dad3-a0aa-4e0d-dbe7-565ea00b98ab"
      },
      "outputs": [
        {
          "output_type": "stream",
          "name": "stderr",
          "text": [
            "/usr/local/lib/python3.10/dist-packages/pyspark/sql/functions.py:2610: FutureWarning: Deprecated in 2.1, use approx_count_distinct instead.\n",
            "  warnings.warn(\"Deprecated in 2.1, use approx_count_distinct instead.\", FutureWarning)\n"
          ]
        }
      ],
      "source": [
        "cardinality_df, cardinality_vars_selected = cardinality_calculation(df)"
      ]
    },
    {
      "cell_type": "code",
      "execution_count": 8,
      "metadata": {
        "colab": {
          "base_uri": "https://localhost:8080/",
          "height": 708
        },
        "id": "y4bE9lIB25nG",
        "outputId": "d0ee9aaa-3d9f-4d82-9184-0c29ab3ff422"
      },
      "outputs": [
        {
          "output_type": "execute_result",
          "data": {
            "text/plain": [
              "            index  Cardinality\n",
              "0          Suburb          318\n",
              "1         Address        14421\n",
              "2           Rooms            9\n",
              "3            Type            3\n",
              "4           Price         2328\n",
              "5          Method            5\n",
              "6         SellerG          277\n",
              "7            Date           58\n",
              "8        Distance          207\n",
              "9        Postcode          207\n",
              "10       Bedroom2           12\n",
              "11       Bathroom            9\n",
              "12            Car           11\n",
              "13       Landsize         1432\n",
              "14   BuildingArea          599\n",
              "15      YearBuilt          145\n",
              "16    CouncilArea           34\n",
              "17      Lattitude         6297\n",
              "18     Longtitude         7057\n",
              "19     Regionname            8\n",
              "20  Propertycount          313"
            ],
            "text/html": [
              "\n",
              "  <div id=\"df-222669c8-6bf2-4419-8c88-bf783053ae64\">\n",
              "    <div class=\"colab-df-container\">\n",
              "      <div>\n",
              "<style scoped>\n",
              "    .dataframe tbody tr th:only-of-type {\n",
              "        vertical-align: middle;\n",
              "    }\n",
              "\n",
              "    .dataframe tbody tr th {\n",
              "        vertical-align: top;\n",
              "    }\n",
              "\n",
              "    .dataframe thead th {\n",
              "        text-align: right;\n",
              "    }\n",
              "</style>\n",
              "<table border=\"1\" class=\"dataframe\">\n",
              "  <thead>\n",
              "    <tr style=\"text-align: right;\">\n",
              "      <th></th>\n",
              "      <th>index</th>\n",
              "      <th>Cardinality</th>\n",
              "    </tr>\n",
              "  </thead>\n",
              "  <tbody>\n",
              "    <tr>\n",
              "      <th>0</th>\n",
              "      <td>Suburb</td>\n",
              "      <td>318</td>\n",
              "    </tr>\n",
              "    <tr>\n",
              "      <th>1</th>\n",
              "      <td>Address</td>\n",
              "      <td>14421</td>\n",
              "    </tr>\n",
              "    <tr>\n",
              "      <th>2</th>\n",
              "      <td>Rooms</td>\n",
              "      <td>9</td>\n",
              "    </tr>\n",
              "    <tr>\n",
              "      <th>3</th>\n",
              "      <td>Type</td>\n",
              "      <td>3</td>\n",
              "    </tr>\n",
              "    <tr>\n",
              "      <th>4</th>\n",
              "      <td>Price</td>\n",
              "      <td>2328</td>\n",
              "    </tr>\n",
              "    <tr>\n",
              "      <th>5</th>\n",
              "      <td>Method</td>\n",
              "      <td>5</td>\n",
              "    </tr>\n",
              "    <tr>\n",
              "      <th>6</th>\n",
              "      <td>SellerG</td>\n",
              "      <td>277</td>\n",
              "    </tr>\n",
              "    <tr>\n",
              "      <th>7</th>\n",
              "      <td>Date</td>\n",
              "      <td>58</td>\n",
              "    </tr>\n",
              "    <tr>\n",
              "      <th>8</th>\n",
              "      <td>Distance</td>\n",
              "      <td>207</td>\n",
              "    </tr>\n",
              "    <tr>\n",
              "      <th>9</th>\n",
              "      <td>Postcode</td>\n",
              "      <td>207</td>\n",
              "    </tr>\n",
              "    <tr>\n",
              "      <th>10</th>\n",
              "      <td>Bedroom2</td>\n",
              "      <td>12</td>\n",
              "    </tr>\n",
              "    <tr>\n",
              "      <th>11</th>\n",
              "      <td>Bathroom</td>\n",
              "      <td>9</td>\n",
              "    </tr>\n",
              "    <tr>\n",
              "      <th>12</th>\n",
              "      <td>Car</td>\n",
              "      <td>11</td>\n",
              "    </tr>\n",
              "    <tr>\n",
              "      <th>13</th>\n",
              "      <td>Landsize</td>\n",
              "      <td>1432</td>\n",
              "    </tr>\n",
              "    <tr>\n",
              "      <th>14</th>\n",
              "      <td>BuildingArea</td>\n",
              "      <td>599</td>\n",
              "    </tr>\n",
              "    <tr>\n",
              "      <th>15</th>\n",
              "      <td>YearBuilt</td>\n",
              "      <td>145</td>\n",
              "    </tr>\n",
              "    <tr>\n",
              "      <th>16</th>\n",
              "      <td>CouncilArea</td>\n",
              "      <td>34</td>\n",
              "    </tr>\n",
              "    <tr>\n",
              "      <th>17</th>\n",
              "      <td>Lattitude</td>\n",
              "      <td>6297</td>\n",
              "    </tr>\n",
              "    <tr>\n",
              "      <th>18</th>\n",
              "      <td>Longtitude</td>\n",
              "      <td>7057</td>\n",
              "    </tr>\n",
              "    <tr>\n",
              "      <th>19</th>\n",
              "      <td>Regionname</td>\n",
              "      <td>8</td>\n",
              "    </tr>\n",
              "    <tr>\n",
              "      <th>20</th>\n",
              "      <td>Propertycount</td>\n",
              "      <td>313</td>\n",
              "    </tr>\n",
              "  </tbody>\n",
              "</table>\n",
              "</div>\n",
              "      <button class=\"colab-df-convert\" onclick=\"convertToInteractive('df-222669c8-6bf2-4419-8c88-bf783053ae64')\"\n",
              "              title=\"Convert this dataframe to an interactive table.\"\n",
              "              style=\"display:none;\">\n",
              "        \n",
              "  <svg xmlns=\"http://www.w3.org/2000/svg\" height=\"24px\"viewBox=\"0 0 24 24\"\n",
              "       width=\"24px\">\n",
              "    <path d=\"M0 0h24v24H0V0z\" fill=\"none\"/>\n",
              "    <path d=\"M18.56 5.44l.94 2.06.94-2.06 2.06-.94-2.06-.94-.94-2.06-.94 2.06-2.06.94zm-11 1L8.5 8.5l.94-2.06 2.06-.94-2.06-.94L8.5 2.5l-.94 2.06-2.06.94zm10 10l.94 2.06.94-2.06 2.06-.94-2.06-.94-.94-2.06-.94 2.06-2.06.94z\"/><path d=\"M17.41 7.96l-1.37-1.37c-.4-.4-.92-.59-1.43-.59-.52 0-1.04.2-1.43.59L10.3 9.45l-7.72 7.72c-.78.78-.78 2.05 0 2.83L4 21.41c.39.39.9.59 1.41.59.51 0 1.02-.2 1.41-.59l7.78-7.78 2.81-2.81c.8-.78.8-2.07 0-2.86zM5.41 20L4 18.59l7.72-7.72 1.47 1.35L5.41 20z\"/>\n",
              "  </svg>\n",
              "      </button>\n",
              "      \n",
              "  <style>\n",
              "    .colab-df-container {\n",
              "      display:flex;\n",
              "      flex-wrap:wrap;\n",
              "      gap: 12px;\n",
              "    }\n",
              "\n",
              "    .colab-df-convert {\n",
              "      background-color: #E8F0FE;\n",
              "      border: none;\n",
              "      border-radius: 50%;\n",
              "      cursor: pointer;\n",
              "      display: none;\n",
              "      fill: #1967D2;\n",
              "      height: 32px;\n",
              "      padding: 0 0 0 0;\n",
              "      width: 32px;\n",
              "    }\n",
              "\n",
              "    .colab-df-convert:hover {\n",
              "      background-color: #E2EBFA;\n",
              "      box-shadow: 0px 1px 2px rgba(60, 64, 67, 0.3), 0px 1px 3px 1px rgba(60, 64, 67, 0.15);\n",
              "      fill: #174EA6;\n",
              "    }\n",
              "\n",
              "    [theme=dark] .colab-df-convert {\n",
              "      background-color: #3B4455;\n",
              "      fill: #D2E3FC;\n",
              "    }\n",
              "\n",
              "    [theme=dark] .colab-df-convert:hover {\n",
              "      background-color: #434B5C;\n",
              "      box-shadow: 0px 1px 3px 1px rgba(0, 0, 0, 0.15);\n",
              "      filter: drop-shadow(0px 1px 2px rgba(0, 0, 0, 0.3));\n",
              "      fill: #FFFFFF;\n",
              "    }\n",
              "  </style>\n",
              "\n",
              "      <script>\n",
              "        const buttonEl =\n",
              "          document.querySelector('#df-222669c8-6bf2-4419-8c88-bf783053ae64 button.colab-df-convert');\n",
              "        buttonEl.style.display =\n",
              "          google.colab.kernel.accessAllowed ? 'block' : 'none';\n",
              "\n",
              "        async function convertToInteractive(key) {\n",
              "          const element = document.querySelector('#df-222669c8-6bf2-4419-8c88-bf783053ae64');\n",
              "          const dataTable =\n",
              "            await google.colab.kernel.invokeFunction('convertToInteractive',\n",
              "                                                     [key], {});\n",
              "          if (!dataTable) return;\n",
              "\n",
              "          const docLinkHtml = 'Like what you see? Visit the ' +\n",
              "            '<a target=\"_blank\" href=https://colab.research.google.com/notebooks/data_table.ipynb>data table notebook</a>'\n",
              "            + ' to learn more about interactive tables.';\n",
              "          element.innerHTML = '';\n",
              "          dataTable['output_type'] = 'display_data';\n",
              "          await google.colab.output.renderOutput(dataTable, element);\n",
              "          const docLink = document.createElement('div');\n",
              "          docLink.innerHTML = docLinkHtml;\n",
              "          element.appendChild(docLink);\n",
              "        }\n",
              "      </script>\n",
              "    </div>\n",
              "  </div>\n",
              "  "
            ]
          },
          "metadata": {},
          "execution_count": 8
        }
      ],
      "source": [
        "cardinality_df"
      ]
    },
    {
      "cell_type": "code",
      "execution_count": 9,
      "metadata": {
        "colab": {
          "base_uri": "https://localhost:8080/"
        },
        "id": "ve1UqAo725nI",
        "outputId": "1183ea83-f143-491e-aada-ca84c0fb77ee"
      },
      "outputs": [
        {
          "output_type": "execute_result",
          "data": {
            "text/plain": [
              "Series([], Name: index, dtype: object)"
            ]
          },
          "metadata": {},
          "execution_count": 9
        }
      ],
      "source": [
        "cardinality_vars_selected"
      ]
    },
    {
      "cell_type": "markdown",
      "metadata": {
        "id": "Bqp0h1EX25nK"
      },
      "source": [
        "__Answer:__ You cannot reject any variables based on cardinality."
      ]
    },
    {
      "cell_type": "markdown",
      "metadata": {
        "id": "g4Kjpe8t25nN"
      },
      "source": [
        "# Question 2: Calculate the missing value percentage for each variable in the dataset. Can you eliminate any variables based on missing values? (Hint: Any value that has more than 45% missing values)"
      ]
    },
    {
      "cell_type": "code",
      "execution_count": 10,
      "metadata": {
        "id": "dhFdH7nY25nP"
      },
      "outputs": [],
      "source": [
        "from pyspark.sql.functions import count, when, isnan, col\n",
        "\n",
        "def missing_calculation(df, miss_percentage=0.45):\n",
        "    \n",
        "    #checks for both NaN and null values\n",
        "    missing = df.select(*[count(when(isnan(c) | col(c).isNull(), c)).alias(c) for c in df.columns])\n",
        "    length_df = df.count()\n",
        "    ## convert to pandas for efficient calculations\n",
        "    final_missing_df = missing.toPandas().transpose()\n",
        "    final_missing_df.reset_index(inplace=True) \n",
        "    final_missing_df.rename(columns={0:'missing_count'}, inplace=True) \n",
        "    final_missing_df['missing_percentage'] = final_missing_df['missing_count']/length_df\n",
        "    \n",
        "    #select variables with cardinality of 1\n",
        "    vars_selected = final_missing_df['index'][final_missing_df['missing_percentage'] >= miss_percentage] \n",
        "    \n",
        "    return final_missing_df, vars_selected"
      ]
    },
    {
      "cell_type": "code",
      "execution_count": 11,
      "metadata": {
        "id": "jl58986Y25nR"
      },
      "outputs": [],
      "source": [
        "missing_df, missing_vars_selected = missing_calculation(df)"
      ]
    },
    {
      "cell_type": "code",
      "execution_count": 12,
      "metadata": {
        "colab": {
          "base_uri": "https://localhost:8080/",
          "height": 708
        },
        "id": "MBs2EwzW25nS",
        "outputId": "afefefd7-f338-4659-8f45-2c9b3f1128f7"
      },
      "outputs": [
        {
          "output_type": "execute_result",
          "data": {
            "text/plain": [
              "            index  missing_count  missing_percentage\n",
              "0          Suburb              0            0.000000\n",
              "1         Address              0            0.000000\n",
              "2           Rooms              0            0.000000\n",
              "3            Type              0            0.000000\n",
              "4           Price              0            0.000000\n",
              "5          Method              0            0.000000\n",
              "6         SellerG              0            0.000000\n",
              "7            Date              0            0.000000\n",
              "8        Distance              0            0.000000\n",
              "9        Postcode              0            0.000000\n",
              "10       Bedroom2              0            0.000000\n",
              "11       Bathroom              0            0.000000\n",
              "12            Car             62            0.004566\n",
              "13       Landsize              0            0.000000\n",
              "14   BuildingArea           6450            0.474963\n",
              "15      YearBuilt           5375            0.395803\n",
              "16    CouncilArea           1369            0.100810\n",
              "17      Lattitude              0            0.000000\n",
              "18     Longtitude              0            0.000000\n",
              "19     Regionname              0            0.000000\n",
              "20  Propertycount              0            0.000000"
            ],
            "text/html": [
              "\n",
              "  <div id=\"df-2727623a-eb0f-4059-805b-1afbd2845747\">\n",
              "    <div class=\"colab-df-container\">\n",
              "      <div>\n",
              "<style scoped>\n",
              "    .dataframe tbody tr th:only-of-type {\n",
              "        vertical-align: middle;\n",
              "    }\n",
              "\n",
              "    .dataframe tbody tr th {\n",
              "        vertical-align: top;\n",
              "    }\n",
              "\n",
              "    .dataframe thead th {\n",
              "        text-align: right;\n",
              "    }\n",
              "</style>\n",
              "<table border=\"1\" class=\"dataframe\">\n",
              "  <thead>\n",
              "    <tr style=\"text-align: right;\">\n",
              "      <th></th>\n",
              "      <th>index</th>\n",
              "      <th>missing_count</th>\n",
              "      <th>missing_percentage</th>\n",
              "    </tr>\n",
              "  </thead>\n",
              "  <tbody>\n",
              "    <tr>\n",
              "      <th>0</th>\n",
              "      <td>Suburb</td>\n",
              "      <td>0</td>\n",
              "      <td>0.000000</td>\n",
              "    </tr>\n",
              "    <tr>\n",
              "      <th>1</th>\n",
              "      <td>Address</td>\n",
              "      <td>0</td>\n",
              "      <td>0.000000</td>\n",
              "    </tr>\n",
              "    <tr>\n",
              "      <th>2</th>\n",
              "      <td>Rooms</td>\n",
              "      <td>0</td>\n",
              "      <td>0.000000</td>\n",
              "    </tr>\n",
              "    <tr>\n",
              "      <th>3</th>\n",
              "      <td>Type</td>\n",
              "      <td>0</td>\n",
              "      <td>0.000000</td>\n",
              "    </tr>\n",
              "    <tr>\n",
              "      <th>4</th>\n",
              "      <td>Price</td>\n",
              "      <td>0</td>\n",
              "      <td>0.000000</td>\n",
              "    </tr>\n",
              "    <tr>\n",
              "      <th>5</th>\n",
              "      <td>Method</td>\n",
              "      <td>0</td>\n",
              "      <td>0.000000</td>\n",
              "    </tr>\n",
              "    <tr>\n",
              "      <th>6</th>\n",
              "      <td>SellerG</td>\n",
              "      <td>0</td>\n",
              "      <td>0.000000</td>\n",
              "    </tr>\n",
              "    <tr>\n",
              "      <th>7</th>\n",
              "      <td>Date</td>\n",
              "      <td>0</td>\n",
              "      <td>0.000000</td>\n",
              "    </tr>\n",
              "    <tr>\n",
              "      <th>8</th>\n",
              "      <td>Distance</td>\n",
              "      <td>0</td>\n",
              "      <td>0.000000</td>\n",
              "    </tr>\n",
              "    <tr>\n",
              "      <th>9</th>\n",
              "      <td>Postcode</td>\n",
              "      <td>0</td>\n",
              "      <td>0.000000</td>\n",
              "    </tr>\n",
              "    <tr>\n",
              "      <th>10</th>\n",
              "      <td>Bedroom2</td>\n",
              "      <td>0</td>\n",
              "      <td>0.000000</td>\n",
              "    </tr>\n",
              "    <tr>\n",
              "      <th>11</th>\n",
              "      <td>Bathroom</td>\n",
              "      <td>0</td>\n",
              "      <td>0.000000</td>\n",
              "    </tr>\n",
              "    <tr>\n",
              "      <th>12</th>\n",
              "      <td>Car</td>\n",
              "      <td>62</td>\n",
              "      <td>0.004566</td>\n",
              "    </tr>\n",
              "    <tr>\n",
              "      <th>13</th>\n",
              "      <td>Landsize</td>\n",
              "      <td>0</td>\n",
              "      <td>0.000000</td>\n",
              "    </tr>\n",
              "    <tr>\n",
              "      <th>14</th>\n",
              "      <td>BuildingArea</td>\n",
              "      <td>6450</td>\n",
              "      <td>0.474963</td>\n",
              "    </tr>\n",
              "    <tr>\n",
              "      <th>15</th>\n",
              "      <td>YearBuilt</td>\n",
              "      <td>5375</td>\n",
              "      <td>0.395803</td>\n",
              "    </tr>\n",
              "    <tr>\n",
              "      <th>16</th>\n",
              "      <td>CouncilArea</td>\n",
              "      <td>1369</td>\n",
              "      <td>0.100810</td>\n",
              "    </tr>\n",
              "    <tr>\n",
              "      <th>17</th>\n",
              "      <td>Lattitude</td>\n",
              "      <td>0</td>\n",
              "      <td>0.000000</td>\n",
              "    </tr>\n",
              "    <tr>\n",
              "      <th>18</th>\n",
              "      <td>Longtitude</td>\n",
              "      <td>0</td>\n",
              "      <td>0.000000</td>\n",
              "    </tr>\n",
              "    <tr>\n",
              "      <th>19</th>\n",
              "      <td>Regionname</td>\n",
              "      <td>0</td>\n",
              "      <td>0.000000</td>\n",
              "    </tr>\n",
              "    <tr>\n",
              "      <th>20</th>\n",
              "      <td>Propertycount</td>\n",
              "      <td>0</td>\n",
              "      <td>0.000000</td>\n",
              "    </tr>\n",
              "  </tbody>\n",
              "</table>\n",
              "</div>\n",
              "      <button class=\"colab-df-convert\" onclick=\"convertToInteractive('df-2727623a-eb0f-4059-805b-1afbd2845747')\"\n",
              "              title=\"Convert this dataframe to an interactive table.\"\n",
              "              style=\"display:none;\">\n",
              "        \n",
              "  <svg xmlns=\"http://www.w3.org/2000/svg\" height=\"24px\"viewBox=\"0 0 24 24\"\n",
              "       width=\"24px\">\n",
              "    <path d=\"M0 0h24v24H0V0z\" fill=\"none\"/>\n",
              "    <path d=\"M18.56 5.44l.94 2.06.94-2.06 2.06-.94-2.06-.94-.94-2.06-.94 2.06-2.06.94zm-11 1L8.5 8.5l.94-2.06 2.06-.94-2.06-.94L8.5 2.5l-.94 2.06-2.06.94zm10 10l.94 2.06.94-2.06 2.06-.94-2.06-.94-.94-2.06-.94 2.06-2.06.94z\"/><path d=\"M17.41 7.96l-1.37-1.37c-.4-.4-.92-.59-1.43-.59-.52 0-1.04.2-1.43.59L10.3 9.45l-7.72 7.72c-.78.78-.78 2.05 0 2.83L4 21.41c.39.39.9.59 1.41.59.51 0 1.02-.2 1.41-.59l7.78-7.78 2.81-2.81c.8-.78.8-2.07 0-2.86zM5.41 20L4 18.59l7.72-7.72 1.47 1.35L5.41 20z\"/>\n",
              "  </svg>\n",
              "      </button>\n",
              "      \n",
              "  <style>\n",
              "    .colab-df-container {\n",
              "      display:flex;\n",
              "      flex-wrap:wrap;\n",
              "      gap: 12px;\n",
              "    }\n",
              "\n",
              "    .colab-df-convert {\n",
              "      background-color: #E8F0FE;\n",
              "      border: none;\n",
              "      border-radius: 50%;\n",
              "      cursor: pointer;\n",
              "      display: none;\n",
              "      fill: #1967D2;\n",
              "      height: 32px;\n",
              "      padding: 0 0 0 0;\n",
              "      width: 32px;\n",
              "    }\n",
              "\n",
              "    .colab-df-convert:hover {\n",
              "      background-color: #E2EBFA;\n",
              "      box-shadow: 0px 1px 2px rgba(60, 64, 67, 0.3), 0px 1px 3px 1px rgba(60, 64, 67, 0.15);\n",
              "      fill: #174EA6;\n",
              "    }\n",
              "\n",
              "    [theme=dark] .colab-df-convert {\n",
              "      background-color: #3B4455;\n",
              "      fill: #D2E3FC;\n",
              "    }\n",
              "\n",
              "    [theme=dark] .colab-df-convert:hover {\n",
              "      background-color: #434B5C;\n",
              "      box-shadow: 0px 1px 3px 1px rgba(0, 0, 0, 0.15);\n",
              "      filter: drop-shadow(0px 1px 2px rgba(0, 0, 0, 0.3));\n",
              "      fill: #FFFFFF;\n",
              "    }\n",
              "  </style>\n",
              "\n",
              "      <script>\n",
              "        const buttonEl =\n",
              "          document.querySelector('#df-2727623a-eb0f-4059-805b-1afbd2845747 button.colab-df-convert');\n",
              "        buttonEl.style.display =\n",
              "          google.colab.kernel.accessAllowed ? 'block' : 'none';\n",
              "\n",
              "        async function convertToInteractive(key) {\n",
              "          const element = document.querySelector('#df-2727623a-eb0f-4059-805b-1afbd2845747');\n",
              "          const dataTable =\n",
              "            await google.colab.kernel.invokeFunction('convertToInteractive',\n",
              "                                                     [key], {});\n",
              "          if (!dataTable) return;\n",
              "\n",
              "          const docLinkHtml = 'Like what you see? Visit the ' +\n",
              "            '<a target=\"_blank\" href=https://colab.research.google.com/notebooks/data_table.ipynb>data table notebook</a>'\n",
              "            + ' to learn more about interactive tables.';\n",
              "          element.innerHTML = '';\n",
              "          dataTable['output_type'] = 'display_data';\n",
              "          await google.colab.output.renderOutput(dataTable, element);\n",
              "          const docLink = document.createElement('div');\n",
              "          docLink.innerHTML = docLinkHtml;\n",
              "          element.appendChild(docLink);\n",
              "        }\n",
              "      </script>\n",
              "    </div>\n",
              "  </div>\n",
              "  "
            ]
          },
          "metadata": {},
          "execution_count": 12
        }
      ],
      "source": [
        "missing_df"
      ]
    },
    {
      "cell_type": "code",
      "execution_count": 13,
      "metadata": {
        "colab": {
          "base_uri": "https://localhost:8080/"
        },
        "id": "pvRzHX_g25nT",
        "outputId": "672924c9-9532-42a6-d61c-8863c5af5c87"
      },
      "outputs": [
        {
          "output_type": "execute_result",
          "data": {
            "text/plain": [
              "14    BuildingArea\n",
              "Name: index, dtype: object"
            ]
          },
          "metadata": {},
          "execution_count": 13
        }
      ],
      "source": [
        "missing_vars_selected"
      ]
    },
    {
      "cell_type": "markdown",
      "metadata": {
        "id": "nevaxWns25nT"
      },
      "source": [
        "__Answer:__ You can \"BuildingArea\" variable based on missing values."
      ]
    },
    {
      "cell_type": "markdown",
      "metadata": {
        "id": "IJ4VAUee25nU"
      },
      "source": [
        "# Question 3: Impute the YearBuilt column with median value. (Hint: Use 0.1 for relativeError)"
      ]
    },
    {
      "cell_type": "code",
      "execution_count": 14,
      "metadata": {
        "id": "DR8eTGEl25nV"
      },
      "outputs": [],
      "source": [
        "median_YearBuilt =df.approxQuantile('YearBuilt',[0.5],0.1)[0]"
      ]
    },
    {
      "cell_type": "code",
      "execution_count": 16,
      "metadata": {
        "colab": {
          "base_uri": "https://localhost:8080/"
        },
        "id": "_LA-R07L25nW",
        "outputId": "8e20e9e5-f7cf-4d9f-d392-fb740d443971"
      },
      "outputs": [
        {
          "output_type": "execute_result",
          "data": {
            "text/plain": [
              "1960.0"
            ]
          },
          "metadata": {},
          "execution_count": 16
        }
      ],
      "source": [
        "median_YearBuilt"
      ]
    },
    {
      "cell_type": "code",
      "execution_count": 17,
      "metadata": {
        "colab": {
          "base_uri": "https://localhost:8080/"
        },
        "id": "KhiZlzeW25nW",
        "outputId": "e24ee39b-cbfb-4e49-cc42-d73d041f323d"
      },
      "outputs": [
        {
          "output_type": "stream",
          "name": "stdout",
          "text": [
            "+---------+\n",
            "|YearBuilt|\n",
            "+---------+\n",
            "|     5375|\n",
            "+---------+\n",
            "\n"
          ]
        }
      ],
      "source": [
        "# count missing values before imputation\n",
        "df.select([count(when(isnan(c) | col(c).isNull(), c)).alias(c) for c in ['YearBuilt']]).show()"
      ]
    },
    {
      "cell_type": "code",
      "execution_count": 18,
      "metadata": {
        "id": "k4GFrg1p25nY"
      },
      "outputs": [],
      "source": [
        "from pyspark.sql.functions import when, isnan, col, isnull\n",
        "\n",
        "df = df.withColumn('imp_YearBuilt', *[when(isnan(c) | isnull(c), median_YearBuilt).otherwise(col(c)) for c in ['YearBuilt']])"
      ]
    },
    {
      "cell_type": "code",
      "execution_count": 19,
      "metadata": {
        "colab": {
          "base_uri": "https://localhost:8080/"
        },
        "id": "SxJPSmCM25nY",
        "outputId": "7c12b352-bbef-4ca7-f234-52e266518ede"
      },
      "outputs": [
        {
          "output_type": "stream",
          "name": "stdout",
          "text": [
            "+-------------+\n",
            "|imp_YearBuilt|\n",
            "+-------------+\n",
            "|            0|\n",
            "+-------------+\n",
            "\n"
          ]
        }
      ],
      "source": [
        "# count missing values after imputation\n",
        "df.select([count(when(isnan(c) | col(c).isNull(), c)).alias(c) for c in ['imp_YearBuilt']]).show()"
      ]
    },
    {
      "cell_type": "markdown",
      "metadata": {
        "id": "Rifi1UOY25nZ"
      },
      "source": [
        "# Impute existing column with median value"
      ]
    },
    {
      "cell_type": "code",
      "execution_count": 20,
      "metadata": {
        "id": "Xn67RMA825na"
      },
      "outputs": [],
      "source": [
        "df = df.fillna({'YearBuilt' :median_YearBuilt})"
      ]
    },
    {
      "cell_type": "code",
      "execution_count": 21,
      "metadata": {
        "colab": {
          "base_uri": "https://localhost:8080/"
        },
        "id": "5V2-smNV25na",
        "outputId": "3368afdc-ebd6-44a3-8520-54bc4bed3807"
      },
      "outputs": [
        {
          "output_type": "stream",
          "name": "stdout",
          "text": [
            "+---------+\n",
            "|YearBuilt|\n",
            "+---------+\n",
            "|        0|\n",
            "+---------+\n",
            "\n"
          ]
        }
      ],
      "source": [
        "df.select([count(when(isnan(c) | col(c).isNull(), c)).alias(c) for c in ['YearBuilt']]).show()"
      ]
    },
    {
      "cell_type": "markdown",
      "metadata": {
        "id": "sOXfFD3A25nb"
      },
      "source": [
        "# Question 4: Impute BuildingArea column to create a new variable called mean_imputed_BuildingArea and calculate the new mean after imputation."
      ]
    },
    {
      "cell_type": "code",
      "execution_count": 22,
      "metadata": {
        "id": "IsON5x1k25ne"
      },
      "outputs": [],
      "source": [
        "from pyspark.sql.functions import mean, avg\n",
        "\n",
        "mean_before_imputation = df.agg(avg('BuildingArea')).first()[0]"
      ]
    },
    {
      "cell_type": "code",
      "execution_count": 23,
      "metadata": {
        "colab": {
          "base_uri": "https://localhost:8080/"
        },
        "id": "htSq5lY625nf",
        "outputId": "01db2f4d-41f4-4f2c-85b4-0df251718955"
      },
      "outputs": [
        {
          "output_type": "execute_result",
          "data": {
            "text/plain": [
              "151.96764988779805"
            ]
          },
          "metadata": {},
          "execution_count": 23
        }
      ],
      "source": [
        "mean_before_imputation"
      ]
    },
    {
      "cell_type": "markdown",
      "metadata": {
        "id": "mom5sHMo25nf"
      },
      "source": [
        "you already know, the way to create a new column imputation. So let us impute the original column directly."
      ]
    },
    {
      "cell_type": "code",
      "execution_count": 24,
      "metadata": {
        "id": "L3ddIF2F25ng"
      },
      "outputs": [],
      "source": [
        "df = df.fillna({'BuildingArea' :mean_before_imputation})"
      ]
    },
    {
      "cell_type": "code",
      "execution_count": 25,
      "metadata": {
        "colab": {
          "base_uri": "https://localhost:8080/"
        },
        "id": "C4YUq75825ng",
        "outputId": "6bcef262-12df-4e02-cd7d-0e8a168922be"
      },
      "outputs": [
        {
          "output_type": "stream",
          "name": "stdout",
          "text": [
            "+------------+\n",
            "|BuildingArea|\n",
            "+------------+\n",
            "|           0|\n",
            "+------------+\n",
            "\n"
          ]
        }
      ],
      "source": [
        "df.select([count(when(isnan(c) | col(c).isNull(), c)).alias(c) for c in ['BuildingArea']]).show()"
      ]
    },
    {
      "cell_type": "code",
      "execution_count": 26,
      "metadata": {
        "colab": {
          "base_uri": "https://localhost:8080/"
        },
        "id": "vneQLT5b25nh",
        "outputId": "5de1041b-37ad-4b7c-dd66-12ca08facea3"
      },
      "outputs": [
        {
          "output_type": "execute_result",
          "data": {
            "text/plain": [
              "151.96764988779142"
            ]
          },
          "metadata": {},
          "execution_count": 26
        }
      ],
      "source": [
        "df.agg(avg('BuildingArea')).first()[0]"
      ]
    },
    {
      "cell_type": "code",
      "execution_count": null,
      "metadata": {
        "id": "PDcgsebZ25nh"
      },
      "outputs": [],
      "source": []
    }
  ],
  "metadata": {
    "kernelspec": {
      "display_name": "Python 3",
      "language": "python",
      "name": "python3"
    },
    "language_info": {
      "codemirror_mode": {
        "name": "ipython",
        "version": 3
      },
      "file_extension": ".py",
      "mimetype": "text/x-python",
      "name": "python",
      "nbconvert_exporter": "python",
      "pygments_lexer": "ipython3",
      "version": "3.7.6"
    },
    "colab": {
      "provenance": [],
      "include_colab_link": true
    }
  },
  "nbformat": 4,
  "nbformat_minor": 0
}