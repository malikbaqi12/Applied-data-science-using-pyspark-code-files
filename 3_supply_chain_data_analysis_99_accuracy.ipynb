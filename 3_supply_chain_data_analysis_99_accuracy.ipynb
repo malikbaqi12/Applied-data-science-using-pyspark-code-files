{
  "cells": [
    {
      "cell_type": "markdown",
      "metadata": {
        "id": "view-in-github",
        "colab_type": "text"
      },
      "source": [
        "<a href=\"https://colab.research.google.com/github/malikbaqi12/Applied-data-science-using-pyspark-code-files/blob/main/3_supply_chain_data_analysis_99_accuracy.ipynb\" target=\"_parent\"><img src=\"https://colab.research.google.com/assets/colab-badge.svg\" alt=\"Open In Colab\"/></a>"
      ]
    },
    {
      "cell_type": "code",
      "execution_count": null,
      "id": "ddae94fe",
      "metadata": {
        "execution": {
          "iopub.execute_input": "2021-07-09T10:35:13.799255Z",
          "iopub.status.busy": "2021-07-09T10:35:13.798547Z",
          "iopub.status.idle": "2021-07-09T10:35:16.333283Z",
          "shell.execute_reply": "2021-07-09T10:35:16.332758Z",
          "shell.execute_reply.started": "2021-07-09T08:47:23.883873Z"
        },
        "papermill": {
          "duration": 2.648912,
          "end_time": "2021-07-09T10:35:16.333427",
          "exception": false,
          "start_time": "2021-07-09T10:35:13.684515",
          "status": "completed"
        },
        "tags": [],
        "id": "ddae94fe"
      },
      "outputs": [],
      "source": [
        "import numpy as np # linear algebra\n",
        "import pandas as pd # data processing, CSV file I/O (e.g. pd.read_csv)\n",
        "import seaborn as sns; sns.set(style=\"ticks\", color_codes=True)\n",
        "import matplotlib.pyplot as plt\n",
        "import plotly.graph_objs as go\n",
        "from plotly.subplots import make_subplots\n",
        "import seaborn as sns\n",
        "import plotly.express as px\n",
        "%matplotlib inline\n",
        "\n",
        "from plotly.offline import download_plotlyjs, init_notebook_mode, plot, iplot\n",
        "init_notebook_mode(connected = True)"
      ]
    },
    {
      "cell_type": "code",
      "source": [
        "from google.colab import drive\n",
        "drive.mount('/content/drive')"
      ],
      "metadata": {
        "id": "szDdHLycxlUS"
      },
      "id": "szDdHLycxlUS",
      "execution_count": null,
      "outputs": []
    },
    {
      "cell_type": "code",
      "source": [],
      "metadata": {
        "id": "NSu5TmdAy9tp"
      },
      "id": "NSu5TmdAy9tp",
      "execution_count": null,
      "outputs": []
    },
    {
      "cell_type": "code",
      "execution_count": null,
      "id": "e20e2631",
      "metadata": {
        "execution": {
          "iopub.execute_input": "2021-07-09T10:35:16.552710Z",
          "iopub.status.busy": "2021-07-09T10:35:16.552032Z",
          "iopub.status.idle": "2021-07-09T10:35:20.011703Z",
          "shell.execute_reply": "2021-07-09T10:35:20.010619Z",
          "shell.execute_reply.started": "2021-07-09T08:47:26.925544Z"
        },
        "papermill": {
          "duration": 3.571769,
          "end_time": "2021-07-09T10:35:20.011860",
          "exception": false,
          "start_time": "2021-07-09T10:35:16.440091",
          "status": "completed"
        },
        "tags": [],
        "id": "e20e2631"
      },
      "outputs": [],
      "source": [
        "#df = pd.read_csv('C:/Users/white/BDA Semester Project - 2023/dataset/DataCoSupplyChainDataset.csv', encoding='ISO-8859-1')\n",
        "\n",
        "df = pd.read_csv('/content/drive/MyDrive/DataCoSupplyChainDataset.csv', encoding='ISO-8859-1')\n",
        "\n",
        "\n",
        "df.head()"
      ]
    },
    {
      "cell_type": "code",
      "execution_count": null,
      "id": "0a6bcfa6",
      "metadata": {
        "execution": {
          "iopub.execute_input": "2021-07-09T10:35:20.233218Z",
          "iopub.status.busy": "2021-07-09T10:35:20.232567Z",
          "iopub.status.idle": "2021-07-09T10:35:20.236455Z",
          "shell.execute_reply": "2021-07-09T10:35:20.236971Z",
          "shell.execute_reply.started": "2021-07-09T08:47:30.297780Z"
        },
        "papermill": {
          "duration": 0.117632,
          "end_time": "2021-07-09T10:35:20.237138",
          "exception": false,
          "start_time": "2021-07-09T10:35:20.119506",
          "status": "completed"
        },
        "tags": [],
        "id": "0a6bcfa6"
      },
      "outputs": [],
      "source": [
        "df.columns"
      ]
    },
    {
      "cell_type": "markdown",
      "id": "7239f0eb",
      "metadata": {
        "papermill": {
          "duration": 0.107118,
          "end_time": "2021-07-09T10:35:20.452081",
          "exception": false,
          "start_time": "2021-07-09T10:35:20.344963",
          "status": "completed"
        },
        "tags": [],
        "id": "7239f0eb"
      },
      "source": [
        "deleting duplicate and not reated features"
      ]
    },
    {
      "cell_type": "code",
      "execution_count": null,
      "id": "d574ec0e",
      "metadata": {
        "execution": {
          "iopub.execute_input": "2021-07-09T10:35:20.673729Z",
          "iopub.status.busy": "2021-07-09T10:35:20.673055Z",
          "iopub.status.idle": "2021-07-09T10:35:20.825101Z",
          "shell.execute_reply": "2021-07-09T10:35:20.825586Z",
          "shell.execute_reply.started": "2021-07-09T08:47:30.306790Z"
        },
        "papermill": {
          "duration": 0.265624,
          "end_time": "2021-07-09T10:35:20.825769",
          "exception": false,
          "start_time": "2021-07-09T10:35:20.560145",
          "status": "completed"
        },
        "tags": [],
        "id": "d574ec0e"
      },
      "outputs": [],
      "source": [
        "data=df.copy()\n",
        "FeatureList=['Type', 'Benefit per order', 'Sales per customer', \n",
        "          'Delivery Status', 'Late_delivery_risk', 'Category Name', 'Customer City', 'Customer Country', \n",
        "           'Customer Id', 'Customer Segment', \n",
        "          'Customer State', 'Customer Zipcode', 'Department Name', 'Latitude', 'Longitude',\n",
        "          'Market', 'Order City', 'Order Country', 'Order Customer Id', 'order date (DateOrders)', 'Order Id', \n",
        "          'Order Item Cardprod Id', 'Order Item Discount', 'Order Item Discount Rate', 'Order Item Id', \n",
        "          'Order Item Product Price', 'Order Item Profit Ratio', 'Order Item Quantity', 'Sales', 'Order Item Total', \n",
        "          'Order Profit Per Order', 'Order Region', 'Order State', 'Order Status', 'Order Zipcode', 'Product Card Id',\n",
        "          'Product Category Id', 'Product Description', 'Product Image', 'Product Name', 'Product Price', 'Product Status',\n",
        "       'shipping date (DateOrders)', 'Shipping Mode']\n",
        "\n",
        "df1=df[FeatureList]\n",
        "df1.head()"
      ]
    },
    {
      "cell_type": "markdown",
      "id": "ebb4f351",
      "metadata": {
        "papermill": {
          "duration": 0.111206,
          "end_time": "2021-07-09T10:35:21.046820",
          "exception": false,
          "start_time": "2021-07-09T10:35:20.935614",
          "status": "completed"
        },
        "tags": [],
        "id": "ebb4f351"
      },
      "source": [
        "# Data Visualization"
      ]
    },
    {
      "cell_type": "markdown",
      "id": "1218cd7f",
      "metadata": {
        "papermill": {
          "duration": 0.108789,
          "end_time": "2021-07-09T10:35:21.266857",
          "exception": false,
          "start_time": "2021-07-09T10:35:21.158068",
          "status": "completed"
        },
        "tags": [],
        "id": "1218cd7f"
      },
      "source": [
        "# delvery status"
      ]
    },
    {
      "cell_type": "code",
      "execution_count": null,
      "id": "b936660a",
      "metadata": {
        "execution": {
          "iopub.execute_input": "2021-07-09T10:35:21.503339Z",
          "iopub.status.busy": "2021-07-09T10:35:21.502685Z",
          "iopub.status.idle": "2021-07-09T10:35:22.648776Z",
          "shell.execute_reply": "2021-07-09T10:35:22.648054Z",
          "shell.execute_reply.started": "2021-07-09T08:47:30.504075Z"
        },
        "papermill": {
          "duration": 1.272473,
          "end_time": "2021-07-09T10:35:22.648920",
          "exception": false,
          "start_time": "2021-07-09T10:35:21.376447",
          "status": "completed"
        },
        "tags": [],
        "id": "b936660a"
      },
      "outputs": [],
      "source": [
        "data_delivery_status=df1.groupby(['Delivery Status'])['Order Id'].count().reset_index(name='Number of Orders').sort_values(by= 'Number of Orders', ascending= False)\n",
        "px.bar(x=data_delivery_status['Delivery Status'] , y=data_delivery_status['Number of Orders']  , color=data_delivery_status['Number of Orders'],\n",
        "      labels = { 'Delivery Status': 'Delivery Status', 'Number of Orders': 'Number of Orders'})"
      ]
    },
    {
      "cell_type": "code",
      "execution_count": null,
      "id": "363e35d6",
      "metadata": {
        "execution": {
          "iopub.execute_input": "2021-07-09T10:35:22.898226Z",
          "iopub.status.busy": "2021-07-09T10:35:22.897487Z",
          "iopub.status.idle": "2021-07-09T10:35:23.112345Z",
          "shell.execute_reply": "2021-07-09T10:35:23.111698Z",
          "shell.execute_reply.started": "2021-07-09T08:47:31.723018Z"
        },
        "papermill": {
          "duration": 0.346111,
          "end_time": "2021-07-09T10:35:23.112483",
          "exception": false,
          "start_time": "2021-07-09T10:35:22.766372",
          "status": "completed"
        },
        "tags": [],
        "id": "363e35d6"
      },
      "outputs": [],
      "source": [
        "data_delivery_status_region=df1.groupby(['Delivery Status', 'Order Region'])['Order Id'].count().reset_index(name='Number of Orders').sort_values(by= 'Number of Orders', ascending= False)\n",
        "px.bar(data_delivery_status_region, x='Delivery Status', y='Number of Orders'  , color='Order Region',\n",
        "      )"
      ]
    },
    {
      "cell_type": "markdown",
      "id": "4672572d",
      "metadata": {
        "papermill": {
          "duration": 0.126561,
          "end_time": "2021-07-09T10:35:23.365973",
          "exception": false,
          "start_time": "2021-07-09T10:35:23.239412",
          "status": "completed"
        },
        "tags": [],
        "id": "4672572d"
      },
      "source": [
        "Central America and Western Europa have the most lated delivered Orders"
      ]
    },
    {
      "cell_type": "markdown",
      "id": "dd79601c",
      "metadata": {
        "papermill": {
          "duration": 0.126963,
          "end_time": "2021-07-09T10:35:23.619460",
          "exception": false,
          "start_time": "2021-07-09T10:35:23.492497",
          "status": "completed"
        },
        "tags": [],
        "id": "dd79601c"
      },
      "source": [
        "# Top 20 Customers regarding the quanitity of orders"
      ]
    },
    {
      "cell_type": "code",
      "execution_count": null,
      "id": "2691641e",
      "metadata": {
        "execution": {
          "iopub.execute_input": "2021-07-09T10:35:24.114489Z",
          "iopub.status.busy": "2021-07-09T10:35:23.891421Z",
          "iopub.status.idle": "2021-07-09T10:35:24.248667Z",
          "shell.execute_reply": "2021-07-09T10:35:24.249385Z",
          "shell.execute_reply.started": "2021-07-09T08:47:31.957687Z"
        },
        "papermill": {
          "duration": 0.503279,
          "end_time": "2021-07-09T10:35:24.249618",
          "exception": false,
          "start_time": "2021-07-09T10:35:23.746339",
          "status": "completed"
        },
        "tags": [],
        "id": "2691641e"
      },
      "outputs": [],
      "source": [
        "df1['Customer_ID_STR']=df1['Customer Id'].astype(str)\n",
        "\n",
        "data_customers=df1.groupby(['Customer_ID_STR'])['Order Id'].count().reset_index(name='Number of Orders').sort_values(by= 'Number of Orders', ascending= False)\n",
        "px.bar(data_customers.head(20),x='Number of Orders', y='Customer_ID_STR' , color='Number of Orders'      )"
      ]
    },
    {
      "cell_type": "markdown",
      "id": "a788356a",
      "metadata": {
        "papermill": {
          "duration": 0.133912,
          "end_time": "2021-07-09T10:35:24.519461",
          "exception": false,
          "start_time": "2021-07-09T10:35:24.385549",
          "status": "completed"
        },
        "tags": [],
        "id": "a788356a"
      },
      "source": [
        "# Top 20 Customers regarding profit of all orders"
      ]
    },
    {
      "cell_type": "code",
      "execution_count": null,
      "id": "cad79b5b",
      "metadata": {
        "execution": {
          "iopub.execute_input": "2021-07-09T10:35:24.845194Z",
          "iopub.status.busy": "2021-07-09T10:35:24.844519Z",
          "iopub.status.idle": "2021-07-09T10:35:25.212254Z",
          "shell.execute_reply": "2021-07-09T10:35:25.211532Z",
          "shell.execute_reply.started": "2021-07-09T08:47:32.339390Z"
        },
        "papermill": {
          "duration": 0.507672,
          "end_time": "2021-07-09T10:35:25.212415",
          "exception": false,
          "start_time": "2021-07-09T10:35:24.704743",
          "status": "completed"
        },
        "tags": [],
        "id": "cad79b5b"
      },
      "outputs": [],
      "source": [
        "df1['Customer_ID_STR']=df1['Customer Id'].astype(str)\n",
        "\n",
        "data_customers_profit=df1.groupby(['Customer_ID_STR'])['Order Profit Per Order'].sum().reset_index(name='Profit of Orders').sort_values(by= 'Profit of Orders', ascending= False)\n",
        "px.bar(data_customers_profit.head(20),x='Profit of Orders', y='Customer_ID_STR' , color='Profit of Orders'      )"
      ]
    },
    {
      "cell_type": "markdown",
      "id": "6daabfee",
      "metadata": {
        "papermill": {
          "duration": 0.141155,
          "end_time": "2021-07-09T10:35:25.495482",
          "exception": false,
          "start_time": "2021-07-09T10:35:25.354327",
          "status": "completed"
        },
        "tags": [],
        "id": "6daabfee"
      },
      "source": [
        "# Customer Segment"
      ]
    },
    {
      "cell_type": "code",
      "execution_count": null,
      "id": "182ba441",
      "metadata": {
        "execution": {
          "iopub.execute_input": "2021-07-09T10:35:25.789692Z",
          "iopub.status.busy": "2021-07-09T10:35:25.788707Z",
          "iopub.status.idle": "2021-07-09T10:35:25.878379Z",
          "shell.execute_reply": "2021-07-09T10:35:25.878877Z",
          "shell.execute_reply.started": "2021-07-09T08:47:32.725358Z"
        },
        "papermill": {
          "duration": 0.241217,
          "end_time": "2021-07-09T10:35:25.879060",
          "exception": false,
          "start_time": "2021-07-09T10:35:25.637843",
          "status": "completed"
        },
        "tags": [],
        "id": "182ba441"
      },
      "outputs": [],
      "source": [
        "#Customer Segments\n",
        "data_Customer_Segment=df1.groupby(['Customer Segment'])['Order Id'].count().reset_index(name='Number of Orders').sort_values(by= 'Number of Orders', ascending= False)\n",
        "px.pie(data_Customer_Segment, values='Number of Orders', names= 'Customer Segment' , title= 'Number of Orders of different Customer Segments', \n",
        "       width=600 , height=600 , color_discrete_sequence = px.colors.sequential.RdBu)"
      ]
    },
    {
      "cell_type": "markdown",
      "id": "e930fd2c",
      "metadata": {
        "papermill": {
          "duration": 0.149256,
          "end_time": "2021-07-09T10:35:26.177775",
          "exception": false,
          "start_time": "2021-07-09T10:35:26.028519",
          "status": "completed"
        },
        "tags": [],
        "id": "e930fd2c"
      },
      "source": [
        "# Category"
      ]
    },
    {
      "cell_type": "code",
      "execution_count": null,
      "id": "3ea135fa",
      "metadata": {
        "execution": {
          "iopub.execute_input": "2021-07-09T10:35:26.477872Z",
          "iopub.status.busy": "2021-07-09T10:35:26.477215Z",
          "iopub.status.idle": "2021-07-09T10:35:26.572297Z",
          "shell.execute_reply": "2021-07-09T10:35:26.571724Z",
          "shell.execute_reply.started": "2021-07-09T08:47:32.823813Z"
        },
        "papermill": {
          "duration": 0.246505,
          "end_time": "2021-07-09T10:35:26.572452",
          "exception": false,
          "start_time": "2021-07-09T10:35:26.325947",
          "status": "completed"
        },
        "tags": [],
        "id": "3ea135fa"
      },
      "outputs": [],
      "source": [
        "#Category Name\n",
        "data_Category_Name=df1.groupby(['Category Name'])['Order Id'].count().reset_index(name='Number of Orders').sort_values(by= 'Number of Orders', ascending= True)\n",
        "px.bar(data_Category_Name, x='Number of Orders',y = 'Category Name',color ='Number of Orders')\n",
        "\n"
      ]
    },
    {
      "cell_type": "markdown",
      "id": "b2b4f9a1",
      "metadata": {
        "papermill": {
          "duration": 0.171751,
          "end_time": "2021-07-09T10:35:26.898540",
          "exception": false,
          "start_time": "2021-07-09T10:35:26.726789",
          "status": "completed"
        },
        "tags": [],
        "id": "b2b4f9a1"
      },
      "source": [
        "# Geo Features"
      ]
    },
    {
      "cell_type": "code",
      "execution_count": null,
      "id": "6a8a80a4",
      "metadata": {
        "execution": {
          "iopub.execute_input": "2021-07-09T10:35:27.224948Z",
          "iopub.status.busy": "2021-07-09T10:35:27.224261Z",
          "iopub.status.idle": "2021-07-09T10:35:27.312975Z",
          "shell.execute_reply": "2021-07-09T10:35:27.312321Z",
          "shell.execute_reply.started": "2021-07-09T08:47:32.927479Z"
        },
        "papermill": {
          "duration": 0.253606,
          "end_time": "2021-07-09T10:35:27.313143",
          "exception": false,
          "start_time": "2021-07-09T10:35:27.059537",
          "status": "completed"
        },
        "tags": [],
        "id": "6a8a80a4"
      },
      "outputs": [],
      "source": [
        "data_Region=df1.groupby(['Order Region'])['Order Id'].count().reset_index(name='Number of Orders').sort_values(by= 'Number of Orders', ascending= True)\n",
        "px.bar(data_Region, x='Number of Orders',y = 'Order Region',color ='Number of Orders')\n",
        "\n"
      ]
    },
    {
      "cell_type": "code",
      "execution_count": null,
      "id": "f7ba13e8",
      "metadata": {
        "execution": {
          "iopub.execute_input": "2021-07-09T10:35:27.654487Z",
          "iopub.status.busy": "2021-07-09T10:35:27.653858Z",
          "iopub.status.idle": "2021-07-09T10:35:27.733948Z",
          "shell.execute_reply": "2021-07-09T10:35:27.733332Z",
          "shell.execute_reply.started": "2021-07-09T08:47:33.029280Z"
        },
        "papermill": {
          "duration": 0.259197,
          "end_time": "2021-07-09T10:35:27.734096",
          "exception": false,
          "start_time": "2021-07-09T10:35:27.474899",
          "status": "completed"
        },
        "tags": [],
        "id": "f7ba13e8"
      },
      "outputs": [],
      "source": [
        "data_countries=df1.groupby(['Order Country'])['Order Id'].count().reset_index(name='Number of Orders').sort_values(by= 'Number of Orders', ascending= True)\n",
        "px.bar(data_countries.head(20), x='Number of Orders',y = 'Order Country',color ='Number of Orders')\n"
      ]
    },
    {
      "cell_type": "code",
      "execution_count": null,
      "id": "085529d2",
      "metadata": {
        "execution": {
          "iopub.execute_input": "2021-07-09T10:35:28.092608Z",
          "iopub.status.busy": "2021-07-09T10:35:28.091963Z",
          "iopub.status.idle": "2021-07-09T10:35:28.146608Z",
          "shell.execute_reply": "2021-07-09T10:35:28.146100Z",
          "shell.execute_reply.started": "2021-07-09T08:47:33.126338Z"
        },
        "papermill": {
          "duration": 0.242265,
          "end_time": "2021-07-09T10:35:28.146770",
          "exception": false,
          "start_time": "2021-07-09T10:35:27.904505",
          "status": "completed"
        },
        "tags": [],
        "id": "085529d2"
      },
      "outputs": [],
      "source": [
        "\n",
        "df_geo=df1.groupby([ 'Order Country', 'Order City'])['Order Profit Per Order'].sum().reset_index(name='Profit of Orders').sort_values(by= 'Profit of Orders', ascending= False)\n",
        "\n",
        "df_geo"
      ]
    },
    {
      "cell_type": "code",
      "execution_count": null,
      "id": "59b8ff36",
      "metadata": {
        "execution": {
          "iopub.execute_input": "2021-07-09T10:35:28.506214Z",
          "iopub.status.busy": "2021-07-09T10:35:28.504498Z",
          "iopub.status.idle": "2021-07-09T10:35:28.735556Z",
          "shell.execute_reply": "2021-07-09T10:35:28.736171Z",
          "shell.execute_reply.started": "2021-07-09T08:47:33.202967Z"
        },
        "papermill": {
          "duration": 0.420428,
          "end_time": "2021-07-09T10:35:28.736350",
          "exception": false,
          "start_time": "2021-07-09T10:35:28.315922",
          "status": "completed"
        },
        "tags": [],
        "id": "59b8ff36"
      },
      "outputs": [],
      "source": [
        "fig = px.choropleth(df_geo ,  locationmode='country names', locations='Order Country',\n",
        "                    color='Profit of Orders', # lifeExp is a column of data\n",
        "                    hover_name='Order Country', \n",
        "                    #hover_data ='Order City',\n",
        "                    color_continuous_scale=px.colors.sequential.Plasma)\n",
        "\n",
        "fig.show()"
      ]
    },
    {
      "cell_type": "markdown",
      "id": "e4dc716e",
      "metadata": {
        "papermill": {
          "duration": 0.206716,
          "end_time": "2021-07-09T10:35:29.152274",
          "exception": false,
          "start_time": "2021-07-09T10:35:28.945558",
          "status": "completed"
        },
        "tags": [],
        "id": "e4dc716e"
      },
      "source": [
        "# Sales Analysis"
      ]
    },
    {
      "cell_type": "code",
      "execution_count": null,
      "id": "c80bf26c",
      "metadata": {
        "execution": {
          "iopub.execute_input": "2021-07-09T10:35:29.579145Z",
          "iopub.status.busy": "2021-07-09T10:35:29.571083Z",
          "iopub.status.idle": "2021-07-09T10:35:29.659789Z",
          "shell.execute_reply": "2021-07-09T10:35:29.660299Z",
          "shell.execute_reply.started": "2021-07-09T08:47:33.446504Z"
        },
        "papermill": {
          "duration": 0.30341,
          "end_time": "2021-07-09T10:35:29.660478",
          "exception": false,
          "start_time": "2021-07-09T10:35:29.357068",
          "status": "completed"
        },
        "tags": [],
        "id": "c80bf26c"
      },
      "outputs": [],
      "source": [
        "#Order Country\n",
        "df_sales_country=df1.groupby([ 'Order Country'])['Sales'].sum().reset_index(name='Sales of Orders').sort_values(by= 'Sales of Orders', ascending= False)\n",
        "px.bar(df_sales_country.head(10), x='Sales of Orders',y = 'Order Country',color ='Sales of Orders')"
      ]
    },
    {
      "cell_type": "code",
      "execution_count": null,
      "id": "2f7f3c07",
      "metadata": {
        "papermill": {
          "duration": 0.213005,
          "end_time": "2021-07-09T10:35:30.085913",
          "exception": false,
          "start_time": "2021-07-09T10:35:29.872908",
          "status": "completed"
        },
        "tags": [],
        "id": "2f7f3c07"
      },
      "outputs": [],
      "source": []
    },
    {
      "cell_type": "code",
      "execution_count": null,
      "id": "bacb180f",
      "metadata": {
        "papermill": {
          "duration": 0.212431,
          "end_time": "2021-07-09T10:35:30.553698",
          "exception": false,
          "start_time": "2021-07-09T10:35:30.341267",
          "status": "completed"
        },
        "tags": [],
        "id": "bacb180f"
      },
      "outputs": [],
      "source": []
    },
    {
      "cell_type": "code",
      "execution_count": null,
      "id": "125b9548",
      "metadata": {
        "papermill": {
          "duration": 0.212329,
          "end_time": "2021-07-09T10:35:30.978569",
          "exception": false,
          "start_time": "2021-07-09T10:35:30.766240",
          "status": "completed"
        },
        "tags": [],
        "id": "125b9548"
      },
      "outputs": [],
      "source": []
    },
    {
      "cell_type": "code",
      "execution_count": null,
      "id": "5b0fe6ac",
      "metadata": {
        "papermill": {
          "duration": 0.21362,
          "end_time": "2021-07-09T10:35:31.407728",
          "exception": false,
          "start_time": "2021-07-09T10:35:31.194108",
          "status": "completed"
        },
        "tags": [],
        "id": "5b0fe6ac"
      },
      "outputs": [],
      "source": []
    },
    {
      "cell_type": "code",
      "execution_count": null,
      "id": "b91b1a4b",
      "metadata": {
        "execution": {
          "iopub.execute_input": "2021-07-09T10:35:31.846384Z",
          "iopub.status.busy": "2021-07-09T10:35:31.838319Z",
          "iopub.status.idle": "2021-07-09T10:35:31.929212Z",
          "shell.execute_reply": "2021-07-09T10:35:31.928568Z",
          "shell.execute_reply.started": "2021-07-09T08:47:33.547501Z"
        },
        "papermill": {
          "duration": 0.310395,
          "end_time": "2021-07-09T10:35:31.929353",
          "exception": false,
          "start_time": "2021-07-09T10:35:31.618958",
          "status": "completed"
        },
        "tags": [],
        "id": "b91b1a4b"
      },
      "outputs": [],
      "source": [
        "#Order Country\n",
        "df_sales_country=df1.groupby([ 'Order Country'])['Sales'].sum().reset_index(name='Sales of Orders').sort_values(by= 'Sales of Orders', ascending= False)\n",
        "px.bar(df_sales_country.head(10), x='Sales of Orders',y = 'Order Country',color ='Sales of Orders')\n"
      ]
    },
    {
      "cell_type": "code",
      "execution_count": null,
      "id": "6b26927a",
      "metadata": {
        "execution": {
          "iopub.execute_input": "2021-07-09T10:35:32.383733Z",
          "iopub.status.busy": "2021-07-09T10:35:32.383049Z",
          "iopub.status.idle": "2021-07-09T10:35:32.468296Z",
          "shell.execute_reply": "2021-07-09T10:35:32.467713Z",
          "shell.execute_reply.started": "2021-07-09T08:47:33.645207Z"
        },
        "papermill": {
          "duration": 0.31892,
          "end_time": "2021-07-09T10:35:32.468436",
          "exception": false,
          "start_time": "2021-07-09T10:35:32.149516",
          "status": "completed"
        },
        "tags": [],
        "id": "6b26927a"
      },
      "outputs": [],
      "source": [
        "#Product\n",
        "df_sales_country=df1.groupby([ 'Product Name'])['Sales'].sum().reset_index(name='Sales of Orders').sort_values(by= 'Sales of Orders', ascending= False)\n",
        "px.bar(df_sales_country.head(10), x='Sales of Orders',y = 'Product Name',color ='Sales of Orders')\n"
      ]
    },
    {
      "cell_type": "code",
      "execution_count": null,
      "id": "db37536c",
      "metadata": {
        "execution": {
          "iopub.execute_input": "2021-07-09T10:35:32.939016Z",
          "iopub.status.busy": "2021-07-09T10:35:32.931544Z",
          "iopub.status.idle": "2021-07-09T10:35:33.051843Z",
          "shell.execute_reply": "2021-07-09T10:35:33.051100Z",
          "shell.execute_reply.started": "2021-07-09T08:47:33.744565Z"
        },
        "papermill": {
          "duration": 0.355585,
          "end_time": "2021-07-09T10:35:33.051989",
          "exception": false,
          "start_time": "2021-07-09T10:35:32.696404",
          "status": "completed"
        },
        "tags": [],
        "id": "db37536c"
      },
      "outputs": [],
      "source": [
        "#Product and deliveray status\n",
        "df_sales_pd=df1.groupby([ 'Product Name', 'Delivery Status'])['Sales'].sum().reset_index(name='Sales of Orders').sort_values(by= 'Sales of Orders', ascending= False)\n",
        "px.bar(df_sales_pd.head(10), x='Sales of Orders',y = 'Product Name',color ='Delivery Status')\n"
      ]
    },
    {
      "cell_type": "code",
      "execution_count": null,
      "id": "bd4371c6",
      "metadata": {
        "execution": {
          "iopub.execute_input": "2021-07-09T10:35:33.529480Z",
          "iopub.status.busy": "2021-07-09T10:35:33.528829Z",
          "iopub.status.idle": "2021-07-09T10:35:33.650304Z",
          "shell.execute_reply": "2021-07-09T10:35:33.649464Z",
          "shell.execute_reply.started": "2021-07-09T08:47:33.871614Z"
        },
        "papermill": {
          "duration": 0.362765,
          "end_time": "2021-07-09T10:35:33.650461",
          "exception": false,
          "start_time": "2021-07-09T10:35:33.287696",
          "status": "completed"
        },
        "tags": [],
        "id": "bd4371c6"
      },
      "outputs": [],
      "source": [
        "#Product and order region\n",
        "df_sales_pr=df1.groupby([ 'Product Name', 'Order Region'])['Sales'].sum().reset_index(name='Sales of Orders').sort_values(by= 'Sales of Orders', ascending= False)\n",
        "px.bar(df_sales_pr.head(10), x='Sales of Orders',y = 'Product Name',color ='Order Region')\n"
      ]
    },
    {
      "cell_type": "code",
      "execution_count": null,
      "id": "6b00260e",
      "metadata": {
        "execution": {
          "iopub.execute_input": "2021-07-09T10:35:34.149570Z",
          "iopub.status.busy": "2021-07-09T10:35:34.142246Z",
          "iopub.status.idle": "2021-07-09T10:35:34.230430Z",
          "shell.execute_reply": "2021-07-09T10:35:34.229910Z",
          "shell.execute_reply.started": "2021-07-09T08:47:33.999333Z"
        },
        "papermill": {
          "duration": 0.332681,
          "end_time": "2021-07-09T10:35:34.230569",
          "exception": false,
          "start_time": "2021-07-09T10:35:33.897888",
          "status": "completed"
        },
        "tags": [],
        "id": "6b00260e"
      },
      "outputs": [],
      "source": [
        "#'Category Name'\n",
        "df_sales_pr=df1.groupby([  'Category Name'])['Sales'].sum().reset_index(name='Sales of Orders').sort_values(by= 'Sales of Orders', ascending= False)\n",
        "px.bar(df_sales_pr.head(10), x='Sales of Orders',y = 'Category Name',color ='Sales of Orders')\n"
      ]
    },
    {
      "cell_type": "code",
      "execution_count": null,
      "id": "88565437",
      "metadata": {
        "execution": {
          "iopub.execute_input": "2021-07-09T10:35:34.770530Z",
          "iopub.status.busy": "2021-07-09T10:35:34.769896Z",
          "iopub.status.idle": "2021-07-09T10:35:34.854124Z",
          "shell.execute_reply": "2021-07-09T10:35:34.853476Z",
          "shell.execute_reply.started": "2021-07-09T08:47:34.093107Z"
        },
        "papermill": {
          "duration": 0.337138,
          "end_time": "2021-07-09T10:35:34.854270",
          "exception": false,
          "start_time": "2021-07-09T10:35:34.517132",
          "status": "completed"
        },
        "tags": [],
        "id": "88565437"
      },
      "outputs": [],
      "source": [
        "#'Type of payment\n",
        "df_sales_pr=df1.groupby([ 'Type'])['Sales'].sum().reset_index(name='Sales of Orders').sort_values(by= 'Sales of Orders', ascending= False)\n",
        "px.bar(df_sales_pr.head(10), x='Sales of Orders',y = 'Type',color ='Sales of Orders')\n"
      ]
    },
    {
      "cell_type": "code",
      "execution_count": null,
      "id": "1d76f142",
      "metadata": {
        "execution": {
          "iopub.execute_input": "2021-07-09T10:35:35.371346Z",
          "iopub.status.busy": "2021-07-09T10:35:35.370671Z",
          "iopub.status.idle": "2021-07-09T10:35:35.502017Z",
          "shell.execute_reply": "2021-07-09T10:35:35.502507Z",
          "shell.execute_reply.started": "2021-07-09T08:47:34.187221Z"
        },
        "papermill": {
          "duration": 0.393853,
          "end_time": "2021-07-09T10:35:35.502687",
          "exception": false,
          "start_time": "2021-07-09T10:35:35.108834",
          "status": "completed"
        },
        "tags": [],
        "id": "1d76f142"
      },
      "outputs": [],
      "source": [
        "df_sales_tp=df1.groupby([ 'Type', 'Product Name'])['Sales'].sum().reset_index(name='Sales of Orders').sort_values(by= 'Sales of Orders', ascending= False)\n",
        "px.bar(df_sales_tp.head(10), x='Sales of Orders',y = 'Type',color ='Product Name')\n"
      ]
    },
    {
      "cell_type": "markdown",
      "id": "0ed21e1b",
      "metadata": {
        "papermill": {
          "duration": 0.261244,
          "end_time": "2021-07-09T10:35:36.026342",
          "exception": false,
          "start_time": "2021-07-09T10:35:35.765098",
          "status": "completed"
        },
        "tags": [],
        "id": "0ed21e1b"
      },
      "source": [
        "# Date and sales analysis"
      ]
    },
    {
      "cell_type": "code",
      "execution_count": null,
      "id": "3a2f6635",
      "metadata": {
        "execution": {
          "iopub.execute_input": "2021-07-09T10:35:36.555058Z",
          "iopub.status.busy": "2021-07-09T10:35:36.554362Z",
          "iopub.status.idle": "2021-07-09T10:35:54.262526Z",
          "shell.execute_reply": "2021-07-09T10:35:54.261908Z",
          "shell.execute_reply.started": "2021-07-09T08:47:34.327568Z"
        },
        "papermill": {
          "duration": 17.971984,
          "end_time": "2021-07-09T10:35:54.262689",
          "exception": false,
          "start_time": "2021-07-09T10:35:36.290705",
          "status": "completed"
        },
        "tags": [],
        "id": "3a2f6635"
      },
      "outputs": [],
      "source": [
        "import datetime as dt\n",
        "\n",
        "data_orderdate = df[['order date (DateOrders)', 'Sales']]\n",
        "data_orderdate['order_date'] = pd.to_datetime(data_orderdate['order date (DateOrders)'])\n"
      ]
    },
    {
      "cell_type": "code",
      "execution_count": null,
      "id": "2d5d3d73",
      "metadata": {
        "execution": {
          "iopub.execute_input": "2021-07-09T10:35:54.841589Z",
          "iopub.status.busy": "2021-07-09T10:35:54.840743Z",
          "iopub.status.idle": "2021-07-09T10:35:54.907089Z",
          "shell.execute_reply": "2021-07-09T10:35:54.906439Z",
          "shell.execute_reply.started": "2021-07-09T08:47:52.145205Z"
        },
        "papermill": {
          "duration": 0.379623,
          "end_time": "2021-07-09T10:35:54.907228",
          "exception": false,
          "start_time": "2021-07-09T10:35:54.527605",
          "status": "completed"
        },
        "tags": [],
        "id": "2d5d3d73"
      },
      "outputs": [],
      "source": [
        "data_orderdate[\"Quarter\"] = data_orderdate['order_date'].dt.quarter\n",
        "data_orderdate[\"Month\"] = data_orderdate['order_date'].dt.month\n",
        "data_orderdate[\"Year\"] = data_orderdate['order_date'].dt.year\n"
      ]
    },
    {
      "cell_type": "code",
      "execution_count": null,
      "id": "860cf409",
      "metadata": {
        "execution": {
          "iopub.execute_input": "2021-07-09T10:35:55.436329Z",
          "iopub.status.busy": "2021-07-09T10:35:55.435700Z",
          "iopub.status.idle": "2021-07-09T10:35:55.757332Z",
          "shell.execute_reply": "2021-07-09T10:35:55.758031Z",
          "shell.execute_reply.started": "2021-07-09T08:47:52.215156Z"
        },
        "papermill": {
          "duration": 0.587965,
          "end_time": "2021-07-09T10:35:55.758237",
          "exception": false,
          "start_time": "2021-07-09T10:35:55.170272",
          "status": "completed"
        },
        "tags": [],
        "id": "860cf409"
      },
      "outputs": [],
      "source": [
        "import plotly.express as px\n",
        "\n",
        "data_orderdate['YearStr'] = data_orderdate['year'].astype(str)\n",
        "df_sales_year = data_orderdate.groupby(['YearStr'])['Sales'].sum().reset_index(name='Sales of Orders').sort_values(by='Sales of Orders', ascending=False)\n",
        "px.bar(df_sales_year, x='Sales of Orders', y='YearStr', color='Sales of Orders')\n"
      ]
    },
    {
      "cell_type": "code",
      "execution_count": null,
      "id": "46a4736c",
      "metadata": {
        "execution": {
          "iopub.execute_input": "2021-07-09T10:35:56.514083Z",
          "iopub.status.busy": "2021-07-09T10:35:56.301812Z",
          "iopub.status.idle": "2021-07-09T10:35:56.655189Z",
          "shell.execute_reply": "2021-07-09T10:35:56.655856Z",
          "shell.execute_reply.started": "2021-07-09T08:47:52.558314Z"
        },
        "papermill": {
          "duration": 0.629429,
          "end_time": "2021-07-09T10:35:56.656041",
          "exception": false,
          "start_time": "2021-07-09T10:35:56.026612",
          "status": "completed"
        },
        "tags": [],
        "id": "46a4736c"
      },
      "outputs": [],
      "source": [
        "data_orderdate['QuarterStr'] = data_orderdate['Quarter'].astype(str)\n",
        "df_sales_quarter = data_orderdate.groupby(['YearStr', 'QuarterStr'])['Sales'].sum().reset_index(name='Sales of Orders').sort_values(by='Sales of Orders', ascending=False)\n",
        "px.bar(df_sales_quarter, x='Sales of Orders', y='QuarterStr', color='YearStr')\n"
      ]
    },
    {
      "cell_type": "code",
      "execution_count": null,
      "id": "cc464af3",
      "metadata": {
        "execution": {
          "iopub.execute_input": "2021-07-09T10:35:57.430217Z",
          "iopub.status.busy": "2021-07-09T10:35:57.214838Z",
          "iopub.status.idle": "2021-07-09T10:35:57.594774Z",
          "shell.execute_reply": "2021-07-09T10:35:57.595274Z",
          "shell.execute_reply.started": "2021-07-09T08:47:52.925105Z"
        },
        "papermill": {
          "duration": 0.661371,
          "end_time": "2021-07-09T10:35:57.595442",
          "exception": false,
          "start_time": "2021-07-09T10:35:56.934071",
          "status": "completed"
        },
        "tags": [],
        "id": "cc464af3"
      },
      "outputs": [],
      "source": [
        "data_orderdate['MonthStr'] = data_orderdate['Month'].astype(str)\n",
        "df_sales_m = data_orderdate.groupby(['QuarterStr', 'MonthStr'])['Sales'].sum().reset_index(name='Sales of Orders').sort_values(by='Sales of Orders', ascending=False)\n",
        "px.bar(df_sales_m, x='Sales of Orders', y='QuarterStr', color='MonthStr')\n"
      ]
    },
    {
      "cell_type": "code",
      "execution_count": null,
      "id": "0ea1f256",
      "metadata": {
        "papermill": {
          "duration": 0.323663,
          "end_time": "2021-07-09T10:35:58.203446",
          "exception": false,
          "start_time": "2021-07-09T10:35:57.879783",
          "status": "completed"
        },
        "tags": [],
        "id": "0ea1f256"
      },
      "outputs": [],
      "source": []
    },
    {
      "cell_type": "markdown",
      "id": "2e2d1216",
      "metadata": {
        "papermill": {
          "duration": 0.284338,
          "end_time": "2021-07-09T10:35:58.768337",
          "exception": false,
          "start_time": "2021-07-09T10:35:58.483999",
          "status": "completed"
        },
        "tags": [],
        "id": "2e2d1216"
      },
      "source": [
        "# Forecasting"
      ]
    },
    {
      "cell_type": "markdown",
      "id": "92ed918b",
      "metadata": {
        "papermill": {
          "duration": 0.279332,
          "end_time": "2021-07-09T10:35:59.330216",
          "exception": false,
          "start_time": "2021-07-09T10:35:59.050884",
          "status": "completed"
        },
        "tags": [],
        "id": "92ed918b"
      },
      "source": [
        "Predicting if an order is fraud or not"
      ]
    },
    {
      "cell_type": "code",
      "execution_count": null,
      "id": "70f51fc9",
      "metadata": {
        "execution": {
          "iopub.execute_input": "2021-07-09T10:35:59.969704Z",
          "iopub.status.busy": "2021-07-09T10:35:59.968168Z",
          "iopub.status.idle": "2021-07-09T10:36:00.027276Z",
          "shell.execute_reply": "2021-07-09T10:36:00.026607Z",
          "shell.execute_reply.started": "2021-07-09T08:47:53.332452Z"
        },
        "papermill": {
          "duration": 0.411033,
          "end_time": "2021-07-09T10:36:00.027417",
          "exception": false,
          "start_time": "2021-07-09T10:35:59.616384",
          "status": "completed"
        },
        "tags": [],
        "id": "70f51fc9"
      },
      "outputs": [],
      "source": [
        "data=df1.copy()\n",
        "data['SUSPECTED_FRAUD'] = np.where(data['Order Status'] == 'SUSPECTED_FRAUD', 1, 0)"
      ]
    },
    {
      "cell_type": "code",
      "execution_count": null,
      "id": "341bf9f2",
      "metadata": {
        "execution": {
          "iopub.execute_input": "2021-07-09T10:36:00.644286Z",
          "iopub.status.busy": "2021-07-09T10:36:00.643579Z",
          "iopub.status.idle": "2021-07-09T10:36:00.760752Z",
          "shell.execute_reply": "2021-07-09T10:36:00.761288Z",
          "shell.execute_reply.started": "2021-07-09T08:47:53.441752Z"
        },
        "papermill": {
          "duration": 0.405231,
          "end_time": "2021-07-09T10:36:00.761474",
          "exception": false,
          "start_time": "2021-07-09T10:36:00.356243",
          "status": "completed"
        },
        "tags": [],
        "id": "341bf9f2"
      },
      "outputs": [],
      "source": [
        "from sklearn.preprocessing import LabelEncoder\n",
        "le=LabelEncoder()\n",
        "def Labelencoder_feature(x):\n",
        "    le=LabelEncoder()\n",
        "    x=le.fit_transform(x)\n",
        "    return x\n"
      ]
    },
    {
      "cell_type": "code",
      "execution_count": null,
      "id": "3cb81786",
      "metadata": {
        "execution": {
          "iopub.execute_input": "2021-07-09T10:36:01.340296Z",
          "iopub.status.busy": "2021-07-09T10:36:01.339018Z",
          "iopub.status.idle": "2021-07-09T10:36:01.500496Z",
          "shell.execute_reply": "2021-07-09T10:36:01.501036Z",
          "shell.execute_reply.started": "2021-07-09T08:47:53.569705Z"
        },
        "papermill": {
          "duration": 0.453494,
          "end_time": "2021-07-09T10:36:01.501211",
          "exception": false,
          "start_time": "2021-07-09T10:36:01.047717",
          "status": "completed"
        },
        "tags": [],
        "id": "3cb81786"
      },
      "outputs": [],
      "source": [
        "features=data.drop(columns=['SUSPECTED_FRAUD','Order Status' ])\n",
        "target=data['SUSPECTED_FRAUD']"
      ]
    },
    {
      "cell_type": "code",
      "execution_count": null,
      "id": "e915586d",
      "metadata": {
        "execution": {
          "iopub.execute_input": "2021-07-09T10:36:02.076517Z",
          "iopub.status.busy": "2021-07-09T10:36:02.075547Z",
          "iopub.status.idle": "2021-07-09T10:36:02.422224Z",
          "shell.execute_reply": "2021-07-09T10:36:02.422741Z",
          "shell.execute_reply.started": "2021-07-09T08:47:53.753259Z"
        },
        "papermill": {
          "duration": 0.636664,
          "end_time": "2021-07-09T10:36:02.422912",
          "exception": false,
          "start_time": "2021-07-09T10:36:01.786248",
          "status": "completed"
        },
        "tags": [],
        "id": "e915586d"
      },
      "outputs": [],
      "source": [
        "features.isnull().sum()"
      ]
    },
    {
      "cell_type": "markdown",
      "id": "2894cc3a",
      "metadata": {
        "papermill": {
          "duration": 0.283055,
          "end_time": "2021-07-09T10:36:02.990634",
          "exception": false,
          "start_time": "2021-07-09T10:36:02.707579",
          "status": "completed"
        },
        "tags": [],
        "id": "2894cc3a"
      },
      "source": [
        "we can consider NaN values as a separte class using LabelEncoder"
      ]
    },
    {
      "cell_type": "code",
      "execution_count": null,
      "id": "372b0655",
      "metadata": {
        "execution": {
          "iopub.execute_input": "2021-07-09T10:36:03.606461Z",
          "iopub.status.busy": "2021-07-09T10:36:03.605856Z",
          "iopub.status.idle": "2021-07-09T10:36:05.476159Z",
          "shell.execute_reply": "2021-07-09T10:36:05.476683Z",
          "shell.execute_reply.started": "2021-07-09T08:47:54.123986Z"
        },
        "papermill": {
          "duration": 2.158108,
          "end_time": "2021-07-09T10:36:05.476866",
          "exception": false,
          "start_time": "2021-07-09T10:36:03.318758",
          "status": "completed"
        },
        "tags": [],
        "id": "372b0655"
      },
      "outputs": [],
      "source": [
        "features=features.apply(Labelencoder_feature)\n",
        "features.head()"
      ]
    },
    {
      "cell_type": "code",
      "execution_count": null,
      "id": "240627d7",
      "metadata": {
        "execution": {
          "iopub.execute_input": "2021-07-09T10:36:06.052099Z",
          "iopub.status.busy": "2021-07-09T10:36:06.051443Z",
          "iopub.status.idle": "2021-07-09T10:36:06.083296Z",
          "shell.execute_reply": "2021-07-09T10:36:06.083803Z",
          "shell.execute_reply.started": "2021-07-09T08:47:56.145955Z"
        },
        "papermill": {
          "duration": 0.321513,
          "end_time": "2021-07-09T10:36:06.083993",
          "exception": false,
          "start_time": "2021-07-09T10:36:05.762480",
          "status": "completed"
        },
        "tags": [],
        "id": "240627d7"
      },
      "outputs": [],
      "source": [
        "#deleting features which high-correlated with other features to avoid multicollinarity\n",
        "data1=pd.concat([features,target],axis=1)\n"
      ]
    },
    {
      "cell_type": "code",
      "execution_count": null,
      "id": "b0c303df",
      "metadata": {
        "execution": {
          "iopub.execute_input": "2021-07-09T10:36:06.656541Z",
          "iopub.status.busy": "2021-07-09T10:36:06.655934Z",
          "iopub.status.idle": "2021-07-09T10:36:07.812415Z",
          "shell.execute_reply": "2021-07-09T10:36:07.811825Z",
          "shell.execute_reply.started": "2021-07-09T08:47:56.164855Z"
        },
        "papermill": {
          "duration": 1.443949,
          "end_time": "2021-07-09T10:36:07.812558",
          "exception": false,
          "start_time": "2021-07-09T10:36:06.368609",
          "status": "completed"
        },
        "tags": [],
        "id": "b0c303df"
      },
      "outputs": [],
      "source": [
        "#deleting features which high-correlated with other features to avoid multicollinarity\n",
        "\n",
        "corr = data1.corr()\n",
        "columns = np.full((corr.shape[0],), True, dtype=bool)\n",
        "for i in range(corr.shape[0]):\n",
        "    for j in range(i+1, corr.shape[0]):\n",
        "        if corr.iloc[i,j] >= 0.8:\n",
        "            if columns[j]:\n",
        "                columns[j] = False\n",
        "selected_columns = data1.columns[columns]\n",
        "selected_columns"
      ]
    },
    {
      "cell_type": "code",
      "execution_count": null,
      "id": "d2c454e8",
      "metadata": {
        "execution": {
          "iopub.execute_input": "2021-07-09T10:36:08.459250Z",
          "iopub.status.busy": "2021-07-09T10:36:08.458550Z",
          "iopub.status.idle": "2021-07-09T10:36:08.461713Z",
          "shell.execute_reply": "2021-07-09T10:36:08.461200Z",
          "shell.execute_reply.started": "2021-07-09T08:47:57.335980Z"
        },
        "papermill": {
          "duration": 0.358415,
          "end_time": "2021-07-09T10:36:08.461862",
          "exception": false,
          "start_time": "2021-07-09T10:36:08.103447",
          "status": "completed"
        },
        "tags": [],
        "id": "d2c454e8"
      },
      "outputs": [],
      "source": [
        "features1=features[['Type', 'Benefit per order', 'Sales per customer', 'Delivery Status', 'Late_delivery_risk', \n",
        "                    'Category Name', 'Customer City', 'Customer Country', 'Customer Id', 'Customer Segment', \n",
        "                    'Customer State', 'Customer Zipcode', 'Department Name', 'Latitude', 'Longitude', 'Market', \n",
        "                    'Order City', 'Order Country', 'order date (DateOrders)', 'Order Id', 'Order Item Cardprod Id',\n",
        "                    'Order Item Discount', 'Order Item Discount Rate', 'Order Item Product Price', 'Order Item Quantity',\n",
        "                    'Order Region', 'Order State', 'Order Zipcode', 'Product Description', 'Product Image', \n",
        "                    'Product Status', 'Shipping Mode', 'Customer_ID_STR']]"
      ]
    },
    {
      "cell_type": "code",
      "execution_count": null,
      "id": "6e4bf19a",
      "metadata": {
        "execution": {
          "iopub.execute_input": "2021-07-09T10:36:09.044498Z",
          "iopub.status.busy": "2021-07-09T10:36:09.043326Z",
          "iopub.status.idle": "2021-07-09T10:36:09.445678Z",
          "shell.execute_reply": "2021-07-09T10:36:09.446612Z",
          "shell.execute_reply.started": "2021-07-09T08:47:57.370281Z"
        },
        "papermill": {
          "duration": 0.696199,
          "end_time": "2021-07-09T10:36:09.446921",
          "exception": false,
          "start_time": "2021-07-09T10:36:08.750722",
          "status": "completed"
        },
        "tags": [],
        "id": "6e4bf19a"
      },
      "outputs": [],
      "source": [
        "from scipy.stats import pearsonr\n",
        "\n",
        "corre=pd.DataFrame()\n",
        "\n",
        "for i in features1.columns:\n",
        "    corre[i]= pearsonr(target, features1[i])\n",
        "    \n",
        "    \n",
        "corre"
      ]
    },
    {
      "cell_type": "code",
      "execution_count": null,
      "id": "a611a2fd",
      "metadata": {
        "execution": {
          "iopub.execute_input": "2021-07-09T10:36:10.061186Z",
          "iopub.status.busy": "2021-07-09T10:36:10.060527Z",
          "iopub.status.idle": "2021-07-09T10:36:10.062388Z",
          "shell.execute_reply": "2021-07-09T10:36:10.062899Z",
          "shell.execute_reply.started": "2021-07-09T08:47:57.809861Z"
        },
        "papermill": {
          "duration": 0.29692,
          "end_time": "2021-07-09T10:36:10.063070",
          "exception": false,
          "start_time": "2021-07-09T10:36:09.766150",
          "status": "completed"
        },
        "tags": [],
        "id": "a611a2fd"
      },
      "outputs": [],
      "source": [
        "corre1=corre.T"
      ]
    },
    {
      "cell_type": "code",
      "execution_count": null,
      "id": "8e86954d",
      "metadata": {
        "execution": {
          "iopub.execute_input": "2021-07-09T10:36:10.645040Z",
          "iopub.status.busy": "2021-07-09T10:36:10.644313Z",
          "iopub.status.idle": "2021-07-09T10:36:10.647918Z",
          "shell.execute_reply": "2021-07-09T10:36:10.648408Z",
          "shell.execute_reply.started": "2021-07-09T08:47:57.825455Z"
        },
        "papermill": {
          "duration": 0.298606,
          "end_time": "2021-07-09T10:36:10.648606",
          "exception": false,
          "start_time": "2021-07-09T10:36:10.350000",
          "status": "completed"
        },
        "tags": [],
        "id": "8e86954d"
      },
      "outputs": [],
      "source": [
        "coore2= corre1.iloc[:,0].sort_values(ascending=False)\n",
        "\n",
        "coore2"
      ]
    },
    {
      "cell_type": "code",
      "execution_count": null,
      "id": "0892ada8",
      "metadata": {
        "execution": {
          "iopub.execute_input": "2021-07-09T10:36:11.317707Z",
          "iopub.status.busy": "2021-07-09T10:36:11.317053Z",
          "iopub.status.idle": "2021-07-09T10:36:11.319855Z",
          "shell.execute_reply": "2021-07-09T10:36:11.320468Z",
          "shell.execute_reply.started": "2021-07-09T08:47:57.843978Z"
        },
        "papermill": {
          "duration": 0.353877,
          "end_time": "2021-07-09T10:36:11.320637",
          "exception": false,
          "start_time": "2021-07-09T10:36:10.966760",
          "status": "completed"
        },
        "tags": [],
        "id": "0892ada8"
      },
      "outputs": [],
      "source": [
        "coore2.index"
      ]
    },
    {
      "cell_type": "markdown",
      "id": "0d5bba98",
      "metadata": {
        "papermill": {
          "duration": 0.298573,
          "end_time": "2021-07-09T10:36:11.915890",
          "exception": false,
          "start_time": "2021-07-09T10:36:11.617317",
          "status": "completed"
        },
        "tags": [],
        "id": "0d5bba98"
      },
      "source": [
        "omit all features which have less than +-0.004 correlation with target"
      ]
    },
    {
      "cell_type": "code",
      "execution_count": null,
      "id": "da95ff91",
      "metadata": {
        "execution": {
          "iopub.execute_input": "2021-07-09T10:36:12.531190Z",
          "iopub.status.busy": "2021-07-09T10:36:12.530449Z",
          "iopub.status.idle": "2021-07-09T10:36:12.536169Z",
          "shell.execute_reply": "2021-07-09T10:36:12.536742Z",
          "shell.execute_reply.started": "2021-07-09T08:47:57.856387Z"
        },
        "papermill": {
          "duration": 0.326786,
          "end_time": "2021-07-09T10:36:12.536916",
          "exception": false,
          "start_time": "2021-07-09T10:36:12.210130",
          "status": "completed"
        },
        "tags": [],
        "id": "da95ff91"
      },
      "outputs": [],
      "source": [
        "new_features= ['Type', 'Delivery Status', 'Order Region', 'Customer Country', 'Customer State', 'Order Zipcode',\n",
        "               'Shipping Mode', 'Order Country', 'Customer Zipcode', 'Order City', 'Customer Segment', 'Order State',\n",
        "               'Late_delivery_risk', 'Product Description', 'Product Status']"
      ]
    },
    {
      "cell_type": "code",
      "execution_count": null,
      "id": "f84ac1f0",
      "metadata": {
        "execution": {
          "iopub.execute_input": "2021-07-09T10:36:13.138689Z",
          "iopub.status.busy": "2021-07-09T10:36:13.138081Z",
          "iopub.status.idle": "2021-07-09T10:36:13.554739Z",
          "shell.execute_reply": "2021-07-09T10:36:13.555732Z",
          "shell.execute_reply.started": "2021-07-09T08:47:57.867506Z"
        },
        "papermill": {
          "duration": 0.711869,
          "end_time": "2021-07-09T10:36:13.556011",
          "exception": false,
          "start_time": "2021-07-09T10:36:12.844142",
          "status": "completed"
        },
        "tags": [],
        "id": "f84ac1f0"
      },
      "outputs": [],
      "source": [
        "#Feature Selection\n",
        "\n",
        "# Feature Selection based on importance\n",
        "from sklearn.feature_selection import f_regression\n",
        "F_values, p_values  = f_regression(features, target)"
      ]
    },
    {
      "cell_type": "code",
      "execution_count": null,
      "id": "66914527",
      "metadata": {
        "execution": {
          "iopub.execute_input": "2021-07-09T10:36:14.231588Z",
          "iopub.status.busy": "2021-07-09T10:36:14.230943Z",
          "iopub.status.idle": "2021-07-09T10:36:14.232795Z",
          "shell.execute_reply": "2021-07-09T10:36:14.233296Z",
          "shell.execute_reply.started": "2021-07-09T08:47:58.379395Z"
        },
        "papermill": {
          "duration": 0.338139,
          "end_time": "2021-07-09T10:36:14.233464",
          "exception": false,
          "start_time": "2021-07-09T10:36:13.895325",
          "status": "completed"
        },
        "tags": [],
        "id": "66914527"
      },
      "outputs": [],
      "source": [
        "import itertools\n",
        "f_reg_results = [(i, v, z) for i, v, z in itertools.zip_longest(features.columns, F_values,  ['%.3f' % p for p in p_values])]\n",
        "f_reg_results=pd.DataFrame(f_reg_results, columns=['Variable','F_Value', 'P_Value'])"
      ]
    },
    {
      "cell_type": "code",
      "execution_count": null,
      "id": "72537ce4",
      "metadata": {
        "execution": {
          "iopub.execute_input": "2021-07-09T10:36:14.815969Z",
          "iopub.status.busy": "2021-07-09T10:36:14.815265Z",
          "iopub.status.idle": "2021-07-09T10:36:14.843975Z",
          "shell.execute_reply": "2021-07-09T10:36:14.844427Z",
          "shell.execute_reply.started": "2021-07-09T08:47:58.393395Z"
        },
        "papermill": {
          "duration": 0.324579,
          "end_time": "2021-07-09T10:36:14.844597",
          "exception": false,
          "start_time": "2021-07-09T10:36:14.520018",
          "status": "completed"
        },
        "tags": [],
        "id": "72537ce4"
      },
      "outputs": [],
      "source": [
        "f_reg_results=pd.DataFrame(f_reg_results, columns=['Variable','F_Value', 'P_Value'])\n",
        "f_reg_results = f_reg_results.sort_values(by=['P_Value'])\n",
        "f_reg_results.P_Value= f_reg_results.P_Value.astype(float)\n",
        "f_reg_results=f_reg_results[f_reg_results.P_Value<0.06]\n",
        "f_reg_results"
      ]
    },
    {
      "cell_type": "code",
      "execution_count": null,
      "id": "12a40b9d",
      "metadata": {
        "execution": {
          "iopub.execute_input": "2021-07-09T10:36:15.426098Z",
          "iopub.status.busy": "2021-07-09T10:36:15.425480Z",
          "iopub.status.idle": "2021-07-09T10:36:15.430355Z",
          "shell.execute_reply": "2021-07-09T10:36:15.430976Z",
          "shell.execute_reply.started": "2021-07-09T08:47:58.448641Z"
        },
        "papermill": {
          "duration": 0.298097,
          "end_time": "2021-07-09T10:36:15.431139",
          "exception": false,
          "start_time": "2021-07-09T10:36:15.133042",
          "status": "completed"
        },
        "tags": [],
        "id": "12a40b9d"
      },
      "outputs": [],
      "source": [
        "f_reg_list=f_reg_results.Variable.values\n",
        "f_reg_list"
      ]
    },
    {
      "cell_type": "code",
      "execution_count": null,
      "id": "5739e303",
      "metadata": {
        "execution": {
          "iopub.execute_input": "2021-07-09T10:36:16.009051Z",
          "iopub.status.busy": "2021-07-09T10:36:16.008392Z",
          "iopub.status.idle": "2021-07-09T10:36:16.018231Z",
          "shell.execute_reply": "2021-07-09T10:36:16.018732Z",
          "shell.execute_reply.started": "2021-07-09T08:47:58.461074Z"
        },
        "papermill": {
          "duration": 0.301026,
          "end_time": "2021-07-09T10:36:16.018912",
          "exception": false,
          "start_time": "2021-07-09T10:36:15.717886",
          "status": "completed"
        },
        "tags": [],
        "id": "5739e303"
      },
      "outputs": [],
      "source": [
        "#final features list is both f_ref_list and new_feature\n",
        "final_features=features[['Type', 'Order Region', 'Delivery Status', 'Late_delivery_risk',\n",
        "       'Customer Country', 'Order State', 'Order City',\n",
        "       'Customer Segment', 'Customer State', 'Customer Zipcode',\n",
        "       'Order Country', 'Order Zipcode', 'shipping date (DateOrders)',\n",
        "       'Shipping Mode']]"
      ]
    },
    {
      "cell_type": "code",
      "execution_count": null,
      "id": "c3b38072",
      "metadata": {
        "execution": {
          "iopub.execute_input": "2021-07-09T10:36:16.637149Z",
          "iopub.status.busy": "2021-07-09T10:36:16.636521Z",
          "iopub.status.idle": "2021-07-09T10:36:16.646736Z",
          "shell.execute_reply": "2021-07-09T10:36:16.647209Z",
          "shell.execute_reply.started": "2021-07-09T08:47:58.482041Z"
        },
        "papermill": {
          "duration": 0.300091,
          "end_time": "2021-07-09T10:36:16.647388",
          "exception": false,
          "start_time": "2021-07-09T10:36:16.347297",
          "status": "completed"
        },
        "tags": [],
        "id": "c3b38072"
      },
      "outputs": [],
      "source": [
        "final_data=pd.concat([final_features, target], axis=1)"
      ]
    },
    {
      "cell_type": "code",
      "execution_count": null,
      "id": "40877ddd",
      "metadata": {
        "execution": {
          "iopub.execute_input": "2021-07-09T10:36:17.228514Z",
          "iopub.status.busy": "2021-07-09T10:36:17.227911Z",
          "iopub.status.idle": "2021-07-09T10:36:19.014515Z",
          "shell.execute_reply": "2021-07-09T10:36:19.015017Z",
          "shell.execute_reply.started": "2021-07-09T08:47:58.500789Z"
        },
        "papermill": {
          "duration": 2.077919,
          "end_time": "2021-07-09T10:36:19.015185",
          "exception": false,
          "start_time": "2021-07-09T10:36:16.937266",
          "status": "completed"
        },
        "tags": [],
        "id": "40877ddd"
      },
      "outputs": [],
      "source": [
        "fig = plt.figure(figsize=(20,10))\n",
        "sns.heatmap(final_data.corr(), annot = True, fmt = '.2f', cmap = 'magma')"
      ]
    },
    {
      "cell_type": "markdown",
      "id": "b7f9e043",
      "metadata": {
        "papermill": {
          "duration": 0.293035,
          "end_time": "2021-07-09T10:36:19.606785",
          "exception": false,
          "start_time": "2021-07-09T10:36:19.313750",
          "status": "completed"
        },
        "tags": [],
        "id": "b7f9e043"
      },
      "source": [
        "customer ZipCode and Customer state have high correlation with Customer Country. we can omit them and keep only customer country"
      ]
    },
    {
      "cell_type": "code",
      "execution_count": null,
      "id": "5f4ccb61",
      "metadata": {
        "execution": {
          "iopub.execute_input": "2021-07-09T10:36:20.254078Z",
          "iopub.status.busy": "2021-07-09T10:36:20.253081Z",
          "iopub.status.idle": "2021-07-09T10:36:20.256087Z",
          "shell.execute_reply": "2021-07-09T10:36:20.255429Z",
          "shell.execute_reply.started": "2021-07-09T08:48:00.264982Z"
        },
        "papermill": {
          "duration": 0.352306,
          "end_time": "2021-07-09T10:36:20.256229",
          "exception": false,
          "start_time": "2021-07-09T10:36:19.903923",
          "status": "completed"
        },
        "tags": [],
        "id": "5f4ccb61"
      },
      "outputs": [],
      "source": [
        "final_features2=final_features.drop(columns=['Customer State', 'Customer Zipcode'])"
      ]
    },
    {
      "cell_type": "code",
      "execution_count": null,
      "id": "fec89b0f",
      "metadata": {
        "execution": {
          "iopub.execute_input": "2021-07-09T10:36:20.852489Z",
          "iopub.status.busy": "2021-07-09T10:36:20.851802Z",
          "iopub.status.idle": "2021-07-09T10:36:21.010596Z",
          "shell.execute_reply": "2021-07-09T10:36:21.009918Z",
          "shell.execute_reply.started": "2021-07-09T08:48:00.284768Z"
        },
        "papermill": {
          "duration": 0.462477,
          "end_time": "2021-07-09T10:36:21.010783",
          "exception": false,
          "start_time": "2021-07-09T10:36:20.548306",
          "status": "completed"
        },
        "tags": [],
        "id": "fec89b0f"
      },
      "outputs": [],
      "source": [
        "from sklearn.pipeline import make_pipeline\n",
        "from sklearn.pipeline import Pipeline\n",
        "from sklearn.preprocessing import StandardScaler\n",
        "from sklearn.model_selection import cross_val_score, cross_validate\n",
        "from sklearn.model_selection import GridSearchCV, RandomizedSearchCV\n",
        "from sklearn.linear_model import LogisticRegression\n",
        "from sklearn.ensemble import RandomForestClassifier\n",
        "from sklearn.neighbors import KNeighborsClassifier\n",
        "from sklearn.naive_bayes import GaussianNB\n",
        "from sklearn.linear_model import SGDClassifier\n",
        "from sklearn.tree import DecisionTreeClassifier\n",
        "from sklearn.preprocessing import StandardScaler\n",
        "from xgboost import XGBClassifier\n",
        "from sklearn.metrics import *\n",
        "from sklearn import metrics\n",
        "from sklearn.metrics import classification_report"
      ]
    },
    {
      "cell_type": "code",
      "execution_count": null,
      "id": "933db17f",
      "metadata": {
        "execution": {
          "iopub.execute_input": "2021-07-09T10:36:21.601618Z",
          "iopub.status.busy": "2021-07-09T10:36:21.601005Z",
          "iopub.status.idle": "2021-07-09T10:36:21.640209Z",
          "shell.execute_reply": "2021-07-09T10:36:21.639547Z",
          "shell.execute_reply.started": "2021-07-09T08:48:00.460084Z"
        },
        "papermill": {
          "duration": 0.336101,
          "end_time": "2021-07-09T10:36:21.640351",
          "exception": false,
          "start_time": "2021-07-09T10:36:21.304250",
          "status": "completed"
        },
        "tags": [],
        "id": "933db17f"
      },
      "outputs": [],
      "source": [
        "from sklearn.model_selection import train_test_split\n",
        "X_train, X_test, y_train, y_test = train_test_split(final_features2, target, test_size = 0.2, random_state = 42)"
      ]
    },
    {
      "cell_type": "markdown",
      "id": "6cbc4982",
      "metadata": {
        "papermill": {
          "duration": 0.298898,
          "end_time": "2021-07-09T10:36:22.255383",
          "exception": false,
          "start_time": "2021-07-09T10:36:21.956485",
          "status": "completed"
        },
        "tags": [],
        "id": "6cbc4982"
      },
      "source": [
        "I use several classifiaction models using also CV to find the best model with best hyper parameter. \n",
        "pre-proccessing method is standard scaler\n"
      ]
    },
    {
      "cell_type": "code",
      "execution_count": null,
      "id": "d575adb5",
      "metadata": {
        "execution": {
          "iopub.execute_input": "2021-07-09T10:36:22.894629Z",
          "iopub.status.busy": "2021-07-09T10:36:22.893885Z",
          "iopub.status.idle": "2021-07-09T10:36:22.897260Z",
          "shell.execute_reply": "2021-07-09T10:36:22.897752Z",
          "shell.execute_reply.started": "2021-07-09T08:48:00.518829Z"
        },
        "papermill": {
          "duration": 0.305897,
          "end_time": "2021-07-09T10:36:22.897937",
          "exception": false,
          "start_time": "2021-07-09T10:36:22.592040",
          "status": "completed"
        },
        "tags": [],
        "id": "d575adb5"
      },
      "outputs": [],
      "source": [
        "lgr_pipline  = Pipeline([(\"scaler\", StandardScaler()), (\"LogisticRegression\", LogisticRegression())])\n",
        "rfc_pipline = Pipeline([(\"scaler\", StandardScaler()), (\"RandomForestClassifier\", RandomForestClassifier())])\n",
        "knn_pipline = Pipeline([(\"scaler\", StandardScaler()), (\"KNeighborsClassifier\", KNeighborsClassifier())])\n",
        "gnb_pipline = Pipeline([(\"scaler\", StandardScaler()), (\"GaussianNB\", GaussianNB())])\n",
        "sgd_pipline = Pipeline([(\"scaler\", StandardScaler()), (\"SGDClassifier\", SGDClassifier())])\n",
        "dt_pipline = Pipeline([(\"scaler\", StandardScaler()), (\"DecisionTreeClassifier\", DecisionTreeClassifier())])\n"
      ]
    },
    {
      "cell_type": "code",
      "execution_count": null,
      "id": "8c0fa71d",
      "metadata": {
        "execution": {
          "iopub.execute_input": "2021-07-09T10:36:23.489325Z",
          "iopub.status.busy": "2021-07-09T10:36:23.488610Z",
          "iopub.status.idle": "2021-07-09T10:36:23.491466Z",
          "shell.execute_reply": "2021-07-09T10:36:23.491973Z",
          "shell.execute_reply.started": "2021-07-09T08:48:00.530746Z"
        },
        "papermill": {
          "duration": 0.299942,
          "end_time": "2021-07-09T10:36:23.492156",
          "exception": false,
          "start_time": "2021-07-09T10:36:23.192214",
          "status": "completed"
        },
        "tags": [],
        "id": "8c0fa71d"
      },
      "outputs": [],
      "source": [
        "pip_dict1 ={0:'Logistic Regression' , 1:'RandomForestClassifier' , 2: 'KNeighborsClassifier' ,\n",
        "            3: 'GaussianNB', 4: 'SGDClassifier', 5: 'DecisionTreeClassifier' }"
      ]
    },
    {
      "cell_type": "code",
      "execution_count": null,
      "id": "10970f63",
      "metadata": {
        "execution": {
          "iopub.execute_input": "2021-07-09T10:36:24.088762Z",
          "iopub.status.busy": "2021-07-09T10:36:24.088110Z",
          "iopub.status.idle": "2021-07-09T10:36:24.090908Z",
          "shell.execute_reply": "2021-07-09T10:36:24.090419Z",
          "shell.execute_reply.started": "2021-07-09T08:48:00.545786Z"
        },
        "papermill": {
          "duration": 0.305,
          "end_time": "2021-07-09T10:36:24.091049",
          "exception": false,
          "start_time": "2021-07-09T10:36:23.786049",
          "status": "completed"
        },
        "tags": [],
        "id": "10970f63"
      },
      "outputs": [],
      "source": [
        "piplines1=[lgr_pipline, rfc_pipline , knn_pipline, gnb_pipline  , sgd_pipline , dt_pipline ]"
      ]
    },
    {
      "cell_type": "code",
      "execution_count": null,
      "id": "ece76f05",
      "metadata": {
        "execution": {
          "iopub.execute_input": "2021-07-09T10:36:24.686819Z",
          "iopub.status.busy": "2021-07-09T10:36:24.686095Z",
          "iopub.status.idle": "2021-07-09T10:38:47.292183Z",
          "shell.execute_reply": "2021-07-09T10:38:47.291646Z",
          "shell.execute_reply.started": "2021-07-09T08:48:00.559849Z"
        },
        "papermill": {
          "duration": 142.906893,
          "end_time": "2021-07-09T10:38:47.292333",
          "exception": false,
          "start_time": "2021-07-09T10:36:24.385440",
          "status": "completed"
        },
        "tags": [],
        "id": "ece76f05"
      },
      "outputs": [],
      "source": [
        "scores_df = pd.DataFrame(columns = [\"Model\", \"CVScores\"])\n",
        "for i, pipe in enumerate(piplines1):\n",
        "    score = cross_val_score(pipe, final_features2, target, cv = 10)\n",
        "    print(pip_dict1[i], \": \", score.mean())"
      ]
    },
    {
      "cell_type": "code",
      "execution_count": null,
      "id": "b2e39914",
      "metadata": {
        "execution": {
          "iopub.execute_input": "2021-07-09T10:38:47.885900Z",
          "iopub.status.busy": "2021-07-09T10:38:47.884918Z",
          "iopub.status.idle": "2021-07-09T10:38:47.887647Z",
          "shell.execute_reply": "2021-07-09T10:38:47.887142Z",
          "shell.execute_reply.started": "2021-07-09T08:50:47.557613Z"
        },
        "papermill": {
          "duration": 0.302764,
          "end_time": "2021-07-09T10:38:47.887799",
          "exception": false,
          "start_time": "2021-07-09T10:38:47.585035",
          "status": "completed"
        },
        "tags": [],
        "id": "b2e39914"
      },
      "outputs": [],
      "source": [
        "grid_params = [\n",
        "    {\"classifier\": [RandomForestClassifier()],\n",
        "    \"classifier__n_estimators\": [50,100,150,200,250,300],\n",
        "    \"classifier__criterion\": [\"gini\", \"entropy\"],\n",
        "    \"classifier__max_features\": [\"auto\", \"sqrt\", \"log2\"],\n",
        "    },\n",
        "    \n",
        "    \n",
        "    \n",
        "    \n",
        "]"
      ]
    },
    {
      "cell_type": "code",
      "execution_count": null,
      "id": "1999678f",
      "metadata": {
        "execution": {
          "iopub.execute_input": "2021-07-09T10:38:48.480899Z",
          "iopub.status.busy": "2021-07-09T10:38:48.480244Z",
          "iopub.status.idle": "2021-07-09T10:38:48.482897Z",
          "shell.execute_reply": "2021-07-09T10:38:48.482401Z",
          "shell.execute_reply.started": "2021-07-09T08:50:47.565902Z"
        },
        "papermill": {
          "duration": 0.299085,
          "end_time": "2021-07-09T10:38:48.483044",
          "exception": false,
          "start_time": "2021-07-09T10:38:48.183959",
          "status": "completed"
        },
        "tags": [],
        "id": "1999678f"
      },
      "outputs": [],
      "source": [
        "pipeline_new = Pipeline([(\"scaler\", StandardScaler()), (\"classifier\", RandomForestClassifier())])\n",
        "\n",
        "random_search = RandomizedSearchCV(estimator = pipeline_new, param_distributions = grid_params, scoring = 'neg_mean_absolute_error', n_jobs= -1, cv = 8, verbose = 10, random_state = 42)\n"
      ]
    },
    {
      "cell_type": "code",
      "execution_count": null,
      "id": "c454ba71",
      "metadata": {
        "execution": {
          "iopub.execute_input": "2021-07-09T10:38:49.119108Z",
          "iopub.status.busy": "2021-07-09T10:38:49.118458Z",
          "iopub.status.idle": "2021-07-09T10:44:48.232837Z",
          "shell.execute_reply": "2021-07-09T10:44:48.232254Z",
          "shell.execute_reply.started": "2021-07-09T08:50:47.590416Z"
        },
        "papermill": {
          "duration": 359.457299,
          "end_time": "2021-07-09T10:44:48.232999",
          "exception": false,
          "start_time": "2021-07-09T10:38:48.775700",
          "status": "completed"
        },
        "tags": [],
        "id": "c454ba71"
      },
      "outputs": [],
      "source": [
        "best_model = random_search.fit(X_train, y_train)"
      ]
    },
    {
      "cell_type": "code",
      "execution_count": null,
      "id": "ba79763a",
      "metadata": {
        "execution": {
          "iopub.execute_input": "2021-07-09T10:44:48.883441Z",
          "iopub.status.busy": "2021-07-09T10:44:48.882790Z",
          "iopub.status.idle": "2021-07-09T10:44:48.888335Z",
          "shell.execute_reply": "2021-07-09T10:44:48.887827Z",
          "shell.execute_reply.started": "2021-07-09T08:57:04.867298Z"
        },
        "papermill": {
          "duration": 0.30835,
          "end_time": "2021-07-09T10:44:48.888483",
          "exception": false,
          "start_time": "2021-07-09T10:44:48.580133",
          "status": "completed"
        },
        "tags": [],
        "id": "ba79763a"
      },
      "outputs": [],
      "source": [
        "best_model.best_params_"
      ]
    },
    {
      "cell_type": "code",
      "execution_count": null,
      "id": "4a50046d",
      "metadata": {
        "execution": {
          "iopub.execute_input": "2021-07-09T10:44:49.490172Z",
          "iopub.status.busy": "2021-07-09T10:44:49.489547Z",
          "iopub.status.idle": "2021-07-09T10:44:49.491892Z",
          "shell.execute_reply": "2021-07-09T10:44:49.492329Z",
          "shell.execute_reply.started": "2021-07-09T08:57:04.877427Z"
        },
        "papermill": {
          "duration": 0.305526,
          "end_time": "2021-07-09T10:44:49.492500",
          "exception": false,
          "start_time": "2021-07-09T10:44:49.186974",
          "status": "completed"
        },
        "tags": [],
        "id": "4a50046d"
      },
      "outputs": [],
      "source": [
        "pipeline_rf = Pipeline([('scaler', StandardScaler()), \n",
        "                           ('Random Forest Calssifer', RandomForestClassifier(criterion='entropy', max_features='sqrt',\n",
        "                        n_estimators=150))])"
      ]
    },
    {
      "cell_type": "code",
      "execution_count": null,
      "id": "cc3cbe6a",
      "metadata": {
        "execution": {
          "iopub.execute_input": "2021-07-09T10:44:50.092892Z",
          "iopub.status.busy": "2021-07-09T10:44:50.092222Z",
          "iopub.status.idle": "2021-07-09T10:45:02.614833Z",
          "shell.execute_reply": "2021-07-09T10:45:02.614225Z",
          "shell.execute_reply.started": "2021-07-09T08:57:04.891746Z"
        },
        "papermill": {
          "duration": 12.825609,
          "end_time": "2021-07-09T10:45:02.615005",
          "exception": false,
          "start_time": "2021-07-09T10:44:49.789396",
          "status": "completed"
        },
        "tags": [],
        "id": "cc3cbe6a"
      },
      "outputs": [],
      "source": [
        "model = pipeline_rf.fit(X_train, y_train)"
      ]
    },
    {
      "cell_type": "code",
      "execution_count": null,
      "id": "e3c4d864",
      "metadata": {
        "execution": {
          "iopub.execute_input": "2021-07-09T10:45:03.290453Z",
          "iopub.status.busy": "2021-07-09T10:45:03.289775Z",
          "iopub.status.idle": "2021-07-09T10:45:04.727296Z",
          "shell.execute_reply": "2021-07-09T10:45:04.726616Z",
          "shell.execute_reply.started": "2021-07-09T08:57:18.993754Z"
        },
        "papermill": {
          "duration": 1.805346,
          "end_time": "2021-07-09T10:45:04.727445",
          "exception": false,
          "start_time": "2021-07-09T10:45:02.922099",
          "status": "completed"
        },
        "tags": [],
        "id": "e3c4d864"
      },
      "outputs": [],
      "source": [
        "rf_train_predict = pd.DataFrame({'actual' : y_train,\n",
        "                                 'predicted' : model.predict(X_train)})\n",
        "rf_train_predict.head()"
      ]
    },
    {
      "cell_type": "code",
      "execution_count": null,
      "id": "fc292033",
      "metadata": {
        "execution": {
          "iopub.execute_input": "2021-07-09T10:45:05.365870Z",
          "iopub.status.busy": "2021-07-09T10:45:05.365090Z",
          "iopub.status.idle": "2021-07-09T10:45:05.754250Z",
          "shell.execute_reply": "2021-07-09T10:45:05.753569Z",
          "shell.execute_reply.started": "2021-07-09T08:57:20.536955Z"
        },
        "papermill": {
          "duration": 0.708191,
          "end_time": "2021-07-09T10:45:05.754404",
          "exception": false,
          "start_time": "2021-07-09T10:45:05.046213",
          "status": "completed"
        },
        "tags": [],
        "id": "fc292033"
      },
      "outputs": [],
      "source": [
        "rf_test_predict = pd.DataFrame({'actual' : y_test,\n",
        "                                 'predicted' : model.predict(X_test)})\n",
        "rf_test_predict.head()"
      ]
    },
    {
      "cell_type": "code",
      "execution_count": null,
      "id": "1c164954",
      "metadata": {
        "execution": {
          "iopub.execute_input": "2021-07-09T10:45:06.370851Z",
          "iopub.status.busy": "2021-07-09T10:45:06.370155Z",
          "iopub.status.idle": "2021-07-09T10:45:06.391052Z",
          "shell.execute_reply": "2021-07-09T10:45:06.390499Z",
          "shell.execute_reply.started": "2021-07-09T08:57:20.948685Z"
        },
        "papermill": {
          "duration": 0.327422,
          "end_time": "2021-07-09T10:45:06.391203",
          "exception": false,
          "start_time": "2021-07-09T10:45:06.063781",
          "status": "completed"
        },
        "tags": [],
        "id": "1c164954"
      },
      "outputs": [],
      "source": [
        "print('Accuracy Score for train dataset : ' , metrics.accuracy_score(rf_train_predict.actual, rf_train_predict.predicted))\n",
        "print('Accuracy Score for test dataset : ' , metrics.accuracy_score(rf_test_predict.actual, rf_test_predict.predicted))"
      ]
    },
    {
      "cell_type": "code",
      "execution_count": null,
      "id": "526fb5fa",
      "metadata": {
        "execution": {
          "iopub.execute_input": "2021-07-09T10:45:06.993686Z",
          "iopub.status.busy": "2021-07-09T10:45:06.993014Z",
          "iopub.status.idle": "2021-07-09T10:45:07.035631Z",
          "shell.execute_reply": "2021-07-09T10:45:07.034974Z",
          "shell.execute_reply.started": "2021-07-09T08:57:20.975050Z"
        },
        "papermill": {
          "duration": 0.344457,
          "end_time": "2021-07-09T10:45:07.035797",
          "exception": false,
          "start_time": "2021-07-09T10:45:06.691340",
          "status": "completed"
        },
        "tags": [],
        "id": "526fb5fa"
      },
      "outputs": [],
      "source": [
        "print('ROC-AUC Score for train dataset : ' , metrics.roc_auc_score(rf_train_predict.actual, rf_train_predict.predicted))\n",
        "print('ROC-AUC Score for validation dataset : ' , metrics.roc_auc_score(rf_test_predict.actual, rf_test_predict.predicted))"
      ]
    },
    {
      "cell_type": "code",
      "execution_count": null,
      "id": "10936c4e",
      "metadata": {
        "execution": {
          "iopub.execute_input": "2021-07-09T10:45:07.691543Z",
          "iopub.status.busy": "2021-07-09T10:45:07.690427Z",
          "iopub.status.idle": "2021-07-09T10:45:07.991420Z",
          "shell.execute_reply": "2021-07-09T10:45:07.990065Z",
          "shell.execute_reply.started": "2021-07-09T08:57:21.024683Z"
        },
        "papermill": {
          "duration": 0.650286,
          "end_time": "2021-07-09T10:45:07.991595",
          "exception": false,
          "start_time": "2021-07-09T10:45:07.341309",
          "status": "completed"
        },
        "tags": [],
        "id": "10936c4e"
      },
      "outputs": [],
      "source": [
        "from sklearn import metrics\n",
        "import seaborn as sns\n",
        "\n",
        "conn_cm_test = metrics.confusion_matrix(rf_test_predict.actual, rf_test_predict.predicted)\n",
        "sns.heatmap(conn_cm_test, fmt='.2f', annot=True)\n"
      ]
    },
    {
      "cell_type": "code",
      "execution_count": null,
      "id": "0b2a30a7",
      "metadata": {
        "execution": {
          "iopub.execute_input": "2021-07-09T10:45:08.603508Z",
          "iopub.status.busy": "2021-07-09T10:45:08.602383Z",
          "iopub.status.idle": "2021-07-09T10:45:08.662183Z",
          "shell.execute_reply": "2021-07-09T10:45:08.661548Z",
          "shell.execute_reply.started": "2021-07-09T08:57:21.345413Z"
        },
        "papermill": {
          "duration": 0.366804,
          "end_time": "2021-07-09T10:45:08.662326",
          "exception": false,
          "start_time": "2021-07-09T10:45:08.295522",
          "status": "completed"
        },
        "tags": [],
        "id": "0b2a30a7"
      },
      "outputs": [],
      "source": [
        "print(metrics.classification_report(rf_test_predict.actual, rf_test_predict.predicted))"
      ]
    },
    {
      "cell_type": "code",
      "execution_count": null,
      "id": "1c8a3cb9",
      "metadata": {
        "papermill": {
          "duration": 0.309386,
          "end_time": "2021-07-09T10:45:09.287709",
          "exception": false,
          "start_time": "2021-07-09T10:45:08.978323",
          "status": "completed"
        },
        "tags": [],
        "id": "1c8a3cb9"
      },
      "outputs": [],
      "source": []
    },
    {
      "cell_type": "markdown",
      "id": "f9011136",
      "metadata": {
        "papermill": {
          "duration": 0.344359,
          "end_time": "2021-07-09T10:45:09.939005",
          "exception": false,
          "start_time": "2021-07-09T10:45:09.594646",
          "status": "completed"
        },
        "tags": [],
        "id": "f9011136"
      },
      "source": [
        "Forecasting of an order has tardiness"
      ]
    },
    {
      "cell_type": "code",
      "execution_count": null,
      "id": "348b4d9f",
      "metadata": {
        "execution": {
          "iopub.execute_input": "2021-07-09T10:45:10.603593Z",
          "iopub.status.busy": "2021-07-09T10:45:10.602930Z",
          "iopub.status.idle": "2021-07-09T10:45:10.659698Z",
          "shell.execute_reply": "2021-07-09T10:45:10.659113Z",
          "shell.execute_reply.started": "2021-07-09T08:57:21.426021Z"
        },
        "papermill": {
          "duration": 0.365897,
          "end_time": "2021-07-09T10:45:10.659865",
          "exception": false,
          "start_time": "2021-07-09T10:45:10.293968",
          "status": "completed"
        },
        "tags": [],
        "id": "348b4d9f"
      },
      "outputs": [],
      "source": [
        "data=df[['Type', 'Benefit per order', 'Sales per customer', 'Delivery Status', 'Late_delivery_risk', 'Category Name', \n",
        "             'Customer City', 'Customer Country', 'Customer Segment', 'Customer State', 'Customer Zipcode', \n",
        "             'Department Name', 'Market', 'Order City', 'Order Country', 'Customer Id',\n",
        "             'order date (DateOrders)', 'Order Item Cardprod Id', 'Order Item Discount', 'Order Item Discount Rate',\n",
        "             'Order Item Id', 'Order Item Profit Ratio', 'Sales', 'Order Status',\n",
        "             'Order Item Total', 'Order Profit Per Order', 'Order Region', 'Order State', 'Order Zipcode', \n",
        "             'Product Card Id', 'Product Category Id', 'Product Description', 'Product Image', 'Product Name', 'Product Price',\n",
        "             'Product Status', 'shipping date (DateOrders)', 'Shipping Mode']]\n",
        "\n"
      ]
    },
    {
      "cell_type": "code",
      "execution_count": null,
      "id": "e53597ff",
      "metadata": {
        "execution": {
          "iopub.execute_input": "2021-07-09T10:45:11.298478Z",
          "iopub.status.busy": "2021-07-09T10:45:11.297841Z",
          "iopub.status.idle": "2021-07-09T10:45:11.339694Z",
          "shell.execute_reply": "2021-07-09T10:45:11.339101Z",
          "shell.execute_reply.started": "2021-07-09T08:57:21.512079Z"
        },
        "papermill": {
          "duration": 0.363941,
          "end_time": "2021-07-09T10:45:11.339839",
          "exception": false,
          "start_time": "2021-07-09T10:45:10.975898",
          "status": "completed"
        },
        "tags": [],
        "id": "e53597ff"
      },
      "outputs": [],
      "source": [
        "features=data.drop(columns=['Late_delivery_risk'])\n",
        "target=data['Late_delivery_risk']"
      ]
    },
    {
      "cell_type": "code",
      "execution_count": null,
      "id": "890f67b7",
      "metadata": {
        "execution": {
          "iopub.execute_input": "2021-07-09T10:45:11.955207Z",
          "iopub.status.busy": "2021-07-09T10:45:11.954532Z",
          "iopub.status.idle": "2021-07-09T10:45:13.684087Z",
          "shell.execute_reply": "2021-07-09T10:45:13.684576Z",
          "shell.execute_reply.started": "2021-07-09T08:57:21.568149Z"
        },
        "papermill": {
          "duration": 2.039938,
          "end_time": "2021-07-09T10:45:13.684779",
          "exception": false,
          "start_time": "2021-07-09T10:45:11.644841",
          "status": "completed"
        },
        "tags": [],
        "id": "890f67b7"
      },
      "outputs": [],
      "source": [
        "features=features.apply(Labelencoder_feature)\n",
        "features.head()\n"
      ]
    },
    {
      "cell_type": "code",
      "execution_count": null,
      "id": "ea41cca8",
      "metadata": {
        "execution": {
          "iopub.execute_input": "2021-07-09T10:45:14.353419Z",
          "iopub.status.busy": "2021-07-09T10:45:14.352156Z",
          "iopub.status.idle": "2021-07-09T10:45:14.403666Z",
          "shell.execute_reply": "2021-07-09T10:45:14.404466Z",
          "shell.execute_reply.started": "2021-07-09T08:57:23.411558Z"
        },
        "papermill": {
          "duration": 0.407972,
          "end_time": "2021-07-09T10:45:14.404776",
          "exception": false,
          "start_time": "2021-07-09T10:45:13.996804",
          "status": "completed"
        },
        "tags": [],
        "id": "ea41cca8"
      },
      "outputs": [],
      "source": [
        "#Feature Selection\n",
        "\n",
        "# Feature Selection based on importance\n",
        "from sklearn.feature_selection import f_regression\n",
        "F_values, p_values  = f_regression(features, target)"
      ]
    },
    {
      "cell_type": "code",
      "execution_count": null,
      "id": "17e37f25",
      "metadata": {
        "execution": {
          "iopub.execute_input": "2021-07-09T10:45:15.092943Z",
          "iopub.status.busy": "2021-07-09T10:45:15.092154Z",
          "iopub.status.idle": "2021-07-09T10:45:15.095794Z",
          "shell.execute_reply": "2021-07-09T10:45:15.095121Z",
          "shell.execute_reply.started": "2021-07-09T08:57:23.477802Z"
        },
        "papermill": {
          "duration": 0.325514,
          "end_time": "2021-07-09T10:45:15.095944",
          "exception": false,
          "start_time": "2021-07-09T10:45:14.770430",
          "status": "completed"
        },
        "tags": [],
        "id": "17e37f25"
      },
      "outputs": [],
      "source": [
        "import itertools\n",
        "f_reg_results = [(i, v, z) for i, v, z in itertools.zip_longest(features.columns, F_values,  ['%.3f' % p for p in p_values])]\n",
        "f_reg_results=pd.DataFrame(f_reg_results, columns=['Variable','F_Value', 'P_Value'])"
      ]
    },
    {
      "cell_type": "code",
      "execution_count": null,
      "id": "d0e4070e",
      "metadata": {
        "execution": {
          "iopub.execute_input": "2021-07-09T10:45:15.766503Z",
          "iopub.status.busy": "2021-07-09T10:45:15.765467Z",
          "iopub.status.idle": "2021-07-09T10:45:15.771142Z",
          "shell.execute_reply": "2021-07-09T10:45:15.770566Z",
          "shell.execute_reply.started": "2021-07-09T08:57:23.496164Z"
        },
        "papermill": {
          "duration": 0.344017,
          "end_time": "2021-07-09T10:45:15.771298",
          "exception": false,
          "start_time": "2021-07-09T10:45:15.427281",
          "status": "completed"
        },
        "tags": [],
        "id": "d0e4070e"
      },
      "outputs": [],
      "source": [
        "f_reg_results=pd.DataFrame(f_reg_results, columns=['Variable','F_Value', 'P_Value'])\n",
        "f_reg_results = f_reg_results.sort_values(by=['P_Value'])\n",
        "f_reg_results.P_Value= f_reg_results.P_Value.astype(float)\n",
        "f_reg_results=f_reg_results[f_reg_results.P_Value<0.06]\n",
        "f_reg_results"
      ]
    },
    {
      "cell_type": "code",
      "execution_count": null,
      "id": "3f353d71",
      "metadata": {
        "execution": {
          "iopub.execute_input": "2021-07-09T10:45:16.409439Z",
          "iopub.status.busy": "2021-07-09T10:45:16.408797Z",
          "iopub.status.idle": "2021-07-09T10:45:16.414328Z",
          "shell.execute_reply": "2021-07-09T10:45:16.413766Z",
          "shell.execute_reply.started": "2021-07-09T08:57:23.529465Z"
        },
        "papermill": {
          "duration": 0.328917,
          "end_time": "2021-07-09T10:45:16.414486",
          "exception": false,
          "start_time": "2021-07-09T10:45:16.085569",
          "status": "completed"
        },
        "tags": [],
        "id": "3f353d71"
      },
      "outputs": [],
      "source": [
        "f_reg_list=f_reg_results.Variable.values\n",
        "f_reg_list"
      ]
    },
    {
      "cell_type": "code",
      "execution_count": null,
      "id": "f1566248",
      "metadata": {
        "execution": {
          "iopub.execute_input": "2021-07-09T10:45:17.160587Z",
          "iopub.status.busy": "2021-07-09T10:45:17.157499Z",
          "iopub.status.idle": "2021-07-09T10:45:17.164962Z",
          "shell.execute_reply": "2021-07-09T10:45:17.164438Z",
          "shell.execute_reply.started": "2021-07-09T08:57:23.548522Z"
        },
        "papermill": {
          "duration": 0.427487,
          "end_time": "2021-07-09T10:45:17.165107",
          "exception": false,
          "start_time": "2021-07-09T10:45:16.737620",
          "status": "completed"
        },
        "tags": [],
        "id": "f1566248"
      },
      "outputs": [],
      "source": [
        "df['Delivery Status'].value_counts()"
      ]
    },
    {
      "cell_type": "markdown",
      "id": "d18336dd",
      "metadata": {
        "papermill": {
          "duration": 0.320408,
          "end_time": "2021-07-09T10:45:17.803625",
          "exception": false,
          "start_time": "2021-07-09T10:45:17.483217",
          "status": "completed"
        },
        "tags": [],
        "id": "d18336dd"
      },
      "source": [
        "'Delivery Status' should also be omited. it has directly related to the target"
      ]
    },
    {
      "cell_type": "code",
      "execution_count": null,
      "id": "55647e93",
      "metadata": {
        "execution": {
          "iopub.execute_input": "2021-07-09T10:45:18.429163Z",
          "iopub.status.busy": "2021-07-09T10:45:18.428344Z",
          "iopub.status.idle": "2021-07-09T10:45:18.432016Z",
          "shell.execute_reply": "2021-07-09T10:45:18.431454Z",
          "shell.execute_reply.started": "2021-07-09T08:57:23.625813Z"
        },
        "papermill": {
          "duration": 0.317799,
          "end_time": "2021-07-09T10:45:18.432174",
          "exception": false,
          "start_time": "2021-07-09T10:45:18.114375",
          "status": "completed"
        },
        "tags": [],
        "id": "55647e93"
      },
      "outputs": [],
      "source": [
        "final_features=features[['Type', 'Shipping Mode', 'Order Region',\n",
        "       'Customer City', 'shipping date (DateOrders)']]"
      ]
    },
    {
      "cell_type": "code",
      "execution_count": null,
      "id": "3394f5ab",
      "metadata": {
        "execution": {
          "iopub.execute_input": "2021-07-09T10:45:19.072141Z",
          "iopub.status.busy": "2021-07-09T10:45:19.071269Z",
          "iopub.status.idle": "2021-07-09T10:45:19.078210Z",
          "shell.execute_reply": "2021-07-09T10:45:19.078734Z",
          "shell.execute_reply.started": "2021-07-09T08:57:23.636589Z"
        },
        "papermill": {
          "duration": 0.334187,
          "end_time": "2021-07-09T10:45:19.078936",
          "exception": false,
          "start_time": "2021-07-09T10:45:18.744749",
          "status": "completed"
        },
        "tags": [],
        "id": "3394f5ab"
      },
      "outputs": [],
      "source": [
        "final_data=pd.concat([final_features, target], axis=1)"
      ]
    },
    {
      "cell_type": "code",
      "execution_count": null,
      "id": "c936eb23",
      "metadata": {
        "execution": {
          "iopub.execute_input": "2021-07-09T10:45:19.772360Z",
          "iopub.status.busy": "2021-07-09T10:45:19.770507Z",
          "iopub.status.idle": "2021-07-09T10:45:20.281982Z",
          "shell.execute_reply": "2021-07-09T10:45:20.281270Z",
          "shell.execute_reply.started": "2021-07-09T08:57:23.654381Z"
        },
        "papermill": {
          "duration": 0.832994,
          "end_time": "2021-07-09T10:45:20.282135",
          "exception": false,
          "start_time": "2021-07-09T10:45:19.449141",
          "status": "completed"
        },
        "tags": [],
        "id": "c936eb23"
      },
      "outputs": [],
      "source": [
        "fig = plt.figure(figsize=(20,10))\n",
        "sns.heatmap(final_data.corr(), annot = True, fmt = '.2f', cmap = 'magma')"
      ]
    },
    {
      "cell_type": "code",
      "execution_count": null,
      "id": "ba1ce39f",
      "metadata": {
        "execution": {
          "iopub.execute_input": "2021-07-09T10:45:20.957122Z",
          "iopub.status.busy": "2021-07-09T10:45:20.956204Z",
          "iopub.status.idle": "2021-07-09T10:45:20.983896Z",
          "shell.execute_reply": "2021-07-09T10:45:20.983301Z",
          "shell.execute_reply.started": "2021-07-09T08:57:24.232707Z"
        },
        "papermill": {
          "duration": 0.385256,
          "end_time": "2021-07-09T10:45:20.984047",
          "exception": false,
          "start_time": "2021-07-09T10:45:20.598791",
          "status": "completed"
        },
        "tags": [],
        "id": "ba1ce39f"
      },
      "outputs": [],
      "source": [
        "from sklearn.model_selection import train_test_split\n",
        "X_train, X_test, y_train, y_test = train_test_split(final_features, target, test_size = 0.2, random_state = 42)"
      ]
    },
    {
      "cell_type": "code",
      "execution_count": null,
      "id": "e36b3694",
      "metadata": {
        "execution": {
          "iopub.execute_input": "2021-07-09T10:45:21.618874Z",
          "iopub.status.busy": "2021-07-09T10:45:21.617871Z",
          "iopub.status.idle": "2021-07-09T10:50:00.824258Z",
          "shell.execute_reply": "2021-07-09T10:50:00.823319Z",
          "shell.execute_reply.started": "2021-07-09T08:57:24.268900Z"
        },
        "papermill": {
          "duration": 279.523012,
          "end_time": "2021-07-09T10:50:00.824413",
          "exception": false,
          "start_time": "2021-07-09T10:45:21.301401",
          "status": "completed"
        },
        "tags": [],
        "id": "e36b3694"
      },
      "outputs": [],
      "source": [
        "scores_df = pd.DataFrame(columns = [\"Model\", \"CVScores\"])\n",
        "for i, pipe in enumerate(piplines1):\n",
        "    score = cross_val_score(pipe, final_features, target, cv = 10)\n",
        "    print(pip_dict1[i], \": \", score.mean())"
      ]
    },
    {
      "cell_type": "code",
      "execution_count": null,
      "id": "e8f68ba4",
      "metadata": {
        "execution": {
          "iopub.execute_input": "2021-07-09T10:50:01.498788Z",
          "iopub.status.busy": "2021-07-09T10:50:01.498054Z",
          "iopub.status.idle": "2021-07-09T10:50:01.500613Z",
          "shell.execute_reply": "2021-07-09T10:50:01.501084Z",
          "shell.execute_reply.started": "2021-07-09T09:02:19.938945Z"
        },
        "papermill": {
          "duration": 0.321263,
          "end_time": "2021-07-09T10:50:01.501270",
          "exception": false,
          "start_time": "2021-07-09T10:50:01.180007",
          "status": "completed"
        },
        "tags": [],
        "id": "e8f68ba4"
      },
      "outputs": [],
      "source": [
        "grid_params = [\n",
        "    {\"classifier\": [RandomForestClassifier()],\n",
        "    \"classifier__n_estimators\": [50,100,150,200,250,300],\n",
        "    \"classifier__criterion\": [\"gini\", \"entropy\"],\n",
        "    \"classifier__max_features\": [\"auto\", \"sqrt\", \"log2\"],\n",
        "    },\n",
        "    \n",
        "    {\"classifier\": [KNeighborsClassifier()],\n",
        "     \"classifier__n_neighbors\": [2,3,4,5,6],\n",
        "     \"classifier__algorithm\": ['auto', 'ball_tree', 'kd_tree', 'brute'],\n",
        "     \"classifier__leaf_size\": [10,20,30,40,50],\n",
        "    \n",
        "    },\n",
        "    \n",
        "    {\"classifier\": [DecisionTreeClassifier()],\n",
        "    \"classifier__splitter\" :[\"best\", \"random\"],\n",
        "    \"classifier__criterion\": [\"gini\", \"entropy\"],\n",
        "    \"classifier__max_features\": [\"auto\", \"sqrt\", \"log2\"],\n",
        "    },\n",
        "    \n",
        "]"
      ]
    },
    {
      "cell_type": "code",
      "execution_count": null,
      "id": "0772ced7",
      "metadata": {
        "execution": {
          "iopub.execute_input": "2021-07-09T10:50:02.128497Z",
          "iopub.status.busy": "2021-07-09T10:50:02.127568Z",
          "iopub.status.idle": "2021-07-09T10:50:02.132795Z",
          "shell.execute_reply": "2021-07-09T10:50:02.133358Z",
          "shell.execute_reply.started": "2021-07-09T09:02:19.950238Z"
        },
        "papermill": {
          "duration": 0.324604,
          "end_time": "2021-07-09T10:50:02.133518",
          "exception": false,
          "start_time": "2021-07-09T10:50:01.808914",
          "status": "completed"
        },
        "tags": [],
        "id": "0772ced7"
      },
      "outputs": [],
      "source": [
        "pipeline_new = Pipeline([(\"scaler\", StandardScaler()), (\"classifier\", RandomForestClassifier())])\n",
        "\n",
        "random_search = RandomizedSearchCV(estimator = pipeline_new, param_distributions = grid_params, scoring = 'neg_mean_absolute_error', n_jobs= -1, cv = 8, verbose = 10, random_state = 42)\n"
      ]
    },
    {
      "cell_type": "code",
      "execution_count": null,
      "id": "ace2df41",
      "metadata": {
        "execution": {
          "iopub.execute_input": "2021-07-09T10:50:02.758637Z",
          "iopub.status.busy": "2021-07-09T10:50:02.757520Z",
          "iopub.status.idle": "2021-07-09T10:59:49.749072Z",
          "shell.execute_reply": "2021-07-09T10:59:49.748351Z",
          "shell.execute_reply.started": "2021-07-09T09:02:19.965071Z"
        },
        "papermill": {
          "duration": 587.303394,
          "end_time": "2021-07-09T10:59:49.749290",
          "exception": false,
          "start_time": "2021-07-09T10:50:02.445896",
          "status": "completed"
        },
        "tags": [],
        "id": "ace2df41"
      },
      "outputs": [],
      "source": [
        "best_model = random_search.fit(X_train, y_train)"
      ]
    },
    {
      "cell_type": "code",
      "execution_count": null,
      "id": "69e5abc7",
      "metadata": {
        "execution": {
          "iopub.execute_input": "2021-07-09T10:59:50.433551Z",
          "iopub.status.busy": "2021-07-09T10:59:50.432574Z",
          "iopub.status.idle": "2021-07-09T10:59:50.441888Z",
          "shell.execute_reply": "2021-07-09T10:59:50.442428Z",
          "shell.execute_reply.started": "2021-07-09T09:12:23.931036Z"
        },
        "papermill": {
          "duration": 0.334733,
          "end_time": "2021-07-09T10:59:50.442598",
          "exception": false,
          "start_time": "2021-07-09T10:59:50.107865",
          "status": "completed"
        },
        "tags": [],
        "id": "69e5abc7"
      },
      "outputs": [],
      "source": [
        "best_model.best_params_"
      ]
    },
    {
      "cell_type": "code",
      "execution_count": null,
      "id": "8368dcb6",
      "metadata": {
        "execution": {
          "iopub.execute_input": "2021-07-09T10:59:51.071290Z",
          "iopub.status.busy": "2021-07-09T10:59:51.070619Z",
          "iopub.status.idle": "2021-07-09T10:59:51.075118Z",
          "shell.execute_reply": "2021-07-09T10:59:51.075688Z",
          "shell.execute_reply.started": "2021-07-09T09:12:23.939823Z"
        },
        "papermill": {
          "duration": 0.322034,
          "end_time": "2021-07-09T10:59:51.075862",
          "exception": false,
          "start_time": "2021-07-09T10:59:50.753828",
          "status": "completed"
        },
        "tags": [],
        "id": "8368dcb6"
      },
      "outputs": [],
      "source": [
        "pipeline_rfl = Pipeline([('scaler', StandardScaler()), \n",
        "                           ('andomForestClassifier', RandomForestClassifier(criterion='entropy'))])"
      ]
    },
    {
      "cell_type": "code",
      "execution_count": null,
      "id": "5035d1ca",
      "metadata": {
        "execution": {
          "iopub.execute_input": "2021-07-09T10:59:51.770614Z",
          "iopub.status.busy": "2021-07-09T10:59:51.769941Z",
          "iopub.status.idle": "2021-07-09T11:00:25.491926Z",
          "shell.execute_reply": "2021-07-09T11:00:25.492532Z",
          "shell.execute_reply.started": "2021-07-09T09:12:23.957051Z"
        },
        "papermill": {
          "duration": 34.048516,
          "end_time": "2021-07-09T11:00:25.492769",
          "exception": false,
          "start_time": "2021-07-09T10:59:51.444253",
          "status": "completed"
        },
        "tags": [],
        "id": "5035d1ca"
      },
      "outputs": [],
      "source": [
        "model_rfl = pipeline_rfl.fit(X_train, y_train)"
      ]
    },
    {
      "cell_type": "code",
      "execution_count": null,
      "id": "0abb4b19",
      "metadata": {
        "execution": {
          "iopub.execute_input": "2021-07-09T11:00:26.149973Z",
          "iopub.status.busy": "2021-07-09T11:00:26.149256Z",
          "iopub.status.idle": "2021-07-09T11:00:33.045334Z",
          "shell.execute_reply": "2021-07-09T11:00:33.045884Z",
          "shell.execute_reply.started": "2021-07-09T09:12:59.666930Z"
        },
        "papermill": {
          "duration": 7.227637,
          "end_time": "2021-07-09T11:00:33.046137",
          "exception": false,
          "start_time": "2021-07-09T11:00:25.818500",
          "status": "completed"
        },
        "tags": [],
        "id": "0abb4b19"
      },
      "outputs": [],
      "source": [
        "rfl_train_predict = pd.DataFrame({'actual' : y_train,\n",
        "                                 'predicted' : model_rfl.predict(X_train)})\n",
        "rfl_train_predict.head()"
      ]
    },
    {
      "cell_type": "code",
      "execution_count": null,
      "id": "cf3997cb",
      "metadata": {
        "execution": {
          "iopub.execute_input": "2021-07-09T11:00:33.864061Z",
          "iopub.status.busy": "2021-07-09T11:00:33.862916Z",
          "iopub.status.idle": "2021-07-09T11:00:35.405326Z",
          "shell.execute_reply": "2021-07-09T11:00:35.406087Z",
          "shell.execute_reply.started": "2021-07-09T09:13:04.846871Z"
        },
        "papermill": {
          "duration": 1.958452,
          "end_time": "2021-07-09T11:00:35.406282",
          "exception": false,
          "start_time": "2021-07-09T11:00:33.447830",
          "status": "completed"
        },
        "tags": [],
        "id": "cf3997cb"
      },
      "outputs": [],
      "source": [
        "rfl_test_predict = pd.DataFrame({'actual' : y_test,\n",
        "                                 'predicted' : model_rfl.predict(X_test)})\n",
        "rfl_test_predict.head()"
      ]
    },
    {
      "cell_type": "code",
      "execution_count": null,
      "id": "d667182c",
      "metadata": {
        "execution": {
          "iopub.execute_input": "2021-07-09T11:00:36.194689Z",
          "iopub.status.busy": "2021-07-09T11:00:36.194026Z",
          "iopub.status.idle": "2021-07-09T11:00:36.232007Z",
          "shell.execute_reply": "2021-07-09T11:00:36.232862Z",
          "shell.execute_reply.started": "2021-07-09T09:13:06.293638Z"
        },
        "papermill": {
          "duration": 0.425889,
          "end_time": "2021-07-09T11:00:36.233043",
          "exception": false,
          "start_time": "2021-07-09T11:00:35.807154",
          "status": "completed"
        },
        "tags": [],
        "id": "d667182c"
      },
      "outputs": [],
      "source": [
        "print('Accuracy Score for train dataset : ' , metrics.accuracy_score(rfl_train_predict.actual, rfl_train_predict.predicted))\n",
        "print('Accuracy Score for test dataset : ' , metrics.accuracy_score(rfl_test_predict.actual, rfl_test_predict.predicted))"
      ]
    },
    {
      "cell_type": "code",
      "execution_count": null,
      "id": "70a76e04",
      "metadata": {
        "execution": {
          "iopub.execute_input": "2021-07-09T11:00:36.883862Z",
          "iopub.status.busy": "2021-07-09T11:00:36.882808Z",
          "iopub.status.idle": "2021-07-09T11:00:36.938414Z",
          "shell.execute_reply": "2021-07-09T11:00:36.937809Z",
          "shell.execute_reply.started": "2021-07-09T09:13:06.326747Z"
        },
        "papermill": {
          "duration": 0.375468,
          "end_time": "2021-07-09T11:00:36.938559",
          "exception": false,
          "start_time": "2021-07-09T11:00:36.563091",
          "status": "completed"
        },
        "tags": [],
        "id": "70a76e04"
      },
      "outputs": [],
      "source": [
        "print('ROC-AUC Score for train dataset : ' , metrics.roc_auc_score(rfl_train_predict.actual, rfl_train_predict.predicted))\n",
        "print('ROC-AUC Score for validation dataset : ' , metrics.roc_auc_score(rfl_test_predict.actual, rfl_test_predict.predicted))"
      ]
    },
    {
      "cell_type": "code",
      "execution_count": null,
      "id": "646b2846",
      "metadata": {
        "execution": {
          "iopub.execute_input": "2021-07-09T11:00:37.578315Z",
          "iopub.status.busy": "2021-07-09T11:00:37.577230Z",
          "iopub.status.idle": "2021-07-09T11:00:37.924865Z",
          "shell.execute_reply": "2021-07-09T11:00:37.925341Z",
          "shell.execute_reply.started": "2021-07-09T09:13:06.385861Z"
        },
        "papermill": {
          "duration": 0.672206,
          "end_time": "2021-07-09T11:00:37.925528",
          "exception": false,
          "start_time": "2021-07-09T11:00:37.253322",
          "status": "completed"
        },
        "tags": [],
        "id": "646b2846"
      },
      "outputs": [],
      "source": [
        "from sklearn import metrics\n",
        "import seaborn as sns\n",
        "\n",
        "conn_cm_test = metrics.confusion_matrix(rfl_test_predict.actual, rfl_test_predict.predicted)\n",
        "sns.heatmap(conn_cm_test, fmt='.2f', annot=True)\n"
      ]
    },
    {
      "cell_type": "code",
      "execution_count": null,
      "id": "b03b5fc0",
      "metadata": {
        "execution": {
          "iopub.execute_input": "2021-07-09T11:00:38.570335Z",
          "iopub.status.busy": "2021-07-09T11:00:38.569608Z",
          "iopub.status.idle": "2021-07-09T11:00:38.653541Z",
          "shell.execute_reply": "2021-07-09T11:00:38.652868Z",
          "shell.execute_reply.started": "2021-07-09T09:13:06.710542Z"
        },
        "papermill": {
          "duration": 0.404574,
          "end_time": "2021-07-09T11:00:38.653699",
          "exception": false,
          "start_time": "2021-07-09T11:00:38.249125",
          "status": "completed"
        },
        "tags": [],
        "id": "b03b5fc0"
      },
      "outputs": [],
      "source": [
        "print(metrics.classification_report(rfl_test_predict.actual, rfl_test_predict.predicted))"
      ]
    },
    {
      "cell_type": "code",
      "execution_count": null,
      "id": "153f33d4",
      "metadata": {
        "papermill": {
          "duration": 0.318443,
          "end_time": "2021-07-09T11:00:39.339673",
          "exception": false,
          "start_time": "2021-07-09T11:00:39.021230",
          "status": "completed"
        },
        "tags": [],
        "id": "153f33d4"
      },
      "outputs": [],
      "source": []
    },
    {
      "cell_type": "markdown",
      "id": "048eb981",
      "metadata": {
        "papermill": {
          "duration": 0.31408,
          "end_time": "2021-07-09T11:00:39.970060",
          "exception": false,
          "start_time": "2021-07-09T11:00:39.655980",
          "status": "completed"
        },
        "tags": [],
        "id": "048eb981"
      },
      "source": [
        "# Forecasting Sales of different products"
      ]
    },
    {
      "cell_type": "code",
      "execution_count": null,
      "id": "120fbf25",
      "metadata": {
        "execution": {
          "iopub.execute_input": "2021-07-09T11:00:40.612868Z",
          "iopub.status.busy": "2021-07-09T11:00:40.611996Z",
          "iopub.status.idle": "2021-07-09T11:00:40.721391Z",
          "shell.execute_reply": "2021-07-09T11:00:40.720833Z",
          "shell.execute_reply.started": "2021-07-09T09:13:06.791034Z"
        },
        "papermill": {
          "duration": 0.435226,
          "end_time": "2021-07-09T11:00:40.721529",
          "exception": false,
          "start_time": "2021-07-09T11:00:40.286303",
          "status": "completed"
        },
        "tags": [],
        "id": "120fbf25"
      },
      "outputs": [],
      "source": [
        "data_sales=df[['Type', 'Benefit per order', 'Sales per customer', \n",
        "          'Delivery Status', 'Late_delivery_risk', 'Category Name', 'Customer City', 'Customer Country', \n",
        "           'Customer Id', 'Customer Segment', \n",
        "          'Customer State', 'Customer Zipcode', 'Department Name', 'Latitude', 'Longitude',\n",
        "          'Market', 'Order City', 'Order Country', 'Order Customer Id', 'order date (DateOrders)', 'Order Id', \n",
        "          'Order Item Cardprod Id', 'Order Item Discount', 'Order Item Discount Rate', 'Order Item Id', \n",
        "          'Order Item Product Price', 'Order Item Profit Ratio', 'Order Item Quantity', 'Sales', 'Order Item Total', \n",
        "          'Order Profit Per Order', 'Order Region', 'Order State', 'Order Status', 'Order Zipcode', 'Product Card Id',\n",
        "          'Product Category Id', 'Product Description', 'Product Image', 'Product Name', 'Product Price', 'Product Status',\n",
        "       'shipping date (DateOrders)', 'Shipping Mode']]"
      ]
    },
    {
      "cell_type": "code",
      "execution_count": null,
      "id": "6e0f1755",
      "metadata": {
        "execution": {
          "iopub.execute_input": "2021-07-09T11:00:41.359487Z",
          "iopub.status.busy": "2021-07-09T11:00:41.358683Z",
          "iopub.status.idle": "2021-07-09T11:00:41.443032Z",
          "shell.execute_reply": "2021-07-09T11:00:41.442492Z",
          "shell.execute_reply.started": "2021-07-09T09:13:06.862198Z"
        },
        "papermill": {
          "duration": 0.405466,
          "end_time": "2021-07-09T11:00:41.443182",
          "exception": false,
          "start_time": "2021-07-09T11:00:41.037716",
          "status": "completed"
        },
        "tags": [],
        "id": "6e0f1755"
      },
      "outputs": [],
      "source": [
        "features=data_sales.drop(columns=['Sales', 'Order Item Quantity', 'Order Item Product Price'])\n",
        "target=data_sales['Sales']"
      ]
    },
    {
      "cell_type": "code",
      "execution_count": null,
      "id": "e652e47d",
      "metadata": {
        "execution": {
          "iopub.execute_input": "2021-07-09T11:00:42.217040Z",
          "iopub.status.busy": "2021-07-09T11:00:42.216002Z",
          "iopub.status.idle": "2021-07-09T11:00:44.065383Z",
          "shell.execute_reply": "2021-07-09T11:00:44.066070Z",
          "shell.execute_reply.started": "2021-07-09T09:13:06.921771Z"
        },
        "papermill": {
          "duration": 2.247443,
          "end_time": "2021-07-09T11:00:44.066270",
          "exception": false,
          "start_time": "2021-07-09T11:00:41.818827",
          "status": "completed"
        },
        "tags": [],
        "id": "e652e47d"
      },
      "outputs": [],
      "source": [
        "features=features.apply(Labelencoder_feature)\n",
        "features.head()"
      ]
    },
    {
      "cell_type": "code",
      "execution_count": null,
      "id": "fb721171",
      "metadata": {
        "execution": {
          "iopub.execute_input": "2021-07-09T11:00:44.705336Z",
          "iopub.status.busy": "2021-07-09T11:00:44.704699Z",
          "iopub.status.idle": "2021-07-09T11:00:44.762325Z",
          "shell.execute_reply": "2021-07-09T11:00:44.763154Z",
          "shell.execute_reply.started": "2021-07-09T09:13:08.881655Z"
        },
        "papermill": {
          "duration": 0.380939,
          "end_time": "2021-07-09T11:00:44.763415",
          "exception": false,
          "start_time": "2021-07-09T11:00:44.382476",
          "status": "completed"
        },
        "tags": [],
        "id": "fb721171"
      },
      "outputs": [],
      "source": [
        "#Feature Selection based on importance\n",
        "from sklearn.feature_selection import f_regression\n",
        "F_values, p_values  = f_regression(features, target)"
      ]
    },
    {
      "cell_type": "code",
      "execution_count": null,
      "id": "055a3347",
      "metadata": {
        "execution": {
          "iopub.execute_input": "2021-07-09T11:00:45.483906Z",
          "iopub.status.busy": "2021-07-09T11:00:45.483169Z",
          "iopub.status.idle": "2021-07-09T11:00:45.486515Z",
          "shell.execute_reply": "2021-07-09T11:00:45.485888Z",
          "shell.execute_reply.started": "2021-07-09T09:13:08.939917Z"
        },
        "papermill": {
          "duration": 0.326862,
          "end_time": "2021-07-09T11:00:45.486680",
          "exception": false,
          "start_time": "2021-07-09T11:00:45.159818",
          "status": "completed"
        },
        "tags": [],
        "id": "055a3347"
      },
      "outputs": [],
      "source": [
        "import itertools\n",
        "f_reg_results = [(i, v, z) for i, v, z in itertools.zip_longest(features.columns, F_values,  ['%.3f' % p for p in p_values])]\n",
        "f_reg_results=pd.DataFrame(f_reg_results, columns=['Variable','F_Value', 'P_Value'])"
      ]
    },
    {
      "cell_type": "code",
      "execution_count": null,
      "id": "4c4d7aec",
      "metadata": {
        "execution": {
          "iopub.execute_input": "2021-07-09T11:00:46.193479Z",
          "iopub.status.busy": "2021-07-09T11:00:46.192426Z",
          "iopub.status.idle": "2021-07-09T11:00:46.196451Z",
          "shell.execute_reply": "2021-07-09T11:00:46.197033Z",
          "shell.execute_reply.started": "2021-07-09T09:13:08.957653Z"
        },
        "papermill": {
          "duration": 0.392864,
          "end_time": "2021-07-09T11:00:46.197203",
          "exception": false,
          "start_time": "2021-07-09T11:00:45.804339",
          "status": "completed"
        },
        "tags": [],
        "id": "4c4d7aec"
      },
      "outputs": [],
      "source": [
        "f_reg_results=pd.DataFrame(f_reg_results, columns=['Variable','F_Value', 'P_Value'])\n",
        "f_reg_results = f_reg_results.sort_values(by=['P_Value'])\n",
        "f_reg_results.P_Value= f_reg_results.P_Value.astype(float)\n",
        "f_reg_results=f_reg_results[f_reg_results.P_Value<0.06]\n",
        "f_reg_results"
      ]
    },
    {
      "cell_type": "code",
      "execution_count": null,
      "id": "0cb2aa8a",
      "metadata": {
        "execution": {
          "iopub.execute_input": "2021-07-09T11:00:46.836744Z",
          "iopub.status.busy": "2021-07-09T11:00:46.835775Z",
          "iopub.status.idle": "2021-07-09T11:00:46.842276Z",
          "shell.execute_reply": "2021-07-09T11:00:46.842836Z",
          "shell.execute_reply.started": "2021-07-09T09:13:08.995413Z"
        },
        "papermill": {
          "duration": 0.327707,
          "end_time": "2021-07-09T11:00:46.843014",
          "exception": false,
          "start_time": "2021-07-09T11:00:46.515307",
          "status": "completed"
        },
        "tags": [],
        "id": "0cb2aa8a"
      },
      "outputs": [],
      "source": [
        "f_reg_list=f_reg_results.Variable.values\n",
        "f_reg_list"
      ]
    },
    {
      "cell_type": "code",
      "execution_count": null,
      "id": "ac6fb55c",
      "metadata": {
        "execution": {
          "iopub.execute_input": "2021-07-09T11:00:47.501938Z",
          "iopub.status.busy": "2021-07-09T11:00:47.500961Z",
          "iopub.status.idle": "2021-07-09T11:00:47.503610Z",
          "shell.execute_reply": "2021-07-09T11:00:47.504089Z",
          "shell.execute_reply.started": "2021-07-09T09:13:09.006378Z"
        },
        "papermill": {
          "duration": 0.343218,
          "end_time": "2021-07-09T11:00:47.504266",
          "exception": false,
          "start_time": "2021-07-09T11:00:47.161048",
          "status": "completed"
        },
        "tags": [],
        "id": "ac6fb55c"
      },
      "outputs": [],
      "source": [
        "final_features=features[['Order Id', 'Order Item Discount', 'Order Item Cardprod Id',\n",
        "       'shipping date (DateOrders)', 'order date (DateOrders)',\n",
        "       'Order Customer Id', 'Order Profit Per Order', 'Market',\n",
        "       'Order Region', 'Order State', 'Order Item Total',\n",
        "       'Department Name', 'Product Card Id', 'Customer Id',\n",
        "       'Product Category Id', 'Product Image', 'Category Name',\n",
        "       'Product Name', 'Product Price', 'Sales per customer',\n",
        "       'Benefit per order', 'Order Zipcode', 'Order Item Id',\n",
        "       'Order City', 'Customer Segment']]"
      ]
    },
    {
      "cell_type": "code",
      "execution_count": null,
      "id": "ddded093",
      "metadata": {
        "execution": {
          "iopub.execute_input": "2021-07-09T11:00:48.153006Z",
          "iopub.status.busy": "2021-07-09T11:00:48.147911Z",
          "iopub.status.idle": "2021-07-09T11:00:48.175377Z",
          "shell.execute_reply": "2021-07-09T11:00:48.174819Z",
          "shell.execute_reply.started": "2021-07-09T09:13:09.040499Z"
        },
        "papermill": {
          "duration": 0.350781,
          "end_time": "2021-07-09T11:00:48.175535",
          "exception": false,
          "start_time": "2021-07-09T11:00:47.824754",
          "status": "completed"
        },
        "tags": [],
        "id": "ddded093"
      },
      "outputs": [],
      "source": [
        "final_data=pd.concat([final_features, target], axis=1)"
      ]
    },
    {
      "cell_type": "code",
      "execution_count": null,
      "id": "341d5a16",
      "metadata": {
        "execution": {
          "iopub.execute_input": "2021-07-09T11:00:48.918818Z",
          "iopub.status.busy": "2021-07-09T11:00:48.917433Z",
          "iopub.status.idle": "2021-07-09T11:00:53.534013Z",
          "shell.execute_reply": "2021-07-09T11:00:53.534517Z",
          "shell.execute_reply.started": "2021-07-09T09:13:09.070646Z"
        },
        "papermill": {
          "duration": 4.943546,
          "end_time": "2021-07-09T11:00:53.534712",
          "exception": false,
          "start_time": "2021-07-09T11:00:48.591166",
          "status": "completed"
        },
        "tags": [],
        "id": "341d5a16"
      },
      "outputs": [],
      "source": [
        "fig = plt.figure(figsize=(20,10))\n",
        "sns.heatmap(final_data.corr(), annot = True, fmt = '.2f', cmap = 'magma')"
      ]
    },
    {
      "cell_type": "code",
      "execution_count": null,
      "id": "af628d3a",
      "metadata": {
        "execution": {
          "iopub.execute_input": "2021-07-09T11:00:54.205262Z",
          "iopub.status.busy": "2021-07-09T11:00:54.204563Z",
          "iopub.status.idle": "2021-07-09T11:00:54.207667Z",
          "shell.execute_reply": "2021-07-09T11:00:54.207147Z",
          "shell.execute_reply.started": "2021-07-09T09:13:13.591771Z"
        },
        "papermill": {
          "duration": 0.338056,
          "end_time": "2021-07-09T11:00:54.207827",
          "exception": false,
          "start_time": "2021-07-09T11:00:53.869771",
          "status": "completed"
        },
        "tags": [],
        "id": "af628d3a"
      },
      "outputs": [],
      "source": [
        "from sklearn.linear_model import LinearRegression\n",
        "from sklearn.model_selection import cross_val_score\n",
        "from sklearn.ensemble import RandomForestRegressor\n",
        "from sklearn.preprocessing import StandardScaler\n",
        "from sklearn.pipeline import Pipeline\n",
        "from sklearn.model_selection import GridSearchCV, RandomizedSearchCV\n",
        "\n",
        "from sklearn.metrics import *\n",
        "from sklearn.linear_model import LinearRegression, RANSACRegressor, Lasso, Ridge, SGDRegressor\n",
        "from sklearn.ensemble import RandomForestRegressor\n",
        "from xgboost import XGBRegressor\n",
        "from sklearn.neighbors import KNeighborsRegressor\n",
        "from sklearn.tree import DecisionTreeRegressor"
      ]
    },
    {
      "cell_type": "code",
      "execution_count": null,
      "id": "dc6be67f",
      "metadata": {
        "execution": {
          "iopub.execute_input": "2021-07-09T11:00:54.882850Z",
          "iopub.status.busy": "2021-07-09T11:00:54.877629Z",
          "iopub.status.idle": "2021-07-09T11:00:54.945102Z",
          "shell.execute_reply": "2021-07-09T11:00:54.944119Z",
          "shell.execute_reply.started": "2021-07-09T09:13:13.602126Z"
        },
        "papermill": {
          "duration": 0.408353,
          "end_time": "2021-07-09T11:00:54.945298",
          "exception": false,
          "start_time": "2021-07-09T11:00:54.536945",
          "status": "completed"
        },
        "tags": [],
        "id": "dc6be67f"
      },
      "outputs": [],
      "source": [
        "from sklearn.model_selection import train_test_split\n",
        "X_train, X_test, y_train, y_test = train_test_split(final_features, target, test_size = 0.3, random_state = 42)"
      ]
    },
    {
      "cell_type": "code",
      "execution_count": null,
      "id": "bc646392",
      "metadata": {
        "execution": {
          "iopub.execute_input": "2021-07-09T11:00:55.612334Z",
          "iopub.status.busy": "2021-07-09T11:00:55.611684Z",
          "iopub.status.idle": "2021-07-09T11:00:55.614730Z",
          "shell.execute_reply": "2021-07-09T11:00:55.614180Z",
          "shell.execute_reply.started": "2021-07-09T09:13:13.693457Z"
        },
        "papermill": {
          "duration": 0.335591,
          "end_time": "2021-07-09T11:00:55.614882",
          "exception": false,
          "start_time": "2021-07-09T11:00:55.279291",
          "status": "completed"
        },
        "tags": [],
        "id": "bc646392"
      },
      "outputs": [],
      "source": [
        "lr_pipeline = Pipeline([(\"scaler\", StandardScaler()), (\"linear_regression\", LinearRegression())])\n",
        "ridge_pipeline = Pipeline([(\"scaler\", StandardScaler()), (\"ridge_regressor\", Ridge(random_state = 42))])\n",
        "lasso_pipeline = Pipeline([(\"scaler\", StandardScaler()), (\"lasso_regressor\", Lasso(random_state = 42))])\n",
        "random_forest_pipeline = Pipeline([(\"scaler\", StandardScaler()), (\"randomforest_regression\", RandomForestRegressor(random_state = 42))])\n",
        "xgboost_pipeline = Pipeline([(\"scaler\", StandardScaler()), (\"xgboost_regression\", XGBRegressor())])\n",
        "knn_pipeline = Pipeline([(\"scaler\", StandardScaler()), (\"knn_regression\", KNeighborsRegressor())])"
      ]
    },
    {
      "cell_type": "code",
      "execution_count": null,
      "id": "8a677973",
      "metadata": {
        "execution": {
          "iopub.execute_input": "2021-07-09T11:00:56.353392Z",
          "iopub.status.busy": "2021-07-09T11:00:56.352747Z",
          "iopub.status.idle": "2021-07-09T11:00:56.355695Z",
          "shell.execute_reply": "2021-07-09T11:00:56.356207Z",
          "shell.execute_reply.started": "2021-07-09T09:13:13.704902Z"
        },
        "papermill": {
          "duration": 0.391297,
          "end_time": "2021-07-09T11:00:56.356392",
          "exception": false,
          "start_time": "2021-07-09T11:00:55.965095",
          "status": "completed"
        },
        "tags": [],
        "id": "8a677973"
      },
      "outputs": [],
      "source": [
        "pipelines = [lr_pipeline, ridge_pipeline, lasso_pipeline,\n",
        "            random_forest_pipeline, xgboost_pipeline, knn_pipeline]"
      ]
    },
    {
      "cell_type": "code",
      "execution_count": null,
      "id": "604d2a9b",
      "metadata": {
        "execution": {
          "iopub.execute_input": "2021-07-09T11:00:57.031424Z",
          "iopub.status.busy": "2021-07-09T11:00:57.030730Z",
          "iopub.status.idle": "2021-07-09T11:00:57.034309Z",
          "shell.execute_reply": "2021-07-09T11:00:57.033761Z",
          "shell.execute_reply.started": "2021-07-09T09:13:13.719685Z"
        },
        "papermill": {
          "duration": 0.340392,
          "end_time": "2021-07-09T11:00:57.034449",
          "exception": false,
          "start_time": "2021-07-09T11:00:56.694057",
          "status": "completed"
        },
        "tags": [],
        "id": "604d2a9b"
      },
      "outputs": [],
      "source": [
        "pipe_dict = {0: \"Linear Regression\", 1: \"Ridge\",\n",
        "            2: \"Lasso\", 3: \"RandomForest\", 4: \"XGBoost\",\n",
        "            5: \"Decision Tree\", 6: \"KNN\"}"
      ]
    },
    {
      "cell_type": "code",
      "execution_count": null,
      "id": "5b974c21",
      "metadata": {
        "execution": {
          "iopub.execute_input": "2021-07-09T11:00:57.699000Z",
          "iopub.status.busy": "2021-07-09T11:00:57.697960Z",
          "iopub.status.idle": "2021-07-09T11:26:04.986719Z",
          "shell.execute_reply": "2021-07-09T11:26:04.987259Z",
          "shell.execute_reply.started": "2021-07-09T09:13:13.732665Z"
        },
        "papermill": {
          "duration": 1507.62512,
          "end_time": "2021-07-09T11:26:04.987459",
          "exception": false,
          "start_time": "2021-07-09T11:00:57.362339",
          "status": "completed"
        },
        "tags": [],
        "id": "5b974c21"
      },
      "outputs": [],
      "source": [
        "scores_df = pd.DataFrame(columns = [\"Model\", \"CVScores\"])\n",
        "for i, pipe in enumerate(pipelines):\n",
        "    score = cross_val_score(pipe, final_features,target, cv = 5)\n",
        "    print(pipe_dict[i], \": \", score.mean())"
      ]
    },
    {
      "cell_type": "code",
      "execution_count": null,
      "id": "9c41e5da",
      "metadata": {
        "execution": {
          "iopub.execute_input": "2021-07-09T11:26:05.646526Z",
          "iopub.status.busy": "2021-07-09T11:26:05.645501Z",
          "iopub.status.idle": "2021-07-09T11:26:05.648156Z",
          "shell.execute_reply": "2021-07-09T11:26:05.648614Z",
          "shell.execute_reply.started": "2021-07-09T09:39:36.700605Z"
        },
        "papermill": {
          "duration": 0.333361,
          "end_time": "2021-07-09T11:26:05.648815",
          "exception": false,
          "start_time": "2021-07-09T11:26:05.315454",
          "status": "completed"
        },
        "tags": [],
        "id": "9c41e5da"
      },
      "outputs": [],
      "source": [
        "grid_params = [\n",
        "    \n",
        "{\"classifier\": [XGBRegressor()],\n",
        "     \"classifier__n_estimators\": [100,150,200,250,300],\n",
        "     \n",
        "}\n",
        "    \n",
        "]"
      ]
    },
    {
      "cell_type": "code",
      "execution_count": null,
      "id": "bb4c91f6",
      "metadata": {
        "execution": {
          "iopub.execute_input": "2021-07-09T11:26:06.307165Z",
          "iopub.status.busy": "2021-07-09T11:26:06.306517Z",
          "iopub.status.idle": "2021-07-09T11:26:06.308903Z",
          "shell.execute_reply": "2021-07-09T11:26:06.309349Z",
          "shell.execute_reply.started": "2021-07-09T09:39:36.707906Z"
        },
        "papermill": {
          "duration": 0.332673,
          "end_time": "2021-07-09T11:26:06.309520",
          "exception": false,
          "start_time": "2021-07-09T11:26:05.976847",
          "status": "completed"
        },
        "tags": [],
        "id": "bb4c91f6"
      },
      "outputs": [],
      "source": [
        "pipeline_new = Pipeline([(\"scaler\", StandardScaler()), (\"classifier\", XGBRegressor())])\n",
        "from sklearn.model_selection import GridSearchCV, RandomizedSearchCV"
      ]
    },
    {
      "cell_type": "code",
      "execution_count": null,
      "id": "c041742a",
      "metadata": {
        "execution": {
          "iopub.execute_input": "2021-07-09T11:26:06.974871Z",
          "iopub.status.busy": "2021-07-09T11:26:06.974213Z",
          "iopub.status.idle": "2021-07-09T11:26:06.976879Z",
          "shell.execute_reply": "2021-07-09T11:26:06.976310Z",
          "shell.execute_reply.started": "2021-07-09T09:39:36.733139Z"
        },
        "papermill": {
          "duration": 0.337858,
          "end_time": "2021-07-09T11:26:06.977014",
          "exception": false,
          "start_time": "2021-07-09T11:26:06.639156",
          "status": "completed"
        },
        "tags": [],
        "id": "c041742a"
      },
      "outputs": [],
      "source": [
        "random_search = RandomizedSearchCV(estimator = pipeline_new, param_distributions = grid_params, scoring = 'neg_mean_absolute_error', n_jobs= -1, cv = 8, verbose = 10, random_state = 42)\n"
      ]
    },
    {
      "cell_type": "code",
      "execution_count": null,
      "id": "793559db",
      "metadata": {
        "execution": {
          "iopub.execute_input": "2021-07-09T11:26:07.685850Z",
          "iopub.status.busy": "2021-07-09T11:26:07.685205Z",
          "iopub.status.idle": "2021-07-09T12:14:31.287069Z",
          "shell.execute_reply": "2021-07-09T12:14:31.286485Z",
          "shell.execute_reply.started": "2021-07-09T09:39:36.747344Z"
        },
        "papermill": {
          "duration": 2903.929276,
          "end_time": "2021-07-09T12:14:31.287245",
          "exception": false,
          "start_time": "2021-07-09T11:26:07.357969",
          "status": "completed"
        },
        "tags": [],
        "id": "793559db"
      },
      "outputs": [],
      "source": [
        "best_model = random_search.fit(X_train, y_train)"
      ]
    },
    {
      "cell_type": "code",
      "execution_count": null,
      "id": "8b83d416",
      "metadata": {
        "execution": {
          "iopub.execute_input": "2021-07-09T12:14:31.951831Z",
          "iopub.status.busy": "2021-07-09T12:14:31.951132Z",
          "iopub.status.idle": "2021-07-09T12:14:31.959792Z",
          "shell.execute_reply": "2021-07-09T12:14:31.959241Z",
          "shell.execute_reply.started": "2021-07-09T10:29:50.576057Z"
        },
        "papermill": {
          "duration": 0.340876,
          "end_time": "2021-07-09T12:14:31.959930",
          "exception": false,
          "start_time": "2021-07-09T12:14:31.619054",
          "status": "completed"
        },
        "tags": [],
        "id": "8b83d416"
      },
      "outputs": [],
      "source": [
        "best_model.best_params_"
      ]
    },
    {
      "cell_type": "code",
      "execution_count": null,
      "id": "6e120f48",
      "metadata": {
        "execution": {
          "iopub.execute_input": "2021-07-09T12:14:32.623865Z",
          "iopub.status.busy": "2021-07-09T12:14:32.623231Z",
          "iopub.status.idle": "2021-07-09T12:14:32.626184Z",
          "shell.execute_reply": "2021-07-09T12:14:32.625561Z",
          "shell.execute_reply.started": "2021-07-09T10:29:50.588472Z"
        },
        "papermill": {
          "duration": 0.335342,
          "end_time": "2021-07-09T12:14:32.626311",
          "exception": false,
          "start_time": "2021-07-09T12:14:32.290969",
          "status": "completed"
        },
        "tags": [],
        "id": "6e120f48"
      },
      "outputs": [],
      "source": [
        "pipeline_XGBRegressor = Pipeline([('scaler', StandardScaler()), ('XGBRegressor',  XGBRegressor(importance_type='gain', n_estimators=300, ))])"
      ]
    },
    {
      "cell_type": "code",
      "execution_count": null,
      "id": "4e808986",
      "metadata": {
        "execution": {
          "iopub.execute_input": "2021-07-09T12:14:33.347448Z",
          "iopub.status.busy": "2021-07-09T12:14:33.346775Z",
          "iopub.status.idle": "2021-07-09T12:15:21.339331Z",
          "shell.execute_reply": "2021-07-09T12:15:21.338785Z",
          "shell.execute_reply.started": "2021-07-09T10:29:50.602379Z"
        },
        "papermill": {
          "duration": 48.325928,
          "end_time": "2021-07-09T12:15:21.339481",
          "exception": false,
          "start_time": "2021-07-09T12:14:33.013553",
          "status": "completed"
        },
        "tags": [],
        "id": "4e808986"
      },
      "outputs": [],
      "source": [
        "model = pipeline_XGBRegressor.fit(X_train, y_train)"
      ]
    },
    {
      "cell_type": "code",
      "execution_count": null,
      "id": "a9703ca7",
      "metadata": {
        "execution": {
          "iopub.execute_input": "2021-07-09T12:15:22.041112Z",
          "iopub.status.busy": "2021-07-09T12:15:22.040403Z",
          "iopub.status.idle": "2021-07-09T12:15:22.443972Z",
          "shell.execute_reply": "2021-07-09T12:15:22.443181Z",
          "shell.execute_reply.started": "2021-07-09T10:30:43.912894Z"
        },
        "papermill": {
          "duration": 0.774002,
          "end_time": "2021-07-09T12:15:22.444122",
          "exception": false,
          "start_time": "2021-07-09T12:15:21.670120",
          "status": "completed"
        },
        "tags": [],
        "id": "a9703ca7"
      },
      "outputs": [],
      "source": [
        "XGB_train_predict = pd.DataFrame({'actual' : y_train,\n",
        "                                 'predicted' : model.predict(X_train)})\n",
        "XGB_train_predict.head()"
      ]
    },
    {
      "cell_type": "code",
      "execution_count": null,
      "id": "3aed3b0a",
      "metadata": {
        "execution": {
          "iopub.execute_input": "2021-07-09T12:15:23.122347Z",
          "iopub.status.busy": "2021-07-09T12:15:23.121728Z",
          "iopub.status.idle": "2021-07-09T12:15:23.314367Z",
          "shell.execute_reply": "2021-07-09T12:15:23.315314Z",
          "shell.execute_reply.started": "2021-07-09T10:30:44.325803Z"
        },
        "papermill": {
          "duration": 0.532521,
          "end_time": "2021-07-09T12:15:23.315511",
          "exception": false,
          "start_time": "2021-07-09T12:15:22.782990",
          "status": "completed"
        },
        "tags": [],
        "id": "3aed3b0a"
      },
      "outputs": [],
      "source": [
        "XGB_test_predict = pd.DataFrame({'actual' : y_test,\n",
        "                                 'predicted' : model.predict(X_test)})\n",
        "XGB_test_predict.head()"
      ]
    },
    {
      "cell_type": "code",
      "execution_count": null,
      "id": "609587e8",
      "metadata": {
        "execution": {
          "iopub.execute_input": "2021-07-09T12:15:23.991091Z",
          "iopub.status.busy": "2021-07-09T12:15:23.990412Z",
          "iopub.status.idle": "2021-07-09T12:15:24.156329Z",
          "shell.execute_reply": "2021-07-09T12:15:24.157282Z",
          "shell.execute_reply.started": "2021-07-09T10:30:44.512698Z"
        },
        "papermill": {
          "duration": 0.508414,
          "end_time": "2021-07-09T12:15:24.157486",
          "exception": false,
          "start_time": "2021-07-09T12:15:23.649072",
          "status": "completed"
        },
        "tags": [],
        "id": "609587e8"
      },
      "outputs": [],
      "source": [
        "predict = model.predict(X_test)"
      ]
    },
    {
      "cell_type": "code",
      "execution_count": null,
      "id": "8d6d56a8",
      "metadata": {
        "execution": {
          "iopub.execute_input": "2021-07-09T12:15:24.842178Z",
          "iopub.status.busy": "2021-07-09T12:15:24.841278Z",
          "iopub.status.idle": "2021-07-09T12:15:24.845068Z",
          "shell.execute_reply": "2021-07-09T12:15:24.845495Z",
          "shell.execute_reply.started": "2021-07-09T10:30:44.680635Z"
        },
        "papermill": {
          "duration": 0.351753,
          "end_time": "2021-07-09T12:15:24.845691",
          "exception": false,
          "start_time": "2021-07-09T12:15:24.493938",
          "status": "completed"
        },
        "tags": [],
        "id": "8d6d56a8"
      },
      "outputs": [],
      "source": [
        "r2_score(y_test, predict, multioutput='uniform_average')"
      ]
    },
    {
      "cell_type": "code",
      "execution_count": null,
      "id": "34042a8a",
      "metadata": {
        "execution": {
          "iopub.execute_input": "2021-07-09T12:15:25.583319Z",
          "iopub.status.busy": "2021-07-09T12:15:25.582646Z",
          "iopub.status.idle": "2021-07-09T12:15:27.198640Z",
          "shell.execute_reply": "2021-07-09T12:15:27.196965Z",
          "shell.execute_reply.started": "2021-07-09T10:30:44.694056Z"
        },
        "papermill": {
          "duration": 1.965046,
          "end_time": "2021-07-09T12:15:27.198850",
          "exception": false,
          "start_time": "2021-07-09T12:15:25.233804",
          "status": "completed"
        },
        "tags": [],
        "id": "34042a8a"
      },
      "outputs": [],
      "source": [
        "fig = go.Figure()\n",
        "fig.add_trace(go.Scatter(x=y_test, y=predict, mode='markers' ,  name='predicted vs actual'))\n",
        "fig.add_trace(go.Scatter(x=y_test , y=y_test, mode='lines' , name='actual'))\n",
        "\n",
        "\n",
        "fig.update_layout(title='actual Sales vs predicted Sales', xaxis_title= 'Actual Score', yaxis_title = 'Predicted Score' , template= 'plotly_dark')"
      ]
    },
    {
      "cell_type": "code",
      "execution_count": null,
      "id": "c1aad450",
      "metadata": {
        "id": "c1aad450"
      },
      "outputs": [],
      "source": []
    },
    {
      "cell_type": "code",
      "execution_count": null,
      "id": "950e500a",
      "metadata": {
        "id": "950e500a"
      },
      "outputs": [],
      "source": []
    },
    {
      "cell_type": "code",
      "execution_count": null,
      "id": "bbdf0d8b",
      "metadata": {
        "id": "bbdf0d8b"
      },
      "outputs": [],
      "source": []
    }
  ],
  "metadata": {
    "kernelspec": {
      "display_name": "Python 3 (ipykernel)",
      "language": "python",
      "name": "python3"
    },
    "language_info": {
      "codemirror_mode": {
        "name": "ipython",
        "version": 3
      },
      "file_extension": ".py",
      "mimetype": "text/x-python",
      "name": "python",
      "nbconvert_exporter": "python",
      "pygments_lexer": "ipython3",
      "version": "3.10.9"
    },
    "papermill": {
      "default_parameters": {},
      "duration": 6024.700331,
      "end_time": "2021-07-09T12:15:30.338019",
      "environment_variables": {},
      "exception": null,
      "input_path": "__notebook__.ipynb",
      "output_path": "__notebook__.ipynb",
      "parameters": {},
      "start_time": "2021-07-09T10:35:05.637688",
      "version": "2.3.3"
    },
    "colab": {
      "provenance": [],
      "include_colab_link": true
    }
  },
  "nbformat": 4,
  "nbformat_minor": 5
}