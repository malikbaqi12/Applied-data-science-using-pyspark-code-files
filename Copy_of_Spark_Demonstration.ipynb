{
  "cells": [
    {
      "cell_type": "markdown",
      "metadata": {
        "id": "view-in-github",
        "colab_type": "text"
      },
      "source": [
        "<a href=\"https://colab.research.google.com/github/malikbaqi12/Applied-data-science-using-pyspark-code-files/blob/main/Copy_of_Spark_Demonstration.ipynb\" target=\"_parent\"><img src=\"https://colab.research.google.com/assets/colab-badge.svg\" alt=\"Open In Colab\"/></a>"
      ]
    },
    {
      "cell_type": "markdown",
      "metadata": {
        "id": "4XLisVKV7tys"
      },
      "source": [
        "# Data Manipulations in PySpark"
      ]
    },
    {
      "cell_type": "code",
      "source": [
        "from google.colab import drive\n",
        "drive.mount('/content/drive')"
      ],
      "metadata": {
        "id": "5LZA30iZ7z7V",
        "outputId": "19df3d5e-ad38-4335-8cc9-edb10e3c0999",
        "colab": {
          "base_uri": "https://localhost:8080/"
        }
      },
      "execution_count": 92,
      "outputs": [
        {
          "output_type": "stream",
          "name": "stdout",
          "text": [
            "Drive already mounted at /content/drive; to attempt to forcibly remount, call drive.mount(\"/content/drive\", force_remount=True).\n"
          ]
        }
      ]
    },
    {
      "cell_type": "code",
      "source": [
        "pip install pyspark\n"
      ],
      "metadata": {
        "id": "GD0UPOxP8KjV",
        "outputId": "6b2b6bd1-7d12-4b78-966f-9d3cdabb9404",
        "colab": {
          "base_uri": "https://localhost:8080/"
        }
      },
      "execution_count": 93,
      "outputs": [
        {
          "output_type": "stream",
          "name": "stdout",
          "text": [
            "Looking in indexes: https://pypi.org/simple, https://us-python.pkg.dev/colab-wheels/public/simple/\n",
            "Requirement already satisfied: pyspark in /usr/local/lib/python3.10/dist-packages (3.4.0)\n",
            "Requirement already satisfied: py4j==0.10.9.7 in /usr/local/lib/python3.10/dist-packages (from pyspark) (0.10.9.7)\n"
          ]
        }
      ]
    },
    {
      "cell_type": "markdown",
      "metadata": {
        "id": "CpXJfrq27ty0"
      },
      "source": [
        "# Chapter 2 Demonstrations"
      ]
    },
    {
      "cell_type": "code",
      "execution_count": 94,
      "metadata": {
        "id": "YYY_gLvC7ty2"
      },
      "outputs": [],
      "source": [
        "# Import Sparksession\n",
        "from pyspark.sql import SparkSession\n",
        "spark=SparkSession.builder.appName(\"Data_Wrangling\").getOrCreate()"
      ]
    },
    {
      "cell_type": "code",
      "execution_count": 95,
      "metadata": {
        "id": "QpmkmbA97ty6",
        "outputId": "ecfaf598-9670-47bb-e298-3d1c82da0c37",
        "colab": {
          "base_uri": "https://localhost:8080/"
        }
      },
      "outputs": [
        {
          "output_type": "stream",
          "name": "stdout",
          "text": [
            "Python version: 3.10.11 (main, Apr  5 2023, 14:15:10) [GCC 9.4.0]\n",
            "Spark version: 3.4.0\n"
          ]
        }
      ],
      "source": [
        "# Print PySpark and Python versions\n",
        "import sys\n",
        "print('Python version: '+sys.version)\n",
        "print('Spark version: '+spark.version)"
      ]
    },
    {
      "cell_type": "code",
      "execution_count": 96,
      "metadata": {
        "id": "62S3xjTF7ty-"
      },
      "outputs": [],
      "source": [
        "# Read data\n",
        "file_location = \"/content/drive/MyDrive/movie_data_part1.csv\"\n",
        "file_type = \"csv\"\n",
        "infer_schema = \"false\"\n",
        "first_row_is_header = \"true\"\n",
        "delimiter = \"|\"\n",
        "\n",
        "df = spark.read.format(file_type)\\\n",
        ".option(\"inferSchema\", infer_schema)\\\n",
        ".option(\"header\", first_row_is_header)\\\n",
        ".option(\"sep\", delimiter)\\\n",
        ".load(file_location)\n"
      ]
    },
    {
      "cell_type": "code",
      "execution_count": 97,
      "metadata": {
        "id": "4rCix7-P7ty_",
        "outputId": "cd97cc13-4a86-4b98-c519-90a07839b128",
        "colab": {
          "base_uri": "https://localhost:8080/"
        }
      },
      "outputs": [
        {
          "output_type": "stream",
          "name": "stdout",
          "text": [
            "root\n",
            " |-- belongs_to_collection: string (nullable = true)\n",
            " |-- budget: string (nullable = true)\n",
            " |-- id: string (nullable = true)\n",
            " |-- original_language: string (nullable = true)\n",
            " |-- original_title: string (nullable = true)\n",
            " |-- overview: string (nullable = true)\n",
            " |-- popularity: string (nullable = true)\n",
            " |-- production_companies: string (nullable = true)\n",
            " |-- production_countries: string (nullable = true)\n",
            " |-- release_date: string (nullable = true)\n",
            " |-- revenue: string (nullable = true)\n",
            " |-- runtime: string (nullable = true)\n",
            " |-- status: string (nullable = true)\n",
            " |-- tagline: string (nullable = true)\n",
            " |-- title: string (nullable = true)\n",
            " |-- vote_average: string (nullable = true)\n",
            "\n"
          ]
        }
      ],
      "source": [
        "# Print Metadata\n",
        "df.printSchema()"
      ]
    },
    {
      "cell_type": "code",
      "execution_count": 98,
      "metadata": {
        "id": "Ods98mdQ7tzA",
        "outputId": "5b37d2d8-e43a-4c1b-f96f-9bb2b4892c75",
        "colab": {
          "base_uri": "https://localhost:8080/"
        }
      },
      "outputs": [
        {
          "output_type": "execute_result",
          "data": {
            "text/plain": [
              "[('belongs_to_collection', 'string'),\n",
              " ('budget', 'string'),\n",
              " ('id', 'string'),\n",
              " ('original_language', 'string'),\n",
              " ('original_title', 'string'),\n",
              " ('overview', 'string'),\n",
              " ('popularity', 'string'),\n",
              " ('production_companies', 'string'),\n",
              " ('production_countries', 'string'),\n",
              " ('release_date', 'string'),\n",
              " ('revenue', 'string'),\n",
              " ('runtime', 'string'),\n",
              " ('status', 'string'),\n",
              " ('tagline', 'string'),\n",
              " ('title', 'string'),\n",
              " ('vote_average', 'string')]"
            ]
          },
          "metadata": {},
          "execution_count": 98
        }
      ],
      "source": [
        "# Print Metadata - 2nd method\n",
        "df.dtypes"
      ]
    },
    {
      "cell_type": "code",
      "execution_count": 99,
      "metadata": {
        "id": "-oE1LtOd7tzB",
        "outputId": "389226ed-c5d7-443d-da3c-0f1bd9a7d238",
        "colab": {
          "base_uri": "https://localhost:8080/"
        }
      },
      "outputs": [
        {
          "output_type": "stream",
          "name": "stdout",
          "text": [
            "The total number of records in the movie dataset are 43998\n"
          ]
        }
      ],
      "source": [
        "#  Count data\n",
        "df.count()\n",
        "print('The total number of records in the movie dataset are '+str(df.count()))"
      ]
    },
    {
      "cell_type": "code",
      "execution_count": 100,
      "metadata": {
        "id": "tqP5Yd2v7tzC"
      },
      "outputs": [],
      "source": [
        "#  Drop Columns\n",
        "drop_columns_list=[\"overview\",\"belongs_to_collection\",\"production_companies\",\"production_countries\",\"status\",\"original_title\"]\n",
        "df1=df.drop(*drop_columns_list)"
      ]
    },
    {
      "cell_type": "code",
      "execution_count": 101,
      "metadata": {
        "id": "P2_TO7x27tzD",
        "outputId": "19a0ee71-7d45-4d06-a84a-603090c14074",
        "colab": {
          "base_uri": "https://localhost:8080/"
        }
      },
      "outputs": [
        {
          "output_type": "stream",
          "name": "stdout",
          "text": [
            "+-----+-------+------------------+------------+-------+--------------------+\n",
            "|   id| budget|        popularity|release_date|revenue|               title|\n",
            "+-----+-------+------------------+------------+-------+--------------------+\n",
            "|43000|      0|             2.503|  1962-05-23|      0|The Elusive Corporal|\n",
            "|43001|      0|              5.51|  1962-11-12|      0|  Sundays and Cybele|\n",
            "|43002|      0|              5.62|  1962-05-24|      0|Lonely Are the Brave|\n",
            "|43003|      0|             7.159|  1975-03-12|      0|          F for Fake|\n",
            "|43004| 500000|             3.988|  1962-10-09|      0|Long Day's Journe...|\n",
            "|43006|      0|             3.194|  1962-03-09|      0|           My Geisha|\n",
            "|43007|      0|             2.689|  1962-10-31|      0|Period of Adjustment|\n",
            "|43008|      0|             6.537|  1959-03-13|      0|    The Hanging Tree|\n",
            "|43010|      0|             4.297|  1962-01-01|      0|Sherlock Holmes a...|\n",
            "|43011|      0|             4.417|  1962-01-01|      0|  Sodom and Gomorrah|\n",
            "|43012|7000000|4.7219999999999995|  1962-11-21|4000000|         Taras Bulba|\n",
            "|43013|      0|             2.543|  1962-04-17|      0|The Counterfeit T...|\n",
            "|43014|      0|             4.303|  1962-10-24|      0|     Tower of London|\n",
            "|43015|      0|             3.493|  1962-12-07|      0|Varan the Unbelie...|\n",
            "|43016|      0|             2.851|  1962-01-01|      0|Waltz of the Tore...|\n",
            "|43017|      0|             4.047|  1961-10-11|      0|         Back Street|\n",
            "|43018|      0|             2.661|  1961-06-02|      0|Gidget Goes Hawaiian|\n",
            "|43019|      0|             3.225|  2010-05-28|      0|Schuks Tshabalala...|\n",
            "|43020|      0|              5.72|  1961-06-15|      0|The Colossus of R...|\n",
            "|43021|      0|             3.292|  2008-08-22|      0|          Sex Galaxy|\n",
            "+-----+-------+------------------+------------+-------+--------------------+\n",
            "only showing top 20 rows\n",
            "\n"
          ]
        }
      ],
      "source": [
        "# Subsetting Columns\n",
        "select_columns=['id','budget','popularity','release_date','revenue','title']\n",
        "df=df.select(*select_columns)\n",
        "df.show()"
      ]
    },
    {
      "cell_type": "code",
      "execution_count": 102,
      "metadata": {
        "id": "eiJTbij37tzE",
        "outputId": "2311fcf7-1386-4f03-96ca-2cebbef3d2f1",
        "colab": {
          "base_uri": "https://localhost:8080/"
        }
      },
      "outputs": [
        {
          "output_type": "stream",
          "name": "stdout",
          "text": [
            "+-----+-------+------------------+------------+-------+--------------------+\n",
            "|   id| budget|        popularity|release_date|revenue|               title|\n",
            "+-----+-------+------------------+------------+-------+--------------------+\n",
            "|43000|      0|             2.503|  1962-05-23|      0|The Elusive Corporal|\n",
            "|43001|      0|              5.51|  1962-11-12|      0|  Sundays and Cybele|\n",
            "|43002|      0|              5.62|  1962-05-24|      0|Lonely Are the Brave|\n",
            "|43003|      0|             7.159|  1975-03-12|      0|          F for Fake|\n",
            "|43004| 500000|             3.988|  1962-10-09|      0|Long Day's Journe...|\n",
            "|43006|      0|             3.194|  1962-03-09|      0|           My Geisha|\n",
            "|43007|      0|             2.689|  1962-10-31|      0|Period of Adjustment|\n",
            "|43008|      0|             6.537|  1959-03-13|      0|    The Hanging Tree|\n",
            "|43010|      0|             4.297|  1962-01-01|      0|Sherlock Holmes a...|\n",
            "|43011|      0|             4.417|  1962-01-01|      0|  Sodom and Gomorrah|\n",
            "|43012|7000000|4.7219999999999995|  1962-11-21|4000000|         Taras Bulba|\n",
            "|43013|      0|             2.543|  1962-04-17|      0|The Counterfeit T...|\n",
            "|43014|      0|             4.303|  1962-10-24|      0|     Tower of London|\n",
            "|43015|      0|             3.493|  1962-12-07|      0|Varan the Unbelie...|\n",
            "|43016|      0|             2.851|  1962-01-01|      0|Waltz of the Tore...|\n",
            "|43017|      0|             4.047|  1961-10-11|      0|         Back Street|\n",
            "|43018|      0|             2.661|  1961-06-02|      0|Gidget Goes Hawaiian|\n",
            "|43019|      0|             3.225|  2010-05-28|      0|Schuks Tshabalala...|\n",
            "|43020|      0|              5.72|  1961-06-15|      0|The Colossus of R...|\n",
            "|43021|      0|             3.292|  2008-08-22|      0|          Sex Galaxy|\n",
            "+-----+-------+------------------+------------+-------+--------------------+\n",
            "only showing top 20 rows\n",
            "\n"
          ]
        }
      ],
      "source": [
        "# Subsetting Columns\n",
        "df = spark.read.format(file_type)\\\n",
        ".option(\"inferSchema\", infer_schema)\\\n",
        ".option(\"header\", first_row_is_header)\\\n",
        ".option(\"sep\", delimiter)\\\n",
        ".load(file_location)\n",
        "df=df.select(df[2],df[1],df[6],df[9],df[10],df[14])\n",
        "df.show()"
      ]
    },
    {
      "cell_type": "code",
      "execution_count": 103,
      "metadata": {
        "id": "FqJ1GcWI7tzF",
        "outputId": "0500d89a-953b-49b4-e4fd-2f87832df445",
        "colab": {
          "base_uri": "https://localhost:8080/"
        }
      },
      "outputs": [
        {
          "output_type": "execute_result",
          "data": {
            "text/plain": [
              "215"
            ]
          },
          "metadata": {},
          "execution_count": 103
        }
      ],
      "source": [
        "# Identifying missing values\n",
        "from pyspark.sql.functions import *\n",
        "df.filter((df['popularity']=='')|df['popularity'].isNull()|isnan(df['popularity'])).count()"
      ]
    },
    {
      "cell_type": "code",
      "execution_count": 104,
      "metadata": {
        "id": "-svq2ozp7tzH",
        "outputId": "f237a221-8aae-4227-e742-5d8640bd7528",
        "colab": {
          "base_uri": "https://localhost:8080/"
        }
      },
      "outputs": [
        {
          "output_type": "stream",
          "name": "stdout",
          "text": [
            "+---+------+----------+------------+-------+-----+\n",
            "| id|budget|popularity|release_date|revenue|title|\n",
            "+---+------+----------+------------+-------+-----+\n",
            "|125|   125|       215|         221|    215|  304|\n",
            "+---+------+----------+------------+-------+-----+\n",
            "\n"
          ]
        }
      ],
      "source": [
        "# Identifying missing values\n",
        "df.select([count(when((col(c)=='') | col(c).isNull() |isnan(c), c)).alias(c) for c in df.columns]).show()"
      ]
    },
    {
      "cell_type": "code",
      "execution_count": 105,
      "metadata": {
        "id": "p0MI5qnO7tzI",
        "outputId": "ed2e2b59-736e-4ed2-f4e1-cdad5630ba59",
        "colab": {
          "base_uri": "https://localhost:8080/"
        }
      },
      "outputs": [
        {
          "output_type": "stream",
          "name": "stdout",
          "text": [
            "+--------------------+-----+\n",
            "|               title|count|\n",
            "+--------------------+-----+\n",
            "|   The Corn Is Green|    1|\n",
            "|Meet The Browns -...|    1|\n",
            "|Morenita, El Esca...|    1|\n",
            "| Father Takes a Wife|    1|\n",
            "|The Werewolf of W...|    1|\n",
            "|My Wife Is a Gang...|    1|\n",
            "|Depeche Mode: Tou...|    1|\n",
            "|  A Woman Is a Woman|    1|\n",
            "|History Is Made a...|    1|\n",
            "|      Colombian Love|    1|\n",
            "|        Ace Attorney|    1|\n",
            "|     Not Like Others|    1|\n",
            "|40 Guns to Apache...|    1|\n",
            "|          Middle Men|    1|\n",
            "|         It's a Gift|    1|\n",
            "|    La Vie de Bohème|    1|\n",
            "|Rasputin: The Mad...|    1|\n",
            "|The Ballad of Jac...|    1|\n",
            "|         How to Deal|    1|\n",
            "|             Freaked|    1|\n",
            "+--------------------+-----+\n",
            "only showing top 20 rows\n",
            "\n"
          ]
        }
      ],
      "source": [
        "# One way Frequencies\n",
        "df.groupBy(df['title']).count().show()"
      ]
    },
    {
      "cell_type": "code",
      "execution_count": 106,
      "metadata": {
        "id": "0OabScUy7tzJ",
        "outputId": "b7d9ec23-1c65-4e57-963b-611b4739334a",
        "colab": {
          "base_uri": "https://localhost:8080/"
        }
      },
      "outputs": [
        {
          "output_type": "stream",
          "name": "stdout",
          "text": [
            "+--------------------+-----+\n",
            "|title               |count|\n",
            "+--------------------+-----+\n",
            "|null                |304  |\n",
            "|Les Misérables      |8    |\n",
            "|The Three Musketeers|8    |\n",
            "|Cinderella          |8    |\n",
            "|A Christmas Carol   |7    |\n",
            "|The Island          |7    |\n",
            "|Dracula             |7    |\n",
            "|Hamlet              |7    |\n",
            "|Frankenstein        |7    |\n",
            "|Cleopatra           |6    |\n",
            "+--------------------+-----+\n",
            "only showing top 10 rows\n",
            "\n"
          ]
        }
      ],
      "source": [
        "#Frequencies - descending order\n",
        "df.groupby(df['title']).count().sort(desc(\"count\")).show(10, False)"
      ]
    },
    {
      "cell_type": "code",
      "execution_count": 107,
      "metadata": {
        "id": "8F8iq9dZ7tzK",
        "outputId": "d35c3040-475a-4c93-f5fe-6a8a9e9a25dc",
        "colab": {
          "base_uri": "https://localhost:8080/"
        }
      },
      "outputs": [
        {
          "output_type": "stream",
          "name": "stdout",
          "text": [
            "+--------------------+-----+\n",
            "|title               |count|\n",
            "+--------------------+-----+\n",
            "|Les Misérables      |8    |\n",
            "|The Three Musketeers|8    |\n",
            "|Cinderella          |8    |\n",
            "|A Christmas Carol   |7    |\n",
            "|The Island          |7    |\n",
            "|Frankenstein        |7    |\n",
            "|Dracula             |7    |\n",
            "|Hamlet              |7    |\n",
            "|Treasure Island     |6    |\n",
            "|The Lost World      |6    |\n",
            "+--------------------+-----+\n",
            "only showing top 10 rows\n",
            "\n"
          ]
        },
        {
          "output_type": "execute_result",
          "data": {
            "text/plain": [
              "43"
            ]
          },
          "metadata": {},
          "execution_count": 107
        }
      ],
      "source": [
        "#  One way frquencies with filters\n",
        "df_temp=df.filter((df['title']!='')&(df['title'].isNotNull()) & (~isnan(df['title'])))\n",
        "df_temp.groupby(df_temp['title']).count().filter(\"`count` >4\").sort(col(\"count\").desc()).show(10,False)\n",
        "df_temp.groupby(df_temp['title']).count().filter(\"`count` >4\").sort(col(\"count\").desc()).count()"
      ]
    },
    {
      "cell_type": "code",
      "execution_count": 108,
      "metadata": {
        "id": "hg-0Z6Bl7tzM"
      },
      "outputs": [],
      "source": [
        "# Casting\n",
        "df = df.withColumn('budget',df['budget'].cast(\"float\"))"
      ]
    },
    {
      "cell_type": "code",
      "execution_count": 109,
      "metadata": {
        "scrolled": true,
        "id": "CRcr6b5x7tzO",
        "outputId": "f4c9d9bb-3433-41f4-8dc0-4c5879fcd419",
        "colab": {
          "base_uri": "https://localhost:8080/"
        }
      },
      "outputs": [
        {
          "output_type": "execute_result",
          "data": {
            "text/plain": [
              "[('id', 'string'),\n",
              " ('budget', 'float'),\n",
              " ('popularity', 'string'),\n",
              " ('release_date', 'string'),\n",
              " ('revenue', 'string'),\n",
              " ('title', 'string')]"
            ]
          },
          "metadata": {},
          "execution_count": 109
        }
      ],
      "source": [
        "#Before Casting\n",
        "df.dtypes"
      ]
    },
    {
      "cell_type": "code",
      "execution_count": 110,
      "metadata": {
        "id": "VCqMuHTn7tzP",
        "outputId": "d490a754-e22d-4ca6-bee6-9a8fb3f17f67",
        "colab": {
          "base_uri": "https://localhost:8080/"
        }
      },
      "outputs": [
        {
          "output_type": "execute_result",
          "data": {
            "text/plain": [
              "[('id', 'string'),\n",
              " ('budget', 'float'),\n",
              " ('popularity', 'string'),\n",
              " ('release_date', 'string'),\n",
              " ('revenue', 'string'),\n",
              " ('title', 'string')]"
            ]
          },
          "metadata": {},
          "execution_count": 110
        }
      ],
      "source": [
        "#After Casting\n",
        "df.dtypes"
      ]
    },
    {
      "cell_type": "code",
      "execution_count": 111,
      "metadata": {
        "id": "2H4LzTpi7tzQ"
      },
      "outputs": [],
      "source": [
        "# Casting multiple variables\n",
        "from pyspark.sql.types import *\n",
        "\n",
        "#Identifying and assiging lists of variables  \n",
        "int_vars=['id']\n",
        "float_vars=['budget', 'popularity', 'revenue']\n",
        "date_vars=['release_date']\n",
        "\n",
        "for column in int_vars:\n",
        "\tdf=df.withColumn(column,df[column].cast(IntegerType()))\n",
        "for column in float_vars:\n",
        "\tdf=df.withColumn(column,df[column].cast(FloatType()))\n",
        "for column in date_vars:\n",
        "\tdf=df.withColumn(column,df[column].cast(DateType()))"
      ]
    },
    {
      "cell_type": "code",
      "execution_count": 112,
      "metadata": {
        "id": "p0T7yvx97tzR",
        "outputId": "2143b9d8-e13c-480a-960a-cfe073a74673",
        "colab": {
          "base_uri": "https://localhost:8080/"
        }
      },
      "outputs": [
        {
          "output_type": "execute_result",
          "data": {
            "text/plain": [
              "[('id', 'int'),\n",
              " ('budget', 'float'),\n",
              " ('popularity', 'float'),\n",
              " ('release_date', 'date'),\n",
              " ('revenue', 'float'),\n",
              " ('title', 'string')]"
            ]
          },
          "metadata": {},
          "execution_count": 112
        }
      ],
      "source": [
        "#After Casting\n",
        "df.dtypes"
      ]
    },
    {
      "cell_type": "code",
      "execution_count": 113,
      "metadata": {
        "id": "BF4LyYn-7tzS",
        "outputId": "921501b7-e4ee-4827-ac2d-9cb7b3bc4b85",
        "colab": {
          "base_uri": "https://localhost:8080/"
        }
      },
      "outputs": [
        {
          "output_type": "stream",
          "name": "stdout",
          "text": [
            "+-----+--------+----------+------------+-------+---------------------------------------+\n",
            "|id   |budget  |popularity|release_date|revenue|title                                  |\n",
            "+-----+--------+----------+------------+-------+---------------------------------------+\n",
            "|43000|0.0     |2.503     |1962-05-23  |0.0    |The Elusive Corporal                   |\n",
            "|43001|0.0     |5.51      |1962-11-12  |0.0    |Sundays and Cybele                     |\n",
            "|43002|0.0     |5.62      |1962-05-24  |0.0    |Lonely Are the Brave                   |\n",
            "|43003|0.0     |7.159     |1975-03-12  |0.0    |F for Fake                             |\n",
            "|43004|500000.0|3.988     |1962-10-09  |0.0    |Long Day's Journey Into Night          |\n",
            "|43006|0.0     |3.194     |1962-03-09  |0.0    |My Geisha                              |\n",
            "|43007|0.0     |2.689     |1962-10-31  |0.0    |Period of Adjustment                   |\n",
            "|43008|0.0     |6.537     |1959-03-13  |0.0    |The Hanging Tree                       |\n",
            "|43010|0.0     |4.297     |1962-01-01  |0.0    |Sherlock Holmes and the Deadly Necklace|\n",
            "|43011|0.0     |4.417     |1962-01-01  |0.0    |Sodom and Gomorrah                     |\n",
            "+-----+--------+----------+------------+-------+---------------------------------------+\n",
            "only showing top 10 rows\n",
            "\n"
          ]
        }
      ],
      "source": [
        "#After Casting output\n",
        "df.show(10,False)"
      ]
    },
    {
      "cell_type": "code",
      "execution_count": 114,
      "metadata": {
        "id": "lPUctqZM7tzS",
        "outputId": "c6d577f0-3077-4b15-a8f3-9a417ddd9b0c",
        "colab": {
          "base_uri": "https://localhost:8080/"
        }
      },
      "outputs": [
        {
          "output_type": "stream",
          "name": "stdout",
          "text": [
            "+-------+------------------+--------------------+------------------+-------------------+--------------------+\n",
            "|summary|                id|              budget|        popularity|            revenue|               title|\n",
            "+-------+------------------+--------------------+------------------+-------------------+--------------------+\n",
            "|  count|             43784|               43873|             43783|              43783|               43694|\n",
            "|   mean|44502.304312077475|  3736901.8349631676| 5.295444259579189|  9697079.597382545|            Infinity|\n",
            "| stddev|  27189.6465886264|1.5871814952777285E7|6.1680305192082665|5.687938449628816E7|                 NaN|\n",
            "|    min|                 2|                 0.0|               0.6|                0.0|!Women Art Revolu...|\n",
            "|    max|            100988|               3.8E8|             180.0|       2.78796518E9|       시크릿 Secret|\n",
            "+-------+------------------+--------------------+------------------+-------------------+--------------------+\n",
            "\n"
          ]
        }
      ],
      "source": [
        "# Describe function\n",
        "df.describe().show()"
      ]
    },
    {
      "cell_type": "code",
      "execution_count": 115,
      "metadata": {
        "id": "iMpiKgBT7tzT",
        "outputId": "0c1deede-08f9-4502-bd4f-a4cc4b0a6cb1",
        "colab": {
          "base_uri": "https://localhost:8080/"
        }
      },
      "outputs": [
        {
          "output_type": "stream",
          "name": "stdout",
          "text": [
            "The median of budget is [7000000.0]\n"
          ]
        }
      ],
      "source": [
        "# Median Calculation\n",
        "df_temp = df.filter((df['budget']!=0)&(df['budget'].isNotNull()) & (~isnan(df['budget'])))\n",
        "median=df_temp.approxQuantile('budget',[0.5],0.001)\n",
        "print ('The median of budget is '+str(median))\n"
      ]
    },
    {
      "cell_type": "code",
      "execution_count": 116,
      "metadata": {
        "id": "sS9sbDqZ7tzU",
        "outputId": "c045cbcc-da98-44bd-8cfe-d4eec41278e2",
        "colab": {
          "base_uri": "https://localhost:8080/"
        }
      },
      "outputs": [
        {
          "output_type": "stream",
          "name": "stdout",
          "text": [
            "+-----+\n",
            "|count|\n",
            "+-----+\n",
            "|41138|\n",
            "+-----+\n",
            "\n"
          ]
        }
      ],
      "source": [
        "# Distinct Counts\n",
        "df.agg(countDistinct(col(\"title\")).alias(\"count\")).show()"
      ]
    },
    {
      "cell_type": "code",
      "execution_count": 117,
      "metadata": {
        "scrolled": true,
        "id": "QPE-tykv7tzV",
        "outputId": "0bc5d3b7-ee5b-4453-ab1f-000f1af911fd",
        "colab": {
          "base_uri": "https://localhost:8080/"
        }
      },
      "outputs": [
        {
          "output_type": "stream",
          "name": "stdout",
          "text": [
            "+---------------------------------------------+\n",
            "|title                                        |\n",
            "+---------------------------------------------+\n",
            "|The Corn Is Green                            |\n",
            "|Meet The Browns - The Play                   |\n",
            "|Morenita, El Escandalo                       |\n",
            "|Father Takes a Wife                          |\n",
            "|The Werewolf of Washington                   |\n",
            "|My Wife Is a Gangster                        |\n",
            "|Depeche Mode: Touring the Angel Live in Milan|\n",
            "|A Woman Is a Woman                           |\n",
            "|History Is Made at Night                     |\n",
            "|Colombian Love                               |\n",
            "+---------------------------------------------+\n",
            "only showing top 10 rows\n",
            "\n"
          ]
        }
      ],
      "source": [
        "# Distinct Values\n",
        "df.select('title').distinct().show(10,False)"
      ]
    },
    {
      "cell_type": "code",
      "execution_count": 118,
      "metadata": {
        "id": "u8P5Ym717tzW",
        "outputId": "4640fcbb-0db1-4e52-fbaa-a47ba79aea12",
        "colab": {
          "base_uri": "https://localhost:8080/"
        }
      },
      "outputs": [
        {
          "output_type": "stream",
          "name": "stdout",
          "text": [
            "+------------+------------+\n",
            "|release_year|count(title)|\n",
            "+------------+------------+\n",
            "|1959        |271         |\n",
            "|1990        |496         |\n",
            "|1975        |365         |\n",
            "|1977        |415         |\n",
            "|1924        |19          |\n",
            "|2003        |1199        |\n",
            "|2007        |1896        |\n",
            "|2018        |4           |\n",
            "|1974        |434         |\n",
            "|2015        |13          |\n",
            "+------------+------------+\n",
            "only showing top 10 rows\n",
            "\n"
          ]
        }
      ],
      "source": [
        "# Distinct Aggregations\n",
        "df_temp=df.withColumn('release_year',year('release_date'))\n",
        "df_temp.groupBy(\"release_year\").agg(countDistinct(\"title\")).show(10,False)"
      ]
    },
    {
      "cell_type": "code",
      "execution_count": 119,
      "metadata": {
        "id": "D6ymmhz77tzW"
      },
      "outputs": [],
      "source": [
        "# Datetime extractions\n",
        "df_temp=df_temp.withColumn('release_month',month('release_date'))\n",
        "df_temp=df_temp.withColumn('release_day',dayofmonth('release_date'))"
      ]
    },
    {
      "cell_type": "code",
      "execution_count": 120,
      "metadata": {
        "id": "dFMSxmsl7tzX",
        "outputId": "4dd0e5ed-27ba-4856-b644-a85b32cec542",
        "colab": {
          "base_uri": "https://localhost:8080/"
        }
      },
      "outputs": [
        {
          "output_type": "stream",
          "name": "stdout",
          "text": [
            "+-----+---------+----------+------------+---------+--------------------+------------+-------------+-----------+\n",
            "|   id|   budget|popularity|release_date|  revenue|               title|release_year|release_month|release_day|\n",
            "+-----+---------+----------+------------+---------+--------------------+------------+-------------+-----------+\n",
            "|43000|      0.0|     2.503|  1962-05-23|      0.0|The Elusive Corporal|        1962|            5|         23|\n",
            "|43001|      0.0|      5.51|  1962-11-12|      0.0|  Sundays and Cybele|        1962|           11|         12|\n",
            "|43002|      0.0|      5.62|  1962-05-24|      0.0|Lonely Are the Brave|        1962|            5|         24|\n",
            "|43003|      0.0|     7.159|  1975-03-12|      0.0|          F for Fake|        1975|            3|         12|\n",
            "|43004| 500000.0|     3.988|  1962-10-09|      0.0|Long Day's Journe...|        1962|           10|          9|\n",
            "|43006|      0.0|     3.194|  1962-03-09|      0.0|           My Geisha|        1962|            3|          9|\n",
            "|43007|      0.0|     2.689|  1962-10-31|      0.0|Period of Adjustment|        1962|           10|         31|\n",
            "|43008|      0.0|     6.537|  1959-03-13|      0.0|    The Hanging Tree|        1959|            3|         13|\n",
            "|43010|      0.0|     4.297|  1962-01-01|      0.0|Sherlock Holmes a...|        1962|            1|          1|\n",
            "|43011|      0.0|     4.417|  1962-01-01|      0.0|  Sodom and Gomorrah|        1962|            1|          1|\n",
            "|43012|7000000.0|     4.722|  1962-11-21|4000000.0|         Taras Bulba|        1962|           11|         21|\n",
            "|43013|      0.0|     2.543|  1962-04-17|      0.0|The Counterfeit T...|        1962|            4|         17|\n",
            "|43014|      0.0|     4.303|  1962-10-24|      0.0|     Tower of London|        1962|           10|         24|\n",
            "|43015|      0.0|     3.493|  1962-12-07|      0.0|Varan the Unbelie...|        1962|           12|          7|\n",
            "|43016|      0.0|     2.851|  1962-01-01|      0.0|Waltz of the Tore...|        1962|            1|          1|\n",
            "|43017|      0.0|     4.047|  1961-10-11|      0.0|         Back Street|        1961|           10|         11|\n",
            "|43018|      0.0|     2.661|  1961-06-02|      0.0|Gidget Goes Hawaiian|        1961|            6|          2|\n",
            "|43019|      0.0|     3.225|  2010-05-28|      0.0|Schuks Tshabalala...|        2010|            5|         28|\n",
            "|43020|      0.0|      5.72|  1961-06-15|      0.0|The Colossus of R...|        1961|            6|         15|\n",
            "|43021|      0.0|     3.292|  2008-08-22|      0.0|          Sex Galaxy|        2008|            8|         22|\n",
            "+-----+---------+----------+------------+---------+--------------------+------------+-------------+-----------+\n",
            "only showing top 20 rows\n",
            "\n"
          ]
        }
      ],
      "source": [
        "# Output of datetime extractions\n",
        "df_temp.show()"
      ]
    },
    {
      "cell_type": "code",
      "execution_count": 121,
      "metadata": {
        "id": "QNdwJqrw7tzY",
        "outputId": "498a6ae3-d18a-4fb9-e1d8-96c005e1781b",
        "colab": {
          "base_uri": "https://localhost:8080/"
        }
      },
      "outputs": [
        {
          "output_type": "stream",
          "name": "stdout",
          "text": [
            "+-----+---------+----------+------------+-----------+--------------------------+\n",
            "|id   |budget   |popularity|release_date|revenue    |title                     |\n",
            "+-----+---------+----------+------------+-----------+--------------------------+\n",
            "|43957|500000.0 |2.649     |2005-06-28  |1000000.0  |Meet The Browns - The Play|\n",
            "|39997|0.0      |3.585     |1989-11-15  |0.0        |Meet the Hollowheads      |\n",
            "|16710|0.0      |11.495    |2008-03-21  |4.1939392E7|Meet the Browns           |\n",
            "|20430|0.0      |3.614     |2004-01-29  |0.0        |Meet Market               |\n",
            "|76435|0.0      |1.775     |2011-03-31  |0.0        |Meet the In-Laws          |\n",
            "|76516|5000000.0|4.05      |1990-11-08  |485772.0   |Meet the Applegates       |\n",
            "|7278 |3.0E7    |11.116    |2008-01-24  |8.4646832E7|Meet the Spartans         |\n",
            "|32574|0.0      |7.42      |1941-03-14  |0.0        |Meet John Doe             |\n",
            "|40506|0.0      |4.814     |1997-01-31  |0.0        |Meet Wally Sparks         |\n",
            "|40688|2.4E7    |6.848     |1998-03-27  |4562146.0  |Meet the Deedles          |\n",
            "+-----+---------+----------+------------+-----------+--------------------------+\n",
            "only showing top 10 rows\n",
            "\n"
          ]
        }
      ],
      "source": [
        "# Filtering based on like\n",
        "df.filter(df['title'].like('Meet%')).show(10,False)"
      ]
    },
    {
      "cell_type": "code",
      "execution_count": 122,
      "metadata": {
        "id": "nwm7pcbs7tzY",
        "outputId": "72ded74b-b70d-401d-dfff-99657ba78611",
        "colab": {
          "base_uri": "https://localhost:8080/"
        }
      },
      "outputs": [
        {
          "output_type": "stream",
          "name": "stdout",
          "text": [
            "+-----+--------+----------+------------+-------+---------------------------------------+\n",
            "|id   |budget  |popularity|release_date|revenue|title                                  |\n",
            "+-----+--------+----------+------------+-------+---------------------------------------+\n",
            "|43000|0.0     |2.503     |1962-05-23  |0.0    |The Elusive Corporal                   |\n",
            "|43001|0.0     |5.51      |1962-11-12  |0.0    |Sundays and Cybele                     |\n",
            "|43002|0.0     |5.62      |1962-05-24  |0.0    |Lonely Are the Brave                   |\n",
            "|43003|0.0     |7.159     |1975-03-12  |0.0    |F for Fake                             |\n",
            "|43004|500000.0|3.988     |1962-10-09  |0.0    |Long Day's Journey Into Night          |\n",
            "|43006|0.0     |3.194     |1962-03-09  |0.0    |My Geisha                              |\n",
            "|43007|0.0     |2.689     |1962-10-31  |0.0    |Period of Adjustment                   |\n",
            "|43008|0.0     |6.537     |1959-03-13  |0.0    |The Hanging Tree                       |\n",
            "|43010|0.0     |4.297     |1962-01-01  |0.0    |Sherlock Holmes and the Deadly Necklace|\n",
            "|43011|0.0     |4.417     |1962-01-01  |0.0    |Sodom and Gomorrah                     |\n",
            "+-----+--------+----------+------------+-------+---------------------------------------+\n",
            "only showing top 10 rows\n",
            "\n"
          ]
        }
      ],
      "source": [
        "# Filtering based on not like\n",
        "df.filter(~df['title'].like('%s')).show(10,False)"
      ]
    },
    {
      "cell_type": "code",
      "execution_count": 123,
      "metadata": {
        "id": "-L1xRnDv7tzZ",
        "outputId": "5152fc95-37cc-475c-8457-f643db431774",
        "colab": {
          "base_uri": "https://localhost:8080/"
        }
      },
      "outputs": [
        {
          "output_type": "stream",
          "name": "stdout",
          "text": [
            "+-----+------+----------+------------+------------+------------------------+\n",
            "|id   |budget|popularity|release_date|revenue     |title                   |\n",
            "+-----+------+----------+------------+------------+------------------------+\n",
            "|43100|0.0   |7.252     |1959-10-07  |0.0         |General Della Rovere    |\n",
            "|43152|0.0   |5.126     |2001-06-21  |0.0         |Love on a Diet          |\n",
            "|43191|0.0   |4.921     |1952-08-29  |0.0         |Beware, My Lovely       |\n",
            "|43281|0.0   |2.411     |1989-11-22  |0.0         |Love Without Pity       |\n",
            "|43343|0.0   |3.174     |1953-12-25  |0.0         |Easy to Love            |\n",
            "|43347|3.0E7 |14.863    |2010-11-22  |1.02820008E8|Love & Other Drugs      |\n",
            "|43362|0.0   |1.705     |1952-02-23  |0.0         |Love Is Better Than Ever|\n",
            "|43363|0.0   |2.02      |1952-05-29  |0.0         |Lovely to Look At       |\n",
            "|43395|0.0   |4.758     |1950-11-10  |0.0         |Two Weeks with Love     |\n",
            "|43455|0.0   |4.669     |1948-08-23  |0.0         |The Loves of Carmen     |\n",
            "+-----+------+----------+------------+------------+------------------------+\n",
            "only showing top 10 rows\n",
            "\n"
          ]
        }
      ],
      "source": [
        "# Filtering based on not regular expressions - P1\n",
        "df.filter(df['title'].rlike('[A-Z]*ove')).show(10,False)"
      ]
    },
    {
      "cell_type": "code",
      "execution_count": 124,
      "metadata": {
        "id": "8qq4yob07tza",
        "outputId": "cd2f47b2-369b-4458-b07d-e868a410d7f7",
        "colab": {
          "base_uri": "https://localhost:8080/"
        }
      },
      "outputs": [
        {
          "output_type": "stream",
          "name": "stdout",
          "text": [
            "+-----+------+----------+------------+------------+--------------------+\n",
            "|   id|budget|popularity|release_date|     revenue|               title|\n",
            "+-----+------+----------+------------+------------+--------------------+\n",
            "|43100|   0.0|     7.252|  1959-10-07|         0.0|General Della Rovere|\n",
            "|43152|   0.0|     5.126|  2001-06-21|         0.0|      Love on a Diet|\n",
            "|43191|   0.0|     4.921|  1952-08-29|         0.0|   Beware, My Lovely|\n",
            "|43281|   0.0|     2.411|  1989-11-22|         0.0|   Love Without Pity|\n",
            "|43343|   0.0|     3.174|  1953-12-25|         0.0|        Easy to Love|\n",
            "|43347| 3.0E7|    14.863|  2010-11-22|1.02820008E8|  Love & Other Drugs|\n",
            "|43362|   0.0|     1.705|  1952-02-23|         0.0|Love Is Better Th...|\n",
            "|43363|   0.0|      2.02|  1952-05-29|         0.0|   Lovely to Look At|\n",
            "|43395|   0.0|     4.758|  1950-11-10|         0.0| Two Weeks with Love|\n",
            "|43455|   0.0|     4.669|  1948-08-23|         0.0| The Loves of Carmen|\n",
            "|43483|   0.0|     3.161|  1946-12-25|         0.0|Love Laughs at An...|\n",
            "|43547|   0.0|     7.635|  2009-01-30|         0.0|Between Love & Go...|\n",
            "|43556|   0.0|     2.418|  2006-10-31|         0.0|Joe Satriani - Li...|\n",
            "|43561|   0.0|     8.475|  2004-12-17|         0.0|   Christmas in Love|\n",
            "|43609|   0.0|     5.684|  2010-04-07|         0.0|    My Own Love Song|\n",
            "|43652|   0.0|     3.097|  2009-11-19|         0.0| Beloved Berlin Wall|\n",
            "|43739|   0.0|     4.514|  1939-04-07|         0.0|         Love Affair|\n",
            "|43742| 6.0E7|     3.723|  1994-10-21|         0.0|         Love Affair|\n",
            "|43764|   0.0|      0.73|  2006-01-01|         0.0|The Fish Fall in ...|\n",
            "|43787|   0.0|     5.769|  1942-11-19|         0.0|You Were Never Lo...|\n",
            "+-----+------+----------+------------+------------+--------------------+\n",
            "only showing top 20 rows\n",
            "\n"
          ]
        }
      ],
      "source": [
        "# Filtering based on contain function\n",
        "df.filter(df.title.contains('ove')).show()"
      ]
    },
    {
      "cell_type": "code",
      "execution_count": 125,
      "metadata": {
        "id": "_I7SK98W7tza",
        "outputId": "64315dee-9694-407a-e59a-ecae0c10da6d",
        "colab": {
          "base_uri": "https://localhost:8080/"
        }
      },
      "outputs": [
        {
          "output_type": "execute_result",
          "data": {
            "text/plain": [
              "1025"
            ]
          },
          "metadata": {},
          "execution_count": 125
        }
      ],
      "source": [
        "# Filtering based on regular expression - P2\n",
        "df.filter(df['title'].rlike('\\w*ove')).count()"
      ]
    },
    {
      "cell_type": "code",
      "execution_count": 126,
      "metadata": {
        "id": "2-F0Hvil7tzb",
        "outputId": "b5f9b7d3-5517-448b-baeb-56275664e8fd",
        "colab": {
          "base_uri": "https://localhost:8080/"
        }
      },
      "outputs": [
        {
          "output_type": "stream",
          "name": "stdout",
          "text": [
            "root\n",
            " |-- release_date: date (nullable = true)\n",
            " |-- revenue: float (nullable = true)\n",
            "\n"
          ]
        }
      ],
      "source": [
        "# Filtering based on regular expression with ColRegex to subset columns - P1\n",
        "df.select(df.colRegex(\"`(re)+?.+`\")).printSchema()"
      ]
    },
    {
      "cell_type": "code",
      "execution_count": 127,
      "metadata": {
        "id": "UKaKSV4r7tzb",
        "outputId": "db404aa2-111e-4b3e-eaa0-ced6ecea3366",
        "colab": {
          "base_uri": "https://localhost:8080/"
        }
      },
      "outputs": [
        {
          "output_type": "stream",
          "name": "stdout",
          "text": [
            "root\n",
            " |-- release_date: date (nullable = true)\n",
            " |-- revenue: float (nullable = true)\n",
            "\n"
          ]
        }
      ],
      "source": [
        "# Filtering based on regular expression with ColRegex to subset columns - P2\n",
        "df.select(df.colRegex(\"`re\\w*`\")).printSchema()"
      ]
    },
    {
      "cell_type": "code",
      "execution_count": 128,
      "metadata": {
        "id": "x-NLnv9Z7tzd",
        "outputId": "bdca7ee2-6cd4-4b6d-be68-057674b6afc2",
        "colab": {
          "base_uri": "https://localhost:8080/"
        }
      },
      "outputs": [
        {
          "output_type": "stream",
          "name": "stdout",
          "text": [
            "root\n",
            " |-- release_date: date (nullable = true)\n",
            " |-- revenue: float (nullable = true)\n",
            " |-- title: string (nullable = true)\n",
            "\n"
          ]
        }
      ],
      "source": [
        "# Filtering based on regular expression with ColRegex to subset columns - P3\n",
        "df.select(df.colRegex(\"`\\w*e`\")).printSchema()"
      ]
    },
    {
      "cell_type": "code",
      "execution_count": 129,
      "metadata": {
        "id": "hosuOSck7tze",
        "outputId": "2282b37d-2b07-4e55-98f6-7f1ebaea9c31",
        "colab": {
          "base_uri": "https://localhost:8080/"
        }
      },
      "outputs": [
        {
          "output_type": "stream",
          "name": "stdout",
          "text": [
            "root\n",
            " |-- id: integer (nullable = true)\n",
            " |-- budget: float (nullable = true)\n",
            " |-- popularity: float (nullable = true)\n",
            " |-- release_date: date (nullable = true)\n",
            " |-- revenue: float (nullable = true)\n",
            " |-- title: string (nullable = true)\n",
            " |-- mean_popularity: double (nullable = false)\n",
            " |-- varaiance: double (nullable = true)\n",
            "\n"
          ]
        }
      ],
      "source": [
        "# New Columns\n",
        "mean_pop=df.agg({'popularity': 'mean'}).collect()[0]['avg(popularity)']\n",
        "count_obs= df.count()\n",
        "df=df.withColumn('mean_popularity',lit(mean_pop))\n",
        "df=df.withColumn('varaiance',pow((df['popularity']-df['mean_popularity']),2))\n",
        "df.printSchema()"
      ]
    },
    {
      "cell_type": "code",
      "execution_count": 130,
      "metadata": {
        "id": "nryplITr7tzg",
        "outputId": "b2b254f1-be3c-4524-86c2-cc257e454bad",
        "colab": {
          "base_uri": "https://localhost:8080/"
        }
      },
      "outputs": [
        {
          "output_type": "stream",
          "name": "stdout",
          "text": [
            "+-----+---------+----------+------------+---------+--------------------+-----------------+--------------------+\n",
            "|   id|   budget|popularity|release_date|  revenue|               title|  mean_popularity|           varaiance|\n",
            "+-----+---------+----------+------------+---------+--------------------+-----------------+--------------------+\n",
            "|43000|      0.0|     2.503|  1962-05-23|      0.0|The Elusive Corporal|5.295444259579189|   7.797744825681142|\n",
            "|43001|      0.0|      5.51|  1962-11-12|      0.0|  Sundays and Cybele|5.295444259579189|0.046034263963398346|\n",
            "|43002|      0.0|      5.62|  1962-05-24|      0.0|Lonely Are the Brave|5.295444259579189| 0.10533635435520017|\n",
            "|43003|      0.0|     7.159|  1975-03-12|      0.0|          F for Fake|5.295444259579189|  3.4728396990815216|\n",
            "|43004| 500000.0|     3.988|  1962-10-09|      0.0|Long Day's Journe...|5.295444259579189|   1.709410711356759|\n",
            "|43006|      0.0|     3.194|  1962-03-09|      0.0|           My Geisha|5.295444259579189|   4.416067952069205|\n",
            "|43007|      0.0|     2.689|  1962-10-31|      0.0|Period of Adjustment|5.295444259579189|   6.793552245032679|\n",
            "|43008|      0.0|     6.537|  1959-03-13|      0.0|    The Hanging Tree|5.295444259579189|  1.5414611017708733|\n",
            "|43010|      0.0|     4.297|  1962-01-01|      0.0|Sherlock Holmes a...|5.295444259579189|   0.996891076602093|\n",
            "|43011|      0.0|     4.417|  1962-01-01|      0.0|  Sodom and Gomorrah|5.295444259579189|  0.7716646388835591|\n",
            "|43012|7000000.0|     4.722|  1962-11-21|4000000.0|         Taras Bulba|5.295444259579189| 0.32883817884329936|\n",
            "|43013|      0.0|     2.543|  1962-04-17|      0.0|The Counterfeit T...|5.295444259579189|   7.575949496588105|\n",
            "|43014|      0.0|     4.303|  1962-10-24|      0.0|     Tower of London|5.295444259579189|  0.9849456613739271|\n",
            "|43015|      0.0|     3.493|  1962-12-07|      0.0|Varan the Unbelie...|5.295444259579189|   3.248805198877505|\n",
            "|43016|      0.0|     2.851|  1962-01-01|      0.0|Waltz of the Tore...|5.295444259579189|   5.975307393171506|\n",
            "|43017|      0.0|     4.047|  1961-10-11|      0.0|         Back Street|5.295444259579189|  1.5586132407239628|\n",
            "|43018|      0.0|     2.661|  1961-06-02|      0.0|Gidget Goes Hawaiian|5.295444259579189|   6.940296486482491|\n",
            "|43019|      0.0|     3.225|  2010-05-28|      0.0|Schuks Tshabalala...|5.295444259579189|  4.2867398269303285|\n",
            "|43020|      0.0|      5.72|  1961-06-15|      0.0|The Colossus of R...|5.295444259579189|  0.1802473985736286|\n",
            "|43021|      0.0|     3.292|  2008-08-22|      0.0|          Sex Galaxy|5.295444259579189|   4.013788679607341|\n",
            "+-----+---------+----------+------------+---------+--------------------+-----------------+--------------------+\n",
            "only showing top 20 rows\n",
            "\n"
          ]
        }
      ],
      "source": [
        "# New Columns - output\n",
        "df.show()"
      ]
    },
    {
      "cell_type": "code",
      "execution_count": 131,
      "metadata": {
        "id": "GcaqcJ7U7tzg",
        "outputId": "8e6e0953-54d8-482f-de9c-56c5357d064c",
        "colab": {
          "base_uri": "https://localhost:8080/"
        }
      },
      "outputs": [
        {
          "output_type": "stream",
          "name": "stdout",
          "text": [
            "1665668.6984730042\n",
            "37.858688057663116\n"
          ]
        }
      ],
      "source": [
        "# variance calculation\n",
        "variance_sum=df.agg({'varaiance': 'sum'}).collect()[0]['sum(varaiance)']\n",
        "print(variance_sum)\n",
        "variance_population= variance_sum/(count_obs-1)\n",
        "print(variance_population)"
      ]
    },
    {
      "cell_type": "code",
      "execution_count": 132,
      "metadata": {
        "id": "BMDGlkV27tzh",
        "outputId": "c8735fa3-381a-4e41-e853-4f5e544fe653",
        "colab": {
          "base_uri": "https://localhost:8080/"
        }
      },
      "outputs": [
        {
          "output_type": "execute_result",
          "data": {
            "text/plain": [
              "6.152941415100839"
            ]
          },
          "metadata": {},
          "execution_count": 132
        }
      ],
      "source": [
        "# Standard deviation\n",
        "import math\n",
        "math.sqrt(variance_population)"
      ]
    },
    {
      "cell_type": "code",
      "execution_count": 133,
      "metadata": {
        "id": "t6wzQq0v7tzi",
        "outputId": "ce8648b5-475a-4c86-b97b-29f2fb5093cf",
        "colab": {
          "base_uri": "https://localhost:8080/"
        }
      },
      "outputs": [
        {
          "output_type": "stream",
          "name": "stdout",
          "text": [
            "+-----+---------+----------+------------+---------+--------------------+-----------------+--------------------+\n",
            "|   id|   budget|popularity|release_date|  revenue|               title|  mean_popularity|           varaiance|\n",
            "+-----+---------+----------+------------+---------+--------------------+-----------------+--------------------+\n",
            "|43000|      0.0|     2.503|  1962-05-23|      0.0|The Elusive Corporal|5.295444259579189|   7.797744825681142|\n",
            "|43001|      0.0|      5.51|  1962-11-12|      0.0|  Sundays and Cybele|5.295444259579189|0.046034263963398346|\n",
            "|43002|      0.0|      5.62|  1962-05-24|      0.0|Lonely Are the Brave|5.295444259579189| 0.10533635435520017|\n",
            "|43003|      0.0|     7.159|  1975-03-12|      0.0|          F for Fake|5.295444259579189|  3.4728396990815216|\n",
            "|43004| 500000.0|     3.988|  1962-10-09|      0.0|Long Day's Journe...|5.295444259579189|   1.709410711356759|\n",
            "|43006|      0.0|     3.194|  1962-03-09|      0.0|           My Geisha|5.295444259579189|   4.416067952069205|\n",
            "|43007|      0.0|     2.689|  1962-10-31|      0.0|Period of Adjustment|5.295444259579189|   6.793552245032679|\n",
            "|43008|      0.0|     6.537|  1959-03-13|      0.0|    The Hanging Tree|5.295444259579189|  1.5414611017708733|\n",
            "|43010|      0.0|     4.297|  1962-01-01|      0.0|Sherlock Holmes a...|5.295444259579189|   0.996891076602093|\n",
            "|43011|      0.0|     4.417|  1962-01-01|      0.0|  Sodom and Gomorrah|5.295444259579189|  0.7716646388835591|\n",
            "|43012|7000000.0|     4.722|  1962-11-21|4000000.0|         Taras Bulba|5.295444259579189| 0.32883817884329936|\n",
            "|43013|      0.0|     2.543|  1962-04-17|      0.0|The Counterfeit T...|5.295444259579189|   7.575949496588105|\n",
            "|43014|      0.0|     4.303|  1962-10-24|      0.0|     Tower of London|5.295444259579189|  0.9849456613739271|\n",
            "|43015|      0.0|     3.493|  1962-12-07|      0.0|Varan the Unbelie...|5.295444259579189|   3.248805198877505|\n",
            "|43016|      0.0|     2.851|  1962-01-01|      0.0|Waltz of the Tore...|5.295444259579189|   5.975307393171506|\n",
            "|43017|      0.0|     4.047|  1961-10-11|      0.0|         Back Street|5.295444259579189|  1.5586132407239628|\n",
            "|43018|      0.0|     2.661|  1961-06-02|      0.0|Gidget Goes Hawaiian|5.295444259579189|   6.940296486482491|\n",
            "|43019|      0.0|     3.225|  2010-05-28|      0.0|Schuks Tshabalala...|5.295444259579189|  4.2867398269303285|\n",
            "|43020|      0.0|      5.72|  1961-06-15|      0.0|The Colossus of R...|5.295444259579189|  0.1802473985736286|\n",
            "|43021|      0.0|     3.292|  2008-08-22|      0.0|          Sex Galaxy|5.295444259579189|   4.013788679607341|\n",
            "+-----+---------+----------+------------+---------+--------------------+-----------------+--------------------+\n",
            "only showing top 20 rows\n",
            "\n"
          ]
        }
      ],
      "source": [
        "# Variance calculation sub output\n",
        "df.show()"
      ]
    },
    {
      "cell_type": "code",
      "execution_count": 134,
      "metadata": {
        "id": "mnj2waI77tzj",
        "outputId": "b10c04e4-16f0-4bcc-b49a-74a0f75ea6a9",
        "colab": {
          "base_uri": "https://localhost:8080/"
        }
      },
      "outputs": [
        {
          "output_type": "stream",
          "name": "stdout",
          "text": [
            "+-----+---------+----------+----------+-------+\n",
            "|id   |budget   |popularity|budget_cat|ratings|\n",
            "+-----+---------+----------+----------+-------+\n",
            "|43000|0.0      |2.503     |Small     |Low    |\n",
            "|43001|0.0      |5.51      |Small     |High   |\n",
            "|43002|0.0      |5.62      |Small     |High   |\n",
            "|43003|0.0      |7.159     |Small     |High   |\n",
            "|43004|500000.0 |3.988     |Small     |Mid    |\n",
            "|43006|0.0      |3.194     |Small     |Mid    |\n",
            "|43007|0.0      |2.689     |Small     |Low    |\n",
            "|43008|0.0      |6.537     |Small     |High   |\n",
            "|43010|0.0      |4.297     |Small     |Mid    |\n",
            "|43011|0.0      |4.417     |Small     |Mid    |\n",
            "|43012|7000000.0|4.722     |Small     |Mid    |\n",
            "|43013|0.0      |2.543     |Small     |Low    |\n",
            "|43014|0.0      |4.303     |Small     |Mid    |\n",
            "|43015|0.0      |3.493     |Small     |Mid    |\n",
            "|43016|0.0      |2.851     |Small     |Low    |\n",
            "+-----+---------+----------+----------+-------+\n",
            "only showing top 15 rows\n",
            "\n"
          ]
        }
      ],
      "source": [
        "#  New Columns - Method 2\n",
        "def new_cols(budget,popularity):\n",
        " if budget<10000000: budget_cat='Small'\n",
        " elif budget<100000000: budget_cat='Medium'\n",
        " else: budget_cat='Big'\n",
        " if popularity<3: ratings='Low'\n",
        " elif popularity<5: ratings='Mid'\n",
        " else: ratings='High'\n",
        " return budget_cat,ratings\n",
        "\n",
        "\n",
        "# Apply the user defined function on the dataframe\n",
        "udfB=udf(new_cols,StructType([StructField(\"budget_cat\", StringType(), True),StructField(\"ratings\", StringType(), True)]))\n",
        "temp_df=df.select('id','budget','popularity').withColumn(\"newcat\",udfB(\"budget\",\"popularity\"))\n",
        "# Unbundle the struct type columns into individual columns and drop the struct type \n",
        "df_with_newcols = temp_df.select('id','budget','popularity','newcat').withColumn('budget_cat', temp_df.newcat.getItem('budget_cat')).withColumn('ratings', temp_df.newcat.getItem('ratings')).drop('newcat')\n",
        "df_with_newcols.show(15,False)"
      ]
    },
    {
      "cell_type": "code",
      "execution_count": 135,
      "metadata": {
        "id": "8BYtE6957tzk",
        "outputId": "8fe5fcc2-ba1a-486f-f976-2fc4804d9955",
        "colab": {
          "base_uri": "https://localhost:8080/"
        }
      },
      "outputs": [
        {
          "output_type": "stream",
          "name": "stdout",
          "text": [
            "root\n",
            " |-- id: integer (nullable = true)\n",
            " |-- budget: float (nullable = true)\n",
            " |-- popularity: float (nullable = true)\n",
            " |-- newcat: struct (nullable = true)\n",
            " |    |-- budget_cat: string (nullable = true)\n",
            " |    |-- ratings: string (nullable = true)\n",
            "\n"
          ]
        }
      ],
      "source": [
        "#  New Columns - Observe Metadata\n",
        "temp_df.printSchema()"
      ]
    },
    {
      "cell_type": "code",
      "execution_count": 136,
      "metadata": {
        "id": "aAWOyUsZ7tzl"
      },
      "outputs": [],
      "source": [
        "#  New Columns - Method 3\n",
        "df_with_newcols = df.select('id','budget','popularity').\\\n",
        "withColumn('budget_cat', when(df['budget']<10000000,'Small').when(df['budget']<100000000,'Medium').otherwise('Big')).\\\n",
        "withColumn('ratings', when(df['popularity']<3,'Low').when(df['popularity']<5,'Mid').otherwise('High'))"
      ]
    },
    {
      "cell_type": "code",
      "execution_count": 137,
      "metadata": {
        "id": "tHg6DXnX7tzm"
      },
      "outputs": [],
      "source": [
        "#  Dropping and renaming\n",
        "columns_to_drop=['budget_cat']\n",
        "df_with_newcols=df_with_newcols.drop(*columns_to_drop)\n",
        "df_with_newcols = df_with_newcols.withColumnRenamed('id','film_id') .withColumnRenamed('ratings','film_ratings')\n",
        "# You can define all the variable changes in the list \n",
        "new_names = [('budget','film_budget'),('popularity','film_popularity')]\n",
        "\n",
        "# Applying the alias function\n",
        "df_with_newcols_renamed = df_with_newcols.select(list(map(lambda old,new:col(old).alias(new),*zip(*new_names))))\n"
      ]
    },
    {
      "cell_type": "code",
      "execution_count": 138,
      "metadata": {
        "id": "nRsPrIjf7tzn",
        "outputId": "6e1e988f-4987-44ae-ecfb-a927774ba62e",
        "colab": {
          "base_uri": "https://localhost:8080/"
        }
      },
      "outputs": [
        {
          "output_type": "stream",
          "name": "stdout",
          "text": [
            "+-------+---------+----------+------------+\n",
            "|film_id|   budget|popularity|film_ratings|\n",
            "+-------+---------+----------+------------+\n",
            "|  43000|      0.0|     2.503|         Low|\n",
            "|  43001|      0.0|      5.51|        High|\n",
            "|  43002|      0.0|      5.62|        High|\n",
            "|  43003|      0.0|     7.159|        High|\n",
            "|  43004| 500000.0|     3.988|         Mid|\n",
            "|  43006|      0.0|     3.194|         Mid|\n",
            "|  43007|      0.0|     2.689|         Low|\n",
            "|  43008|      0.0|     6.537|        High|\n",
            "|  43010|      0.0|     4.297|         Mid|\n",
            "|  43011|      0.0|     4.417|         Mid|\n",
            "|  43012|7000000.0|     4.722|         Mid|\n",
            "|  43013|      0.0|     2.543|         Low|\n",
            "|  43014|      0.0|     4.303|         Mid|\n",
            "|  43015|      0.0|     3.493|         Mid|\n",
            "|  43016|      0.0|     2.851|         Low|\n",
            "|  43017|      0.0|     4.047|         Mid|\n",
            "|  43018|      0.0|     2.661|         Low|\n",
            "|  43019|      0.0|     3.225|         Mid|\n",
            "|  43020|      0.0|      5.72|        High|\n",
            "|  43021|      0.0|     3.292|         Mid|\n",
            "+-------+---------+----------+------------+\n",
            "only showing top 20 rows\n",
            "\n"
          ]
        }
      ],
      "source": [
        "#  Observe data\n",
        "df_with_newcols.show()"
      ]
    },
    {
      "cell_type": "markdown",
      "metadata": {
        "id": "rfU-zftI7tzq"
      },
      "source": [
        "# Chapter 3 Demonstrations"
      ]
    },
    {
      "cell_type": "code",
      "execution_count": 139,
      "metadata": {
        "id": "h9fWyMlf7tzq",
        "outputId": "b1d3a047-b448-4aec-fdbe-80ce3aa26ce9",
        "colab": {
          "base_uri": "https://localhost:8080/"
        }
      },
      "outputs": [
        {
          "output_type": "stream",
          "name": "stdout",
          "text": [
            "+-----+---------+----------+----------+-------+---------------------+\n",
            "|   id|   budget|popularity|budget_cat|ratings|BudgetRating_Category|\n",
            "+-----+---------+----------+----------+-------+---------------------+\n",
            "|43000|      0.0|     2.503|     Small|    Low|             smalllow|\n",
            "|43001|      0.0|      5.51|     Small|   High|            smallhigh|\n",
            "|43002|      0.0|      5.62|     Small|   High|            smallhigh|\n",
            "|43003|      0.0|     7.159|     Small|   High|            smallhigh|\n",
            "|43004| 500000.0|     3.988|     Small|    Mid|             smallmid|\n",
            "|43006|      0.0|     3.194|     Small|    Mid|             smallmid|\n",
            "|43007|      0.0|     2.689|     Small|    Low|             smalllow|\n",
            "|43008|      0.0|     6.537|     Small|   High|            smallhigh|\n",
            "|43010|      0.0|     4.297|     Small|    Mid|             smallmid|\n",
            "|43011|      0.0|     4.417|     Small|    Mid|             smallmid|\n",
            "|43012|7000000.0|     4.722|     Small|    Mid|             smallmid|\n",
            "|43013|      0.0|     2.543|     Small|    Low|             smalllow|\n",
            "|43014|      0.0|     4.303|     Small|    Mid|             smallmid|\n",
            "|43015|      0.0|     3.493|     Small|    Mid|             smallmid|\n",
            "|43016|      0.0|     2.851|     Small|    Low|             smalllow|\n",
            "|43017|      0.0|     4.047|     Small|    Mid|             smallmid|\n",
            "|43018|      0.0|     2.661|     Small|    Low|             smalllow|\n",
            "|43019|      0.0|     3.225|     Small|    Mid|             smallmid|\n",
            "|43020|      0.0|      5.72|     Small|   High|            smallhigh|\n",
            "|43021|      0.0|     3.292|     Small|    Mid|             smallmid|\n",
            "+-----+---------+----------+----------+-------+---------------------+\n",
            "only showing top 20 rows\n",
            "\n"
          ]
        }
      ],
      "source": [
        "# String functions\n",
        "df_with_newcols = df.select('id','budget','popularity').\\\n",
        "withColumn('budget_cat', when(df['budget']<10000000,'Small').when(df['budget']<100000000,'Medium').otherwise('Big')).\\\n",
        "withColumn('ratings', when(df['popularity']<3,'Low').when(df['popularity']<5,'Mid').otherwise('High'))\n",
        "\n",
        "df_with_newcols=df_with_newcols.withColumn('BudgetRating_Category',concat(df_with_newcols.budget_cat,df_with_newcols.ratings))\n",
        "df_with_newcols=df_with_newcols.withColumn('BudgetRating_Category',trim(lower(df_with_newcols.BudgetRating_Category)))\n",
        "df_with_newcols.show()\n"
      ]
    },
    {
      "cell_type": "code",
      "execution_count": 140,
      "metadata": {
        "id": "AMQsoE8l7tzr",
        "outputId": "f4a97617-d15a-4cb0-baa7-79096555d4da",
        "colab": {
          "base_uri": "https://localhost:8080/"
        }
      },
      "outputs": [
        {
          "output_type": "stream",
          "name": "stderr",
          "text": [
            "/usr/local/lib/python3.10/dist-packages/pyspark/sql/dataframe.py:330: FutureWarning: Deprecated in 2.0, use createOrReplaceTempView instead.\n",
            "  warnings.warn(\"Deprecated in 2.0, use createOrReplaceTempView instead.\", FutureWarning)\n"
          ]
        },
        {
          "output_type": "stream",
          "name": "stdout",
          "text": [
            "+-------+-------------+\n",
            "|ratings|ratings_count|\n",
            "+-------+-------------+\n",
            "|   High|        16856|\n",
            "|    Low|        14865|\n",
            "|    Mid|        12277|\n",
            "+-------+-------------+\n",
            "\n"
          ]
        }
      ],
      "source": [
        "# Registering temporary table\n",
        "df_with_newcols.registerTempTable('temp_data')\n",
        "\n",
        "# Showing the results\n",
        "spark.sql('select ratings, count(ratings) as ratings_count from temp_data group by ratings').show()"
      ]
    },
    {
      "cell_type": "code",
      "execution_count": 141,
      "metadata": {
        "id": "WahhhH0w7tzs",
        "outputId": "447af05f-b136-429e-d28d-6fdd83cc295a",
        "colab": {
          "base_uri": "https://localhost:8080/"
        }
      },
      "outputs": [
        {
          "output_type": "stream",
          "name": "stdout",
          "text": [
            "+-----------+--------------+--------------+-----------------+\n",
            "|decile_rank|min_popularity|max_popularity|count(popularity)|\n",
            "+-----------+--------------+--------------+-----------------+\n",
            "|          1|        10.185|         180.0|             4379|\n",
            "|          2|         7.481|        10.182|             4379|\n",
            "|          3|         5.841|         7.481|             4379|\n",
            "|          4|         4.823|         5.841|             4378|\n",
            "|          5|         4.054|         4.822|             4378|\n",
            "|          6|         3.383|         4.054|             4378|\n",
            "|          7|         2.747|         3.383|             4378|\n",
            "|          8|         2.075|         2.747|             4378|\n",
            "|          9|         1.389|         2.075|             4378|\n",
            "|         10|           0.6|         1.389|             4378|\n",
            "+-----------+--------------+--------------+-----------------+\n",
            "\n"
          ]
        }
      ],
      "source": [
        "# Deciling \n",
        "from pyspark.sql.window import *\n",
        "df_with_newcols=df_with_newcols.filter( (df_with_newcols['popularity'].isNotNull()) & (~isnan(df_with_newcols['popularity'])) )\n",
        "df_with_newcols = df_with_newcols.select(\"id\",\"budget\",\"popularity\", ntile(10).over(Window.partitionBy().orderBy(df_with_newcols['popularity'].desc())).alias(\"decile_rank\"))\n",
        "df_with_newcols.groupby(\"decile_rank\").agg(min('popularity').alias('min_popularity'),max('popularity').alias('max_popularity'),count('popularity')).show()\n",
        "\n"
      ]
    },
    {
      "cell_type": "code",
      "execution_count": 142,
      "metadata": {
        "id": "cvvlmh9V7tzv"
      },
      "outputs": [],
      "source": [
        "# Data prep for windowing function\n",
        "df_second_best = df.select('id', 'popularity', 'release_date')\n",
        "df_second_best=df_second_best.withColumn('release_year',year('release_date')).drop('release_date')"
      ]
    },
    {
      "cell_type": "code",
      "execution_count": 143,
      "metadata": {
        "id": "6z5k0S3Z7tzw"
      },
      "outputs": [],
      "source": [
        "# Defining partition function\n",
        "year_window =  Window.partitionBy(df_second_best['release_year']).orderBy(df_with_newcols['popularity'].desc())\n",
        "df_second_best=df_second_best.select('id', 'popularity', 'release_year',rank().over(year_window).alias(\"rank\"))"
      ]
    },
    {
      "cell_type": "code",
      "execution_count": 144,
      "metadata": {
        "id": "-H1O7pYB7tzx",
        "outputId": "a387497d-6536-435e-8a10-1ea1cc294cd9",
        "colab": {
          "base_uri": "https://localhost:8080/"
        }
      },
      "outputs": [
        {
          "output_type": "stream",
          "name": "stdout",
          "text": [
            "+-----+----------+------------+----+\n",
            "|   id|popularity|release_year|rank|\n",
            "+-----+----------+------------+----+\n",
            "|11202|    14.029|        1970|   2|\n",
            "+-----+----------+------------+----+\n",
            "\n"
          ]
        }
      ],
      "source": [
        "df_second_best.filter((df_second_best['release_year']==1970) & (df_second_best['rank']==2)).show()"
      ]
    },
    {
      "cell_type": "code",
      "execution_count": 145,
      "metadata": {
        "id": "gpKEtU_77tz0",
        "outputId": "08f21f91-224d-497e-9803-d31ab7fa13c1",
        "colab": {
          "base_uri": "https://localhost:8080/"
        }
      },
      "outputs": [
        {
          "output_type": "stream",
          "name": "stdout",
          "text": [
            "+----+-------+------------+------------------+\n",
            "|id  |revenue|release_year|revenue_difference|\n",
            "+----+-------+------------+------------------+\n",
            "|null|10.0   |null        |0.0               |\n",
            "|null|10.0   |null        |0.0               |\n",
            "|null|10.0   |null        |0.0               |\n",
            "|null|8.7    |null        |1.3000002         |\n",
            "|null|8.1    |null        |1.8999996         |\n",
            "|null|8.0    |null        |2.0               |\n",
            "|null|8.0    |null        |2.0               |\n",
            "|null|7.9    |null        |2.1               |\n",
            "|null|7.8    |null        |2.1999998         |\n",
            "|null|7.7    |null        |2.3000002         |\n",
            "+----+-------+------------+------------------+\n",
            "only showing top 10 rows\n",
            "\n"
          ]
        }
      ],
      "source": [
        "# Revenue Difference\n",
        "\n",
        "df_revenue = df.select('id', 'revenue', 'release_date')\n",
        "df_revenue=df_revenue.withColumn('release_year',year('release_date')).drop('release_date')\n",
        "\n",
        "windowRev =Window.partitionBy(df_revenue['release_year']).orderBy(df_revenue['revenue'].desc()).rangeBetween(-sys.maxsize, sys.maxsize)\n",
        "\n",
        "revenue_difference = (max(df_revenue['revenue']).over(windowRev) - df_revenue['revenue'])\n",
        "df_revenue.select('id', 'revenue', 'release_year',revenue_difference.alias(\"revenue_difference\")).show(10,False)\n"
      ]
    },
    {
      "cell_type": "code",
      "execution_count": 146,
      "metadata": {
        "id": "oW4QMgtY7tz1",
        "outputId": "b799da3c-884b-4739-8880-a658adecf76a",
        "colab": {
          "base_uri": "https://localhost:8080/"
        }
      },
      "outputs": [
        {
          "output_type": "stream",
          "name": "stdout",
          "text": [
            "+--------------+------------------------------------+\n",
            "|title         |collect_list(release_year)          |\n",
            "+--------------+------------------------------------+\n",
            "|The Lost World|[1999, 2001, 1925, 1960, 1992, 1998]|\n",
            "+--------------+------------------------------------+\n",
            "\n"
          ]
        }
      ],
      "source": [
        "# Collect list demonstration\n",
        "# Step 1:Create the year column from release date\n",
        "df=df.withColumn('release_year',year('release_date'))\n",
        "# Applying collect list function to gather all occurances\n",
        "df.filter(\"title=='The Lost World'\").groupby('title').agg(collect_list(\"release_year\")).show(1,False)\n"
      ]
    },
    {
      "cell_type": "code",
      "execution_count": 147,
      "metadata": {
        "id": "YC4HS7tW7tz3",
        "outputId": "34698ccb-963c-48ca-c063-77f9eb66ef25",
        "colab": {
          "base_uri": "https://localhost:8080/"
        }
      },
      "outputs": [
        {
          "output_type": "execute_result",
          "data": {
            "text/plain": [
              "17621"
            ]
          },
          "metadata": {},
          "execution_count": 147
        }
      ],
      "source": [
        "# Simple random sampling in pyspark without replacement\n",
        " \n",
        "df_sample = df.sample(False, 0.4, 42)\n",
        "df_sample.count()"
      ]
    },
    {
      "cell_type": "code",
      "execution_count": 148,
      "metadata": {
        "id": "LCG79cdt7tz4",
        "outputId": "c2d277e5-dfd2-4b7e-f5b8-c667ded4ded3",
        "colab": {
          "base_uri": "https://localhost:8080/"
        }
      },
      "outputs": [
        {
          "output_type": "execute_result",
          "data": {
            "text/plain": [
              "17556"
            ]
          },
          "metadata": {},
          "execution_count": 148
        }
      ],
      "source": [
        "# Simple random sampling in pyspark with replacement\n",
        " \n",
        "df_sample = df.sample(True, 0.4, 42)\n",
        "df_sample.count()"
      ]
    },
    {
      "cell_type": "code",
      "execution_count": 149,
      "metadata": {
        "id": "H1WQ4s5q7tz6",
        "outputId": "c6a5cc84-c30f-41a9-8aaa-4cd6f20b52d5",
        "colab": {
          "base_uri": "https://localhost:8080/"
        }
      },
      "outputs": [
        {
          "output_type": "execute_result",
          "data": {
            "text/plain": [
              "269"
            ]
          },
          "metadata": {},
          "execution_count": 149
        }
      ],
      "source": [
        "# Stratified sampling in pyspark \n",
        "df_strat = df.sampleBy(\"release_year\", fractions={1959: 0.2, 1960: 0.4, 1961: 0.4}, seed=11)\n",
        "df_strat.count()\n"
      ]
    },
    {
      "cell_type": "code",
      "execution_count": 150,
      "metadata": {
        "id": "yR0IfOn27tz7",
        "outputId": "c8a702b7-1815-4917-fb33-78d5477e2e7b",
        "colab": {
          "base_uri": "https://localhost:8080/"
        }
      },
      "outputs": [
        {
          "output_type": "stream",
          "name": "stdout",
          "text": [
            "+-----+---------+----------+------------+---------+--------------------+-----------------+--------------------+------------+\n",
            "|   id|   budget|popularity|release_date|  revenue|               title|  mean_popularity|           varaiance|release_year|\n",
            "+-----+---------+----------+------------+---------+--------------------+-----------------+--------------------+------------+\n",
            "|43000|      0.0|     2.503|  1962-05-23|      0.0|The Elusive Corporal|5.295444259579189|   7.797744825681142|        1962|\n",
            "|43001|      0.0|      5.51|  1962-11-12|      0.0|  Sundays and Cybele|5.295444259579189|0.046034263963398346|        1962|\n",
            "|43002|      0.0|      5.62|  1962-05-24|      0.0|Lonely Are the Brave|5.295444259579189| 0.10533635435520017|        1962|\n",
            "|43003|      0.0|     7.159|  1975-03-12|      0.0|          F for Fake|5.295444259579189|  3.4728396990815216|        1975|\n",
            "|43004| 500000.0|     3.988|  1962-10-09|      0.0|Long Day's Journe...|5.295444259579189|   1.709410711356759|        1962|\n",
            "|43006|      0.0|     3.194|  1962-03-09|      0.0|           My Geisha|5.295444259579189|   4.416067952069205|        1962|\n",
            "|43007|      0.0|     2.689|  1962-10-31|      0.0|Period of Adjustment|5.295444259579189|   6.793552245032679|        1962|\n",
            "|43008|      0.0|     6.537|  1959-03-13|      0.0|    The Hanging Tree|5.295444259579189|  1.5414611017708733|        1959|\n",
            "|43010|      0.0|     4.297|  1962-01-01|      0.0|Sherlock Holmes a...|5.295444259579189|   0.996891076602093|        1962|\n",
            "|43011|      0.0|     4.417|  1962-01-01|      0.0|  Sodom and Gomorrah|5.295444259579189|  0.7716646388835591|        1962|\n",
            "|43012|7000000.0|     4.722|  1962-11-21|4000000.0|         Taras Bulba|5.295444259579189| 0.32883817884329936|        1962|\n",
            "|43013|      0.0|     2.543|  1962-04-17|      0.0|The Counterfeit T...|5.295444259579189|   7.575949496588105|        1962|\n",
            "|43014|      0.0|     4.303|  1962-10-24|      0.0|     Tower of London|5.295444259579189|  0.9849456613739271|        1962|\n",
            "|43015|      0.0|     3.493|  1962-12-07|      0.0|Varan the Unbelie...|5.295444259579189|   3.248805198877505|        1962|\n",
            "|43016|      0.0|     2.851|  1962-01-01|      0.0|Waltz of the Tore...|5.295444259579189|   5.975307393171506|        1962|\n",
            "|43017|      0.0|     4.047|  1961-10-11|      0.0|         Back Street|5.295444259579189|  1.5586132407239628|        1961|\n",
            "|43018|      0.0|     2.661|  1961-06-02|      0.0|Gidget Goes Hawaiian|5.295444259579189|   6.940296486482491|        1961|\n",
            "|43019|      0.0|     3.225|  2010-05-28|      0.0|Schuks Tshabalala...|5.295444259579189|  4.2867398269303285|        2010|\n",
            "|43020|      0.0|      5.72|  1961-06-15|      0.0|The Colossus of R...|5.295444259579189|  0.1802473985736286|        1961|\n",
            "|43021|      0.0|     3.292|  2008-08-22|      0.0|          Sex Galaxy|5.295444259579189|   4.013788679607341|        2008|\n",
            "+-----+---------+----------+------------+---------+--------------------+-----------------+--------------------+------------+\n",
            "only showing top 20 rows\n",
            "\n"
          ]
        }
      ],
      "source": [
        "df.show()"
      ]
    },
    {
      "cell_type": "code",
      "execution_count": 157,
      "metadata": {
        "id": "iyqoLoHM7tz8"
      },
      "outputs": [],
      "source": [
        "# Coalesce Demonstration\n",
        "# df.coalesce(1).write.format('csv').option('delimiter', '|').save('output_df1')\n",
        "\n",
        "df.coalesce(1).write.format('csv').option('delimiter', '|').mode('overwrite').save('output_df1')\n"
      ]
    },
    {
      "cell_type": "code",
      "execution_count": 158,
      "metadata": {
        "id": "8xxUnpRw7tz-"
      },
      "outputs": [],
      "source": [
        "# PartitionBy Demonstration\n",
        "# df.write.partitionBy('release_year').format('csv').option('delimiter', '|').save('output_df_partitioned')\n",
        "\n",
        "df.write.partitionBy('release_year').format('csv').option('delimiter', '|').mode('overwrite').save('output_df_partitioned')\n"
      ]
    },
    {
      "cell_type": "code",
      "execution_count": 159,
      "metadata": {
        "id": "dybxnD5M7tz_",
        "colab": {
          "base_uri": "https://localhost:8080/"
        },
        "outputId": "79e5e047-f242-4190-ae2d-e69c9af26e35"
      },
      "outputs": [
        {
          "output_type": "execute_result",
          "data": {
            "text/plain": [
              "DataFrame[]"
            ]
          },
          "metadata": {},
          "execution_count": 159
        }
      ],
      "source": [
        "# SaveAs Demonstration\n",
        "# df.write.saveAsTable('film_ratings')\n",
        "\n",
        "spark.sql(\"DROP TABLE IF EXISTS film_ratings\")\n"
      ]
    },
    {
      "cell_type": "code",
      "source": [
        "df.write.saveAsTable('my_film_ratings')\n"
      ],
      "metadata": {
        "colab": {
          "base_uri": "https://localhost:8080/",
          "height": 328
        },
        "id": "0nx_cJ2Y_qLv",
        "outputId": "abea3f5f-8868-426b-fe29-d98e1c72da5e"
      },
      "execution_count": 162,
      "outputs": [
        {
          "output_type": "error",
          "ename": "AnalysisException",
          "evalue": "ignored",
          "traceback": [
            "\u001b[0;31m---------------------------------------------------------------------------\u001b[0m",
            "\u001b[0;31mAnalysisException\u001b[0m                         Traceback (most recent call last)",
            "\u001b[0;32m<ipython-input-162-fe0a0a6ff6e5>\u001b[0m in \u001b[0;36m<cell line: 1>\u001b[0;34m()\u001b[0m\n\u001b[0;32m----> 1\u001b[0;31m \u001b[0mdf\u001b[0m\u001b[0;34m.\u001b[0m\u001b[0mwrite\u001b[0m\u001b[0;34m.\u001b[0m\u001b[0msaveAsTable\u001b[0m\u001b[0;34m(\u001b[0m\u001b[0;34m'my_film_ratings'\u001b[0m\u001b[0;34m)\u001b[0m\u001b[0;34m\u001b[0m\u001b[0;34m\u001b[0m\u001b[0m\n\u001b[0m",
            "\u001b[0;32m/usr/local/lib/python3.10/dist-packages/pyspark/sql/readwriter.py\u001b[0m in \u001b[0;36msaveAsTable\u001b[0;34m(self, name, format, mode, partitionBy, **options)\u001b[0m\n\u001b[1;32m   1519\u001b[0m         \u001b[0;32mif\u001b[0m \u001b[0mformat\u001b[0m \u001b[0;32mis\u001b[0m \u001b[0;32mnot\u001b[0m \u001b[0;32mNone\u001b[0m\u001b[0;34m:\u001b[0m\u001b[0;34m\u001b[0m\u001b[0;34m\u001b[0m\u001b[0m\n\u001b[1;32m   1520\u001b[0m             \u001b[0mself\u001b[0m\u001b[0;34m.\u001b[0m\u001b[0mformat\u001b[0m\u001b[0;34m(\u001b[0m\u001b[0mformat\u001b[0m\u001b[0;34m)\u001b[0m\u001b[0;34m\u001b[0m\u001b[0;34m\u001b[0m\u001b[0m\n\u001b[0;32m-> 1521\u001b[0;31m         \u001b[0mself\u001b[0m\u001b[0;34m.\u001b[0m\u001b[0m_jwrite\u001b[0m\u001b[0;34m.\u001b[0m\u001b[0msaveAsTable\u001b[0m\u001b[0;34m(\u001b[0m\u001b[0mname\u001b[0m\u001b[0;34m)\u001b[0m\u001b[0;34m\u001b[0m\u001b[0;34m\u001b[0m\u001b[0m\n\u001b[0m\u001b[1;32m   1522\u001b[0m \u001b[0;34m\u001b[0m\u001b[0m\n\u001b[1;32m   1523\u001b[0m     def json(\n",
            "\u001b[0;32m/usr/local/lib/python3.10/dist-packages/py4j/java_gateway.py\u001b[0m in \u001b[0;36m__call__\u001b[0;34m(self, *args)\u001b[0m\n\u001b[1;32m   1320\u001b[0m \u001b[0;34m\u001b[0m\u001b[0m\n\u001b[1;32m   1321\u001b[0m         \u001b[0manswer\u001b[0m \u001b[0;34m=\u001b[0m \u001b[0mself\u001b[0m\u001b[0;34m.\u001b[0m\u001b[0mgateway_client\u001b[0m\u001b[0;34m.\u001b[0m\u001b[0msend_command\u001b[0m\u001b[0;34m(\u001b[0m\u001b[0mcommand\u001b[0m\u001b[0;34m)\u001b[0m\u001b[0;34m\u001b[0m\u001b[0;34m\u001b[0m\u001b[0m\n\u001b[0;32m-> 1322\u001b[0;31m         return_value = get_return_value(\n\u001b[0m\u001b[1;32m   1323\u001b[0m             answer, self.gateway_client, self.target_id, self.name)\n\u001b[1;32m   1324\u001b[0m \u001b[0;34m\u001b[0m\u001b[0m\n",
            "\u001b[0;32m/usr/local/lib/python3.10/dist-packages/pyspark/errors/exceptions/captured.py\u001b[0m in \u001b[0;36mdeco\u001b[0;34m(*a, **kw)\u001b[0m\n\u001b[1;32m    173\u001b[0m                 \u001b[0;31m# Hide where the exception came from that shows a non-Pythonic\u001b[0m\u001b[0;34m\u001b[0m\u001b[0;34m\u001b[0m\u001b[0m\n\u001b[1;32m    174\u001b[0m                 \u001b[0;31m# JVM exception message.\u001b[0m\u001b[0;34m\u001b[0m\u001b[0;34m\u001b[0m\u001b[0m\n\u001b[0;32m--> 175\u001b[0;31m                 \u001b[0;32mraise\u001b[0m \u001b[0mconverted\u001b[0m \u001b[0;32mfrom\u001b[0m \u001b[0;32mNone\u001b[0m\u001b[0;34m\u001b[0m\u001b[0;34m\u001b[0m\u001b[0m\n\u001b[0m\u001b[1;32m    176\u001b[0m             \u001b[0;32melse\u001b[0m\u001b[0;34m:\u001b[0m\u001b[0;34m\u001b[0m\u001b[0;34m\u001b[0m\u001b[0m\n\u001b[1;32m    177\u001b[0m                 \u001b[0;32mraise\u001b[0m\u001b[0;34m\u001b[0m\u001b[0;34m\u001b[0m\u001b[0m\n",
            "\u001b[0;31mAnalysisException\u001b[0m: [TABLE_OR_VIEW_ALREADY_EXISTS] Cannot create table or view `spark_catalog`.`default`.`my_film_ratings` because it already exists.\nChoose a different name, drop or replace the existing object, or add the IF NOT EXISTS clause to tolerate pre-existing objects."
          ]
        }
      ]
    },
    {
      "cell_type": "code",
      "execution_count": 161,
      "metadata": {
        "id": "tfaOI4eP7t0A"
      },
      "outputs": [],
      "source": [
        "# Pyspark to Pandas\n",
        "df_pandas=df.toPandas()"
      ]
    },
    {
      "cell_type": "code",
      "execution_count": 163,
      "metadata": {
        "id": "p2N0f9Nf7t0B"
      },
      "outputs": [],
      "source": [
        "# Pandas to PySpark\n",
        "df_py = spark.createDataFrame(df_pandas)"
      ]
    },
    {
      "cell_type": "code",
      "execution_count": 164,
      "metadata": {
        "id": "DtEzwotH7t0C"
      },
      "outputs": [],
      "source": [
        "#  Reading another new dataset for joins \n",
        "\n",
        "# Input parameters\n",
        "file_location = \"/content/drive/MyDrive/movie_data_part2.csv\"\n",
        "file_type = \"csv\"\n",
        "infer_schema = \"False\"\n",
        "first_row_is_header = \"True\"\n",
        "delimiter = \"|\"\n",
        "\n",
        "# Bringing all the options together to read the csv file \n",
        "\n",
        "df_p1 = spark.read.format(file_type) \\\n",
        ".option(\"inferSchema\", infer_schema) \\\n",
        ".option(\"header\", first_row_is_header) \\\n",
        ".option(\"sep\", delimiter) \\\n",
        ".load(file_location)\n"
      ]
    },
    {
      "cell_type": "code",
      "execution_count": 165,
      "metadata": {
        "id": "svviiScE7t0C",
        "outputId": "0ec4edf4-a273-43e6-cf57-fa4a4c7c25d3",
        "colab": {
          "base_uri": "https://localhost:8080/"
        }
      },
      "outputs": [
        {
          "output_type": "stream",
          "name": "stdout",
          "text": [
            "root\n",
            " |-- id: integer (nullable = true)\n",
            " |-- budget: float (nullable = true)\n",
            " |-- popularity: float (nullable = true)\n",
            " |-- release_date: date (nullable = true)\n",
            " |-- revenue: float (nullable = true)\n",
            " |-- title: string (nullable = true)\n",
            " |-- mean_popularity: double (nullable = false)\n",
            " |-- varaiance: double (nullable = true)\n",
            " |-- release_year: integer (nullable = true)\n",
            "\n"
          ]
        }
      ],
      "source": [
        "# Schema of new dataset\n",
        "df.printSchema()"
      ]
    },
    {
      "cell_type": "code",
      "execution_count": 167,
      "metadata": {
        "id": "hWCv-GtF7t0D"
      },
      "outputs": [],
      "source": [
        "# Preparing data for joins\n",
        "df_p1 = df_p1.withColumn('id',df_p1['id'].cast(\"integer\"))\n",
        "df_p1=df_p1.filter((df_p1['id'].isNotNull()) & (~isnan(df_p1['id'])))"
      ]
    },
    {
      "cell_type": "code",
      "execution_count": 168,
      "metadata": {
        "id": "ccrmlg-k7t0E",
        "outputId": "4991cb3a-65c7-4bb0-db4e-3aabc1600deb",
        "colab": {
          "base_uri": "https://localhost:8080/"
        }
      },
      "outputs": [
        {
          "output_type": "stream",
          "name": "stdout",
          "text": [
            "root\n",
            " |-- id: integer (nullable = true)\n",
            " |-- budget: float (nullable = true)\n",
            " |-- popularity: float (nullable = true)\n",
            " |-- release_date: date (nullable = true)\n",
            " |-- revenue: float (nullable = true)\n",
            " |-- title: string (nullable = true)\n",
            " |-- mean_popularity: double (nullable = false)\n",
            " |-- varaiance: double (nullable = true)\n",
            " |-- release_year: integer (nullable = true)\n",
            " |-- cast: string (nullable = true)\n",
            " |-- adult: string (nullable = true)\n",
            " |-- directors: string (nullable = true)\n",
            " |-- vote_count: string (nullable = true)\n",
            " |-- spoken_languages: string (nullable = true)\n",
            " |-- poster_path: string (nullable = true)\n",
            " |-- homepage: string (nullable = true)\n",
            " |-- imdb_id: string (nullable = true)\n",
            " |-- genres: string (nullable = true)\n",
            " |-- video: string (nullable = true)\n",
            " |-- id: integer (nullable = true)\n",
            "\n"
          ]
        },
        {
          "output_type": "execute_result",
          "data": {
            "text/plain": [
              "24998"
            ]
          },
          "metadata": {},
          "execution_count": 168
        }
      ],
      "source": [
        "# Inner Join\n",
        "df.join(df_p1, df['id'] == df_p1['id'],'inner').printSchema()\n",
        "df.join(df_p1, df['id'] == df_p1['id']).count()"
      ]
    },
    {
      "cell_type": "code",
      "execution_count": 169,
      "metadata": {
        "id": "_08u82V-7t0F",
        "outputId": "a246b246-cab0-4021-8f20-a663cac7e8e2",
        "colab": {
          "base_uri": "https://localhost:8080/"
        }
      },
      "outputs": [
        {
          "output_type": "stream",
          "name": "stdout",
          "text": [
            "root\n",
            " |-- id: integer (nullable = true)\n",
            " |-- budget: float (nullable = true)\n",
            " |-- popularity: float (nullable = true)\n",
            " |-- release_date: date (nullable = true)\n",
            " |-- revenue: float (nullable = true)\n",
            " |-- title: string (nullable = true)\n",
            " |-- mean_popularity: double (nullable = false)\n",
            " |-- varaiance: double (nullable = true)\n",
            " |-- release_year: integer (nullable = true)\n",
            " |-- cast: string (nullable = true)\n",
            " |-- adult: string (nullable = true)\n",
            " |-- directors: string (nullable = true)\n",
            " |-- vote_count: string (nullable = true)\n",
            " |-- spoken_languages: string (nullable = true)\n",
            " |-- poster_path: string (nullable = true)\n",
            " |-- homepage: string (nullable = true)\n",
            " |-- imdb_id: string (nullable = true)\n",
            " |-- genres: string (nullable = true)\n",
            " |-- video: string (nullable = true)\n",
            " |-- id: integer (nullable = true)\n",
            "\n"
          ]
        },
        {
          "output_type": "execute_result",
          "data": {
            "text/plain": [
              "43998"
            ]
          },
          "metadata": {},
          "execution_count": 169
        }
      ],
      "source": [
        "# Left Join\n",
        "df.join(df_p1, df['id'] == df_p1['id'],'left').printSchema()\n",
        "df.join(df_p1, df['id'] == df_p1['id'],'left').count()"
      ]
    },
    {
      "cell_type": "code",
      "execution_count": 170,
      "metadata": {
        "id": "zxvQ6shX7t0G",
        "outputId": "7673a22c-09fc-4cf0-e74d-feda38ed8926",
        "colab": {
          "base_uri": "https://localhost:8080/"
        }
      },
      "outputs": [
        {
          "output_type": "stream",
          "name": "stdout",
          "text": [
            "root\n",
            " |-- id: integer (nullable = true)\n",
            " |-- budget: float (nullable = true)\n",
            " |-- popularity: float (nullable = true)\n",
            " |-- release_date: date (nullable = true)\n",
            " |-- revenue: float (nullable = true)\n",
            " |-- title: string (nullable = true)\n",
            " |-- mean_popularity: double (nullable = true)\n",
            " |-- varaiance: double (nullable = true)\n",
            " |-- release_year: integer (nullable = true)\n",
            " |-- cast: string (nullable = true)\n",
            " |-- adult: string (nullable = true)\n",
            " |-- directors: string (nullable = true)\n",
            " |-- vote_count: string (nullable = true)\n",
            " |-- spoken_languages: string (nullable = true)\n",
            " |-- poster_path: string (nullable = true)\n",
            " |-- homepage: string (nullable = true)\n",
            " |-- imdb_id: string (nullable = true)\n",
            " |-- genres: string (nullable = true)\n",
            " |-- video: string (nullable = true)\n",
            " |-- id: integer (nullable = true)\n",
            "\n"
          ]
        },
        {
          "output_type": "execute_result",
          "data": {
            "text/plain": [
              "24998"
            ]
          },
          "metadata": {},
          "execution_count": 170
        }
      ],
      "source": [
        "# Right Join\n",
        "df.join(df_p1, df['id'] == df_p1['id'],'right').printSchema()\n",
        "df.join(df_p1, df['id'] == df_p1['id'],'right').count()"
      ]
    },
    {
      "cell_type": "code",
      "execution_count": 171,
      "metadata": {
        "id": "lWlIoavX7t0G",
        "outputId": "a95fd288-3897-4af3-ee8c-f8f5a5b719b2",
        "colab": {
          "base_uri": "https://localhost:8080/"
        }
      },
      "outputs": [
        {
          "output_type": "stream",
          "name": "stdout",
          "text": [
            "root\n",
            " |-- id: integer (nullable = true)\n",
            " |-- budget: float (nullable = true)\n",
            " |-- popularity: float (nullable = true)\n",
            " |-- release_date: date (nullable = true)\n",
            " |-- revenue: float (nullable = true)\n",
            " |-- title: string (nullable = true)\n",
            " |-- mean_popularity: double (nullable = true)\n",
            " |-- varaiance: double (nullable = true)\n",
            " |-- release_year: integer (nullable = true)\n",
            " |-- cast: string (nullable = true)\n",
            " |-- adult: string (nullable = true)\n",
            " |-- directors: string (nullable = true)\n",
            " |-- vote_count: string (nullable = true)\n",
            " |-- spoken_languages: string (nullable = true)\n",
            " |-- poster_path: string (nullable = true)\n",
            " |-- homepage: string (nullable = true)\n",
            " |-- imdb_id: string (nullable = true)\n",
            " |-- genres: string (nullable = true)\n",
            " |-- video: string (nullable = true)\n",
            " |-- id: integer (nullable = true)\n",
            "\n"
          ]
        },
        {
          "output_type": "execute_result",
          "data": {
            "text/plain": [
              "43998"
            ]
          },
          "metadata": {},
          "execution_count": 171
        }
      ],
      "source": [
        "# Outer Join\n",
        "df.join(df_p1, df['id'] == df_p1['id'],'outer').printSchema()\n",
        "df.join(df_p1, df['id'] == df_p1['id'],'outer').count()\n"
      ]
    },
    {
      "cell_type": "code",
      "execution_count": 172,
      "metadata": {
        "id": "DMwPuGjJ7t0H",
        "outputId": "49287dd4-f859-41fe-feac-36c91f019e05",
        "colab": {
          "base_uri": "https://localhost:8080/"
        }
      },
      "outputs": [
        {
          "output_type": "stream",
          "name": "stdout",
          "text": [
            "root\n",
            " |-- id: integer (nullable = true)\n",
            " |-- budget: float (nullable = true)\n",
            " |-- popularity: float (nullable = true)\n",
            " |-- release_date: date (nullable = true)\n",
            " |-- revenue: float (nullable = true)\n",
            " |-- title: string (nullable = true)\n",
            " |-- mean_popularity: double (nullable = false)\n",
            " |-- varaiance: double (nullable = true)\n",
            " |-- release_year: integer (nullable = true)\n",
            "\n"
          ]
        },
        {
          "output_type": "execute_result",
          "data": {
            "text/plain": [
              "19000"
            ]
          },
          "metadata": {},
          "execution_count": 172
        }
      ],
      "source": [
        "# Left Anti Join\n",
        "df.join(df_p1, df['id'] == df_p1['id'],'left_anti').printSchema()\n",
        "df.join(df_p1, df['id'] == df_p1['id'],'left_anti').count()\n"
      ]
    },
    {
      "cell_type": "code",
      "execution_count": 173,
      "metadata": {
        "id": "BYHDHhCM7t0I",
        "outputId": "0e9df253-1bcc-4bd5-bdda-d80f19a1d799",
        "colab": {
          "base_uri": "https://localhost:8080/"
        }
      },
      "outputs": [
        {
          "output_type": "stream",
          "name": "stdout",
          "text": [
            "root\n",
            " |-- id: integer (nullable = true)\n",
            " |-- budget: float (nullable = true)\n",
            " |-- popularity: float (nullable = true)\n",
            " |-- release_date: date (nullable = true)\n",
            " |-- revenue: float (nullable = true)\n",
            " |-- title: string (nullable = true)\n",
            " |-- mean_popularity: double (nullable = false)\n",
            " |-- varaiance: double (nullable = true)\n",
            " |-- release_year: integer (nullable = true)\n",
            "\n"
          ]
        },
        {
          "output_type": "execute_result",
          "data": {
            "text/plain": [
              "24998"
            ]
          },
          "metadata": {},
          "execution_count": 173
        }
      ],
      "source": [
        "# Left Semi Join\n",
        "df.join(df_p1, df['id'] == df_p1['id'],'left_semi').printSchema()\n",
        "df.join(df_p1, df['id'] == df_p1['id'],'left_semi').count()\n"
      ]
    },
    {
      "cell_type": "code",
      "execution_count": 174,
      "metadata": {
        "id": "6MAt87fd7t0J",
        "outputId": "08fbc89c-8722-4e52-96d2-fab71bf88079",
        "colab": {
          "base_uri": "https://localhost:8080/"
        }
      },
      "outputs": [
        {
          "output_type": "execute_result",
          "data": {
            "text/plain": [
              "24998"
            ]
          },
          "metadata": {},
          "execution_count": 174
        }
      ],
      "source": [
        "# Broadcast Join\n",
        "df.join(broadcast(df_p1), df['id'] == df_p1['id'],'left_semi').count()"
      ]
    },
    {
      "cell_type": "code",
      "execution_count": 175,
      "metadata": {
        "id": "ckJECxqi7t0K",
        "outputId": "f5212008-e7c2-445c-d681-3832d3471897",
        "colab": {
          "base_uri": "https://localhost:8080/"
        }
      },
      "outputs": [
        {
          "output_type": "execute_result",
          "data": {
            "text/plain": [
              "43998"
            ]
          },
          "metadata": {},
          "execution_count": 175
        }
      ],
      "source": [
        "# Original data count\n",
        "df.count()"
      ]
    },
    {
      "cell_type": "code",
      "execution_count": 176,
      "metadata": {
        "id": "BDJNDTxu7t0K",
        "outputId": "7764e227-68c6-4e76-fda0-ed3c9cc8e82d",
        "colab": {
          "base_uri": "https://localhost:8080/"
        }
      },
      "outputs": [
        {
          "output_type": "execute_result",
          "data": {
            "text/plain": [
              "43643"
            ]
          },
          "metadata": {},
          "execution_count": 176
        }
      ],
      "source": [
        "# Drop Duplicates Demonstration\n",
        "df.dropDuplicates(['title','release_year']).count()"
      ]
    },
    {
      "cell_type": "code",
      "execution_count": 177,
      "metadata": {
        "id": "7RyVldeM7t0M"
      },
      "outputs": [],
      "source": [
        "# Histogram Demonstration\n",
        "%matplotlib inline\n",
        "import pandas as pd\n",
        "from matplotlib import pyplot as plt\n",
        "import seaborn as sns\n",
        "# Processing the data in Spark. We can use the histogram function from the RDD \n",
        "histogram_data = df.select('popularity').rdd.flatMap(lambda x: x).histogram(25)\n",
        "# Loading the Computed Histogram into a Pandas Dataframe for plotting\n",
        "hist_df=pd.DataFrame(list(zip(*histogram_data)), columns=['bin', 'frequency'])"
      ]
    },
    {
      "cell_type": "code",
      "execution_count": 178,
      "metadata": {
        "id": "ZFVojBuZ7t0N",
        "outputId": "792e5fb9-6eba-4cb2-f38b-8447d104ab5f",
        "colab": {
          "base_uri": "https://localhost:8080/",
          "height": 817
        }
      },
      "outputs": [
        {
          "output_type": "display_data",
          "data": {
            "text/plain": [
              "<Figure size 1170x827 with 1 Axes>"
            ],
            "image/png": "[encoded data removed]"
          },
          "metadata": {}
        }
      ],
      "source": [
        "# Plotting\n",
        "sns.set(rc={'figure.figsize':(11.7,8.27)})\n",
        "# sns.barplot(hist_df['bin'],hist_df['frequency'])\n",
        "sns.barplot(data=hist_df, x='bin', y='frequency')\n",
        "\n",
        "plt.xticks(rotation=25)\n",
        "plt.title('Distribution of Popularity')\n",
        "plt.show()\n",
        "# plt.savefig('myimage.svg', format='svg', dpi=1200)"
      ]
    },
    {
      "cell_type": "code",
      "execution_count": 179,
      "metadata": {
        "id": "YAfZP7tM7t0O",
        "outputId": "016c05ed-81d0-4fe1-ab31-0894829f4386",
        "colab": {
          "base_uri": "https://localhost:8080/",
          "height": 818
        }
      },
      "outputs": [
        {
          "output_type": "display_data",
          "data": {
            "text/plain": [
              "<Figure size 1170x827 with 1 Axes>"
            ],
            "image/png": "[encoded data removed]"
          },
          "metadata": {}
        }
      ],
      "source": [
        "# Filtering the data to get a better understanding of data\n",
        "df_fil=df.filter('popularity<22')\n",
        "# Processing the data in Spark. We can use the histogram function from the RDD \n",
        "histogram_data = df_fil.select('popularity').rdd.flatMap(lambda x: x).histogram(25)\n",
        "# Loading the Computed Histogram into a Pandas Dataframe for plotting\n",
        "hist_df=pd.DataFrame(list(zip(*histogram_data)), columns=['bin', 'frequency'])\n",
        "\n",
        "sns.set(rc={'figure.figsize':(11.7,8.27)})\n",
        "# sns.barplot(hist_df['bin'],hist_df['frequency'])\n",
        "sns.barplot(data=hist_df, x='bin', y='frequency')\n",
        "\n",
        "plt.xticks(rotation=25)\n",
        "plt.title('Distribution of Popularity - Data is filtered')\n",
        "plt.show()\n",
        "# plt.savefig('myimage1.svg', format='svg', dpi=1200)"
      ]
    },
    {
      "cell_type": "code",
      "execution_count": 180,
      "metadata": {
        "id": "x6LJzrvx7t0Q"
      },
      "outputs": [],
      "source": [
        "# Data preparation for bar chart\n",
        "df_cat=df.filter(\"(release_year>1959) and (release_year<1971)\").groupby('release_year').count().toPandas()\n",
        "df_cat=df_cat.sort_values(by=['release_year'], ascending=False)\n"
      ]
    },
    {
      "cell_type": "code",
      "execution_count": 181,
      "metadata": {
        "id": "zinDBjL47t0R",
        "outputId": "626f9f43-7f5a-4e70-ae73-71662b55a8db",
        "colab": {
          "base_uri": "https://localhost:8080/",
          "height": 763
        }
      },
      "outputs": [
        {
          "output_type": "display_data",
          "data": {
            "text/plain": [
              "<Figure size 1170x827 with 1 Axes>"
            ],
            "image/png": "[encoded data removed]"
          },
          "metadata": {}
        }
      ],
      "source": [
        "#Plotting\n",
        "sns.set(rc={'figure.figsize':(11.7,8.27)})\n",
        "# sns.barplot(df_cat['release_year'],df_cat['count'])\n",
        "sns.barplot(data=df_cat, x='release_year', y='count')\n",
        "\n",
        "plt.xticks(rotation=25)\n",
        "plt.title('Number of films released each year from 1960 to 1970 in our dataset')\n",
        "plt.show()\n",
        "# plt.savefig('myimage2.svg', format='svg', dpi=1200)"
      ]
    }
  ],
  "metadata": {
    "kernelspec": {
      "display_name": "Python 3",
      "language": "python",
      "name": "python3"
    },
    "language_info": {
      "codemirror_mode": {
        "name": "ipython",
        "version": 3
      },
      "file_extension": ".py",
      "mimetype": "text/x-python",
      "name": "python",
      "nbconvert_exporter": "python",
      "pygments_lexer": "ipython3",
      "version": "3.8.3"
    },
    "colab": {
      "provenance": [],
      "include_colab_link": true
    }
  },
  "nbformat": 4,
  "nbformat_minor": 0
}