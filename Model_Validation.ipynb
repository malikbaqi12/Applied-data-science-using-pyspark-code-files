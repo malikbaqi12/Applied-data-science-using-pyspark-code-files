{
  "cells": [
    {
      "cell_type": "markdown",
      "metadata": {
        "id": "view-in-github",
        "colab_type": "text"
      },
      "source": [
        "<a href=\"https://colab.research.google.com/github/malikbaqi12/Applied-data-science-using-pyspark-code-files/blob/main/Model_Validation.ipynb\" target=\"_parent\"><img src=\"https://colab.research.google.com/assets/colab-badge.svg\" alt=\"Open In Colab\"/></a>"
      ]
    },
    {
      "cell_type": "markdown",
      "metadata": {
        "id": "Qh4hoToRpbeI"
      },
      "source": [
        "# Default Parameters"
      ]
    },
    {
      "cell_type": "code",
      "source": [
        "!pip install pyspark"
      ],
      "metadata": {
        "colab": {
          "base_uri": "https://localhost:8080/"
        },
        "id": "jIjCtdCkqYW1",
        "outputId": "d5b8690e-5c1d-43fb-915c-1894185856d7"
      },
      "execution_count": 1,
      "outputs": [
        {
          "output_type": "stream",
          "name": "stdout",
          "text": [
            "Looking in indexes: https://pypi.org/simple, https://us-python.pkg.dev/colab-wheels/public/simple/\n",
            "Collecting pyspark\n",
            "  Downloading pyspark-3.4.0.tar.gz (310.8 MB)\n",
            "\u001b[2K     \u001b[90m━━━━━━━━━━━━━━━━━━━━━━━━━━━━━━━━━━━━━━━\u001b[0m \u001b[32m310.8/310.8 MB\u001b[0m \u001b[31m3.6 MB/s\u001b[0m eta \u001b[36m0:00:00\u001b[0m\n",
            "\u001b[?25h  Preparing metadata (setup.py) ... \u001b[?25l\u001b[?25hdone\n",
            "Requirement already satisfied: py4j==0.10.9.7 in /usr/local/lib/python3.10/dist-packages (from pyspark) (0.10.9.7)\n",
            "Building wheels for collected packages: pyspark\n",
            "  Building wheel for pyspark (setup.py) ... \u001b[?25l\u001b[?25hdone\n",
            "  Created wheel for pyspark: filename=pyspark-3.4.0-py2.py3-none-any.whl size=311317130 sha256=7aefacd66bb8d37b199c67cc0b6e1aa9b4113aed1598022cb487506c085e5e06\n",
            "  Stored in directory: /root/.cache/pip/wheels/7b/1b/4b/3363a1d04368e7ff0d408e57ff57966fcdf00583774e761327\n",
            "Successfully built pyspark\n",
            "Installing collected packages: pyspark\n",
            "Successfully installed pyspark-3.4.0\n"
          ]
        }
      ]
    },
    {
      "cell_type": "code",
      "execution_count": 23,
      "metadata": {
        "id": "xikgckYupbeq"
      },
      "outputs": [],
      "source": [
        "filename = \"bank-full.csv\"\n",
        "target_variable_name = \"y\""
      ]
    },
    {
      "cell_type": "markdown",
      "metadata": {
        "id": "62f6bGy7pbe3"
      },
      "source": [
        "# Load Dataset"
      ]
    },
    {
      "cell_type": "code",
      "execution_count": 24,
      "metadata": {
        "colab": {
          "base_uri": "https://localhost:8080/"
        },
        "id": "s6M0OROBpbe5",
        "outputId": "c1d4f494-db7d-4816-b958-a74bcb5efee2"
      },
      "outputs": [
        {
          "output_type": "stream",
          "name": "stdout",
          "text": [
            "+---+------------+--------+---------+-------+-------+-------+----+-------+---+-----+--------+--------+-----+--------+--------+---+\n",
            "|age|         job| marital|education|default|balance|housing|loan|contact|day|month|duration|campaign|pdays|previous|poutcome|  y|\n",
            "+---+------------+--------+---------+-------+-------+-------+----+-------+---+-----+--------+--------+-----+--------+--------+---+\n",
            "| 58|  management| married| tertiary|     no|   2143|    yes|  no|unknown|  5|  may|     261|       1|   -1|       0| unknown| no|\n",
            "| 44|  technician|  single|secondary|     no|     29|    yes|  no|unknown|  5|  may|     151|       1|   -1|       0| unknown| no|\n",
            "| 33|entrepreneur| married|secondary|     no|      2|    yes| yes|unknown|  5|  may|      76|       1|   -1|       0| unknown| no|\n",
            "| 47| blue-collar| married|  unknown|     no|   1506|    yes|  no|unknown|  5|  may|      92|       1|   -1|       0| unknown| no|\n",
            "| 33|     unknown|  single|  unknown|     no|      1|     no|  no|unknown|  5|  may|     198|       1|   -1|       0| unknown| no|\n",
            "| 35|  management| married| tertiary|     no|    231|    yes|  no|unknown|  5|  may|     139|       1|   -1|       0| unknown| no|\n",
            "| 28|  management|  single| tertiary|     no|    447|    yes| yes|unknown|  5|  may|     217|       1|   -1|       0| unknown| no|\n",
            "| 42|entrepreneur|divorced| tertiary|    yes|      2|    yes|  no|unknown|  5|  may|     380|       1|   -1|       0| unknown| no|\n",
            "| 58|     retired| married|  primary|     no|    121|    yes|  no|unknown|  5|  may|      50|       1|   -1|       0| unknown| no|\n",
            "| 43|  technician|  single|secondary|     no|    593|    yes|  no|unknown|  5|  may|      55|       1|   -1|       0| unknown| no|\n",
            "| 41|      admin.|divorced|secondary|     no|    270|    yes|  no|unknown|  5|  may|     222|       1|   -1|       0| unknown| no|\n",
            "| 29|      admin.|  single|secondary|     no|    390|    yes|  no|unknown|  5|  may|     137|       1|   -1|       0| unknown| no|\n",
            "| 53|  technician| married|secondary|     no|      6|    yes|  no|unknown|  5|  may|     517|       1|   -1|       0| unknown| no|\n",
            "| 58|  technician| married|  unknown|     no|     71|    yes|  no|unknown|  5|  may|      71|       1|   -1|       0| unknown| no|\n",
            "| 57|    services| married|secondary|     no|    162|    yes|  no|unknown|  5|  may|     174|       1|   -1|       0| unknown| no|\n",
            "| 51|     retired| married|  primary|     no|    229|    yes|  no|unknown|  5|  may|     353|       1|   -1|       0| unknown| no|\n",
            "| 45|      admin.|  single|  unknown|     no|     13|    yes|  no|unknown|  5|  may|      98|       1|   -1|       0| unknown| no|\n",
            "| 57| blue-collar| married|  primary|     no|     52|    yes|  no|unknown|  5|  may|      38|       1|   -1|       0| unknown| no|\n",
            "| 60|     retired| married|  primary|     no|     60|    yes|  no|unknown|  5|  may|     219|       1|   -1|       0| unknown| no|\n",
            "| 33|    services| married|secondary|     no|      0|    yes|  no|unknown|  5|  may|      54|       1|   -1|       0| unknown| no|\n",
            "+---+------------+--------+---------+-------+-------+-------+----+-------+---+-----+--------+--------+-----+--------+--------+---+\n",
            "only showing top 20 rows\n",
            "\n"
          ]
        }
      ],
      "source": [
        "from pyspark.sql import SparkSession\n",
        "spark = SparkSession.builder.getOrCreate()\n",
        "df = spark.read.csv(filename, header=True, inferSchema=True, sep=';')\n",
        "df.show()"
      ]
    },
    {
      "cell_type": "code",
      "execution_count": 25,
      "metadata": {
        "id": "wGM4cC4Jpbe7"
      },
      "outputs": [],
      "source": [
        "from pyspark.sql import functions as F\n",
        "\n",
        "df = df.withColumn('label', F.when(F.col(\"y\") == 'yes', 1).otherwise(0))\n",
        "df = df.drop('y')"
      ]
    },
    {
      "cell_type": "markdown",
      "metadata": {
        "id": "Ox5YP36qpbfD"
      },
      "source": [
        "# Simple Random sampling"
      ]
    },
    {
      "cell_type": "code",
      "execution_count": 26,
      "metadata": {
        "id": "moTk2_QUpbfF"
      },
      "outputs": [],
      "source": [
        "train, test = df.randomSplit([0.7, 0.3], seed=12345)"
      ]
    },
    {
      "cell_type": "code",
      "execution_count": 27,
      "metadata": {
        "colab": {
          "base_uri": "https://localhost:8080/"
        },
        "id": "EU6gNac2pbfI",
        "outputId": "6009641b-2a21-4278-d05d-b502f80f309b"
      },
      "outputs": [
        {
          "output_type": "stream",
          "name": "stdout",
          "text": [
            "age\n",
            "balance\n",
            "day\n",
            "duration\n",
            "campaign\n",
            "pdays\n",
            "previous\n",
            "label\n"
          ]
        }
      ],
      "source": [
        "for k, v in df.dtypes:\n",
        "    if v not in ['string']:\n",
        "        print(k)"
      ]
    },
    {
      "cell_type": "code",
      "execution_count": 28,
      "metadata": {
        "id": "XbgCEu6_pbfK"
      },
      "outputs": [],
      "source": [
        "df = df.select(['age', 'balance', 'day', 'duration', 'campaign', 'pdays', 'previous', 'label'])"
      ]
    },
    {
      "cell_type": "code",
      "execution_count": 29,
      "metadata": {
        "id": "VB8GgOAPpbfQ"
      },
      "outputs": [],
      "source": [
        "from pyspark.ml.feature import VectorAssembler\n",
        "from pyspark.ml import Pipeline\n",
        "\n",
        "#assemble individual columns to one column - 'features'\n",
        "def assemble_vectors(df, features_list, target_variable_name):\n",
        "    stages = []\n",
        "    #assemble vectors\n",
        "    assembler = VectorAssembler(inputCols=features_list, outputCol='features')\n",
        "    stages = [assembler]\n",
        "    #select all the columns + target + newly created 'features' column\n",
        "    selectedCols = [target_variable_name, 'features']\n",
        "    #use pipeline to process sequentially\n",
        "    pipeline = Pipeline(stages=stages)\n",
        "    #assembler model\n",
        "    assembleModel = pipeline.fit(df)\n",
        "    #apply assembler model on data\n",
        "    df = assembleModel.transform(df).select(selectedCols)\n",
        "\n",
        "    return df"
      ]
    },
    {
      "cell_type": "code",
      "execution_count": 30,
      "metadata": {
        "id": "iKsZ4H46pbfT"
      },
      "outputs": [],
      "source": [
        "#exclude target variable and select all other feature vectors\n",
        "features_list = df.columns\n",
        "#features_list = char_vars #this option is used only for ChiSqselector\n",
        "features_list.remove('label')"
      ]
    },
    {
      "cell_type": "code",
      "execution_count": 31,
      "metadata": {
        "id": "7kHUoGSVpbfX"
      },
      "outputs": [],
      "source": [
        "# apply the function on our dataframe\n",
        "assembled_df = assemble_vectors(train, features_list, 'label')"
      ]
    },
    {
      "cell_type": "code",
      "execution_count": 32,
      "metadata": {
        "id": "j4kjxjmopbfZ"
      },
      "outputs": [],
      "source": [
        "from pyspark.ml.evaluation import BinaryClassificationEvaluator\n",
        "from pyspark.ml.classification import LogisticRegression\n",
        "from pyspark.ml.tuning import ParamGridBuilder, TrainValidationSplit\n",
        "\n",
        "lr = LogisticRegression(maxIter=10, featuresCol='features', labelCol='label')\n",
        "paramGrid = ParamGridBuilder().addGrid(lr.regParam, [0.1, 0.01]).addGrid(lr.elasticNetParam, [0.0, 0.5, 1.0]).build()\n",
        "train_valid_clf = TrainValidationSplit(estimator=lr, estimatorParamMaps=paramGrid, evaluator=BinaryClassificationEvaluator(),\n",
        "                           # 70% of the data will be used for training, 30% for validation.\n",
        "                           trainRatio=0.7)\n",
        "model = train_valid_clf.fit(assembled_df)"
      ]
    },
    {
      "cell_type": "markdown",
      "metadata": {
        "id": "c0fcHvy0pbfa"
      },
      "source": [
        "# Stratified Sampling"
      ]
    },
    {
      "cell_type": "code",
      "execution_count": 33,
      "metadata": {
        "id": "E-VaRGcjpbfd"
      },
      "outputs": [],
      "source": [
        "# split data for 0s and 1s\n",
        "zero_df = df.filter(df[\"label\"]==0)\n",
        "one_df = df.filter(df[\"label\"]==1)\n",
        "\n",
        "# split data into train and test\n",
        "train_zero, test_zero = zero_df.randomSplit([0.7,0.3], seed=12345)\n",
        "train_one, test_one = one_df.randomSplit([0.7,0.3], seed=12345)\n",
        "\n",
        "# union datasets\n",
        "train = train_zero.union(train_one)\n",
        "test = test_zero.union(test_one)"
      ]
    },
    {
      "cell_type": "markdown",
      "metadata": {
        "id": "eW2A_c3opbfj"
      },
      "source": [
        "# Holdout"
      ]
    },
    {
      "cell_type": "code",
      "execution_count": 34,
      "metadata": {
        "id": "XiNoIxbcpbfk"
      },
      "outputs": [],
      "source": [
        "train, test, holdout = df.randomSplit([0.7, 0.2, 0.1], seed=12345)"
      ]
    },
    {
      "cell_type": "code",
      "execution_count": 35,
      "metadata": {
        "colab": {
          "base_uri": "https://localhost:8080/"
        },
        "id": "hvowNfMSpbfl",
        "outputId": "c4d751d8-5242-4c83-e19b-af63b319b689"
      },
      "outputs": [
        {
          "output_type": "execute_result",
          "data": {
            "text/plain": [
              "(31527, 9051, 4633)"
            ]
          },
          "metadata": {},
          "execution_count": 35
        }
      ],
      "source": [
        "train.count(), test.count(), holdout.count()"
      ]
    },
    {
      "cell_type": "markdown",
      "metadata": {
        "id": "4X9sg6T4pbfm"
      },
      "source": [
        "$$PSI=\\sum (Actual \\% - Expected\\%) * ln( \\frac{Actual\\%}{Expected\\%})$$"
      ]
    },
    {
      "cell_type": "markdown",
      "metadata": {
        "id": "LB3TxZefpbfn"
      },
      "source": [
        "# k-fold cross validation"
      ]
    },
    {
      "cell_type": "code",
      "execution_count": 36,
      "metadata": {
        "id": "t0ESBQnWpbfo"
      },
      "outputs": [],
      "source": [
        "from pyspark.ml.evaluation import BinaryClassificationEvaluator\n",
        "from pyspark.ml.classification import LogisticRegression\n",
        "from pyspark.ml.tuning import ParamGridBuilder, CrossValidator\n",
        "\n",
        "#model initialization\n",
        "lr = LogisticRegression(maxIter=10, featuresCol='features', labelCol='label')\n",
        "\n",
        "#model parameters to try\n",
        "paramGrid = ParamGridBuilder().addGrid(lr.regParam, [0.1, 0.01]).addGrid(lr.elasticNetParam, [0.0, 0.5, 1.0]).build()\n",
        "\n",
        "# number of folds = 3\n",
        "crossval_clf = CrossValidator(estimator=lr, estimatorParamMaps=paramGrid, \n",
        "                                 evaluator=BinaryClassificationEvaluator(), numFolds=3, )\n",
        "\n",
        "# assembled_df is the output of the vector assembler\n",
        "model = crossval_clf.fit(assembled_df)"
      ]
    },
    {
      "cell_type": "markdown",
      "metadata": {
        "id": "lFK2qTbGpbfp"
      },
      "source": [
        "# Leave-one-group out cross validation"
      ]
    },
    {
      "cell_type": "code",
      "execution_count": 37,
      "metadata": {
        "id": "GYkSKWgxpbfq"
      },
      "outputs": [],
      "source": [
        "from pyspark.sql import SparkSession\n",
        "from pyspark.ml.feature import VectorAssembler\n",
        "from pyspark.ml import Pipeline\n",
        "from pyspark.sql.functions import countDistinct\n",
        "from pyspark.ml.classification import LogisticRegression\n",
        "from pyspark.ml.evaluation import BinaryClassificationEvaluator\n",
        "from pyspark.sql import functions as F\n",
        "import numpy as np\n",
        "\n",
        "filename = \"bank-full.csv\"\n",
        "spark = SparkSession.builder.getOrCreate()\n",
        "df = spark.read.csv(filename, header=True, inferSchema=True, sep=';')\n",
        "df = df.withColumn('label', F.when(F.col(\"y\") == 'yes', 1).otherwise(0))\n",
        "df = df.drop('y')\n",
        "df = df.select(['education', 'age', 'balance', 'day', 'duration', 'campaign', 'pdays', 'previous', 'label'])\n",
        "features_list = ['age', 'balance', 'day', 'duration', 'campaign', 'pdays', 'previous'] \n",
        "\n",
        "#assemble individual columns to one column - 'features'\n",
        "def assemble_vectors(df, features_list, target_variable_name, group_variable_name):\n",
        "    stages = []\n",
        "    #assemble vectors\n",
        "    assembler = VectorAssembler(inputCols=features_list, outputCol='features')\n",
        "    stages = [assembler]\n",
        "    #select all the columns + target + newly created 'features' column\n",
        "    selectedCols = [group_variable_name, target_variable_name, 'features']\n",
        "\n",
        "    #use pipeline to process sequentially\n",
        "    pipeline = Pipeline(stages=stages)\n",
        "    #assembler model\n",
        "    assembleModel = pipeline.fit(df)\n",
        "    #apply assembler model on data\n",
        "    df = assembleModel.transform(df).select(selectedCols)\n",
        "\n",
        "    return df\n",
        "\n",
        "# apply the function on our dataframe\n",
        "joined_df = assemble_vectors(df, features_list, 'label', 'education')\n",
        "groups = list(joined_df.select('education').toPandas()['education'].unique())\n",
        "\n",
        "# leave one group out validation \n",
        "def leave_one_group_out_validator(df, var_name, groups):\n",
        "    \n",
        "    train_metric_score = []\n",
        "    test_metric_score = []\n",
        "    \n",
        "    for i in groups:\n",
        "        train = df.filter(df[var_name]!=i)\n",
        "        test = df.filter(df[var_name]==i)\n",
        "    \n",
        "        #model initialization\n",
        "        lr = LogisticRegression(maxIter=10, featuresCol='features', labelCol='label')\n",
        "        evaluator = BinaryClassificationEvaluator(labelCol='label', rawPredictionCol='rawPrediction', \n",
        "                                                  metricName='areaUnderROC')\n",
        "        #fit model\n",
        "        lrModel = lr.fit(train)\n",
        "\n",
        "        #make predicitons\n",
        "        predict_train = lrModel.transform(train)\n",
        "        predict_test = lrModel.transform(test)\n",
        "        \n",
        "        train_metric_score.append(evaluator.evaluate(predict_train))\n",
        "        test_metric_score.append(evaluator.evaluate(predict_test))\n",
        "        print(str(i) + \" Group evaluation\")\n",
        "        print(\" Train AUC - \", train_metric_score[-1])\n",
        "        print(\" Test AUC - \", test_metric_score[-1])\n",
        "        \n",
        "    print('Final evaluation for model')\n",
        "    print('Train ROC', np.mean(train_metric_score))\n",
        "    print('Test ROC', np.mean(test_metric_score))"
      ]
    },
    {
      "cell_type": "code",
      "execution_count": 38,
      "metadata": {
        "colab": {
          "base_uri": "https://localhost:8080/"
        },
        "id": "D_kGJ_A_pbfs",
        "outputId": "3d6e7e28-9334-476e-aa15-f0bc2661c49b"
      },
      "outputs": [
        {
          "output_type": "stream",
          "name": "stdout",
          "text": [
            "tertiary Group evaluation\n",
            " Train AUC -  0.8405057151274624\n",
            " Test AUC -  0.8116987180907579\n",
            "secondary Group evaluation\n",
            " Train AUC -  0.824959682035174\n",
            " Test AUC -  0.8352574426069586\n",
            "unknown Group evaluation\n",
            " Train AUC -  0.8314703855819574\n",
            " Test AUC -  0.8111358354349012\n",
            "primary Group evaluation\n",
            " Train AUC -  0.8256816145297797\n",
            " Test AUC -  0.8695816642610408\n",
            "Final evaluation for model\n",
            "Train ROC 0.8306543493185934\n",
            "Test ROC 0.8319184150984147\n"
          ]
        }
      ],
      "source": [
        "leave_one_group_out_validator(joined_df, 'education', groups)"
      ]
    },
    {
      "cell_type": "markdown",
      "metadata": {
        "id": "qdIKz5GMpbft"
      },
      "source": [
        "# Regression models"
      ]
    },
    {
      "cell_type": "code",
      "execution_count": 39,
      "metadata": {
        "id": "5NpataDGpbft"
      },
      "outputs": [],
      "source": [
        "from pyspark.sql import SparkSession\n",
        "spark = SparkSession.builder.getOrCreate()"
      ]
    },
    {
      "cell_type": "code",
      "execution_count": 40,
      "metadata": {
        "colab": {
          "base_uri": "https://localhost:8080/"
        },
        "id": "V0hklH4apbfy",
        "outputId": "234e884f-0878-4311-dd71-1589bb1cc692"
      },
      "outputs": [
        {
          "output_type": "stream",
          "name": "stdout",
          "text": [
            "+---+---+---+\n",
            "| x1| x2|  y|\n",
            "+---+---+---+\n",
            "| 58| 50| 12|\n",
            "| 37| 95| 27|\n",
            "| 29|137| 39|\n",
            "| 19|150| 45|\n",
            "+---+---+---+\n",
            "\n"
          ]
        }
      ],
      "source": [
        "from pyspark.sql.types import IntegerType\n",
        "from pyspark.sql.types import StructField, StructType\n",
        "\n",
        "cSchema = StructType([StructField(\"x1\", IntegerType())\\\n",
        "                      ,StructField(\"x2\", IntegerType())\\\n",
        "                      ,StructField(\"y\", IntegerType())])\n",
        "\n",
        "df_list = [[58, 50, 12], [37, 95, 27], [29, 137, 39], [19, 150, 45]]\n",
        "\n",
        "\n",
        "df = spark.createDataFrame(df_list, schema=cSchema)\n",
        "df.show()"
      ]
    },
    {
      "cell_type": "code",
      "execution_count": 42,
      "metadata": {
        "id": "Fru2V32Epbfz"
      },
      "outputs": [],
      "source": [
        "#assembled_df = assemble_vectors(df, ['x1'], 'y')\n",
        "#assembled_df = assemble_vectors(df, ['x1'], 'y', 'group_name')\n",
        "\n",
        "from pyspark.ml.feature import VectorAssembler\n",
        "from pyspark.sql.functions import col\n",
        "\n",
        "def assemble_vectors(df, input_cols, output_col, group_name):\n",
        "    assembler = VectorAssembler(inputCols=input_cols, outputCol=output_col)\n",
        "    assembled_df = assembler.transform(df)\n",
        "    group_cols = [col(group_name)]\n",
        "    group_cols += [col(c) for c in df.columns if c not in input_cols]\n",
        "    agg_expr = {output_col: 'mean'}\n",
        "    assembled_df = assembled_df.groupby(group_cols).agg(agg_expr)\n",
        "    return assembled_df\n"
      ]
    },
    {
      "cell_type": "code",
      "execution_count": 44,
      "metadata": {
        "id": "tfE1ErS_pbf1"
      },
      "outputs": [],
      "source": [
        "from pyspark.ml.regression import LinearRegression\n",
        "\n",
        "reg = LinearRegression(featuresCol='features', labelCol='y')"
      ]
    },
    {
      "cell_type": "code",
      "execution_count": 49,
      "metadata": {
        "id": "RqPuqjVopbf2"
      },
      "outputs": [],
      "source": [
        "#reg_model = reg.fit(assembled_df)\n",
        "\n",
        "reg = LinearRegression(featuresCol='features', labelCol='label')\n",
        "\n"
      ]
    },
    {
      "cell_type": "code",
      "source": [
        "reg_model = reg.fit(assembled_df)\n"
      ],
      "metadata": {
        "id": "oUd7NRrjfRty"
      },
      "execution_count": 50,
      "outputs": []
    },
    {
      "cell_type": "code",
      "execution_count": 51,
      "metadata": {
        "colab": {
          "base_uri": "https://localhost:8080/"
        },
        "id": "Wvhe0ZAypbf4",
        "outputId": "55262801-7419-4195-c42a-d1cad1545f0d"
      },
      "outputs": [
        {
          "output_type": "stream",
          "name": "stdout",
          "text": [
            "0.0005057746066273917 -0.04097484793120063\n"
          ]
        }
      ],
      "source": [
        "print(reg_model.coefficients[0], reg_model.intercept)"
      ]
    },
    {
      "cell_type": "code",
      "execution_count": 52,
      "metadata": {
        "id": "mbdwjA1ppbf5"
      },
      "outputs": [],
      "source": [
        "pred_result = reg_model.transform(assembled_df)"
      ]
    },
    {
      "cell_type": "code",
      "execution_count": 53,
      "metadata": {
        "colab": {
          "base_uri": "https://localhost:8080/"
        },
        "id": "M3gWuhGmpbf7",
        "outputId": "50c190e9-bfbc-4153-a24e-294f59257c13"
      },
      "outputs": [
        {
          "output_type": "stream",
          "name": "stdout",
          "text": [
            "Mean Squared error 0.083927641064811\n",
            "Root mean squared error 0.28970267700663554\n",
            "Mean Absolute error 0.17194434269736392\n",
            "Explained Variance 0.017783728864301403\n",
            "R squared 0.17484504315196858\n"
          ]
        }
      ],
      "source": [
        "reg_summary = reg_model.summary\n",
        "\n",
        "print('Mean Squared error', reg_summary.meanSquaredError)\n",
        "print('Root mean squared error', reg_summary.rootMeanSquaredError)\n",
        "print('Mean Absolute error', reg_summary.meanAbsoluteError)\n",
        "print('Explained Variance', reg_summary.explainedVariance)\n",
        "print('R squared', reg_summary.r2)"
      ]
    },
    {
      "cell_type": "markdown",
      "metadata": {
        "id": "irZ71egypbf8"
      },
      "source": [
        "# Mean square error"
      ]
    },
    {
      "cell_type": "code",
      "execution_count": 54,
      "metadata": {
        "id": "HcvZt9gGpbf8"
      },
      "outputs": [],
      "source": [
        "from pyspark.ml.evaluation import RegressionEvaluator\n",
        "evaluator = RegressionEvaluator(labelCol='y', predictionCol='prediction', metricName='mse')"
      ]
    },
    {
      "cell_type": "code",
      "execution_count": 56,
      "metadata": {
        "id": "HmJpiQmFpbf9"
      },
      "outputs": [],
      "source": [
        "#evaluator.evaluate(pred_result)\n",
        "\n",
        "evaluator = RegressionEvaluator(labelCol='label', predictionCol='prediction', metricName='rmse')\n"
      ]
    },
    {
      "cell_type": "code",
      "source": [
        "evaluator.evaluate(pred_result)\n"
      ],
      "metadata": {
        "colab": {
          "base_uri": "https://localhost:8080/"
        },
        "id": "psephmjhfn0y",
        "outputId": "eb379450-9d72-4bb3-c8c6-1b620bc06c9a"
      },
      "execution_count": 57,
      "outputs": [
        {
          "output_type": "execute_result",
          "data": {
            "text/plain": [
              "0.28970267700663554"
            ]
          },
          "metadata": {},
          "execution_count": 57
        }
      ]
    },
    {
      "cell_type": "markdown",
      "metadata": {
        "id": "C4f1Kahcpbf9"
      },
      "source": [
        "# Root Mean Square error"
      ]
    },
    {
      "cell_type": "code",
      "execution_count": 59,
      "metadata": {
        "id": "FIl1FMKZpbf-"
      },
      "outputs": [],
      "source": [
        "#evaluator = RegressionEvaluator(labelCol='y', predictionCol='prediction', metricName='rmse')\n",
        "#evaluator.evaluate(pred_result)\n",
        "\n",
        "evaluator = RegressionEvaluator(labelCol='label', predictionCol='prediction', metricName='rmse')\n"
      ]
    },
    {
      "cell_type": "code",
      "source": [
        "evaluator.evaluate(pred_result)\n"
      ],
      "metadata": {
        "colab": {
          "base_uri": "https://localhost:8080/"
        },
        "id": "v_ZsKrgrf6n1",
        "outputId": "96ad1ba0-49e7-4532-aa3d-ccbaba7294a6"
      },
      "execution_count": 60,
      "outputs": [
        {
          "output_type": "execute_result",
          "data": {
            "text/plain": [
              "0.28970267700663554"
            ]
          },
          "metadata": {},
          "execution_count": 60
        }
      ]
    },
    {
      "cell_type": "markdown",
      "metadata": {
        "id": "8ulaPHwqpbgC"
      },
      "source": [
        "# Mean absolute error"
      ]
    },
    {
      "cell_type": "code",
      "execution_count": 64,
      "metadata": {
        "colab": {
          "base_uri": "https://localhost:8080/"
        },
        "id": "Ep2k1feLpbl8",
        "outputId": "56dcc3c0-1ec9-465b-b27f-eb46d6a3da39"
      },
      "outputs": [
        {
          "output_type": "stream",
          "name": "stdout",
          "text": [
            "MAE: 0.17194434269736392\n"
          ]
        }
      ],
      "source": [
        "#evaluator = RegressionEvaluator(labelCol='y', predictionCol='prediction', metricName='mae')\n",
        "#evaluator.evaluate(pred_result)\n",
        "\n",
        "from pyspark.ml.evaluation import RegressionEvaluator\n",
        "\n",
        "# Assuming pred_result is a DataFrame with columns ['label', 'prediction']\n",
        "evaluator = RegressionEvaluator(labelCol='label', predictionCol='prediction', metricName='mae')\n",
        "mae = evaluator.evaluate(pred_result)\n",
        "print('MAE:', mae)\n",
        "\n"
      ]
    },
    {
      "cell_type": "markdown",
      "metadata": {
        "id": "zPi05NUipbl9"
      },
      "source": [
        "# Explained Variance"
      ]
    },
    {
      "cell_type": "code",
      "execution_count": 66,
      "metadata": {
        "colab": {
          "base_uri": "https://localhost:8080/"
        },
        "id": "l4AAv93hpbmE",
        "outputId": "edcf2fdd-82c6-433c-89f2-6c213057f63c"
      },
      "outputs": [
        {
          "output_type": "stream",
          "name": "stdout",
          "text": [
            "RMSE: 0.28970267700663554\n"
          ]
        }
      ],
      "source": [
        "# option available for Pyspark 3.0 and above\n",
        "#evaluator = RegressionEvaluator(labelCol='y', predictionCol='prediction', metricName='var')\n",
        "#evaluator.evaluate(pred_result)\n",
        "\n",
        "from pyspark.ml.evaluation import RegressionEvaluator\n",
        "\n",
        "# Assuming pred_result is a DataFrame with columns ['label', 'prediction']\n",
        "evaluator = RegressionEvaluator(labelCol='label', predictionCol='prediction', metricName='rmse')\n",
        "rmse = evaluator.evaluate(pred_result)\n",
        "print('RMSE:', rmse)\n"
      ]
    },
    {
      "cell_type": "code",
      "execution_count": 67,
      "metadata": {
        "colab": {
          "base_uri": "https://localhost:8080/"
        },
        "id": "YMZq-Vq6pbmG",
        "outputId": "af5e2157-ade0-4832-fec0-3e02296d57fe"
      },
      "outputs": [
        {
          "output_type": "stream",
          "name": "stdout",
          "text": [
            "Explained Variance 0.017783728864301403\n"
          ]
        }
      ],
      "source": [
        "# PySpark < 3.0\n",
        "print('Explained Variance', reg_summary.explainedVariance)"
      ]
    },
    {
      "cell_type": "code",
      "execution_count": 68,
      "metadata": {
        "colab": {
          "base_uri": "https://localhost:8080/"
        },
        "id": "u3qN2zA0pbmH",
        "outputId": "1d7bd43f-0ea6-4b72-ec8e-84b8cf2d4e34"
      },
      "outputs": [
        {
          "output_type": "execute_result",
          "data": {
            "text/plain": [
              "-3"
            ]
          },
          "metadata": {},
          "execution_count": 68
        }
      ],
      "source": [
        "1 - 4"
      ]
    },
    {
      "cell_type": "markdown",
      "metadata": {
        "id": "Mww96xJdpbmJ"
      },
      "source": [
        "# R- Squared"
      ]
    },
    {
      "cell_type": "code",
      "execution_count": 69,
      "metadata": {
        "colab": {
          "base_uri": "https://localhost:8080/"
        },
        "id": "0NjH2PFmpbmK",
        "outputId": "60395503-7d87-45e0-e44b-1a91970806b8"
      },
      "outputs": [
        {
          "output_type": "execute_result",
          "data": {
            "text/plain": [
              "0.979251209246812"
            ]
          },
          "metadata": {},
          "execution_count": 69
        }
      ],
      "source": [
        "1 - (3.303/159.19)"
      ]
    },
    {
      "cell_type": "code",
      "execution_count": 71,
      "metadata": {
        "colab": {
          "base_uri": "https://localhost:8080/"
        },
        "id": "p2ga_ewlpbmL",
        "outputId": "12503c9e-d60d-4cbe-adaa-a050846497ef"
      },
      "outputs": [
        {
          "output_type": "stream",
          "name": "stdout",
          "text": [
            "R squared: 0.17484504315196858\n"
          ]
        }
      ],
      "source": [
        "#evaluator = RegressionEvaluator(labelCol='y', predictionCol='prediction', metricName='r2')\n",
        "#evaluator.evaluate(pred_result)\n",
        "#print('R squared', reg_summary.r2)\n",
        "\n",
        "from pyspark.ml.evaluation import RegressionEvaluator\n",
        "\n",
        "# Assuming pred_result is a DataFrame with columns ['label', 'prediction']\n",
        "evaluator = RegressionEvaluator(labelCol='label', predictionCol='prediction', metricName='r2')\n",
        "r2 = evaluator.evaluate(pred_result)\n",
        "print('R squared:', r2)\n"
      ]
    },
    {
      "cell_type": "markdown",
      "metadata": {
        "id": "c2xglBHFpbmN"
      },
      "source": [
        "# Adjusted R squared"
      ]
    },
    {
      "cell_type": "code",
      "execution_count": 72,
      "metadata": {
        "colab": {
          "base_uri": "https://localhost:8080/"
        },
        "id": "zN0Q6qIEpbmO",
        "outputId": "9592e969-21d0-4cf1-9c1c-84571419ac47"
      },
      "outputs": [
        {
          "output_type": "stream",
          "name": "stdout",
          "text": [
            "R squared 0.17466178591988835\n"
          ]
        }
      ],
      "source": [
        "print('R squared', reg_summary.r2adj)"
      ]
    },
    {
      "cell_type": "code",
      "execution_count": 73,
      "metadata": {
        "colab": {
          "base_uri": "https://localhost:8080/"
        },
        "id": "ORTQsKyBpbmU",
        "outputId": "119fc168-e7b3-4225-a75a-107f04f11415"
      },
      "outputs": [
        {
          "output_type": "execute_result",
          "data": {
            "text/plain": [
              "0.96886"
            ]
          },
          "metadata": {},
          "execution_count": 73
        }
      ],
      "source": [
        "1 - (((1-0.97924)*3)/(4-1-1))"
      ]
    },
    {
      "cell_type": "code",
      "execution_count": 74,
      "metadata": {
        "colab": {
          "base_uri": "https://localhost:8080/"
        },
        "id": "xuebGc0lpbmV",
        "outputId": "baf8489d-df37-4155-f47f-168b2fe7aeeb"
      },
      "outputs": [
        {
          "output_type": "execute_result",
          "data": {
            "text/plain": [
              "30.75"
            ]
          },
          "metadata": {},
          "execution_count": 74
        }
      ],
      "source": [
        "(12 + 27 + 39 + 45)/4"
      ]
    },
    {
      "cell_type": "code",
      "execution_count": 74,
      "metadata": {
        "id": "hx8IfddspbmW"
      },
      "outputs": [],
      "source": []
    },
    {
      "cell_type": "markdown",
      "metadata": {
        "id": "xaAsK_2SpbmX"
      },
      "source": [
        "# Binary Classification"
      ]
    },
    {
      "cell_type": "code",
      "execution_count": 75,
      "metadata": {
        "id": "DJNueNoapbmY"
      },
      "outputs": [],
      "source": [
        "from pyspark.sql import SparkSession\n",
        "spark = SparkSession.builder.getOrCreate()\n",
        "\n",
        "from pyspark.ml.feature import VectorAssembler\n",
        "from pyspark.ml import Pipeline\n",
        "\n",
        "#assemble individual columns to one column - 'features'\n",
        "def assemble_vectors(df, features_list, target_variable_name):\n",
        "    stages = []\n",
        "    #assemble vectors\n",
        "    assembler = VectorAssembler(inputCols=features_list, outputCol='features')\n",
        "    stages = [assembler]\n",
        "    #select all the columns + target + newly created 'features' column\n",
        "    selectedCols = [target_variable_name, 'features']\n",
        "    #use pipeline to process sequentially\n",
        "    pipeline = Pipeline(stages=stages)\n",
        "    #assembler model\n",
        "    assembleModel = pipeline.fit(df)\n",
        "    #apply assembler model on data\n",
        "    df = assembleModel.transform(df).select(selectedCols)\n",
        "\n",
        "    return df"
      ]
    },
    {
      "cell_type": "code",
      "execution_count": 76,
      "metadata": {
        "colab": {
          "base_uri": "https://localhost:8080/"
        },
        "id": "S3tF9GqppbmY",
        "outputId": "2bc2c432-176d-4eb1-d1f4-68af5ea4a840"
      },
      "outputs": [
        {
          "output_type": "stream",
          "name": "stdout",
          "text": [
            "+---+---+------+\n",
            "| x1| x2|target|\n",
            "+---+---+------+\n",
            "|  0|  0|     0|\n",
            "|  0|  1|     1|\n",
            "|  1|  0|     1|\n",
            "|  1|  1|     1|\n",
            "+---+---+------+\n",
            "\n",
            "14.499620915312292 -7.577807714653773e-09\n"
          ]
        }
      ],
      "source": [
        "from pyspark.sql.types import IntegerType, DoubleType\n",
        "from pyspark.sql.types import StructField, StructType\n",
        "\n",
        "cSchema = StructType([StructField(\"x1\", IntegerType())\\\n",
        "                      ,StructField(\"x2\", IntegerType())\\\n",
        "                      ,StructField(\"target\", IntegerType())])\n",
        "\n",
        "df_list = [[0, 0, 0], [0, 1, 1], [1, 0, 1], [1, 1, 1]]\n",
        "\n",
        "\n",
        "df = spark.createDataFrame(df_list, schema=cSchema)\n",
        "df.show()\n",
        "\n",
        "assembled_df = assemble_vectors(df, ['x1'], 'target')\n",
        "\n",
        "from pyspark.ml.classification import LogisticRegression\n",
        "\n",
        "clf = LogisticRegression(featuresCol='features', labelCol='target')\n",
        "\n",
        "clf_model = clf.fit(assembled_df)\n",
        "\n",
        "print(clf_model.coefficients[0], clf_model.intercept)\n",
        "\n",
        "pred_result = clf_model.transform(assembled_df)"
      ]
    },
    {
      "cell_type": "code",
      "execution_count": 77,
      "metadata": {
        "colab": {
          "base_uri": "https://localhost:8080/"
        },
        "id": "ilEeO5IZpbmZ",
        "outputId": "ffe73f7a-5c2b-4dce-9670-f8dfc4fa5bbb"
      },
      "outputs": [
        {
          "output_type": "stream",
          "name": "stdout",
          "text": [
            "+------+--------+--------------------+--------------------+----------+\n",
            "|target|features|       rawPrediction|         probability|prediction|\n",
            "+------+--------+--------------------+--------------------+----------+\n",
            "|     0|   [0.0]|[7.57780771465377...|[0.50000000189445...|       0.0|\n",
            "|     1|   [0.0]|[7.57780771465377...|[0.50000000189445...|       0.0|\n",
            "|     1|   [1.0]|[-14.499620907734...|[5.04538638551251...|       1.0|\n",
            "|     1|   [1.0]|[-14.499620907734...|[5.04538638551251...|       1.0|\n",
            "+------+--------+--------------------+--------------------+----------+\n",
            "\n"
          ]
        }
      ],
      "source": [
        "pred_result.show()"
      ]
    },
    {
      "cell_type": "code",
      "execution_count": 78,
      "metadata": {
        "colab": {
          "base_uri": "https://localhost:8080/"
        },
        "id": "tGlwlFbxpbma",
        "outputId": "9898a724-b223-4860-bb80-0f172671e456"
      },
      "outputs": [
        {
          "output_type": "stream",
          "name": "stderr",
          "text": [
            "/usr/local/lib/python3.10/dist-packages/pyspark/sql/context.py:157: FutureWarning: Deprecated in 3.0.0. Use SparkSession.builder.getOrCreate() instead.\n",
            "  warnings.warn(\n"
          ]
        }
      ],
      "source": [
        "from pyspark.mllib.evaluation import BinaryClassificationMetrics, MulticlassMetrics\n",
        "\n",
        "predictionAndTarget = pred_result.select(\"prediction\", \"target\")\n",
        "predictionAndTarget = predictionAndTarget.withColumn(\"target\", predictionAndTarget[\"target\"].cast(DoubleType()))\n",
        "predictionAndTarget = predictionAndTarget.withColumn(\"prediction\", predictionAndTarget[\"prediction\"].cast(DoubleType()))\n",
        "\n",
        "metrics = MulticlassMetrics(predictionAndTarget.rdd.map(tuple))"
      ]
    },
    {
      "cell_type": "code",
      "execution_count": 79,
      "metadata": {
        "id": "5onWZiczpbmb"
      },
      "outputs": [],
      "source": [
        "# confusion matrix\n",
        "cm = metrics.confusionMatrix().toArray()"
      ]
    },
    {
      "cell_type": "code",
      "execution_count": 80,
      "metadata": {
        "id": "ycSDkLAhpbmc"
      },
      "outputs": [],
      "source": [
        "import seaborn as sns\n",
        "import matplotlib.pyplot as plt\n",
        "\n",
        "def make_confusion_matrix_chart(cf_matrix):\n",
        "    \n",
        "    list_values = ['0', '1']\n",
        "\n",
        "    plt.subplot(111)\n",
        "    sns.heatmap(cf_matrix, annot=True, yticklabels=list_values, \n",
        "                                xticklabels=list_values, fmt='g')\n",
        "    plt.ylabel(\"Actual\")\n",
        "    plt.xlabel(\"Pred\")\n",
        "    plt.ylim([0,2])\n",
        "    plt.title('OR Logic Gate predictions')\n",
        "\n",
        "    plt.tight_layout()\n",
        "    return None"
      ]
    },
    {
      "cell_type": "code",
      "execution_count": 81,
      "metadata": {
        "colab": {
          "base_uri": "https://localhost:8080/",
          "height": 487
        },
        "id": "7aVtX5ukpbmd",
        "outputId": "f81255b6-8eb2-4b09-ae15-01e1dc000819"
      },
      "outputs": [
        {
          "output_type": "display_data",
          "data": {
            "text/plain": [
              "<Figure size 640x480 with 2 Axes>"
            ],
            "image/png": "[encoded data removed]"
          },
          "metadata": {}
        }
      ],
      "source": [
        "make_confusion_matrix_chart(cm)"
      ]
    },
    {
      "cell_type": "markdown",
      "metadata": {
        "id": "xKX6nFRxpbme"
      },
      "source": [
        "$$Sigmoid\\ function,\\ Probability=(\\frac{1}{1 + exp(-x)})$$"
      ]
    },
    {
      "cell_type": "markdown",
      "metadata": {
        "id": "mTGOOzm1pbmf"
      },
      "source": [
        "$$Accuracy=(\\frac{TP + TN}{TP + TN + FP + FN})$$"
      ]
    },
    {
      "cell_type": "markdown",
      "metadata": {
        "id": "0zpZJte-pbmk"
      },
      "source": [
        "$$Precision=(\\frac{TP}{TP + FP})$$"
      ]
    },
    {
      "cell_type": "markdown",
      "metadata": {
        "id": "x82FCy52pbml"
      },
      "source": [
        "$$Recall=(\\frac{TP}{TP + FN})$$"
      ]
    },
    {
      "cell_type": "markdown",
      "metadata": {
        "id": "OggEPP1zpbmm"
      },
      "source": [
        "$$F1-score=2*(\\frac{Precision*Recall}{Precision + Recall})$$"
      ]
    },
    {
      "cell_type": "markdown",
      "metadata": {
        "id": "6fTeK9Wlpbmn"
      },
      "source": [
        "$$Specificity=(\\frac{TN}{TN + FP})=1- FPR$$"
      ]
    },
    {
      "cell_type": "markdown",
      "metadata": {
        "id": "Sj7i0KvKpbmo"
      },
      "source": [
        "$$False\\ Positive\\ Rate=(\\frac{FP}{FP + TN})$$"
      ]
    },
    {
      "cell_type": "code",
      "execution_count": 82,
      "metadata": {
        "id": "_jSCp6njpbmp"
      },
      "outputs": [],
      "source": [
        "from pyspark.ml.evaluation import BinaryClassificationEvaluator\n",
        "acc = metrics.accuracy\n",
        "misclassification_rate = 1 - acc\n",
        "precision = metrics.precision(1.0)\n",
        "recall = metrics.recall(1.0)\n",
        "f1 = metrics.fMeasure(1.0)\n",
        "evaluator = BinaryClassificationEvaluator(labelCol='target', rawPredictionCol='rawPrediction', metricName='areaUnderROC')\n",
        "roc = evaluator.evaluate(pred_result)"
      ]
    },
    {
      "cell_type": "code",
      "execution_count": 83,
      "metadata": {
        "colab": {
          "base_uri": "https://localhost:8080/"
        },
        "id": "fhyCo_M8pbmq",
        "outputId": "d44fa234-3a3b-4d0f-8cfe-caeceb19c29a"
      },
      "outputs": [
        {
          "output_type": "stream",
          "name": "stdout",
          "text": [
            "0.75 0.25 1.0 0.6666666666666666 0.8 0.8333333333333333\n"
          ]
        }
      ],
      "source": [
        "print(acc, misclassification_rate, precision, recall, f1, roc)"
      ]
    },
    {
      "cell_type": "code",
      "execution_count": 84,
      "metadata": {
        "id": "X8qvqv4Epbmr"
      },
      "outputs": [],
      "source": [
        "from pyspark.mllib.evaluation import BinaryClassificationMetrics\n",
        "\n",
        "class CurveMetrics(BinaryClassificationMetrics):\n",
        "    def __init__(self, *args):\n",
        "        super(CurveMetrics, self).__init__(*args)\n",
        "\n",
        "    def _to_list(self, rdd):\n",
        "        points = []\n",
        "        results_collect = rdd.collect()\n",
        "        for row in results_collect:\n",
        "            points += [(float(row._1()), float(row._2()))]\n",
        "        return points\n",
        "\n",
        "    def get_curve(self, method):\n",
        "        rdd = getattr(self._java_model, method)().toJavaRDD()\n",
        "        return self._to_list(rdd)"
      ]
    },
    {
      "cell_type": "code",
      "execution_count": 85,
      "metadata": {
        "colab": {
          "base_uri": "https://localhost:8080/"
        },
        "id": "K2WeeBzKpbmt",
        "outputId": "3a04d49e-e0bf-4de4-db3f-a98ea5a4a389"
      },
      "outputs": [
        {
          "output_type": "stream",
          "name": "stderr",
          "text": [
            "/usr/local/lib/python3.10/dist-packages/pyspark/sql/context.py:157: FutureWarning: Deprecated in 3.0.0. Use SparkSession.builder.getOrCreate() instead.\n",
            "  warnings.warn(\n"
          ]
        }
      ],
      "source": [
        "preds = pred_result.select('target','probability').rdd.map(lambda row: (float(row['probability'][1]), float(row['target'])))\n",
        "\n",
        "# Returns as a list (false positive rate, true positive rate)\n",
        "points = CurveMetrics(preds).get_curve('roc')"
      ]
    },
    {
      "cell_type": "code",
      "execution_count": 86,
      "metadata": {
        "colab": {
          "base_uri": "https://localhost:8080/",
          "height": 489
        },
        "id": "ceEm00ozpbmu",
        "outputId": "573a1b1c-798f-4b9a-c83e-5c9e12c3ef8c"
      },
      "outputs": [
        {
          "output_type": "execute_result",
          "data": {
            "text/plain": [
              "<matplotlib.legend.Legend at 0x7fe44f671c60>"
            ]
          },
          "metadata": {},
          "execution_count": 86
        },
        {
          "output_type": "display_data",
          "data": {
            "text/plain": [
              "<Figure size 640x480 with 1 Axes>"
            ],
            "image/png": "[encoded data removed]"
          },
          "metadata": {}
        }
      ],
      "source": [
        "import matplotlib.pyplot as plt\n",
        "points = CurveMetrics(preds).get_curve('roc')\n",
        "\n",
        "plt.figure()\n",
        "x_val = [x[0] for x in points]\n",
        "y_val = [x[1] for x in points]\n",
        "plt.title('ROC')\n",
        "plt.xlabel('False Positive Rate (1-Specificity)')\n",
        "plt.ylabel('True Positive Rate (Sensitivity)')\n",
        "plt.plot(x_val, y_val, label = 'AUC = %0.2f' % roc)\n",
        "plt.plot([0, 1], [0, 1], color='red', linestyle='--')\n",
        "plt.legend(loc = 'lower right')"
      ]
    },
    {
      "cell_type": "code",
      "execution_count": 87,
      "metadata": {
        "id": "Am_A-9T_pbmv"
      },
      "outputs": [],
      "source": [
        "evaluator = BinaryClassificationEvaluator(labelCol='target', rawPredictionCol='rawPrediction', metricName='areaUnderPR')\n",
        "pr = evaluator.evaluate(pred_result)"
      ]
    },
    {
      "cell_type": "code",
      "execution_count": 88,
      "metadata": {
        "colab": {
          "base_uri": "https://localhost:8080/"
        },
        "id": "9ly4iIkEpbmz",
        "outputId": "146a5e33-f849-4d2c-982b-553b64b57643"
      },
      "outputs": [
        {
          "output_type": "execute_result",
          "data": {
            "text/plain": [
              "0.9583333333333333"
            ]
          },
          "metadata": {},
          "execution_count": 88
        }
      ],
      "source": [
        "pr"
      ]
    },
    {
      "cell_type": "code",
      "execution_count": 89,
      "metadata": {
        "colab": {
          "base_uri": "https://localhost:8080/",
          "height": 489
        },
        "id": "r1ezu09Bpbm0",
        "outputId": "c56a9994-2b85-4e88-8035-536c3e7f50b9"
      },
      "outputs": [
        {
          "output_type": "execute_result",
          "data": {
            "text/plain": [
              "<matplotlib.legend.Legend at 0x7fe44f6c5cc0>"
            ]
          },
          "metadata": {},
          "execution_count": 89
        },
        {
          "output_type": "display_data",
          "data": {
            "text/plain": [
              "<Figure size 640x480 with 1 Axes>"
            ],
            "image/png": "[encoded data removed]"
          },
          "metadata": {}
        }
      ],
      "source": [
        "preds = pred_result.select('target','probability').rdd.map(lambda row: (float(row['probability'][1]), float(row['target'])))\n",
        "points = CurveMetrics(preds).get_curve('pr')\n",
        "\n",
        "plt.figure()\n",
        "x_val = [x[0] for x in points]\n",
        "y_val = [x[1] for x in points]\n",
        "plt.title('PR curve')\n",
        "plt.xlabel('Recall')\n",
        "plt.ylabel('Precision')\n",
        "plt.plot(x_val, y_val, label = 'Average Precision = %0.2f' % pr)\n",
        "plt.plot([0, 1], [0.5, 0.5], color='red', linestyle='--')\n",
        "plt.legend(loc = 'lower right')"
      ]
    },
    {
      "cell_type": "markdown",
      "metadata": {
        "id": "N1jNj8wrpbm0"
      },
      "source": [
        "# Random Value"
      ]
    },
    {
      "cell_type": "code",
      "execution_count": 91,
      "metadata": {
        "colab": {
          "base_uri": "https://localhost:8080/"
        },
        "id": "rciqBm4Bpbm1",
        "outputId": "6acb86bf-adf6-40a4-ea2f-564172ca7509"
      },
      "outputs": [
        {
          "output_type": "stream",
          "name": "stdout",
          "text": [
            "Precision: [0.38       0.38383838 0.3877551  0.3814433  0.38541667 0.37894737\n",
            " 0.37234043 0.37634409 0.36956522 0.37362637]\n",
            "Recall: [1.         1.         1.         0.97368421 0.97368421 0.94736842\n",
            " 0.92105263 0.92105263 0.89473684 0.89473684]\n"
          ]
        }
      ],
      "source": [
        "#from sklearn.metrics import precision_recall_curve, average_precision_score\n",
        "\n",
        "# random target and probabilities\n",
        "#rand_y = [random.choice([1, 0]) for i in range(0, 100)]\n",
        "#rand_prob = [random.uniform(0, 1) for i in range(0, 100)]\n",
        "#rand_precision, rand_recall, _ = precision_recall_curve(rand_y, rand_prob)\n",
        "#pr = average_precision_score(rand_y, rand_prob)\n",
        "#plot random predictions\n",
        "#plt.figure()\n",
        "#plt.title('PR curve')\n",
        "#plt.xlabel('Recall')\n",
        "#plt.ylabel('Precision')\n",
        "#plt.plot(rand_recall, rand_precision, label = 'Average Precision = %0.2f' % pr)\n",
        "#plt.plot([0, 1], [0.5, 0.5], color='red', linestyle='--')\n",
        "#plt.legend(loc = 'lower right')\n",
        "\n",
        "import random\n",
        "from sklearn.metrics import precision_recall_curve\n",
        "\n",
        "# Generate random targets and probabilities\n",
        "rand_y = [random.choice([1, 0]) for i in range(0, 100)]\n",
        "rand_prob = [random.uniform(0, 1) for i in range(0, 100)]\n",
        "\n",
        "# Compute precision and recall values\n",
        "rand_precision, rand_recall, _ = precision_recall_curve(rand_y, rand_prob)\n",
        "\n",
        "# Print the first 10 precision and recall values\n",
        "print('Precision:', rand_precision[:10])\n",
        "print('Recall:', rand_recall[:10])\n"
      ]
    },
    {
      "cell_type": "markdown",
      "metadata": {
        "id": "aKcbNe__pbm2"
      },
      "source": [
        "# KS Statistic"
      ]
    },
    {
      "cell_type": "code",
      "execution_count": 92,
      "metadata": {
        "id": "ER5AKLyfpbm3"
      },
      "outputs": [],
      "source": [
        "from pyspark.sql import SparkSession\n",
        "from pyspark.ml.feature import VectorAssembler\n",
        "from pyspark.ml import Pipeline\n",
        "from pyspark.sql.functions import countDistinct\n",
        "from pyspark.ml.classification import LogisticRegression\n",
        "from pyspark.ml.evaluation import BinaryClassificationEvaluator\n",
        "from pyspark.sql import functions as F\n",
        "import numpy as np\n",
        "\n",
        "filename = \"bank-full.csv\"\n",
        "spark = SparkSession.builder.getOrCreate()\n",
        "df = spark.read.csv(filename, header=True, inferSchema=True, sep=';')\n",
        "df = df.withColumn('label', F.when(F.col(\"y\") == 'yes', 1).otherwise(0))\n",
        "df = df.drop('y')\n",
        "#assemble individual columns to one column - 'features'\n",
        "def assemble_vectors(df, features_list, target_variable_name):\n",
        "    stages = []\n",
        "    #assemble vectors\n",
        "    assembler = VectorAssembler(inputCols=features_list, outputCol='features')\n",
        "    stages = [assembler]\n",
        "    #select all the columns + target + newly created 'features' column\n",
        "    selectedCols = [target_variable_name, 'features']\n",
        "    #use pipeline to process sequentially\n",
        "    pipeline = Pipeline(stages=stages)\n",
        "    #assembler model\n",
        "    assembleModel = pipeline.fit(df)\n",
        "    #apply assembler model on data\n",
        "    df = assembleModel.transform(df).select(selectedCols)\n",
        "\n",
        "    return df\n",
        "\n",
        "df = df.select(['education', 'age', 'balance', 'day', 'duration', 'campaign', 'pdays', 'previous', 'label'])\n",
        "features_list = ['age', 'balance', 'day', 'duration', 'campaign', 'pdays', 'previous'] \n",
        "assembled_df = assemble_vectors(df, features_list, 'label')\n",
        "clf = LogisticRegression(featuresCol='features', labelCol='label')\n",
        "train, test = assembled_df.randomSplit([0.7, 0.3], seed=12345)\n",
        "clf_model = clf.fit(train)"
      ]
    },
    {
      "cell_type": "code",
      "execution_count": 93,
      "metadata": {
        "id": "Va79GYAApbm3"
      },
      "outputs": [],
      "source": [
        "from pyspark.sql import Window\n",
        "\n",
        "def create_deciles(df, clf, score, prediction, target, buckets):\n",
        "    \n",
        "    # get predictions from model\n",
        "    pred = clf.transform(df)\n",
        "    #probability of 1's, prediction and target\n",
        "    pred = pred.select(F.col(score), F.col(prediction), F.col(target)).rdd.map(lambda row: (float(row[score][1]), float(row['prediction']), float(row[target])))\n",
        "    predDF = pred.toDF(schema=[score, prediction, target])\n",
        "    # remove ties in scores work around\n",
        "    window = Window.orderBy(F.desc(score))\n",
        "    predDF = predDF.withColumn(\"row_number\", F.row_number().over(window))\n",
        "    predDF.cache()\n",
        "    predDF = predDF.withColumn(\"row_number\", predDF['row_number'].cast(\"double\"))\n",
        "    # partition into 10 buckets\n",
        "    window2 = Window.orderBy(\"row_number\")\n",
        "    final_predDF = predDF.withColumn(\"deciles\", F.ntile(buckets).over(window2))\n",
        "    final_predDF = final_predDF.withColumn(\"deciles\", final_predDF['deciles'].cast(\"int\"))\n",
        "    # create non target column\n",
        "    final_predDF = final_predDF.withColumn(\"non_target\", 1 - final_predDF[target])\n",
        "    final_predDF.cache()    #final predicted df\n",
        "    \n",
        "    #ks calculation starts here\n",
        "    temp_deciles = final_predDF.groupby('deciles').agg(F.sum(target).alias(target)).toPandas()\n",
        "    non_target_cnt = final_predDF.groupby('deciles').agg(F.sum('non_target').alias('non_target')).toPandas()\n",
        "    temp_deciles = temp_deciles.merge(non_target_cnt, on='deciles', how='inner')\n",
        "    temp_deciles = temp_deciles.sort_values(by='deciles', ascending=True)\n",
        "    temp_deciles['total'] = temp_deciles[target] + temp_deciles['non_target']\n",
        "    temp_deciles['target_%'] = (temp_deciles[target] / temp_deciles['total'])*100\n",
        "    temp_deciles['cum_target'] = temp_deciles[target].cumsum()\n",
        "    temp_deciles['cum_non_target'] = temp_deciles['non_target'].cumsum()\n",
        "    temp_deciles['target_dist'] = (temp_deciles['cum_target']/temp_deciles[target].sum())*100\n",
        "    temp_deciles['non_target_dist'] = (temp_deciles['cum_non_target']/temp_deciles['non_target'].sum())*100\n",
        "    temp_deciles['spread'] = temp_deciles['target_dist'] - temp_deciles['non_target_dist']\n",
        "    decile_table=temp_deciles.round(2)\n",
        "    decile_table = decile_table[['deciles', 'total', 'label', 'non_target', 'target_%', 'cum_target', 'cum_non_target', 'target_dist', 'non_target_dist', 'spread']]\n",
        "    print(\"KS Value - \", round(temp_deciles['spread'].max(), 2))\n",
        "    return final_predDF, decile_table"
      ]
    },
    {
      "cell_type": "code",
      "execution_count": 94,
      "metadata": {
        "colab": {
          "base_uri": "https://localhost:8080/"
        },
        "id": "e9BLqzFapbm5",
        "outputId": "866852e7-2670-4758-a5ae-b3233bec2153"
      },
      "outputs": [
        {
          "output_type": "stream",
          "name": "stdout",
          "text": [
            "KS Value -  50.03\n",
            "KS Value -  50.55\n"
          ]
        }
      ],
      "source": [
        "pred_train, train_deciles = create_deciles(train, clf_model, 'probability', 'prediction', 'label', 10)\n",
        "pred_test, test_deciles = create_deciles(test, clf_model, 'probability', 'prediction', 'label', 10)"
      ]
    },
    {
      "cell_type": "code",
      "execution_count": 95,
      "metadata": {
        "id": "3zE5cLc8pbm8"
      },
      "outputs": [],
      "source": [
        "from collections import OrderedDict\n",
        "import pandas as pd\n",
        "import sys\n",
        "%matplotlib inline\n",
        "    \n",
        "def plot_pandas_style(styler):\n",
        "    from IPython.core.display import HTML\n",
        "    html = '\\n'.join([line.lstrip() for line in styler.render().split('\\n')])\n",
        "    return HTML(html)\n",
        "\n",
        "def highlight_max(s,color='yellow'):\n",
        "    '''\n",
        "    highlight the maximum in a Series yellow.\n",
        "    '''\n",
        "    is_max = s == s.max()\n",
        "    return ['background-color: {}'.format(color) if v else '' for v in is_max]\n",
        "\n",
        "def decile_labels(agg1, target, color='skyblue'):\n",
        "    agg1 = agg1.round(2)\n",
        "    agg1 = agg1.style.apply(highlight_max, color = 'yellow', subset=['spread']).set_precision(2)\n",
        "    agg1.bar(subset=[target], color='{}'.format(color), vmin=0)\n",
        "    agg1.bar(subset=['total'], color='{}'.format(color), vmin=0)\n",
        "    agg1.bar(subset=['target_%'], color='{}'.format(color), vmin=0)\n",
        "    return agg1"
      ]
    },
    {
      "cell_type": "code",
      "execution_count": 96,
      "metadata": {
        "colab": {
          "base_uri": "https://localhost:8080/",
          "height": 323
        },
        "id": "uO5FUZOCpbm9",
        "outputId": "6681c762-db9b-4d69-b0cc-902f4aa25a12"
      },
      "outputs": [
        {
          "output_type": "stream",
          "name": "stderr",
          "text": [
            "<ipython-input-95-7ef5ab9d770d>:20: FutureWarning: this method is deprecated in favour of `Styler.format(precision=..)`\n",
            "  agg1 = agg1.style.apply(highlight_max, color = 'yellow', subset=['spread']).set_precision(2)\n",
            "<ipython-input-95-7ef5ab9d770d>:8: FutureWarning: this method is deprecated in favour of `Styler.to_html()`\n",
            "  html = '\\n'.join([line.lstrip() for line in styler.render().split('\\n')])\n"
          ]
        },
        {
          "output_type": "execute_result",
          "data": {
            "text/plain": [
              "<IPython.core.display.HTML object>"
            ],
            "text/html": [
              "<style type=\"text/css\">\n",
              "#T_7c197_row0_col1, #T_7c197_row0_col2, #T_7c197_row0_col4, #T_7c197_row1_col1, #T_7c197_row2_col1, #T_7c197_row3_col1, #T_7c197_row4_col1, #T_7c197_row5_col1, #T_7c197_row6_col1, #T_7c197_row7_col1, #T_7c197_row8_col1, #T_7c197_row9_col1 {\n",
              "width: 10em;\n",
              "background: linear-gradient(90deg, skyblue 100.0%, transparent 100.0%);\n",
              "}\n",
              "#T_7c197_row1_col2, #T_7c197_row1_col4 {\n",
              "width: 10em;\n",
              "background: linear-gradient(90deg, skyblue 51.7%, transparent 51.7%);\n",
              "}\n",
              "#T_7c197_row2_col2, #T_7c197_row2_col4 {\n",
              "width: 10em;\n",
              "background: linear-gradient(90deg, skyblue 33.5%, transparent 33.5%);\n",
              "}\n",
              "#T_7c197_row2_col9 {\n",
              "background-color: yellow;\n",
              "}\n",
              "#T_7c197_row3_col2, #T_7c197_row3_col4 {\n",
              "width: 10em;\n",
              "background: linear-gradient(90deg, skyblue 22.1%, transparent 22.1%);\n",
              "}\n",
              "#T_7c197_row4_col2, #T_7c197_row4_col4 {\n",
              "width: 10em;\n",
              "background: linear-gradient(90deg, skyblue 17.0%, transparent 17.0%);\n",
              "}\n",
              "#T_7c197_row5_col2, #T_7c197_row5_col4 {\n",
              "width: 10em;\n",
              "background: linear-gradient(90deg, skyblue 10.6%, transparent 10.6%);\n",
              "}\n",
              "#T_7c197_row6_col2, #T_7c197_row6_col4 {\n",
              "width: 10em;\n",
              "background: linear-gradient(90deg, skyblue 6.6%, transparent 6.6%);\n",
              "}\n",
              "#T_7c197_row7_col2, #T_7c197_row7_col4 {\n",
              "width: 10em;\n",
              "background: linear-gradient(90deg, skyblue 4.3%, transparent 4.3%);\n",
              "}\n",
              "#T_7c197_row8_col2, #T_7c197_row8_col4 {\n",
              "width: 10em;\n",
              "background: linear-gradient(90deg, skyblue 2.9%, transparent 2.9%);\n",
              "}\n",
              "#T_7c197_row9_col2, #T_7c197_row9_col4 {\n",
              "width: 10em;\n",
              "background: linear-gradient(90deg, skyblue 0.9%, transparent 0.9%);\n",
              "}\n",
              "</style>\n",
              "<table id=\"T_7c197\">\n",
              "<thead>\n",
              "<tr>\n",
              "<th class=\"blank level0\" >&nbsp;</th>\n",
              "<th id=\"T_7c197_level0_col0\" class=\"col_heading level0 col0\" >deciles</th>\n",
              "<th id=\"T_7c197_level0_col1\" class=\"col_heading level0 col1\" >total</th>\n",
              "<th id=\"T_7c197_level0_col2\" class=\"col_heading level0 col2\" >label</th>\n",
              "<th id=\"T_7c197_level0_col3\" class=\"col_heading level0 col3\" >non_target</th>\n",
              "<th id=\"T_7c197_level0_col4\" class=\"col_heading level0 col4\" >target_%</th>\n",
              "<th id=\"T_7c197_level0_col5\" class=\"col_heading level0 col5\" >cum_target</th>\n",
              "<th id=\"T_7c197_level0_col6\" class=\"col_heading level0 col6\" >cum_non_target</th>\n",
              "<th id=\"T_7c197_level0_col7\" class=\"col_heading level0 col7\" >target_dist</th>\n",
              "<th id=\"T_7c197_level0_col8\" class=\"col_heading level0 col8\" >non_target_dist</th>\n",
              "<th id=\"T_7c197_level0_col9\" class=\"col_heading level0 col9\" >spread</th>\n",
              "</tr>\n",
              "</thead>\n",
              "<tbody>\n",
              "<tr>\n",
              "<th id=\"T_7c197_level0_row0\" class=\"row_heading level0 row0\" >0</th>\n",
              "<td id=\"T_7c197_row0_col0\" class=\"data row0 col0\" >1</td>\n",
              "<td id=\"T_7c197_row0_col1\" class=\"data row0 col1\" >3153.00</td>\n",
              "<td id=\"T_7c197_row0_col2\" class=\"data row0 col2\" >1475.00</td>\n",
              "<td id=\"T_7c197_row0_col3\" class=\"data row0 col3\" >1678.00</td>\n",
              "<td id=\"T_7c197_row0_col4\" class=\"data row0 col4\" >46.78</td>\n",
              "<td id=\"T_7c197_row0_col5\" class=\"data row0 col5\" >1475.00</td>\n",
              "<td id=\"T_7c197_row0_col6\" class=\"data row0 col6\" >1678.00</td>\n",
              "<td id=\"T_7c197_row0_col7\" class=\"data row0 col7\" >40.07</td>\n",
              "<td id=\"T_7c197_row0_col8\" class=\"data row0 col8\" >6.03</td>\n",
              "<td id=\"T_7c197_row0_col9\" class=\"data row0 col9\" >34.04</td>\n",
              "</tr>\n",
              "<tr>\n",
              "<th id=\"T_7c197_level0_row1\" class=\"row_heading level0 row1\" >1</th>\n",
              "<td id=\"T_7c197_row1_col0\" class=\"data row1 col0\" >2</td>\n",
              "<td id=\"T_7c197_row1_col1\" class=\"data row1 col1\" >3153.00</td>\n",
              "<td id=\"T_7c197_row1_col2\" class=\"data row1 col2\" >762.00</td>\n",
              "<td id=\"T_7c197_row1_col3\" class=\"data row1 col3\" >2391.00</td>\n",
              "<td id=\"T_7c197_row1_col4\" class=\"data row1 col4\" >24.17</td>\n",
              "<td id=\"T_7c197_row1_col5\" class=\"data row1 col5\" >2237.00</td>\n",
              "<td id=\"T_7c197_row1_col6\" class=\"data row1 col6\" >4069.00</td>\n",
              "<td id=\"T_7c197_row1_col7\" class=\"data row1 col7\" >60.77</td>\n",
              "<td id=\"T_7c197_row1_col8\" class=\"data row1 col8\" >14.61</td>\n",
              "<td id=\"T_7c197_row1_col9\" class=\"data row1 col9\" >46.16</td>\n",
              "</tr>\n",
              "<tr>\n",
              "<th id=\"T_7c197_level0_row2\" class=\"row_heading level0 row2\" >2</th>\n",
              "<td id=\"T_7c197_row2_col0\" class=\"data row2 col0\" >3</td>\n",
              "<td id=\"T_7c197_row2_col1\" class=\"data row2 col1\" >3153.00</td>\n",
              "<td id=\"T_7c197_row2_col2\" class=\"data row2 col2\" >494.00</td>\n",
              "<td id=\"T_7c197_row2_col3\" class=\"data row2 col3\" >2659.00</td>\n",
              "<td id=\"T_7c197_row2_col4\" class=\"data row2 col4\" >15.67</td>\n",
              "<td id=\"T_7c197_row2_col5\" class=\"data row2 col5\" >2731.00</td>\n",
              "<td id=\"T_7c197_row2_col6\" class=\"data row2 col6\" >6728.00</td>\n",
              "<td id=\"T_7c197_row2_col7\" class=\"data row2 col7\" >74.19</td>\n",
              "<td id=\"T_7c197_row2_col8\" class=\"data row2 col8\" >24.16</td>\n",
              "<td id=\"T_7c197_row2_col9\" class=\"data row2 col9\" >50.03</td>\n",
              "</tr>\n",
              "<tr>\n",
              "<th id=\"T_7c197_level0_row3\" class=\"row_heading level0 row3\" >3</th>\n",
              "<td id=\"T_7c197_row3_col0\" class=\"data row3 col0\" >4</td>\n",
              "<td id=\"T_7c197_row3_col1\" class=\"data row3 col1\" >3153.00</td>\n",
              "<td id=\"T_7c197_row3_col2\" class=\"data row3 col2\" >326.00</td>\n",
              "<td id=\"T_7c197_row3_col3\" class=\"data row3 col3\" >2827.00</td>\n",
              "<td id=\"T_7c197_row3_col4\" class=\"data row3 col4\" >10.34</td>\n",
              "<td id=\"T_7c197_row3_col5\" class=\"data row3 col5\" >3057.00</td>\n",
              "<td id=\"T_7c197_row3_col6\" class=\"data row3 col6\" >9555.00</td>\n",
              "<td id=\"T_7c197_row3_col7\" class=\"data row3 col7\" >83.05</td>\n",
              "<td id=\"T_7c197_row3_col8\" class=\"data row3 col8\" >34.31</td>\n",
              "<td id=\"T_7c197_row3_col9\" class=\"data row3 col9\" >48.73</td>\n",
              "</tr>\n",
              "<tr>\n",
              "<th id=\"T_7c197_level0_row4\" class=\"row_heading level0 row4\" >4</th>\n",
              "<td id=\"T_7c197_row4_col0\" class=\"data row4 col0\" >5</td>\n",
              "<td id=\"T_7c197_row4_col1\" class=\"data row4 col1\" >3153.00</td>\n",
              "<td id=\"T_7c197_row4_col2\" class=\"data row4 col2\" >251.00</td>\n",
              "<td id=\"T_7c197_row4_col3\" class=\"data row4 col3\" >2902.00</td>\n",
              "<td id=\"T_7c197_row4_col4\" class=\"data row4 col4\" >7.96</td>\n",
              "<td id=\"T_7c197_row4_col5\" class=\"data row4 col5\" >3308.00</td>\n",
              "<td id=\"T_7c197_row4_col6\" class=\"data row4 col6\" >12457.00</td>\n",
              "<td id=\"T_7c197_row4_col7\" class=\"data row4 col7\" >89.87</td>\n",
              "<td id=\"T_7c197_row4_col8\" class=\"data row4 col8\" >44.74</td>\n",
              "<td id=\"T_7c197_row4_col9\" class=\"data row4 col9\" >45.13</td>\n",
              "</tr>\n",
              "<tr>\n",
              "<th id=\"T_7c197_level0_row5\" class=\"row_heading level0 row5\" >5</th>\n",
              "<td id=\"T_7c197_row5_col0\" class=\"data row5 col0\" >6</td>\n",
              "<td id=\"T_7c197_row5_col1\" class=\"data row5 col1\" >3153.00</td>\n",
              "<td id=\"T_7c197_row5_col2\" class=\"data row5 col2\" >157.00</td>\n",
              "<td id=\"T_7c197_row5_col3\" class=\"data row5 col3\" >2996.00</td>\n",
              "<td id=\"T_7c197_row5_col4\" class=\"data row5 col4\" >4.98</td>\n",
              "<td id=\"T_7c197_row5_col5\" class=\"data row5 col5\" >3465.00</td>\n",
              "<td id=\"T_7c197_row5_col6\" class=\"data row5 col6\" >15453.00</td>\n",
              "<td id=\"T_7c197_row5_col7\" class=\"data row5 col7\" >94.13</td>\n",
              "<td id=\"T_7c197_row5_col8\" class=\"data row5 col8\" >55.49</td>\n",
              "<td id=\"T_7c197_row5_col9\" class=\"data row5 col9\" >38.64</td>\n",
              "</tr>\n",
              "<tr>\n",
              "<th id=\"T_7c197_level0_row6\" class=\"row_heading level0 row6\" >6</th>\n",
              "<td id=\"T_7c197_row6_col0\" class=\"data row6 col0\" >7</td>\n",
              "<td id=\"T_7c197_row6_col1\" class=\"data row6 col1\" >3153.00</td>\n",
              "<td id=\"T_7c197_row6_col2\" class=\"data row6 col2\" >97.00</td>\n",
              "<td id=\"T_7c197_row6_col3\" class=\"data row6 col3\" >3056.00</td>\n",
              "<td id=\"T_7c197_row6_col4\" class=\"data row6 col4\" >3.08</td>\n",
              "<td id=\"T_7c197_row6_col5\" class=\"data row6 col5\" >3562.00</td>\n",
              "<td id=\"T_7c197_row6_col6\" class=\"data row6 col6\" >18509.00</td>\n",
              "<td id=\"T_7c197_row6_col7\" class=\"data row6 col7\" >96.77</td>\n",
              "<td id=\"T_7c197_row6_col8\" class=\"data row6 col8\" >66.47</td>\n",
              "<td id=\"T_7c197_row6_col9\" class=\"data row6 col9\" >30.30</td>\n",
              "</tr>\n",
              "<tr>\n",
              "<th id=\"T_7c197_level0_row7\" class=\"row_heading level0 row7\" >7</th>\n",
              "<td id=\"T_7c197_row7_col0\" class=\"data row7 col0\" >8</td>\n",
              "<td id=\"T_7c197_row7_col1\" class=\"data row7 col1\" >3152.00</td>\n",
              "<td id=\"T_7c197_row7_col2\" class=\"data row7 col2\" >63.00</td>\n",
              "<td id=\"T_7c197_row7_col3\" class=\"data row7 col3\" >3089.00</td>\n",
              "<td id=\"T_7c197_row7_col4\" class=\"data row7 col4\" >2.00</td>\n",
              "<td id=\"T_7c197_row7_col5\" class=\"data row7 col5\" >3625.00</td>\n",
              "<td id=\"T_7c197_row7_col6\" class=\"data row7 col6\" >21598.00</td>\n",
              "<td id=\"T_7c197_row7_col7\" class=\"data row7 col7\" >98.48</td>\n",
              "<td id=\"T_7c197_row7_col8\" class=\"data row7 col8\" >77.56</td>\n",
              "<td id=\"T_7c197_row7_col9\" class=\"data row7 col9\" >20.92</td>\n",
              "</tr>\n",
              "<tr>\n",
              "<th id=\"T_7c197_level0_row8\" class=\"row_heading level0 row8\" >8</th>\n",
              "<td id=\"T_7c197_row8_col0\" class=\"data row8 col0\" >9</td>\n",
              "<td id=\"T_7c197_row8_col1\" class=\"data row8 col1\" >3152.00</td>\n",
              "<td id=\"T_7c197_row8_col2\" class=\"data row8 col2\" >43.00</td>\n",
              "<td id=\"T_7c197_row8_col3\" class=\"data row8 col3\" >3109.00</td>\n",
              "<td id=\"T_7c197_row8_col4\" class=\"data row8 col4\" >1.36</td>\n",
              "<td id=\"T_7c197_row8_col5\" class=\"data row8 col5\" >3668.00</td>\n",
              "<td id=\"T_7c197_row8_col6\" class=\"data row8 col6\" >24707.00</td>\n",
              "<td id=\"T_7c197_row8_col7\" class=\"data row8 col7\" >99.65</td>\n",
              "<td id=\"T_7c197_row8_col8\" class=\"data row8 col8\" >88.73</td>\n",
              "<td id=\"T_7c197_row8_col9\" class=\"data row8 col9\" >10.92</td>\n",
              "</tr>\n",
              "<tr>\n",
              "<th id=\"T_7c197_level0_row9\" class=\"row_heading level0 row9\" >9</th>\n",
              "<td id=\"T_7c197_row9_col0\" class=\"data row9 col0\" >10</td>\n",
              "<td id=\"T_7c197_row9_col1\" class=\"data row9 col1\" >3152.00</td>\n",
              "<td id=\"T_7c197_row9_col2\" class=\"data row9 col2\" >13.00</td>\n",
              "<td id=\"T_7c197_row9_col3\" class=\"data row9 col3\" >3139.00</td>\n",
              "<td id=\"T_7c197_row9_col4\" class=\"data row9 col4\" >0.41</td>\n",
              "<td id=\"T_7c197_row9_col5\" class=\"data row9 col5\" >3681.00</td>\n",
              "<td id=\"T_7c197_row9_col6\" class=\"data row9 col6\" >27846.00</td>\n",
              "<td id=\"T_7c197_row9_col7\" class=\"data row9 col7\" >100.00</td>\n",
              "<td id=\"T_7c197_row9_col8\" class=\"data row9 col8\" >100.00</td>\n",
              "<td id=\"T_7c197_row9_col9\" class=\"data row9 col9\" >0.00</td>\n",
              "</tr>\n",
              "</tbody>\n",
              "</table>\n"
            ]
          },
          "metadata": {},
          "execution_count": 96
        }
      ],
      "source": [
        "plot_decile_train = decile_labels(train_deciles, 'label', color='skyblue')\n",
        "plot_pandas_style(plot_decile_train)"
      ]
    },
    {
      "cell_type": "code",
      "execution_count": 97,
      "metadata": {
        "colab": {
          "base_uri": "https://localhost:8080/",
          "height": 323
        },
        "id": "D_JmT2vbpbm-",
        "outputId": "5a3ece1a-11b1-4c91-d3d3-e1ffc44d620d"
      },
      "outputs": [
        {
          "output_type": "stream",
          "name": "stderr",
          "text": [
            "<ipython-input-95-7ef5ab9d770d>:20: FutureWarning: this method is deprecated in favour of `Styler.format(precision=..)`\n",
            "  agg1 = agg1.style.apply(highlight_max, color = 'yellow', subset=['spread']).set_precision(2)\n",
            "<ipython-input-95-7ef5ab9d770d>:8: FutureWarning: this method is deprecated in favour of `Styler.to_html()`\n",
            "  html = '\\n'.join([line.lstrip() for line in styler.render().split('\\n')])\n"
          ]
        },
        {
          "output_type": "execute_result",
          "data": {
            "text/plain": [
              "<IPython.core.display.HTML object>"
            ],
            "text/html": [
              "<style type=\"text/css\">\n",
              "#T_8993d_row0_col1, #T_8993d_row0_col2, #T_8993d_row0_col4, #T_8993d_row1_col1, #T_8993d_row2_col1, #T_8993d_row3_col1 {\n",
              "width: 10em;\n",
              "background: linear-gradient(90deg, skyblue 100.0%, transparent 100.0%);\n",
              "}\n",
              "#T_8993d_row1_col2, #T_8993d_row1_col4 {\n",
              "width: 10em;\n",
              "background: linear-gradient(90deg, skyblue 50.7%, transparent 50.7%);\n",
              "}\n",
              "#T_8993d_row2_col2, #T_8993d_row2_col4 {\n",
              "width: 10em;\n",
              "background: linear-gradient(90deg, skyblue 34.2%, transparent 34.2%);\n",
              "}\n",
              "#T_8993d_row2_col9 {\n",
              "background-color: yellow;\n",
              "}\n",
              "#T_8993d_row3_col2, #T_8993d_row3_col4 {\n",
              "width: 10em;\n",
              "background: linear-gradient(90deg, skyblue 23.3%, transparent 23.3%);\n",
              "}\n",
              "#T_8993d_row4_col1, #T_8993d_row5_col1, #T_8993d_row6_col1, #T_8993d_row7_col1, #T_8993d_row8_col1, #T_8993d_row9_col1 {\n",
              "width: 10em;\n",
              "background: linear-gradient(90deg, skyblue 99.9%, transparent 99.9%);\n",
              "}\n",
              "#T_8993d_row4_col2, #T_8993d_row4_col4 {\n",
              "width: 10em;\n",
              "background: linear-gradient(90deg, skyblue 17.3%, transparent 17.3%);\n",
              "}\n",
              "#T_8993d_row5_col2, #T_8993d_row5_col4 {\n",
              "width: 10em;\n",
              "background: linear-gradient(90deg, skyblue 8.9%, transparent 8.9%);\n",
              "}\n",
              "#T_8993d_row6_col2, #T_8993d_row6_col4 {\n",
              "width: 10em;\n",
              "background: linear-gradient(90deg, skyblue 6.5%, transparent 6.5%);\n",
              "}\n",
              "#T_8993d_row7_col2, #T_8993d_row7_col4 {\n",
              "width: 10em;\n",
              "background: linear-gradient(90deg, skyblue 2.9%, transparent 2.9%);\n",
              "}\n",
              "#T_8993d_row8_col2, #T_8993d_row8_col4 {\n",
              "width: 10em;\n",
              "background: linear-gradient(90deg, skyblue 2.8%, transparent 2.8%);\n",
              "}\n",
              "#T_8993d_row9_col2, #T_8993d_row9_col4 {\n",
              "width: 10em;\n",
              "background: linear-gradient(90deg, skyblue 1.2%, transparent 1.2%);\n",
              "}\n",
              "</style>\n",
              "<table id=\"T_8993d\">\n",
              "<thead>\n",
              "<tr>\n",
              "<th class=\"blank level0\" >&nbsp;</th>\n",
              "<th id=\"T_8993d_level0_col0\" class=\"col_heading level0 col0\" >deciles</th>\n",
              "<th id=\"T_8993d_level0_col1\" class=\"col_heading level0 col1\" >total</th>\n",
              "<th id=\"T_8993d_level0_col2\" class=\"col_heading level0 col2\" >label</th>\n",
              "<th id=\"T_8993d_level0_col3\" class=\"col_heading level0 col3\" >non_target</th>\n",
              "<th id=\"T_8993d_level0_col4\" class=\"col_heading level0 col4\" >target_%</th>\n",
              "<th id=\"T_8993d_level0_col5\" class=\"col_heading level0 col5\" >cum_target</th>\n",
              "<th id=\"T_8993d_level0_col6\" class=\"col_heading level0 col6\" >cum_non_target</th>\n",
              "<th id=\"T_8993d_level0_col7\" class=\"col_heading level0 col7\" >target_dist</th>\n",
              "<th id=\"T_8993d_level0_col8\" class=\"col_heading level0 col8\" >non_target_dist</th>\n",
              "<th id=\"T_8993d_level0_col9\" class=\"col_heading level0 col9\" >spread</th>\n",
              "</tr>\n",
              "</thead>\n",
              "<tbody>\n",
              "<tr>\n",
              "<th id=\"T_8993d_level0_row0\" class=\"row_heading level0 row0\" >0</th>\n",
              "<td id=\"T_8993d_row0_col0\" class=\"data row0 col0\" >1</td>\n",
              "<td id=\"T_8993d_row0_col1\" class=\"data row0 col1\" >1369.00</td>\n",
              "<td id=\"T_8993d_row0_col2\" class=\"data row0 col2\" >649.00</td>\n",
              "<td id=\"T_8993d_row0_col3\" class=\"data row0 col3\" >720.00</td>\n",
              "<td id=\"T_8993d_row0_col4\" class=\"data row0 col4\" >47.41</td>\n",
              "<td id=\"T_8993d_row0_col5\" class=\"data row0 col5\" >649.00</td>\n",
              "<td id=\"T_8993d_row0_col6\" class=\"data row0 col6\" >720.00</td>\n",
              "<td id=\"T_8993d_row0_col7\" class=\"data row0 col7\" >40.36</td>\n",
              "<td id=\"T_8993d_row0_col8\" class=\"data row0 col8\" >5.96</td>\n",
              "<td id=\"T_8993d_row0_col9\" class=\"data row0 col9\" >34.40</td>\n",
              "</tr>\n",
              "<tr>\n",
              "<th id=\"T_8993d_level0_row1\" class=\"row_heading level0 row1\" >1</th>\n",
              "<td id=\"T_8993d_row1_col0\" class=\"data row1 col0\" >2</td>\n",
              "<td id=\"T_8993d_row1_col1\" class=\"data row1 col1\" >1369.00</td>\n",
              "<td id=\"T_8993d_row1_col2\" class=\"data row1 col2\" >329.00</td>\n",
              "<td id=\"T_8993d_row1_col3\" class=\"data row1 col3\" >1040.00</td>\n",
              "<td id=\"T_8993d_row1_col4\" class=\"data row1 col4\" >24.03</td>\n",
              "<td id=\"T_8993d_row1_col5\" class=\"data row1 col5\" >978.00</td>\n",
              "<td id=\"T_8993d_row1_col6\" class=\"data row1 col6\" >1760.00</td>\n",
              "<td id=\"T_8993d_row1_col7\" class=\"data row1 col7\" >60.82</td>\n",
              "<td id=\"T_8993d_row1_col8\" class=\"data row1 col8\" >14.57</td>\n",
              "<td id=\"T_8993d_row1_col9\" class=\"data row1 col9\" >46.25</td>\n",
              "</tr>\n",
              "<tr>\n",
              "<th id=\"T_8993d_level0_row2\" class=\"row_heading level0 row2\" >2</th>\n",
              "<td id=\"T_8993d_row2_col0\" class=\"data row2 col0\" >3</td>\n",
              "<td id=\"T_8993d_row2_col1\" class=\"data row2 col1\" >1369.00</td>\n",
              "<td id=\"T_8993d_row2_col2\" class=\"data row2 col2\" >222.00</td>\n",
              "<td id=\"T_8993d_row2_col3\" class=\"data row2 col3\" >1147.00</td>\n",
              "<td id=\"T_8993d_row2_col4\" class=\"data row2 col4\" >16.22</td>\n",
              "<td id=\"T_8993d_row2_col5\" class=\"data row2 col5\" >1200.00</td>\n",
              "<td id=\"T_8993d_row2_col6\" class=\"data row2 col6\" >2907.00</td>\n",
              "<td id=\"T_8993d_row2_col7\" class=\"data row2 col7\" >74.63</td>\n",
              "<td id=\"T_8993d_row2_col8\" class=\"data row2 col8\" >24.07</td>\n",
              "<td id=\"T_8993d_row2_col9\" class=\"data row2 col9\" >50.55</td>\n",
              "</tr>\n",
              "<tr>\n",
              "<th id=\"T_8993d_level0_row3\" class=\"row_heading level0 row3\" >3</th>\n",
              "<td id=\"T_8993d_row3_col0\" class=\"data row3 col0\" >4</td>\n",
              "<td id=\"T_8993d_row3_col1\" class=\"data row3 col1\" >1369.00</td>\n",
              "<td id=\"T_8993d_row3_col2\" class=\"data row3 col2\" >151.00</td>\n",
              "<td id=\"T_8993d_row3_col3\" class=\"data row3 col3\" >1218.00</td>\n",
              "<td id=\"T_8993d_row3_col4\" class=\"data row3 col4\" >11.03</td>\n",
              "<td id=\"T_8993d_row3_col5\" class=\"data row3 col5\" >1351.00</td>\n",
              "<td id=\"T_8993d_row3_col6\" class=\"data row3 col6\" >4125.00</td>\n",
              "<td id=\"T_8993d_row3_col7\" class=\"data row3 col7\" >84.02</td>\n",
              "<td id=\"T_8993d_row3_col8\" class=\"data row3 col8\" >34.16</td>\n",
              "<td id=\"T_8993d_row3_col9\" class=\"data row3 col9\" >49.86</td>\n",
              "</tr>\n",
              "<tr>\n",
              "<th id=\"T_8993d_level0_row4\" class=\"row_heading level0 row4\" >4</th>\n",
              "<td id=\"T_8993d_row4_col0\" class=\"data row4 col0\" >5</td>\n",
              "<td id=\"T_8993d_row4_col1\" class=\"data row4 col1\" >1368.00</td>\n",
              "<td id=\"T_8993d_row4_col2\" class=\"data row4 col2\" >112.00</td>\n",
              "<td id=\"T_8993d_row4_col3\" class=\"data row4 col3\" >1256.00</td>\n",
              "<td id=\"T_8993d_row4_col4\" class=\"data row4 col4\" >8.19</td>\n",
              "<td id=\"T_8993d_row4_col5\" class=\"data row4 col5\" >1463.00</td>\n",
              "<td id=\"T_8993d_row4_col6\" class=\"data row4 col6\" >5381.00</td>\n",
              "<td id=\"T_8993d_row4_col7\" class=\"data row4 col7\" >90.98</td>\n",
              "<td id=\"T_8993d_row4_col8\" class=\"data row4 col8\" >44.56</td>\n",
              "<td id=\"T_8993d_row4_col9\" class=\"data row4 col9\" >46.42</td>\n",
              "</tr>\n",
              "<tr>\n",
              "<th id=\"T_8993d_level0_row5\" class=\"row_heading level0 row5\" >5</th>\n",
              "<td id=\"T_8993d_row5_col0\" class=\"data row5 col0\" >6</td>\n",
              "<td id=\"T_8993d_row5_col1\" class=\"data row5 col1\" >1368.00</td>\n",
              "<td id=\"T_8993d_row5_col2\" class=\"data row5 col2\" >58.00</td>\n",
              "<td id=\"T_8993d_row5_col3\" class=\"data row5 col3\" >1310.00</td>\n",
              "<td id=\"T_8993d_row5_col4\" class=\"data row5 col4\" >4.24</td>\n",
              "<td id=\"T_8993d_row5_col5\" class=\"data row5 col5\" >1521.00</td>\n",
              "<td id=\"T_8993d_row5_col6\" class=\"data row5 col6\" >6691.00</td>\n",
              "<td id=\"T_8993d_row5_col7\" class=\"data row5 col7\" >94.59</td>\n",
              "<td id=\"T_8993d_row5_col8\" class=\"data row5 col8\" >55.41</td>\n",
              "<td id=\"T_8993d_row5_col9\" class=\"data row5 col9\" >39.18</td>\n",
              "</tr>\n",
              "<tr>\n",
              "<th id=\"T_8993d_level0_row6\" class=\"row_heading level0 row6\" >6</th>\n",
              "<td id=\"T_8993d_row6_col0\" class=\"data row6 col0\" >7</td>\n",
              "<td id=\"T_8993d_row6_col1\" class=\"data row6 col1\" >1368.00</td>\n",
              "<td id=\"T_8993d_row6_col2\" class=\"data row6 col2\" >42.00</td>\n",
              "<td id=\"T_8993d_row6_col3\" class=\"data row6 col3\" >1326.00</td>\n",
              "<td id=\"T_8993d_row6_col4\" class=\"data row6 col4\" >3.07</td>\n",
              "<td id=\"T_8993d_row6_col5\" class=\"data row6 col5\" >1563.00</td>\n",
              "<td id=\"T_8993d_row6_col6\" class=\"data row6 col6\" >8017.00</td>\n",
              "<td id=\"T_8993d_row6_col7\" class=\"data row6 col7\" >97.20</td>\n",
              "<td id=\"T_8993d_row6_col8\" class=\"data row6 col8\" >66.39</td>\n",
              "<td id=\"T_8993d_row6_col9\" class=\"data row6 col9\" >30.81</td>\n",
              "</tr>\n",
              "<tr>\n",
              "<th id=\"T_8993d_level0_row7\" class=\"row_heading level0 row7\" >7</th>\n",
              "<td id=\"T_8993d_row7_col0\" class=\"data row7 col0\" >8</td>\n",
              "<td id=\"T_8993d_row7_col1\" class=\"data row7 col1\" >1368.00</td>\n",
              "<td id=\"T_8993d_row7_col2\" class=\"data row7 col2\" >19.00</td>\n",
              "<td id=\"T_8993d_row7_col3\" class=\"data row7 col3\" >1349.00</td>\n",
              "<td id=\"T_8993d_row7_col4\" class=\"data row7 col4\" >1.39</td>\n",
              "<td id=\"T_8993d_row7_col5\" class=\"data row7 col5\" >1582.00</td>\n",
              "<td id=\"T_8993d_row7_col6\" class=\"data row7 col6\" >9366.00</td>\n",
              "<td id=\"T_8993d_row7_col7\" class=\"data row7 col7\" >98.38</td>\n",
              "<td id=\"T_8993d_row7_col8\" class=\"data row7 col8\" >77.56</td>\n",
              "<td id=\"T_8993d_row7_col9\" class=\"data row7 col9\" >20.82</td>\n",
              "</tr>\n",
              "<tr>\n",
              "<th id=\"T_8993d_level0_row8\" class=\"row_heading level0 row8\" >8</th>\n",
              "<td id=\"T_8993d_row8_col0\" class=\"data row8 col0\" >9</td>\n",
              "<td id=\"T_8993d_row8_col1\" class=\"data row8 col1\" >1368.00</td>\n",
              "<td id=\"T_8993d_row8_col2\" class=\"data row8 col2\" >18.00</td>\n",
              "<td id=\"T_8993d_row8_col3\" class=\"data row8 col3\" >1350.00</td>\n",
              "<td id=\"T_8993d_row8_col4\" class=\"data row8 col4\" >1.32</td>\n",
              "<td id=\"T_8993d_row8_col5\" class=\"data row8 col5\" >1600.00</td>\n",
              "<td id=\"T_8993d_row8_col6\" class=\"data row8 col6\" >10716.00</td>\n",
              "<td id=\"T_8993d_row8_col7\" class=\"data row8 col7\" >99.50</td>\n",
              "<td id=\"T_8993d_row8_col8\" class=\"data row8 col8\" >88.74</td>\n",
              "<td id=\"T_8993d_row8_col9\" class=\"data row8 col9\" >10.76</td>\n",
              "</tr>\n",
              "<tr>\n",
              "<th id=\"T_8993d_level0_row9\" class=\"row_heading level0 row9\" >9</th>\n",
              "<td id=\"T_8993d_row9_col0\" class=\"data row9 col0\" >10</td>\n",
              "<td id=\"T_8993d_row9_col1\" class=\"data row9 col1\" >1368.00</td>\n",
              "<td id=\"T_8993d_row9_col2\" class=\"data row9 col2\" >8.00</td>\n",
              "<td id=\"T_8993d_row9_col3\" class=\"data row9 col3\" >1360.00</td>\n",
              "<td id=\"T_8993d_row9_col4\" class=\"data row9 col4\" >0.58</td>\n",
              "<td id=\"T_8993d_row9_col5\" class=\"data row9 col5\" >1608.00</td>\n",
              "<td id=\"T_8993d_row9_col6\" class=\"data row9 col6\" >12076.00</td>\n",
              "<td id=\"T_8993d_row9_col7\" class=\"data row9 col7\" >100.00</td>\n",
              "<td id=\"T_8993d_row9_col8\" class=\"data row9 col8\" >100.00</td>\n",
              "<td id=\"T_8993d_row9_col9\" class=\"data row9 col9\" >0.00</td>\n",
              "</tr>\n",
              "</tbody>\n",
              "</table>\n"
            ]
          },
          "metadata": {},
          "execution_count": 97
        }
      ],
      "source": [
        "plot_decile_test = decile_labels(test_deciles, 'label', color='skyblue')\n",
        "plot_pandas_style(plot_decile_test)"
      ]
    },
    {
      "cell_type": "markdown",
      "metadata": {
        "id": "mj6O0uGkpbm_"
      },
      "source": [
        "# Actual vs Predicted, Gains and Lift chart"
      ]
    },
    {
      "cell_type": "code",
      "execution_count": 98,
      "metadata": {
        "id": "mqxNGejHpbnA"
      },
      "outputs": [],
      "source": [
        "import matplotlib.pyplot as plt\n",
        "\n",
        "def plots(agg1,target,type):\n",
        "\n",
        "    plt.figure(1,figsize=(20, 5))\n",
        "\n",
        "    plt.subplot(131)\n",
        "    plt.plot(agg1['DECILE'],agg1['ACTUAL'],label='Actual')\n",
        "    plt.plot(agg1['DECILE'],agg1['PRED'],label='Pred')\n",
        "    plt.xticks(range(10,110,10))\n",
        "    plt.legend(fontsize=15)\n",
        "    plt.grid(True)\n",
        "    plt.title('Actual vs Predicted', fontsize=20)\n",
        "    plt.xlabel(\"Population %\",fontsize=15)\n",
        "    plt.ylabel(str(target) + \" \" + str(type) + \" %\",fontsize=15)\n",
        "\n",
        "    plt.subplot(132)\n",
        "    X = agg1['DECILE'].tolist()\n",
        "    X.append(0)\n",
        "    Y = agg1['DIST_TAR'].tolist()\n",
        "    Y.append(0)\n",
        "    plt.plot(sorted(X),sorted(Y))\n",
        "    plt.plot([0, 100], [0, 100],'r--')\n",
        "    plt.xticks(range(0,110,10))\n",
        "    plt.yticks(range(0,110,10))\n",
        "    plt.grid(True)\n",
        "    plt.title('Gains Chart', fontsize=20)\n",
        "    plt.xlabel(\"Population %\",fontsize=15)\n",
        "    plt.ylabel(str(target) + str(\" DISTRIBUTION\") + \" %\",fontsize=15)\n",
        "    plt.annotate(round(agg1[agg1['DECILE'] == 30].DIST_TAR.item(),2),xy=[30,30], \n",
        "            xytext=(25, agg1[agg1['DECILE'] == 30].DIST_TAR.item() + 5),fontsize = 13)\n",
        "    plt.annotate(round(agg1[agg1['DECILE'] == 50].DIST_TAR.item(),2),xy=[50,50], \n",
        "            xytext=(45, agg1[agg1['DECILE'] == 50].DIST_TAR.item() + 5),fontsize = 13)\n",
        "\n",
        "    plt.subplot(133)\n",
        "    plt.plot(agg1['DECILE'],agg1['LIFT'])\n",
        "    plt.xticks(range(10,110,10))\n",
        "    plt.grid(True)\n",
        "    plt.title('Lift Chart', fontsize=20)\n",
        "    plt.xlabel(\"Population %\",fontsize=15)\n",
        "    plt.ylabel(\"Lift\",fontsize=15)\n",
        "\n",
        "    plt.tight_layout()"
      ]
    },
    {
      "cell_type": "code",
      "execution_count": 99,
      "metadata": {
        "id": "F7HXkHdWpbnA"
      },
      "outputs": [],
      "source": [
        "def gains(data, decile_df, decile_by, target, score):\n",
        "    \n",
        "    agg1 = pd.DataFrame({},index=[])\n",
        "    agg1 = data.groupby(decile_by).agg(F.avg(target).alias('ACTUAL')).toPandas()\n",
        "    score_agg = data.groupby(decile_by).agg(F.avg(score).alias('PRED')).toPandas()\n",
        "    agg1 = agg1.merge(score_agg, on=decile_by, how='inner').merge(decile_df, on=decile_by, how='inner')    \n",
        "    agg1 = agg1.sort_values(by=decile_by, ascending=True)\n",
        "    agg1 = agg1[[decile_by, 'ACTUAL', 'PRED', 'target_dist']]\n",
        "    agg1 = agg1.rename(columns={'target_dist':'DIST_TAR', 'deciles': 'DECILE'})\n",
        "    decile_by = 'DECILE'\n",
        "    agg1[decile_by] = agg1[decile_by]*10\n",
        "    agg1['LIFT'] = agg1['DIST_TAR']/agg1[decile_by]\n",
        "    agg1.columns = [x.upper() for x in agg1.columns]\n",
        "    plots(agg1,target,'Distribution')"
      ]
    },
    {
      "cell_type": "code",
      "execution_count": 100,
      "metadata": {
        "colab": {
          "base_uri": "https://localhost:8080/",
          "height": 249
        },
        "id": "MIdLTDfbpbnH",
        "outputId": "56f942d0-1d03-48bf-c371-cb9cd49c3be9"
      },
      "outputs": [
        {
          "output_type": "display_data",
          "data": {
            "text/plain": [
              "<Figure size 2000x500 with 3 Axes>"
            ],
            "image/png": "[encoded data removed]"
          },
          "metadata": {}
        }
      ],
      "source": [
        "gains(pred_train, train_deciles, 'deciles', 'label','probability')"
      ]
    },
    {
      "cell_type": "code",
      "execution_count": 101,
      "metadata": {
        "colab": {
          "base_uri": "https://localhost:8080/",
          "height": 249
        },
        "id": "s7jOLlWDpbnI",
        "outputId": "809d8f61-3281-4982-f7ea-4653ffeaa16a"
      },
      "outputs": [
        {
          "output_type": "display_data",
          "data": {
            "text/plain": [
              "<Figure size 2000x500 with 3 Axes>"
            ],
            "image/png": "[encoded data removed]"
          },
          "metadata": {}
        }
      ],
      "source": [
        "gains(pred_test, test_deciles, 'deciles', 'label','probability')"
      ]
    },
    {
      "cell_type": "code",
      "execution_count": 101,
      "metadata": {
        "id": "KPAVFu8GpbnJ"
      },
      "outputs": [],
      "source": []
    },
    {
      "cell_type": "code",
      "execution_count": 101,
      "metadata": {
        "id": "TcKhhy16pbnN"
      },
      "outputs": [],
      "source": []
    },
    {
      "cell_type": "code",
      "execution_count": 101,
      "metadata": {
        "id": "nv5lcJmnpbnO"
      },
      "outputs": [],
      "source": []
    },
    {
      "cell_type": "code",
      "execution_count": 101,
      "metadata": {
        "id": "YZmiilgApbnP"
      },
      "outputs": [],
      "source": []
    },
    {
      "cell_type": "code",
      "execution_count": 101,
      "metadata": {
        "id": "7ADrrnwopbnP"
      },
      "outputs": [],
      "source": []
    }
  ],
  "metadata": {
    "kernelspec": {
      "display_name": "Python 3",
      "language": "python",
      "name": "python3"
    },
    "language_info": {
      "codemirror_mode": {
        "name": "ipython",
        "version": 3
      },
      "file_extension": ".py",
      "mimetype": "text/x-python",
      "name": "python",
      "nbconvert_exporter": "python",
      "pygments_lexer": "ipython3",
      "version": "3.7.6"
    },
    "colab": {
      "provenance": [],
      "include_colab_link": true
    }
  },
  "nbformat": 4,
  "nbformat_minor": 0
}